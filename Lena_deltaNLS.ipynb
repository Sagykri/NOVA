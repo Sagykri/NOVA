{
 "cells": [
  {
   "cell_type": "code",
   "execution_count": 1,
   "metadata": {},
   "outputs": [],
   "source": [
    "import numpy as np\n",
    "import os\n",
    "import random\n",
    "import matplotlib.pyplot as plt"
   ]
  },
  {
   "cell_type": "code",
   "execution_count": 2,
   "metadata": {},
   "outputs": [],
   "source": [
    "np_folder = '/home/labs/hornsteinlab/Collaboration/MOmaps/input/images/processed/spd2/SpinningDisk/deltaNLS/'\n",
    "batches = [f'batch{i}_16bit_no_downsample' for i in range(1,5)]\n",
    "markers = ['G3BP1','NONO','SQSTM1','PSD95','NEMO','GM130', 'NCL','ANXA11','Calreticulin','PML',\n",
    "              'KIF5A','TDP43','FMRP','CLTC','DCP1A','TOMM20','FUS','SCNA','LAMP1','mitotracker',\n",
    "              'PURA','CD41','Phalloidin','PEX14',\n",
    "              'DAPI']"
   ]
  },
  {
   "cell_type": "code",
   "execution_count": 3,
   "metadata": {},
   "outputs": [
    {
     "ename": "ModuleNotFoundError",
     "evalue": "No module named 'home'",
     "output_type": "error",
     "traceback": [
      "\u001b[0;31m---------------------------------------------------------------------------\u001b[0m",
      "\u001b[0;31mModuleNotFoundError\u001b[0m                       Traceback (most recent call last)",
      "\u001b[0;32m/tmp/ipykernel_286964/600977477.py\u001b[0m in \u001b[0;36m<module>\u001b[0;34m\u001b[0m\n\u001b[0;32m----> 1\u001b[0;31m \u001b[0;32mfrom\u001b[0m \u001b[0mhome\u001b[0m\u001b[0;34m.\u001b[0m\u001b[0mlabs\u001b[0m\u001b[0;34m.\u001b[0m\u001b[0mhornstein\u001b[0m\u001b[0;34m.\u001b[0m\u001b[0mCollabortaionsrc\u001b[0m\u001b[0;34m.\u001b[0m\u001b[0mcommon\u001b[0m\u001b[0;34m.\u001b[0m\u001b[0mlib\u001b[0m \u001b[0;32mimport\u001b[0m \u001b[0membeddings_utils\u001b[0m\u001b[0;34m\u001b[0m\u001b[0;34m\u001b[0m\u001b[0m\n\u001b[0m",
      "\u001b[0;31mModuleNotFoundError\u001b[0m: No module named 'home'"
     ]
    }
   ],
   "source": [
    "from labs.hornstein.Collabortaionsrc.common.lib import embeddings_utils"
   ]
  }
 ],
 "metadata": {
  "kernelspec": {
   "display_name": "momaps_37",
   "language": "python",
   "name": "momaps_37"
  },
  "language_info": {
   "codemirror_mode": {
    "name": "ipython",
    "version": 3
   },
   "file_extension": ".py",
   "mimetype": "text/x-python",
   "name": "python",
   "nbconvert_exporter": "python",
   "pygments_lexer": "ipython3",
   "version": "3.7.11"
  }
 },
 "nbformat": 4,
 "nbformat_minor": 4
}
