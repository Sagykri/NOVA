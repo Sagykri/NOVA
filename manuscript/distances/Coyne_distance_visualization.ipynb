{
 "cells": [
  {
   "cell_type": "code",
   "execution_count": null,
   "id": "a4838a09",
   "metadata": {},
   "outputs": [],
   "source": [
    "import sys\n",
    "import os\n",
    "import time\n",
    "import numpy as np\n",
    "import pandas as pd\n",
    "import umap\n",
    "\n",
    "os.environ['NOVA_HOME'] = '/home/projects/hornsteinlab/Collaboration/NOVA'\n",
    "print('NOVA_HOME is at', os.getenv('NOVA_HOME'))\n",
    "sys.path.insert(1, os.getenv('NOVA_HOME'))\n",
    "\n",
    "\n",
    "from src.common.utils import load_config_file\n",
    "from src.embeddings.embeddings_utils import load_embeddings\n",
    "from src.figures.distances_plotting import *\n",
    "from src.analysis.analyzer_distances_utils import summarize_times, merge_batches_by_key, correlate_columns\n",
    "\n",
    "%load_ext autoreload\n",
    "%autoreload 2"
   ]
  },
  {
   "cell_type": "code",
   "execution_count": null,
   "id": "23bd76b0",
   "metadata": {},
   "outputs": [],
   "source": [
    "dist_folder = '/home/projects/hornsteinlab/Collaboration/NOVA/outputs/vit_models/finetunedModel_MLPHead_acrossBatches_B56789_80pct_frozen/figures/AlyssaCoyne_new/distances'"
   ]
  },
  {
   "cell_type": "markdown",
   "id": "6490c9a1",
   "metadata": {},
   "source": [
    "### Plate 1"
   ]
  },
  {
   "cell_type": "code",
   "execution_count": null,
   "id": "921daea4",
   "metadata": {},
   "outputs": [],
   "source": [
    "df2 = pd.read_csv(f'{dist_folder}/batch1_all_reps_Ctrl-EDi022_C9-CS2YNL_SALSPositive-CS2FN3_SALSNegative-CS0ANK_Untreated_without_CD41/distances_stats_euclidean_detailed_multiplexed.csv')\n",
    "for col in ['label1','label2']:\n",
    "    df2[col] = df2[col].str.split(pat='_', n=1).str[0]"
   ]
  },
  {
   "cell_type": "code",
   "execution_count": null,
   "id": "a7752d7a",
   "metadata": {},
   "outputs": [],
   "source": [
    "df2.head()"
   ]
  },
  {
   "cell_type": "code",
   "execution_count": null,
   "id": "6efc2235",
   "metadata": {},
   "outputs": [],
   "source": [
    "plot_custom_boxplot(df2)"
   ]
  },
  {
   "cell_type": "code",
   "execution_count": null,
   "id": "0e16982b",
   "metadata": {},
   "outputs": [],
   "source": [
    "plot_dist_histogram(df2)"
   ]
  },
  {
   "cell_type": "code",
   "execution_count": null,
   "id": "81a64566",
   "metadata": {},
   "outputs": [],
   "source": [
    "plot_distances_heatmap(df2, figsize=(6,6),)# highlight_thresh=df2[df2.label1 == df2.label2]['p50'].max())"
   ]
  },
  {
   "cell_type": "code",
   "execution_count": null,
   "id": "bf530b57",
   "metadata": {},
   "outputs": [],
   "source": [
    "plot_cluster_proximity_network(df2, threshold = df2['p50'].quantile(0.9), figsize=(7,7))"
   ]
  },
  {
   "cell_type": "markdown",
   "id": "8acd4570",
   "metadata": {},
   "source": [
    "### Plate 2"
   ]
  },
  {
   "cell_type": "code",
   "execution_count": null,
   "id": "a1d0cbe2",
   "metadata": {},
   "outputs": [],
   "source": [
    "df2 = pd.read_csv(f'{dist_folder}/batch1_all_reps_Ctrl-EDi029_C9-CS7VCZ_SALSPositive-CS4ZCD_SALSNegative-CS0JPP_Untreated_without_CD41/distances_stats_euclidean_detailed_multiplexed.csv')\n",
    "for col in ['label1','label2']:\n",
    "    df2[col] = df2[col].str.split(pat='_', n=1).str[0]"
   ]
  },
  {
   "cell_type": "code",
   "execution_count": null,
   "id": "e166eb44",
   "metadata": {},
   "outputs": [],
   "source": [
    "df2.head()"
   ]
  },
  {
   "cell_type": "code",
   "execution_count": null,
   "id": "e08710ef",
   "metadata": {},
   "outputs": [],
   "source": [
    "plot_custom_boxplot(df2)"
   ]
  },
  {
   "cell_type": "code",
   "execution_count": null,
   "id": "6f287d1c",
   "metadata": {},
   "outputs": [],
   "source": [
    "plot_dist_histogram(df2)"
   ]
  },
  {
   "cell_type": "code",
   "execution_count": null,
   "id": "9501431d",
   "metadata": {},
   "outputs": [],
   "source": [
    "plot_distances_heatmap(df2, figsize=(6,6),)# highlight_thresh=df2[df2.label1 == df2.label2]['p50'].max())"
   ]
  },
  {
   "cell_type": "code",
   "execution_count": null,
   "id": "d8954f12",
   "metadata": {},
   "outputs": [],
   "source": [
    "plot_cluster_proximity_network(df2, threshold = df2['p50'].quantile(0.9), figsize=(7,7))"
   ]
  },
  {
   "cell_type": "markdown",
   "id": "4335ff88",
   "metadata": {},
   "source": [
    "### Plate 3"
   ]
  },
  {
   "cell_type": "code",
   "execution_count": null,
   "id": "8d0a04ce",
   "metadata": {},
   "outputs": [],
   "source": [
    "df2 = pd.read_csv(f'{dist_folder}/batch1_all_reps_Ctrl-EDi037_C9-CS8RFT_SALSPositive-CS7TN6_SALSNegative-CS6ZU8_Untreated_without_CD41/distances_stats_euclidean_detailed_multiplexed.csv')\n",
    "for col in ['label1','label2']:\n",
    "    df2[col] = df2[col].str.split(pat='_', n=1).str[0]"
   ]
  },
  {
   "cell_type": "code",
   "execution_count": null,
   "id": "401daa3b",
   "metadata": {},
   "outputs": [],
   "source": [
    "df2.head()"
   ]
  },
  {
   "cell_type": "code",
   "execution_count": null,
   "id": "1257c623",
   "metadata": {},
   "outputs": [],
   "source": [
    "plot_custom_boxplot(df2)"
   ]
  },
  {
   "cell_type": "code",
   "execution_count": null,
   "id": "34f067dd",
   "metadata": {},
   "outputs": [],
   "source": [
    "plot_dist_histogram(df2)"
   ]
  },
  {
   "cell_type": "code",
   "execution_count": null,
   "id": "42c7b100",
   "metadata": {},
   "outputs": [],
   "source": [
    "plot_distances_heatmap(df2, figsize=(6,6),)# highlight_thresh=df2[df2.label1 == df2.label2]['p50'].max())"
   ]
  },
  {
   "cell_type": "code",
   "execution_count": null,
   "id": "e5d02c1a",
   "metadata": {},
   "outputs": [],
   "source": [
    "plot_cluster_proximity_network(df2, threshold = df2['p50'].quantile(0.9), figsize=(7,7))"
   ]
  },
  {
   "cell_type": "markdown",
   "id": "c28a8328",
   "metadata": {},
   "source": [
    "### All Plates "
   ]
  },
  {
   "cell_type": "code",
   "execution_count": null,
   "id": "c977a5b4",
   "metadata": {},
   "outputs": [],
   "source": [
    "df2 = pd.read_csv(f'{dist_folder}/batch1_all_reps_all_cell_lines_Untreated_without_CD41/distances_stats_euclidean_detailed_multiplexed.csv')\n",
    "for col in ['label1','label2']:\n",
    "    df2[col] = df2[col].str.split(pat='_', n=1).str[0]"
   ]
  },
  {
   "cell_type": "code",
   "execution_count": null,
   "id": "e0d8579e",
   "metadata": {},
   "outputs": [],
   "source": [
    "df2.head()"
   ]
  },
  {
   "cell_type": "code",
   "execution_count": null,
   "id": "3ce76437",
   "metadata": {},
   "outputs": [],
   "source": [
    "plot_custom_boxplot(df2)"
   ]
  },
  {
   "cell_type": "code",
   "execution_count": null,
   "id": "ffa0f4fc",
   "metadata": {},
   "outputs": [],
   "source": [
    "plot_dist_histogram(df2)"
   ]
  },
  {
   "cell_type": "code",
   "execution_count": null,
   "id": "55ec67c1",
   "metadata": {},
   "outputs": [],
   "source": [
    "plot_distances_heatmap(df2, )#figsize=(6,6), )#highlight_thresh=df2['p50'].median())"
   ]
  },
  {
   "cell_type": "code",
   "execution_count": null,
   "id": "6411233c",
   "metadata": {},
   "outputs": [],
   "source": [
    "plot_cluster_proximity_network(df2, threshold = df2['p50'].quantile(0.9), )#figsize=(7,7))"
   ]
  },
  {
   "cell_type": "code",
   "execution_count": null,
   "id": "f10ce151",
   "metadata": {},
   "outputs": [],
   "source": []
  },
  {
   "cell_type": "markdown",
   "id": "618c3367",
   "metadata": {},
   "source": [
    "# Older Alyssa"
   ]
  },
  {
   "cell_type": "code",
   "execution_count": null,
   "id": "33096aae",
   "metadata": {},
   "outputs": [],
   "source": [
    "dist_folder_prev = '/home/projects/hornsteinlab/Collaboration/NOVA/outputs/vit_models/finetunedModel_MLPHead_acrossBatches_B56789_80pct_frozen/figures/AlyssaCoyne/distances'"
   ]
  },
  {
   "cell_type": "code",
   "execution_count": null,
   "id": "27f11064",
   "metadata": {},
   "outputs": [],
   "source": [
    "df2 = pd.read_csv(f'{dist_folder_prev}/batch1_all_reps_all_cell_lines_all_conditions_all_markers/distances_stats_euclidean_detailed_multiplexed.csv')"
   ]
  },
  {
   "cell_type": "code",
   "execution_count": null,
   "id": "053620fd",
   "metadata": {},
   "outputs": [],
   "source": [
    "df2.head()"
   ]
  },
  {
   "cell_type": "code",
   "execution_count": null,
   "id": "934835d8",
   "metadata": {},
   "outputs": [],
   "source": [
    "plot_custom_boxplot(df2)"
   ]
  },
  {
   "cell_type": "code",
   "execution_count": null,
   "id": "d6795980",
   "metadata": {},
   "outputs": [],
   "source": [
    "plot_dist_histogram(df2)"
   ]
  },
  {
   "cell_type": "code",
   "execution_count": null,
   "id": "d6fff097",
   "metadata": {},
   "outputs": [],
   "source": [
    "plot_replicate_bars_extended(df2)"
   ]
  },
  {
   "cell_type": "code",
   "execution_count": null,
   "id": "91662aa0",
   "metadata": {
    "scrolled": false
   },
   "outputs": [],
   "source": [
    "plot_distances_heatmap(df2, fmt = \".1f\")"
   ]
  },
  {
   "cell_type": "code",
   "execution_count": null,
   "id": "ff04d9bd",
   "metadata": {
    "scrolled": false
   },
   "outputs": [],
   "source": [
    "plot_cluster_proximity_network(df2, threshold = df2['p50'].quantile(0.9))"
   ]
  },
  {
   "cell_type": "markdown",
   "id": "7a2daa92",
   "metadata": {},
   "source": [
    "## Distances between lines & reps for each marker"
   ]
  },
  {
   "cell_type": "code",
   "execution_count": null,
   "id": "96a7d18e",
   "metadata": {},
   "outputs": [],
   "source": [
    "dis_path = \"/home/projects/hornsteinlab/Collaboration/NOVA/outputs/vit_models/finetunedModel_MLPHead_acrossBatches_B56789_80pct_frozen/figures/AlyssaCoyne/distances/batch1_all_reps_Controls_sALSPositiveCytoTDP43_sALSNegativeCytoTDP43_c9orf72ALSPatients_all_conditions_without_CD41/distances_stats_euclidean.csv\"\n",
    "df = pd.read_csv(dis_path)\n",
    "df"
   ]
  },
  {
   "cell_type": "code",
   "execution_count": null,
   "id": "e8b5fe9e",
   "metadata": {},
   "outputs": [],
   "source": [
    "# Filter marker-to-marker distances\n",
    "df['marker1'] = df['label1'].str.split(pat='_', n=1).str[0]\n",
    "df['marker2'] = df['label2'].str.split(pat='_', n=1).str[0]\n",
    "df_filtered = df[df['marker1'] == df['marker2']]\n",
    "df_filtered"
   ]
  },
  {
   "cell_type": "code",
   "execution_count": null,
   "id": "a40cf72c",
   "metadata": {},
   "outputs": [],
   "source": [
    "markers = df_filtered['marker1'].unique()\n",
    "for marker in markers:\n",
    "    df_marker = df_filtered[df_filtered['marker1'] == marker]\n",
    "    print(f\"Plotting distances for marker: {marker}\")\n",
    "    plot_distances_heatmap(df_marker, fmt = \".1f\")"
   ]
  },
  {
   "cell_type": "markdown",
   "id": "10bd82be",
   "metadata": {},
   "source": [
    "## Distances between gene groups (no reps)"
   ]
  },
  {
   "cell_type": "code",
   "execution_count": null,
   "id": "fc892a58",
   "metadata": {},
   "outputs": [],
   "source": [
    "df_path = \"/home/projects/hornsteinlab/Collaboration/NOVA/outputs/vit_models/finetunedModel_MLPHead_acrossBatches_B56789_80pct_frozen/figures/AlyssaCoyne/distances_test/batch1_all_reps_Controls_sALSPositiveCytoTDP43_sALSNegativeCytoTDP43_c9orf72ALSPatients_all_conditions_without_CD41/distances_stats_euclidean.csv\"\n",
    "\n",
    "df = pd.read_csv(df_path)\n",
    "df"
   ]
  },
  {
   "cell_type": "code",
   "execution_count": null,
   "id": "4610853f",
   "metadata": {},
   "outputs": [],
   "source": [
    "# Filter marker-to-marker distances\n",
    "df['marker1'] = df['label1'].str.split(pat='_', n=1).str[0]\n",
    "df['marker2'] = df['label2'].str.split(pat='_', n=1).str[0]\n",
    "df_filtered = df[df['marker1'] == df['marker2']]\n",
    "df_filtered"
   ]
  },
  {
   "cell_type": "code",
   "execution_count": null,
   "id": "ddfb6206",
   "metadata": {},
   "outputs": [],
   "source": [
    "markers = df_filtered['marker1'].unique()\n",
    "for marker in markers:\n",
    "    df_marker = df_filtered[df_filtered['marker1'] == marker]\n",
    "    print(f\"Plotting distances for marker: {marker}\")\n",
    "    plot_distances_heatmap(df_marker, fmt = \".1f\")"
   ]
  }
 ],
 "metadata": {
  "kernelspec": {
   "display_name": "nova new",
   "language": "python",
   "name": "nova_new"
  },
  "language_info": {
   "codemirror_mode": {
    "name": "ipython",
    "version": 3
   },
   "file_extension": ".py",
   "mimetype": "text/x-python",
   "name": "python",
   "nbconvert_exporter": "python",
   "pygments_lexer": "ipython3",
   "version": "3.9.19"
  }
 },
 "nbformat": 4,
 "nbformat_minor": 5
}
