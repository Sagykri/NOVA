{
 "cells": [
  {
   "cell_type": "markdown",
   "metadata": {},
   "source": [
    "# Installations"
   ]
  },
  {
   "cell_type": "code",
   "execution_count": null,
   "metadata": {
    "execution": {
     "iopub.execute_input": "2022-09-22T14:31:25.379526Z",
     "iopub.status.busy": "2022-09-22T14:31:25.379233Z",
     "iopub.status.idle": "2022-09-22T14:31:25.382652Z",
     "shell.execute_reply": "2022-09-22T14:31:25.382039Z"
    }
   },
   "outputs": [],
   "source": [
    "# %pip install \"opencv-python-headless<4.3\"\n",
    "# %pip install cellpose\n",
    "# %pip install cytoself\n",
    "\n",
    "# %pip install --upgrade scikit-image"
   ]
  },
  {
   "cell_type": "markdown",
   "metadata": {},
   "source": [
    "# Imports"
   ]
  },
  {
   "cell_type": "code",
   "execution_count": null,
   "metadata": {
    "execution": {
     "iopub.execute_input": "2022-09-22T14:31:25.385222Z",
     "iopub.status.busy": "2022-09-22T14:31:25.384995Z",
     "iopub.status.idle": "2022-09-22T14:31:48.023472Z",
     "shell.execute_reply": "2022-09-22T14:31:48.022882Z"
    }
   },
   "outputs": [],
   "source": [
    "import os\n",
    "import torch\n",
    "import numpy as np\n",
    "import random\n",
    "from config import SEED\n",
    "from preprocessing import preprocess_images\n",
    "import logging\n",
    "import pandas as pd\n",
    "from src.config import RAW_FOLDER_ROOT, PROCESSED_FOLDER_ROOT\n",
    "\n",
    "\n",
    "np.random.seed(SEED)\n",
    "random.seed(SEED)\n",
    "\n",
    "%reload_ext autoreload\n",
    "%autoreload 2\n",
    "%aimport"
   ]
  },
  {
   "cell_type": "code",
   "execution_count": null,
   "metadata": {
    "execution": {
     "iopub.execute_input": "2022-09-22T14:31:48.237313Z",
     "iopub.status.busy": "2022-09-22T14:31:48.237075Z",
     "iopub.status.idle": "2022-09-22T15:36:12.371038Z",
     "shell.execute_reply": "2022-09-22T15:36:12.369927Z"
    }
   },
   "outputs": [],
   "source": [
    "log_file_path = f\"./logs/preprocessing.log\"\n",
    "logging.basicConfig(filename=log_file_path, level=logging.INFO,\n",
    "                    format=\"%(asctime)s %(levelname)s %(message)s\",\n",
    "                    datefmt=\"%Y-%m-%d %H:%M:%S\")\n",
    "\n",
    "logging.info(f\"Is GPU available: {torch.cuda.is_available()}\")\n",
    "\n",
    "raw_files = os.listdir(RAW_FOLDER_ROOT)\n",
    "folder_to_ignore = [\"220714\", \"220629_neurons_12markers_unstressed\", \"220707_neurons_12markers_stressed\"]\n",
    "for f in folder_to_ignore:\n",
    "    raw_files.remove(f)\n",
    "\n",
    "\n",
    "cols = [\"WT\", \"FUS\", \"TDP43\", \"TBK1\", \"OPTN\"]\n",
    "dead_cells_count_df = pd.DataFrame(-np.ones((len(raw_files),len(cols))), columns = cols, index=raw_files).astype(int)\n",
    "\n",
    "\n",
    "for raw_f in raw_files:\n",
    "    input_folder_root = os.path.join(RAW_FOLDER_ROOT, raw_f)\n",
    "    output_folder_root = os.path.join(PROCESSED_FOLDER_ROOT, raw_f)\n",
    "    \n",
    "    print(f\"[{raw_f}] Processing folder\")\n",
    "    logging.info(f\"[{raw_f}] Processing folder\")\n",
    "    \n",
    "    if not os.path.isdir(input_folder_root):\n",
    "        print(f\"[{raw_f}] Skipping non-folder\")\n",
    "        logging.info(f\"[{raw_f}] Skipping non-folder\")\n",
    "        continue\n",
    "    \n",
    "    cell_lines = [f for f in os.listdir(input_folder_root) if os.path.isdir(os.path.join(input_folder_root, f))]\n",
    "\n",
    "    print(f\"[{raw_f}] Cell lines detected: {cell_lines}\")\n",
    "    logging.info(f\"[{raw_f}] Cell line detected: {cell_lines}\")\n",
    "\n",
    "    for cell_line in cell_lines:\n",
    "        print(f\"[{raw_f}] Cell line: {cell_line}\")\n",
    "        logging.info(f\"[{raw_f}] Cell line: {cell_line}\")\n",
    "        \n",
    "        input_folder_root_cell_line = os.path.join(input_folder_root, cell_line)\n",
    "        \n",
    "        conditions = [f for f in os.listdir(input_folder_root_cell_line) if os.path.isdir(os.path.join(input_folder_root_cell_line, f))]        \n",
    "        \n",
    "        print(f\"[{raw_f}, {cell_line}] Conditions: {conditions}\")\n",
    "        logging.info(f\"[{raw_f}] Conditions: {conditions}\")\n",
    "        \n",
    "        input_folders = [os.path.join(input_folder_root, cell_line, c) for c in conditions] \n",
    "        output_folders = [os.path.join(output_folder_root, cell_line, c) for c in conditions] \n",
    "\n",
    "        print(f\"Input folders: {input_folders}\")\n",
    "        logging.info(f\"Input folders: {input_folders}\")\n",
    "\n",
    "        format_output_filename = lambda filename, ext: f\"{filename}_{cell_line}{ext}\"\n",
    "        \n",
    "        dead_cells_count = preprocess_images(input_folders, output_folders,\\\n",
    "                        format_output_filename=format_output_filename,\\\n",
    "                        nucleus_channel=-1)\n",
    "        dead_cells_count_df.loc[raw_f, cell_line] = dead_cells_count\n",
    "        dead_cells_count_df.to_csv(f\"./dead_cells_counts_{id}\")\n",
    "        "
   ]
  }
 ],
 "metadata": {
  "kernelspec": {
   "display_name": "Python 3.7.12 ('cytoself')",
   "language": "python",
   "name": "python3"
  },
  "language_info": {
   "codemirror_mode": {
    "name": "ipython",
    "version": 3
   },
   "file_extension": ".py",
   "mimetype": "text/x-python",
   "name": "python",
   "nbconvert_exporter": "python",
   "pygments_lexer": "ipython3",
   "version": "3.7.12 | packaged by conda-forge | (default, Oct 26 2021, 05:35:01) [MSC v.1916 64 bit (AMD64)]"
  },
  "vscode": {
   "interpreter": {
    "hash": "968e379122ae9f8d16a34d46f8720be4493d19d7829fc1f3ffcce7bd42b01504"
   }
  }
 },
 "nbformat": 4,
 "nbformat_minor": 2
}
