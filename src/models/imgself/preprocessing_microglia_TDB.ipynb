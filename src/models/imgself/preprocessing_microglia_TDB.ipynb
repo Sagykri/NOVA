{
 "cells": [
  {
   "cell_type": "code",
   "execution_count": null,
   "metadata": {
    "pycharm": {
     "name": "#%%\n"
    }
   },
   "outputs": [],
   "source": [
    "# Installations"
   ]
  },
  {
   "cell_type": "code",
   "execution_count": null,
   "metadata": {},
   "outputs": [],
   "source": [
    "# %pip install \"opencv-python-headless<4.3\"\n",
    "# %pip install cellpose\n",
    "# %pip install cytoself\n",
    "#\n",
    "# %pip install --upgrade scikit-image"
   ]
  },
  {
   "cell_type": "markdown",
   "metadata": {},
   "source": [
    "# Imports"
   ]
  },
  {
   "cell_type": "code",
   "execution_count": null,
   "metadata": {},
   "outputs": [],
   "source": [
    "import os\n",
    "import numpy as np\n",
    "import random\n",
    "from src.config import SEED, RAW_FOLDER_ROOT, PROCESSED_FOLDER_ROOT\n",
    "from preprocessing_noam import preprocess_images\n",
    "\n",
    "np.random.seed(SEED)\n",
    "random.seed(SEED)\n",
    "\n",
    "%reload_ext autoreload\n",
    "%autoreload 2\n",
    "%aimport"
   ]
  },
  {
   "attachments": {},
   "cell_type": "markdown",
   "metadata": {},
   "source": [
    "## Microglia - All markers"
   ]
  },
  {
   "cell_type": "code",
   "execution_count": null,
   "metadata": {},
   "outputs": [],
   "source": [
    "input_folder_root = os.path.join(RAW_FOLDER_ROOT,\"microglia\")\n",
    "output_folder_root = os.path.join(PROCESSED_FOLDER_ROOT, \"microglia\")\n",
    "cell_lines = ['WT', 'TDP43', 'FUS', 'OPTN']"
   ]
  },
  {
   "cell_type": "code",
   "execution_count": null,
   "metadata": {
    "pycharm": {
     "name": "#%%\n"
    },
    "scrolled": true
   },
   "outputs": [],
   "source": [
    "for cell_line in cell_lines:\n",
    "    print(\"Cell line: \", cell_line)\n",
    "\n",
    "    folders = lambda root: [os.path.join(root, cell_line, \"unstressed\")]\n",
    "    input_folders = folders(input_folder_root)\n",
    "    output_folders = folders(output_folder_root)\n",
    "\n",
    "    format_output_filename = lambda filename, ext: f\"{filename}_{cell_line}{ext}\"\n",
    "    preprocess_images(input_folders, output_folders, format_output_filename=format_output_filename,nucleus_channel=-1)"
   ]
  }
 ],
 "metadata": {
  "kernelspec": {
   "display_name": "Python 3",
   "language": "python",
   "name": "python3"
  },
  "language_info": {
   "codemirror_mode": {
    "name": "ipython",
    "version": 3
   },
   "file_extension": ".py",
   "mimetype": "text/x-python",
   "name": "python",
   "nbconvert_exporter": "python",
   "pygments_lexer": "ipython3",
   "version": "3.10.0 (tags/v3.10.0:b494f59, Oct  4 2021, 19:00:18) [MSC v.1929 64 bit (AMD64)]"
  },
  "vscode": {
   "interpreter": {
    "hash": "c2ed1c1e3dda2d1d09010f3df351d528d97a393444344645f0fddd23da56b409"
   }
  }
 },
 "nbformat": 4,
 "nbformat_minor": 2
}
