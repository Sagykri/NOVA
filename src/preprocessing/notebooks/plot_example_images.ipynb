{
 "cells": [
  {
   "cell_type": "code",
   "execution_count": null,
   "metadata": {},
   "outputs": [],
   "source": [
    "%load_ext autoreload\n",
    "%autoreload 2"
   ]
  },
  {
   "cell_type": "code",
   "execution_count": null,
   "metadata": {},
   "outputs": [],
   "source": [
    "import matplotlib.pyplot as plt\n",
    "import numpy as np\n",
    "import pandas as pd\n",
    "import cv2\n",
    "import sys\n",
    "import os\n",
    "\n",
    "os.environ['MOMAPS_HOME'] = '/home/labs/hornsteinlab/Collaboration/MOmaps'\n",
    "\n",
    "sys.path.insert(1, os.getenv('MOMAPS_HOME'))\n",
    "print(f\"MOMAPS_HOME: {os.getenv('MOMAPS_HOME')}\")\n",
    "\n",
    "from src.common.lib.preprocessing_utils import rescale_intensity\n",
    "\n",
    "%matplotlib inline"
   ]
  },
  {
   "cell_type": "markdown",
   "metadata": {
    "jp-MarkdownHeadingCollapsed": true,
    "tags": []
   },
   "source": [
    "# Raw"
   ]
  },
  {
   "cell_type": "code",
   "execution_count": null,
   "metadata": {},
   "outputs": [],
   "source": [
    "root_path = \"/home/labs/hornsteinlab/Collaboration/MOmaps/input/images/raw/SpinningDisk/FUS_lines_stress_2024_sorted/batch1/\""
   ]
  },
  {
   "cell_type": "code",
   "execution_count": null,
   "metadata": {},
   "outputs": [],
   "source": [
    "# UTILS\n",
    "\n",
    "def plot_images(root_folder):\n",
    "    for foldername, _, filenames in os.walk(root_folder):\n",
    "        image_count = 0\n",
    "        images = []\n",
    "        for filename in filenames:\n",
    "            if filename.endswith('.tif'):\n",
    "                image_count += 1\n",
    "                image_path = os.path.join(foldername, filename)\n",
    "                image = cv2.imread(image_path, cv2.IMREAD_ANYDEPTH)\n",
    "                rescale_image = rescale_intensity(image)\n",
    "                images.append(rescale_image)\n",
    "                if image_count == 3:\n",
    "                    break\n",
    "        if image_count >= 3:\n",
    "            plt.figure(figsize=(5, 5))\n",
    "            plt.suptitle(f'{foldername}')\n",
    "            for i in range(3):\n",
    "                plt.subplot(1, 3, i + 1)\n",
    "                plt.imshow(images[i], cmap='gray')\n",
    "                plt.axis('off')\n",
    "            plt.show()\n"
   ]
  },
  {
   "cell_type": "code",
   "execution_count": null,
   "metadata": {},
   "outputs": [],
   "source": [
    "plot_images(root_path)"
   ]
  },
  {
   "cell_type": "markdown",
   "metadata": {},
   "source": [
    "# Processed"
   ]
  },
  {
   "cell_type": "code",
   "execution_count": null,
   "metadata": {},
   "outputs": [],
   "source": [
    "processed_root_path = \"/home/labs/hornsteinlab/Collaboration/MOmaps/input/images/processed/spd2/SpinningDisk/FUS_lines_stress_2024_sorted/batch1/\""
   ]
  },
  {
   "cell_type": "code",
   "execution_count": null,
   "metadata": {},
   "outputs": [],
   "source": [
    "# UTILS\n",
    "\n",
    "def plot_images(root_folder):\n",
    "    for foldername, _, filenames in os.walk(root_folder):\n",
    "        image_count = 0\n",
    "        images = []\n",
    "        images_filenames = []\n",
    "        for filename in filenames:\n",
    "            if filename.endswith('.npy'):\n",
    "                image_count += 1\n",
    "                image_path = os.path.join(foldername, filename)\n",
    "                image = np.load(image_path)\n",
    "                tile_indx = np.random.choice(np.arange(len(image)))\n",
    "                image = image[tile_indx]\n",
    "                images.append(image)\n",
    "                images_filenames.append(f\"{filename}_{tile_indx}\")\n",
    "                if image_count == 3:\n",
    "                    break\n",
    "        if image_count >= 3:\n",
    "            for i in range(3):\n",
    "                channels = [os.path.basename(foldername), 'nucleus']\n",
    "                fig, ax = plt.subplots(1, len(channels), figsize=(5,5))\n",
    "                fig.suptitle(f'{foldername}')\n",
    "                for j in range(len(channels)):\n",
    "                    ax[j].imshow(images[i][...,j], cmap='gray', vmin=0, vmax=1)\n",
    "                    if j == 1:\n",
    "                        ax[j].set_title(f\"{channels[j]}\\n{images_filenames[i]}\", y=0, pad=-25)\n",
    "                    else:\n",
    "                        ax[j].set_title(f\"{channels[j]}\\n{images_filenames[i]}\")\n",
    "                    ax[j].set_axis_off()\n",
    "            plt.show()\n"
   ]
  },
  {
   "cell_type": "code",
   "execution_count": null,
   "metadata": {},
   "outputs": [],
   "source": [
    "plot_images(processed_root_path)"
   ]
  }
 ],
 "metadata": {
  "kernelspec": {
   "display_name": "momaps_37",
   "language": "python",
   "name": "momaps_37"
  },
  "language_info": {
   "codemirror_mode": {
    "name": "ipython",
    "version": 3
   },
   "file_extension": ".py",
   "mimetype": "text/x-python",
   "name": "python",
   "nbconvert_exporter": "python",
   "pygments_lexer": "ipython3",
   "version": "3.7.11"
  }
 },
 "nbformat": 4,
 "nbformat_minor": 4
}
