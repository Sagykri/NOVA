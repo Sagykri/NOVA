{
 "cells": [
  {
   "cell_type": "code",
   "execution_count": null,
   "metadata": {},
   "outputs": [],
   "source": [
    "import os\n",
    "import sys\n",
    "import numpy as np\n",
    "import cv2 \n",
    "import pandas as pd\n",
    "import matplotlib.pyplot as plt \n",
    "import random\n",
    "%matplotlib inline\n",
    "\n",
    "os.environ['MOMAPS_HOME'] = '/home/labs/hornsteinlab/Collaboration/MOmaps'\n",
    "\n",
    "sys.path.insert(1, os.getenv('MOMAPS_HOME'))\n",
    "print(f\"MOMAPS_HOME: {os.getenv('MOMAPS_HOME')}\")\n",
    "\n",
    "from cellpose import models\n",
    "import cellpose\n",
    "from shapely.geometry import Polygon\n",
    "\n",
    "from src.common.lib import image_metrics\n",
    "from src.common.lib.preprocessing_utils import rescale_intensity, handle_img_shape, segment\n",
    "from src.common.lib.image_sampling_utils import sample_images_all_markers_all_lines, sample_raw_images, sample_processed_images\n",
    "from src.common.lib.eval_preprocessing_steps_utils import get_processed_images, plot_images, test_cellpose, reconstruct_images"
   ]
  },
  {
   "cell_type": "code",
   "execution_count": null,
   "metadata": {},
   "outputs": [],
   "source": [
    "%load_ext autoreload\n",
    "%autoreload 2"
   ]
  },
  {
   "cell_type": "code",
   "execution_count": null,
   "metadata": {},
   "outputs": [],
   "source": [
    "# INPUT_DIR_BATCH = \"/home/labs/hornsteinlab/Collaboration/MOmaps/input/images/raw/SpinningDisk/FUS_lines_stress_2024_sorted/batch1\"\n",
    "# INPUT_DIR_BATCH = \"/home/labs/hornsteinlab/Collaboration/MOmaps/input/images/raw/Opera18Days_sorted/batch2\"\n",
    "INPUT_DIR_BATCH = \"/home/labs/hornsteinlab/Collaboration/MOmaps/input/images/raw/SpinningDisk/NOVA_d18_neurons_sorted/batch2\"\n",
    "EXPECTED_SITE_WIDTH, EXPECTED_SITE_HEIGHT = 1024, 1024\n",
    "\n",
    "sample_size = 10\n",
    "rep = 'rep1'\n",
    "marker = 'DAPI'\n",
    "condition = 'Untreated'\n",
    "cell_line = 'SNCA'\n",
    "panel = 'panelL'"
   ]
  },
  {
   "cell_type": "code",
   "execution_count": null,
   "metadata": {
    "tags": []
   },
   "outputs": [],
   "source": [
    "images_paths = sample_raw_images(INPUT_DIR_BATCH, marker,\n",
    "                                 cell_line=cell_line, condition=condition, sample_size=sample_size, rep=rep, panel=panel)\n",
    "# images_paths = sample_images_all_markers_all_lines(input_dir_batch=INPUT_DIR_BATCH, _sample_size_per_markers=5, _num_markers=26, \n",
    "#                                         raw=True, all_conds=True, rep_count=2, cond_count=2, exclude_DAPI=False, markers_to_include=None)\n",
    "# images_paths = random.sample(images_paths, len(images_paths))\n",
    "images_paths"
   ]
  },
  {
   "cell_type": "code",
   "execution_count": null,
   "metadata": {},
   "outputs": [],
   "source": [
    "images = []\n",
    "for p in images_paths:\n",
    "    image = cv2.imread(p, cv2.IMREAD_ANYDEPTH)\n",
    "    images.append(image)\n",
    "    \n",
    "images = np.stack(images, axis=0)\n",
    "images.shape"
   ]
  },
  {
   "cell_type": "code",
   "execution_count": null,
   "metadata": {},
   "outputs": [],
   "source": [
    "plot_images(images, images_paths)"
   ]
  },
  {
   "cell_type": "code",
   "execution_count": null,
   "metadata": {},
   "outputs": [],
   "source": [
    "images_processed = np.zeros((images.shape[0], EXPECTED_SITE_WIDTH, EXPECTED_SITE_HEIGHT))\n",
    "images_paths_processed = images_paths.copy()"
   ]
  },
  {
   "cell_type": "markdown",
   "metadata": {},
   "source": [
    "# Handle size"
   ]
  },
  {
   "cell_type": "code",
   "execution_count": null,
   "metadata": {},
   "outputs": [],
   "source": [
    "for i in range(len(images)):\n",
    "    images_processed[i] = handle_img_shape(images[i], EXPECTED_SITE_WIDTH, EXPECTED_SITE_HEIGHT)"
   ]
  },
  {
   "cell_type": "code",
   "execution_count": null,
   "metadata": {},
   "outputs": [],
   "source": [
    "plot_images(images_processed, images_paths_processed, 10)"
   ]
  },
  {
   "cell_type": "markdown",
   "metadata": {},
   "source": [
    "# Rescale Intensity"
   ]
  },
  {
   "cell_type": "code",
   "execution_count": null,
   "metadata": {},
   "outputs": [],
   "source": [
    "# Apply rescale intensity\n",
    "for i in range(len(images_processed)):\n",
    "    images_processed[i] = rescale_intensity(images_processed[i])"
   ]
  },
  {
   "cell_type": "code",
   "execution_count": null,
   "metadata": {},
   "outputs": [],
   "source": [
    "plot_images(images_processed, images_paths_processed, 10, figsize=(35,10))"
   ]
  },
  {
   "cell_type": "markdown",
   "metadata": {},
   "source": [
    "# Brenner"
   ]
  },
  {
   "cell_type": "code",
   "execution_count": null,
   "metadata": {},
   "outputs": [],
   "source": [
    "brenner_cutoffs = pd.read_csv(\"/home/labs/hornsteinlab/Collaboration/MOmaps/src/preprocessing/sites_validity_bounds_spd18days.csv\", index_col=0)\n",
    "brenner_cutoffs\n",
    "\n",
    "brenner_marker = brenner_cutoffs.loc[marker]\n",
    "brenner_lower_bound, brenner_upper_bound = brenner_marker[0], brenner_marker[1]"
   ]
  },
  {
   "cell_type": "code",
   "execution_count": null,
   "metadata": {},
   "outputs": [],
   "source": [
    "brenner_for_sampled_images = []\n",
    "n_samples = 3\n",
    "\n",
    "for i in range(len(images_processed)):\n",
    "    brenner_for_sampled_images.append(image_metrics.calculate_image_sharpness_brenner(images_processed[i]))\n",
    "brenner_for_sampled_images = np.asarray(brenner_for_sampled_images)\n",
    "\n",
    "# Show images passed filter\n",
    "passed_images_indexes = np.argwhere((brenner_for_sampled_images >= brenner_lower_bound) & (brenner_for_sampled_images <= brenner_upper_bound)).reshape(-1)\n",
    "if len(passed_images_indexes) > 0:\n",
    "    plot_images(images_processed[passed_images_indexes], images_paths_processed[passed_images_indexes], n_samples=min(n_samples, len(passed_images_indexes)), suptitle='Valid')\n",
    "else:\n",
    "    print(\"No valid files (in terms of Brenner)\")\n",
    "\n",
    "# Show images failed filter\n",
    "failed_images_indexes = list(set(np.arange(len(images_processed))) - set(passed_images_indexes))\n",
    "if len(failed_images_indexes) > 0:\n",
    "    plot_images(images_processed[failed_images_indexes], images_paths_processed[failed_images_indexes], n_samples=min(n_samples, len(failed_images_indexes)), suptitle='Invalid')\n",
    "else:\n",
    "    print(\"All files are valid (in terms of Brenner)\")\n",
    "\n",
    "images_processed = images_processed[passed_images_indexes]\n",
    "images_paths_processed = images_paths_processed[passed_images_indexes]\n"
   ]
  },
  {
   "cell_type": "markdown",
   "metadata": {},
   "source": [
    "# Cellpose"
   ]
  },
  {
   "cell_type": "code",
   "execution_count": null,
   "metadata": {
    "tags": []
   },
   "outputs": [],
   "source": [
    "# Apply cellpose on remaining images\n",
    "# NOTE! Use only with marker was set to DAPI!\n",
    "test_cellpose(images_processed, images_paths_processed)"
   ]
  },
  {
   "cell_type": "markdown",
   "metadata": {},
   "source": [
    "# Processed images"
   ]
  },
  {
   "cell_type": "code",
   "execution_count": null,
   "metadata": {
    "tags": []
   },
   "outputs": [],
   "source": [
    "# INPUT_DIR_BATCH_PROCESSED = \"/home/labs/hornsteinlab/Collaboration/MOmaps/input/images/processed/Opera18Days/batch1\"\n",
    "INPUT_DIR_BATCH_PROCESSED = \"/home/labs/hornsteinlab/Collaboration/MOmaps/input/images/processed/spd2/SpinningDisk/spd18days/batch1\"\n",
    "\n",
    "figsize=(20,6)\n",
    "sample_size = 5\n",
    "marker='FUS'\n",
    "cell_line='WT'\n",
    "condition='Untreated'\n",
    "rep='rep1'\n",
    "\n",
    "_ = get_processed_images(INPUT_DIR_BATCH_PROCESSED, sample_size=sample_size, marker=marker, cell_line=cell_line, condition=condition, rep=rep, figsize=figsize)"
   ]
  },
  {
   "cell_type": "markdown",
   "metadata": {},
   "source": [
    "# Reconstructed images"
   ]
  },
  {
   "cell_type": "markdown",
   "metadata": {},
   "source": [
    "NOTE: Change env to momaps_torch!"
   ]
  },
  {
   "cell_type": "code",
   "execution_count": null,
   "metadata": {},
   "outputs": [],
   "source": [
    "import os\n",
    "import sys\n",
    "import numpy as np\n",
    "import pandas as pd\n",
    "import matplotlib.pyplot as plt \n",
    "import torch\n",
    "\n",
    "%matplotlib inline\n",
    "\n",
    "os.environ['MOMAPS_HOME'] = '/home/labs/hornsteinlab/Collaboration/MOmaps'\n",
    "\n",
    "sys.path.insert(1, os.getenv('MOMAPS_HOME'))\n",
    "print(f\"MOMAPS_HOME: {os.getenv('MOMAPS_HOME')}\")\n",
    "\n",
    "from src.common.lib.image_sampling_utils import sample_images_all_markers_all_lines, sample_raw_images, sample_processed_images\n",
    "from src.common.lib.eval_preprocessing_steps_utils import get_processed_images, reconstruct_images\n",
    "from src.common.lib.model import Model\n",
    "from src.common.lib.utils import get_if_exists, load_config_file\n",
    "\n",
    "\n",
    "from src.common.lib import metrics "
   ]
  },
  {
   "cell_type": "code",
   "execution_count": null,
   "metadata": {},
   "outputs": [],
   "source": [
    "config_path_model = \"./src/models/neuroself/configs/model_config/TLNeuroselfB78NoDSModelConfig\"\n",
    "config_model = load_config_file(config_path_model, 'model')\n",
    "model = Model(config_model)\n",
    "model.load_model(num_fc_output_classes=225)"
   ]
  },
  {
   "cell_type": "code",
   "execution_count": null,
   "metadata": {},
   "outputs": [],
   "source": [
    "INPUT_DIR_BATCH_PROCESSED = \"/home/labs/hornsteinlab/Collaboration/MOmaps/input/images/processed/spd2/SpinningDisk/spd18days/batch1\"#\"/home/labs/hornsteinlab/Collaboration/MOmaps/input/images/processed/Opera18Days/batch2\"\n",
    "figsize=(8,6)\n",
    "sample_size = 10\n",
    "marker = 'AGO2'\n",
    "cell_line = 'WT'\n",
    "condition='Untreated'\n",
    "rep = 'rep2'"
   ]
  },
  {
   "cell_type": "code",
   "execution_count": null,
   "metadata": {},
   "outputs": [],
   "source": [
    "images, images_paths = get_processed_images(INPUT_DIR_BATCH_PROCESSED, sample_size=sample_size, marker=marker, cell_line=cell_line, condition=condition, rep=rep, figsize=figsize, plot=False)\n",
    "# images.shape\n",
    "\n",
    "reconstruct_images(model, images)"
   ]
  }
 ],
 "metadata": {
  "kernelspec": {
   "display_name": "momaps_37",
   "language": "python",
   "name": "momaps_37"
  },
  "language_info": {
   "codemirror_mode": {
    "name": "ipython",
    "version": 3
   },
   "file_extension": ".py",
   "mimetype": "text/x-python",
   "name": "python",
   "nbconvert_exporter": "python",
   "pygments_lexer": "ipython3",
   "version": "3.7.11"
  }
 },
 "nbformat": 4,
 "nbformat_minor": 4
}
