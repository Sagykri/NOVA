{
 "cells": [
  {
   "cell_type": "markdown",
   "id": "e53d6453",
   "metadata": {},
   "source": [
    "# <font color='purple'>Preprocessing QC statistics </font> \n",
    "## Sagy, Feb 2024\n"
   ]
  },
  {
   "cell_type": "code",
   "execution_count": null,
   "id": "d0673c80",
   "metadata": {},
   "outputs": [],
   "source": [
    "%load_ext autoreload\n",
    "%autoreload 2"
   ]
  },
  {
   "cell_type": "code",
   "execution_count": null,
   "id": "a35a2e3e",
   "metadata": {},
   "outputs": [],
   "source": [
    "import os\n",
    "MOMAPS_HOME = '/home/projects/hornsteinlab/Collaboration/MOmaps'\n",
    "MOMAPS_DATA_HOME = '/home/projects/hornsteinlab/Collaboration/MOmaps'\n",
    "LOGS_PATH = os.path.join(MOMAPS_DATA_HOME, \"outputs/preprocessing/spd/logs/preprocessing_FUS/merged\")\n",
    "PLOT_PATH = os.path.join(MOMAPS_DATA_HOME, \"outputs/preprocessing/spd/logs/preprocessing_FUS/plots\")\n",
    "os.chdir(MOMAPS_HOME)\n",
    "import numpy as np\n",
    "import pandas as pd\n",
    "import seaborn as sns\n",
    "import matplotlib.pyplot as plt\n",
    "plt.rcParams[\"image.cmap\"] = \"Set1\"\n",
    "from src.common.lib.preprocessing_utils import rescale_intensity\n",
    "from src.common.lib.images_qc import *\n",
    "import contextlib\n",
    "import io\n",
    "import matplotlib\n",
    "import warnings\n",
    "warnings.filterwarnings('ignore', category=pd.core.common.SettingWithCopyWarning)\n",
    "from src.common.lib.qc_config_tmp import *\n",
    "from src.common.lib.image_sampling_utils import *\n",
    "from matplotlib.colors import LinearSegmentedColormap"
   ]
  },
  {
   "cell_type": "code",
   "execution_count": null,
   "id": "5020c6f8",
   "metadata": {},
   "outputs": [],
   "source": [
    "pd.__version__"
   ]
  },
  {
   "cell_type": "code",
   "execution_count": null,
   "id": "6fb18e37",
   "metadata": {},
   "outputs": [],
   "source": [
    "df = log_files_qc(LOGS_PATH,only_wt_cond=False)\n",
    "df_dapi = df[df.marker=='DAPI']\n",
    "df_target = df[df.marker!='DAPI']"
   ]
  },
  {
   "cell_type": "code",
   "execution_count": null,
   "id": "24d1912d",
   "metadata": {},
   "outputs": [],
   "source": [
    "# choose batches\n",
    "# batches = [f'batch{i}' for i in range(2,6)]\n",
    "batches = ['batch1']\n",
    "batches"
   ]
  },
  {
   "cell_type": "markdown",
   "id": "c522d841",
   "metadata": {},
   "source": [
    "### Raw Files Validation"
   ]
  },
  {
   "cell_type": "markdown",
   "id": "917a4be4-355d-4452-b4ec-ed8554951021",
   "metadata": {},
   "source": [
    "1. How many site **tiff** files do we have in each folder?\n",
    "2. Are all existing files valid? (tif, at least 2049kB, not corrupetd)"
   ]
  },
  {
   "cell_type": "code",
   "execution_count": null,
   "id": "ec1d2ed4",
   "metadata": {
    "tags": []
   },
   "outputs": [],
   "source": [
    "\n",
    "root_directory_raw = os.path.join(MOMAPS_DATA_HOME, 'input', 'images', 'raw', 'SpinningDisk','FUS_lines_stress_2024_sorted')\n",
    "\n",
    "batches_raw = [batch.replace(\"_16bit_no_downsample\",\"\") for batch in batches]\n",
    "raws = run_validate_folder_structure(root_directory_raw, False, fus_panels, fus_markers.copy(),PLOT_PATH, fus_marker_info,\n",
    "                                    fus_cell_lines_to_cond, reps, fus_cell_lines_for_disp, fus_expected_dapi_raw,\n",
    "                                     batches=batches_raw, fig_width=15)"
   ]
  },
  {
   "cell_type": "markdown",
   "id": "5609985e",
   "metadata": {},
   "source": [
    "### Processed Files Validation"
   ]
  },
  {
   "cell_type": "markdown",
   "id": "6c298651-bc69-4088-bb25-7ed939fa192f",
   "metadata": {},
   "source": [
    "1. How many site **npy** files do we have in each folder? -> How many sites survived the pre-processing?\n",
    "2. Are all existing files valid? (at least 100kB, npy not corrupted)"
   ]
  },
  {
   "cell_type": "code",
   "execution_count": null,
   "id": "a9df410c",
   "metadata": {
    "tags": []
   },
   "outputs": [],
   "source": [
    "root_directory_proc = os.path.join(MOMAPS_DATA_HOME, 'input', 'images', 'processed', 'spd2',\n",
    "                              'SpinningDisk','FUS_lines_stress_2024_sorted')\n",
    "procs = run_validate_folder_structure(root_directory_proc, True, fus_panels, fus_markers,PLOT_PATH,fus_marker_info,\n",
    "                                    fus_cell_lines_to_cond, reps, fus_cell_lines_for_disp, fus_expected_dapi_raw,\n",
    "                                     batches=batches, fig_width=15)"
   ]
  },
  {
   "cell_type": "markdown",
   "id": "ffa77c24",
   "metadata": {},
   "source": [
    "### Difference between Raw and Processed"
   ]
  },
  {
   "cell_type": "code",
   "execution_count": null,
   "id": "e4848e93",
   "metadata": {
    "scrolled": true
   },
   "outputs": [],
   "source": [
    "display_diff(batches, raws, procs, PLOT_PATH, fig_width=15)"
   ]
  },
  {
   "cell_type": "markdown",
   "id": "f9e9d63a-0630-41df-b39c-83673c2f0868",
   "metadata": {},
   "source": [
    "## Variance in each batch"
   ]
  },
  {
   "cell_type": "code",
   "execution_count": null,
   "id": "42871b88",
   "metadata": {
    "scrolled": true
   },
   "outputs": [],
   "source": [
    "#for batch in list(range(3,9)) + ['7_16bit','8_16bit','9_16bit']:  \n",
    "\n",
    "for batch in batches:\n",
    "    with contextlib.redirect_stdout(io.StringIO()):\n",
    "        var = sample_and_calc_variance(root_directory_proc, batch, \n",
    "                                       sample_size_per_markers=200, cond_count=2, rep_count=len(reps), \n",
    "                                       num_markers=len(dnls_markers))\n",
    "    print(f'{batch} var: ',var)"
   ]
  },
  {
   "cell_type": "markdown",
   "id": "64ccaaf3-ebd0-4d10-88b2-4a10b8128134",
   "metadata": {},
   "source": [
    "# filtering qc\n",
    "By order of filtering"
   ]
  },
  {
   "cell_type": "markdown",
   "id": "855168a5-82ca-4fc8-bd7c-0e6e55d9d7f6",
   "metadata": {},
   "source": [
    "## 1. % site survival after Brenner on DAPI channel\n",
    "Percentage out of the total sites"
   ]
  },
  {
   "cell_type": "code",
   "execution_count": null,
   "id": "789c977c-dd5c-40b6-babe-b80c954823c9",
   "metadata": {
    "tags": []
   },
   "outputs": [],
   "source": [
    "dapi_filter_by_brenner = show_site_survival_dapi_brenner(df_dapi,batches, fus_line_colors, fus_panels,\n",
    "                                                        figsize=(10,5))"
   ]
  },
  {
   "cell_type": "markdown",
   "id": "a0b287b6-21d3-4feb-b1a4-77c6a30d5ad8",
   "metadata": {},
   "source": [
    "## 2. % Site survival after Cellpose\n",
    "Percentage out of the sites that passed the previous filter. In parenthesis are absolute values.\n",
    "\n",
    "**A site will be filtered out if Cellpose found 0 cells in it.**"
   ]
  },
  {
   "cell_type": "code",
   "execution_count": null,
   "id": "3f02458f-ac51-46ca-a9ce-425fc70d9cc6",
   "metadata": {
    "tags": []
   },
   "outputs": [],
   "source": [
    "dapi_filter_by_cellpose = show_site_survival_dapi_cellpose(df_dapi, batches, dapi_filter_by_brenner, \n",
    "                                                           fus_line_colors, fus_panels, figsize=(15,5))"
   ]
  },
  {
   "cell_type": "markdown",
   "id": "b70f114d-bb87-44a9-87b3-7dfc47a7a6f4",
   "metadata": {},
   "source": [
    "## 3. % Site survival by tiling\n",
    "Percentage out of the sites that passed the previous filter. In parenthesis are absolute values.\n",
    "\n",
    "**A site will be filtered out if after tiling, no tile is containing at least 85% of a cell that Cellpose detected.**"
   ]
  },
  {
   "cell_type": "code",
   "execution_count": null,
   "id": "18786222-e52a-4d50-84d6-80c72ba28b7c",
   "metadata": {
    "tags": []
   },
   "outputs": [],
   "source": [
    "dapi_filter_by_tiling=show_site_survival_dapi_tiling(df_dapi, batches, dapi_filter_by_cellpose, \n",
    "                                                     fus_line_colors, fus_panels, figsize=(15,5))"
   ]
  },
  {
   "cell_type": "markdown",
   "id": "e027fd00-e444-40c4-b766-8f4f020dc996",
   "metadata": {},
   "source": [
    "## 4. % Site survival after Brenner on target channel\n",
    "Percentage out of the sites that passed the previous filter. In parenthesis are absolute values (if different than the percentages)."
   ]
  },
  {
   "cell_type": "code",
   "execution_count": null,
   "id": "1dd30f69-b98c-43a8-8ee7-5abcc85f4662",
   "metadata": {
    "tags": []
   },
   "outputs": [],
   "source": [
    "show_site_survival_target_brenner(df_dapi, df_target, dapi_filter_by_tiling,\n",
    "                                 figsize=(15,8), markers=fus_markers)"
   ]
  },
  {
   "cell_type": "markdown",
   "id": "fbe75d0b-5e7f-4bc1-9a5c-21fda636c048",
   "metadata": {},
   "source": [
    "### Numbers!\n",
    "\n",
    "1. Total number of tiles: for each condition, we can know how many **tiles** we have --> number of data points for the model to train and infer on --> number of points in UMAPs..\n",
    "2. Total number of whole cells: for each condtion, we can know how many **whole cells** we have"
   ]
  },
  {
   "cell_type": "code",
   "execution_count": null,
   "id": "84b99a75-fa6c-43c9-bb72-8ccf068dd7a7",
   "metadata": {
    "scrolled": true,
    "tags": []
   },
   "outputs": [],
   "source": [
    "names = ['Total number of tiles', 'Total number of whole cells']\n",
    "stats = ['n_valid_tiles','site_whole_cells_counts_sum','site_cell_count','site_cell_count_sum']\n",
    "total_sum = calc_total_sums(df_target, df_dapi, stats)\n",
    "    \n",
    "\n",
    "# for stat, name in zip(stats[:2], names):\n",
    "#     to_heatmap = total_sum.rename(columns={stat:'index'})\n",
    "#     plot_filtering_heatmap(to_heatmap, extra_index='marker', vmin=None, vmax=None,\n",
    "#                           xlabel = name, show_sum=True, figsize=(4,8))"
   ]
  },
  {
   "cell_type": "code",
   "execution_count": null,
   "id": "ad23406a-2911-4643-ac8c-ab8167137a18",
   "metadata": {},
   "outputs": [],
   "source": [
    "total_sum.sum()"
   ]
  },
  {
   "cell_type": "code",
   "execution_count": null,
   "id": "c668a7cb-f984-4ecb-b811-a9d273544b2e",
   "metadata": {
    "scrolled": true,
    "tags": []
   },
   "outputs": [],
   "source": [
    "show_total_sum_tables(total_sum)"
   ]
  },
  {
   "cell_type": "markdown",
   "id": "cf33b1d3",
   "metadata": {},
   "source": [
    "# <font color='red'>Number of Cells in Site for each batch and cell line</font>"
   ]
  },
  {
   "cell_type": "code",
   "execution_count": null,
   "id": "d395b1c2",
   "metadata": {},
   "outputs": [],
   "source": [
    "df_no_empty_sites = df_dapi[df_dapi.n_valid_tiles !=0]\n",
    "plot_cell_count(df_no_empty_sites, fus_lines_order, fus_custom_palette, y='site_cell_count_sum', \n",
    "                title='Cell Count Average per Site (from tiles)')\n",
    "\n",
    "plot_cell_count(df_no_empty_sites, fus_lines_order, fus_custom_palette, y='site_whole_cells_counts_sum',\n",
    "                title='Whole Cell Count Average per Site')\n",
    "\n",
    "plot_cell_count(df_no_empty_sites, fus_lines_order, fus_custom_palette, y='site_cell_count',\n",
    "               title='Cellpose Cell Count Average per Site')"
   ]
  },
  {
   "cell_type": "markdown",
   "id": "3c5d41d1",
   "metadata": {},
   "source": [
    "\n",
    "# <font color='blue'>number of valid tiles per image (site)</font>\n"
   ]
  },
  {
   "cell_type": "code",
   "execution_count": null,
   "id": "eeb6f0d9",
   "metadata": {},
   "outputs": [],
   "source": [
    "plot_catplot(df_dapi, fus_custom_palette,reps, x='n_valid_tiles', x_title='valid tiles count', batch_min=1, batch_max=1)"
   ]
  },
  {
   "cell_type": "markdown",
   "id": "0d81ccdd",
   "metadata": {},
   "source": [
    "\n",
    "## <font color='purple'>Heatmap QC per batch, panel and cell line(tiles that passed QC condition)  </font>\n"
   ]
  },
  {
   "cell_type": "code",
   "execution_count": null,
   "id": "ea0f2dc3",
   "metadata": {
    "scrolled": true,
    "tags": []
   },
   "outputs": [],
   "source": [
    "plot_hm(df_dapi, split_by='rep', rows='cell_line_cond', columns='panel')"
   ]
  },
  {
   "cell_type": "markdown",
   "id": "0d1751b9",
   "metadata": {},
   "source": [
    "# Assessing Staining Reproducibility and Outliers"
   ]
  },
  {
   "cell_type": "code",
   "execution_count": null,
   "id": "d974e31a",
   "metadata": {
    "scrolled": true
   },
   "outputs": [],
   "source": [
    "for batch in batches:\n",
    "    print(batch)\n",
    "    #batch_num = batch.replace('batch',\"\")\n",
    "    run_calc_hist_new(f'FUS_lines_stress_2024_sorted/{batch}', fus_cell_lines_for_disp, fus_markers, \n",
    "                           hist_sample=10,sample_size_per_markers=200, ncols=8, nrows=4, dnls=True)\n",
    "    print(\"=\"*30)"
   ]
  },
  {
   "cell_type": "code",
   "execution_count": null,
   "id": "2eaf3bdd",
   "metadata": {},
   "outputs": [],
   "source": [
    "# save notebook as HTML ( the HTML will be saved in the same folder the original script is)\n",
    "from IPython.display import display, Javascript\n",
    "display(Javascript('IPython.notebook.save_checkpoint();'))\n",
    "os.system('jupyter nbconvert --to html src/preprocessing/notebooks/no_ds/qc_report_newPP_dNLS.ipynb')"
   ]
  },
  {
   "cell_type": "code",
   "execution_count": null,
   "id": "e2a802bd-fdb8-4783-abf9-03b545a69789",
   "metadata": {},
   "outputs": [],
   "source": []
  }
 ],
 "metadata": {
  "kernelspec": {
   "display_name": "Python 3 (ipykernel)",
   "language": "python",
   "name": "python3"
  },
  "language_info": {
   "codemirror_mode": {
    "name": "ipython",
    "version": 3
   },
   "file_extension": ".py",
   "mimetype": "text/x-python",
   "name": "python",
   "nbconvert_exporter": "python",
   "pygments_lexer": "ipython3",
   "version": "3.7.11"
  }
 },
 "nbformat": 4,
 "nbformat_minor": 5
}
