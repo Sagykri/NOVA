{
 "cells": [
  {
   "cell_type": "markdown",
   "id": "d757d25b",
   "metadata": {},
   "source": [
    "# <font color=\"red\"> CellProfiler: Quantification of cytoplasmic/nuc TDP43 -/+DOX across all batches</font>\n",
    "\n",
    "JIRA task: NN-88: "
   ]
  },
  {
   "cell_type": "markdown",
   "id": "8a4456a1",
   "metadata": {},
   "source": [
    "Why Linear Mixed-Effects Models (LMMs)?\n",
    "Your experimental structure involves:\n",
    "\n",
    "- Two groups: dNLS_Untreated vs dNLS_DOX\n",
    "\n",
    "- 5 batches per group\n",
    "\n",
    "- Measurements per site image (the dependent variable), 50–250 site images per batch (i.e., image-level measurements)\n",
    "\n",
    "\n",
    "- Random variation across batches random intercept per batch (i.e., variation across batches)\n",
    "\n",
    "This design includes both fixed effects (groups) and random effects (batches)\n",
    "Estimate how dNLS_DOX affects each CellProfiler feature vs dNLS_Untreated, accounting for batch effects (inter-batch variation)."
   ]
  },
  {
   "cell_type": "code",
   "execution_count": 1,
   "id": "c9a94359",
   "metadata": {},
   "outputs": [
    {
     "name": "stdout",
     "output_type": "stream",
     "text": [
      "NOVA_HOME is at /home/projects/hornsteinlab/Collaboration/NOVA/\n"
     ]
    }
   ],
   "source": [
    "from pathlib import Path\n",
    "import glob\n",
    "import sys\n",
    "import os\n",
    "\n",
    "\n",
    "os.environ['NOVA_HOME'] = '/home/projects/hornsteinlab/Collaboration/NOVA/'\n",
    "os.environ['NOVA_DATA_HOME'] = f\"{os.environ['NOVA_HOME']}/input\"\n",
    "print('NOVA_HOME is at', os.getenv('NOVA_HOME'))\n",
    "sys.path.insert(1, os.getenv('NOVA_HOME'))\n",
    "\n",
    "\n",
    "import numpy as np\n",
    "import pandas as pd\n",
    "import seaborn as sns\n",
    "from markdown import markdown\n",
    "import matplotlib.pyplot as plt\n",
    "import matplotlib.patches as mpatches\n",
    "\n",
    "from cell_profiler.code.cp_effect_size_utils import CP_OUTPUTS_FOLDER, validate_cp_files, extract_path_parts, merge_on_group, collect_cp_results_by_cell_line, load_cp_results, get_features_per_image, get_aggregated_features_per_image, get_aggregated_features_per_image, run_analysis_generate_report, print_mixedlm_conclusions, plot_cp_feature_grouped_by_gene\n",
    "from manuscript.plot_config import PlotConfig\n",
    "\n",
    "%load_ext autoreload    \n",
    "%autoreload 2"
   ]
  },
  {
   "cell_type": "markdown",
   "id": "95790515",
   "metadata": {},
   "source": [
    "# New dNLS dataset"
   ]
  },
  {
   "cell_type": "code",
   "execution_count": 3,
   "id": "d655f20c",
   "metadata": {},
   "outputs": [],
   "source": [
    "ANALYSIS_TYPE = 'TDP_localization/dNLS_cyto_TDP43'\n",
    "\n",
    "BATCHES = ['batch1', 'batch2', 'batch4', 'batch5', 'batch6']\n",
    "\n",
    "# Save figures here\n",
    "save_path = '/home/projects/hornsteinlab/Collaboration/NOVA/outputs/vit_models/finetunedModel_MLPHead_acrossBatches_B56789_80pct_frozen/figures/dNLS/cell_profiler/TDP_localization/dNLS_cyto_TDP43'\n",
    "\n",
    "# Font\n",
    "FONT_PATH = '/home/projects/hornsteinlab/sagyk/anaconda3/envs/nova/fonts/arial.ttf'\n",
    "from matplotlib import font_manager as fm\n",
    "import matplotlib\n",
    "fm.fontManager.addfont(FONT_PATH)\n",
    "matplotlib.rcParams['font.family'] = 'Arial'\n",
    "\n",
    "plt.rcParams.update({\n",
    "    'font.family': 'Arial',\n",
    "    'font.size': 6\n",
    "})"
   ]
  },
  {
   "cell_type": "code",
   "execution_count": 4,
   "id": "46be1575",
   "metadata": {},
   "outputs": [],
   "source": [
    "group_by_columns = ['ImageNumber', 'batch', 'rep', 'cell_line', 'condition']\n",
    "cp_measures_cols = [\"Math_TDP43_cyto_over_nuc\"]"
   ]
  },
  {
   "cell_type": "code",
   "execution_count": 5,
   "id": "e92e1050",
   "metadata": {
    "scrolled": true
   },
   "outputs": [
    {
     "name": "stdout",
     "output_type": "stream",
     "text": [
      "/home/projects/hornsteinlab/Collaboration/NOVA/cell_profiler/outputs/cell_profiler_RUNS/Final_cp_analysis/TDP_localization/dNLS_cyto_TDP43/batch5/WT/panelI/Untreated/rep1/TDP43 (250, 306)\n",
      "/home/projects/hornsteinlab/Collaboration/NOVA/cell_profiler/outputs/cell_profiler_RUNS/Final_cp_analysis/TDP_localization/dNLS_cyto_TDP43/batch5/WT/panelI/Untreated/rep2/TDP43 (249, 306)\n",
      "/home/projects/hornsteinlab/Collaboration/NOVA/cell_profiler/outputs/cell_profiler_RUNS/Final_cp_analysis/TDP_localization/dNLS_cyto_TDP43/batch5/dNLS/panelI/Untreated/rep3/TDP43 (250, 306)\n",
      "/home/projects/hornsteinlab/Collaboration/NOVA/cell_profiler/outputs/cell_profiler_RUNS/Final_cp_analysis/TDP_localization/dNLS_cyto_TDP43/batch5/dNLS/panelI/Untreated/rep1/TDP43 (250, 306)\n",
      "/home/projects/hornsteinlab/Collaboration/NOVA/cell_profiler/outputs/cell_profiler_RUNS/Final_cp_analysis/TDP_localization/dNLS_cyto_TDP43/batch5/dNLS/panelI/Untreated/rep2/TDP43 (245, 306)\n",
      "/home/projects/hornsteinlab/Collaboration/NOVA/cell_profiler/outputs/cell_profiler_RUNS/Final_cp_analysis/TDP_localization/dNLS_cyto_TDP43/batch5/dNLS/panelI/DOX/rep3/TDP43 (250, 306)\n",
      "/home/projects/hornsteinlab/Collaboration/NOVA/cell_profiler/outputs/cell_profiler_RUNS/Final_cp_analysis/TDP_localization/dNLS_cyto_TDP43/batch5/dNLS/panelI/DOX/rep1/TDP43 (242, 306)\n",
      "/home/projects/hornsteinlab/Collaboration/NOVA/cell_profiler/outputs/cell_profiler_RUNS/Final_cp_analysis/TDP_localization/dNLS_cyto_TDP43/batch5/dNLS/panelI/DOX/rep2/TDP43 (245, 306)\n",
      "/home/projects/hornsteinlab/Collaboration/NOVA/cell_profiler/outputs/cell_profiler_RUNS/Final_cp_analysis/TDP_localization/dNLS_cyto_TDP43/batch6/WT/panelI/Untreated/rep1/TDP43 (87, 306)\n",
      "/home/projects/hornsteinlab/Collaboration/NOVA/cell_profiler/outputs/cell_profiler_RUNS/Final_cp_analysis/TDP_localization/dNLS_cyto_TDP43/batch6/WT/panelI/Untreated/rep2/TDP43 (48, 306)\n",
      "/home/projects/hornsteinlab/Collaboration/NOVA/cell_profiler/outputs/cell_profiler_RUNS/Final_cp_analysis/TDP_localization/dNLS_cyto_TDP43/batch6/dNLS/panelI/Untreated/rep3/TDP43 (77, 306)\n",
      "/home/projects/hornsteinlab/Collaboration/NOVA/cell_profiler/outputs/cell_profiler_RUNS/Final_cp_analysis/TDP_localization/dNLS_cyto_TDP43/batch6/dNLS/panelI/Untreated/rep1/TDP43 (90, 306)\n",
      "/home/projects/hornsteinlab/Collaboration/NOVA/cell_profiler/outputs/cell_profiler_RUNS/Final_cp_analysis/TDP_localization/dNLS_cyto_TDP43/batch6/dNLS/panelI/Untreated/rep2/TDP43 (132, 306)\n",
      "/home/projects/hornsteinlab/Collaboration/NOVA/cell_profiler/outputs/cell_profiler_RUNS/Final_cp_analysis/TDP_localization/dNLS_cyto_TDP43/batch6/dNLS/panelI/DOX/rep3/TDP43 (173, 306)\n",
      "/home/projects/hornsteinlab/Collaboration/NOVA/cell_profiler/outputs/cell_profiler_RUNS/Final_cp_analysis/TDP_localization/dNLS_cyto_TDP43/batch6/dNLS/panelI/DOX/rep1/TDP43 (176, 306)\n",
      "/home/projects/hornsteinlab/Collaboration/NOVA/cell_profiler/outputs/cell_profiler_RUNS/Final_cp_analysis/TDP_localization/dNLS_cyto_TDP43/batch6/dNLS/panelI/DOX/rep2/TDP43 (144, 306)\n",
      "/home/projects/hornsteinlab/Collaboration/NOVA/cell_profiler/outputs/cell_profiler_RUNS/Final_cp_analysis/TDP_localization/dNLS_cyto_TDP43/batch2/WT/panelI/Untreated/rep1/TDP43 (169, 306)\n",
      "/home/projects/hornsteinlab/Collaboration/NOVA/cell_profiler/outputs/cell_profiler_RUNS/Final_cp_analysis/TDP_localization/dNLS_cyto_TDP43/batch2/WT/panelI/Untreated/rep2/TDP43 (186, 306)\n",
      "/home/projects/hornsteinlab/Collaboration/NOVA/cell_profiler/outputs/cell_profiler_RUNS/Final_cp_analysis/TDP_localization/dNLS_cyto_TDP43/batch2/dNLS/panelI/Untreated/rep3/TDP43 (94, 306)\n",
      "/home/projects/hornsteinlab/Collaboration/NOVA/cell_profiler/outputs/cell_profiler_RUNS/Final_cp_analysis/TDP_localization/dNLS_cyto_TDP43/batch2/dNLS/panelI/Untreated/rep1/TDP43 (89, 306)\n",
      "/home/projects/hornsteinlab/Collaboration/NOVA/cell_profiler/outputs/cell_profiler_RUNS/Final_cp_analysis/TDP_localization/dNLS_cyto_TDP43/batch2/dNLS/panelI/Untreated/rep2/TDP43 (143, 306)\n",
      "/home/projects/hornsteinlab/Collaboration/NOVA/cell_profiler/outputs/cell_profiler_RUNS/Final_cp_analysis/TDP_localization/dNLS_cyto_TDP43/batch2/dNLS/panelI/DOX/rep3/TDP43 (224, 306)\n",
      "/home/projects/hornsteinlab/Collaboration/NOVA/cell_profiler/outputs/cell_profiler_RUNS/Final_cp_analysis/TDP_localization/dNLS_cyto_TDP43/batch2/dNLS/panelI/DOX/rep1/TDP43 (218, 306)\n",
      "/home/projects/hornsteinlab/Collaboration/NOVA/cell_profiler/outputs/cell_profiler_RUNS/Final_cp_analysis/TDP_localization/dNLS_cyto_TDP43/batch2/dNLS/panelI/DOX/rep2/TDP43 (158, 306)\n",
      "/home/projects/hornsteinlab/Collaboration/NOVA/cell_profiler/outputs/cell_profiler_RUNS/Final_cp_analysis/TDP_localization/dNLS_cyto_TDP43/batch4/WT/panelI/Untreated/rep1/TDP43 (250, 306)\n",
      "/home/projects/hornsteinlab/Collaboration/NOVA/cell_profiler/outputs/cell_profiler_RUNS/Final_cp_analysis/TDP_localization/dNLS_cyto_TDP43/batch4/WT/panelI/Untreated/rep2/TDP43 (202, 306)\n",
      "/home/projects/hornsteinlab/Collaboration/NOVA/cell_profiler/outputs/cell_profiler_RUNS/Final_cp_analysis/TDP_localization/dNLS_cyto_TDP43/batch4/dNLS/panelI/Untreated/rep3/TDP43 (172, 306)\n",
      "/home/projects/hornsteinlab/Collaboration/NOVA/cell_profiler/outputs/cell_profiler_RUNS/Final_cp_analysis/TDP_localization/dNLS_cyto_TDP43/batch4/dNLS/panelI/Untreated/rep1/TDP43 (216, 306)\n",
      "/home/projects/hornsteinlab/Collaboration/NOVA/cell_profiler/outputs/cell_profiler_RUNS/Final_cp_analysis/TDP_localization/dNLS_cyto_TDP43/batch4/dNLS/panelI/Untreated/rep2/TDP43 (250, 306)\n",
      "/home/projects/hornsteinlab/Collaboration/NOVA/cell_profiler/outputs/cell_profiler_RUNS/Final_cp_analysis/TDP_localization/dNLS_cyto_TDP43/batch4/dNLS/panelI/DOX/rep3/TDP43 (250, 306)\n",
      "/home/projects/hornsteinlab/Collaboration/NOVA/cell_profiler/outputs/cell_profiler_RUNS/Final_cp_analysis/TDP_localization/dNLS_cyto_TDP43/batch4/dNLS/panelI/DOX/rep1/TDP43 (250, 306)\n",
      "/home/projects/hornsteinlab/Collaboration/NOVA/cell_profiler/outputs/cell_profiler_RUNS/Final_cp_analysis/TDP_localization/dNLS_cyto_TDP43/batch4/dNLS/panelI/DOX/rep2/TDP43 (230, 306)\n",
      "/home/projects/hornsteinlab/Collaboration/NOVA/cell_profiler/outputs/cell_profiler_RUNS/Final_cp_analysis/TDP_localization/dNLS_cyto_TDP43/batch1/WT/panelI/Untreated/rep1/TDP43 (236, 306)\n",
      "/home/projects/hornsteinlab/Collaboration/NOVA/cell_profiler/outputs/cell_profiler_RUNS/Final_cp_analysis/TDP_localization/dNLS_cyto_TDP43/batch1/WT/panelI/Untreated/rep2/TDP43 (227, 306)\n",
      "/home/projects/hornsteinlab/Collaboration/NOVA/cell_profiler/outputs/cell_profiler_RUNS/Final_cp_analysis/TDP_localization/dNLS_cyto_TDP43/batch1/dNLS/panelI/Untreated/rep3/TDP43 (56, 306)\n",
      "/home/projects/hornsteinlab/Collaboration/NOVA/cell_profiler/outputs/cell_profiler_RUNS/Final_cp_analysis/TDP_localization/dNLS_cyto_TDP43/batch1/dNLS/panelI/Untreated/rep1/TDP43 (86, 306)\n",
      "/home/projects/hornsteinlab/Collaboration/NOVA/cell_profiler/outputs/cell_profiler_RUNS/Final_cp_analysis/TDP_localization/dNLS_cyto_TDP43/batch1/dNLS/panelI/Untreated/rep2/TDP43 (222, 306)\n",
      "/home/projects/hornsteinlab/Collaboration/NOVA/cell_profiler/outputs/cell_profiler_RUNS/Final_cp_analysis/TDP_localization/dNLS_cyto_TDP43/batch1/dNLS/panelI/DOX/rep3/TDP43 (218, 306)\n",
      "/home/projects/hornsteinlab/Collaboration/NOVA/cell_profiler/outputs/cell_profiler_RUNS/Final_cp_analysis/TDP_localization/dNLS_cyto_TDP43/batch1/dNLS/panelI/DOX/rep1/TDP43 (148, 306)\n",
      "/home/projects/hornsteinlab/Collaboration/NOVA/cell_profiler/outputs/cell_profiler_RUNS/Final_cp_analysis/TDP_localization/dNLS_cyto_TDP43/batch1/dNLS/panelI/DOX/rep2/TDP43 (120, 306)\n"
     ]
    }
   ],
   "source": [
    "# Test CP outputs (number of images)\n",
    "if True:\n",
    "    pattern = os.path.join(CP_OUTPUTS_FOLDER, ANALYSIS_TYPE, '*', '*', '*', '*', '*', '*')\n",
    "    # store marker folders by cell line\n",
    "    for marker_path in glob.glob(pattern):\n",
    "        if os.path.isdir(marker_path):\n",
    "            try:\n",
    "                image_df = pd.read_csv(marker_path +'/Image.csv')\n",
    "                print(marker_path, image_df.shape)\n",
    "                #print(image_df[['Count_Pbodies', 'Count_nucleus']].head(10))\n",
    "\n",
    "                # parts_df = image_df['URL_DAPI'].apply(extract_path_parts)\n",
    "                # print(marker_path, parts_df['rep'].unique(), parts_df['cell_line'].unique())\n",
    "\n",
    "                marker = os.path.basename(marker_path)    \n",
    "                cell_line = Path(marker_path).resolve().parents[3].name\n",
    "            except FileNotFoundError as e:\n",
    "                print(\"!!!!\")\n",
    "                print(e)\n",
    "        else:\n",
    "            print(f\"Not a marker folder directory:{marker_path}\")\n"
   ]
  },
  {
   "cell_type": "markdown",
   "id": "570bcf2a",
   "metadata": {},
   "source": [
    "## Collect CP files by \"cell_line\" (paths_by_cell_line[cell_line]) and Load CP data"
   ]
  },
  {
   "cell_type": "code",
   "execution_count": 6,
   "id": "f666b5e1",
   "metadata": {},
   "outputs": [],
   "source": [
    "\n",
    "# Get the calculated features from all CP output files\n",
    "paths_by_cell_line = collect_cp_results_by_cell_line(ANALYSIS_TYPE, include_condition=False, validate=False)\n"
   ]
  },
  {
   "cell_type": "code",
   "execution_count": 7,
   "id": "2e0e833b",
   "metadata": {},
   "outputs": [
    {
     "name": "stdout",
     "output_type": "stream",
     "text": [
      "number of subjects from cell line WT: 10\n",
      "number of subjects from cell line dNLS: 30\n"
     ]
    }
   ],
   "source": [
    "# Load CP data\n",
    "cp_data = load_cp_results(paths_by_cell_line, REQUIRED_FILES=['Cytoplasm.csv'])\n"
   ]
  },
  {
   "cell_type": "code",
   "execution_count": 8,
   "id": "5b238c54",
   "metadata": {},
   "outputs": [
    {
     "name": "stdout",
     "output_type": "stream",
     "text": [
      "Shape after merging is: (7203, 6)\n"
     ]
    }
   ],
   "source": [
    "# Get the calculated features from CP output files\n",
    "\n",
    "dfs = []\n",
    "for cell_line in cp_data:\n",
    "\n",
    "    # 'Cytoplasm.csv'\n",
    "    pb_cyto_site_means = get_aggregated_features_per_image(\n",
    "        cp_file_name='Cytoplasm.csv', \n",
    "        measurement_cols=cp_measures_cols, \n",
    "        cp_data=cp_data, \n",
    "        cell_line=cell_line, \n",
    "        group_by_columns=group_by_columns, \n",
    "        agg_function=np.mean\n",
    "     )\n",
    "    \n",
    "    dfs.append(pb_cyto_site_means)\n",
    "\n",
    "cp_measurements = pd.concat(dfs, ignore_index=True)\n",
    "print(\"Shape after merging is:\", cp_measurements.shape)        \n"
   ]
  },
  {
   "cell_type": "markdown",
   "id": "caa58df3",
   "metadata": {},
   "source": [
    "# Remove batch 3, remove WT, add new variable \"group\""
   ]
  },
  {
   "cell_type": "code",
   "execution_count": 9,
   "id": "8c33494c",
   "metadata": {},
   "outputs": [
    {
     "name": "stdout",
     "output_type": "stream",
     "text": [
      "(5321, 7)\n"
     ]
    }
   ],
   "source": [
    "# Remove batch 3\n",
    "cp_measurements = cp_measurements[cp_measurements['batch'].isin(BATCHES)]\n",
    "\n",
    "# Add group\n",
    "cp_measurements['group'] = cp_measurements['cell_line']+\"_\"+cp_measurements['condition']\n",
    "\n",
    "# Fiilter by lines\n",
    "lines_to_include = [\"dNLS_Untreated\", \"dNLS_DOX\"]\n",
    "cp_measurements = cp_measurements[cp_measurements['group'].isin(lines_to_include)]\n",
    "print(cp_measurements.shape)\n",
    "\n",
    "# Important to put the reference group first in order for mixedlm() - has to be Categorical!\n",
    "cp_measurements[\"group\"] = pd.Categorical(\n",
    "    cp_measurements[\"group\"],\n",
    "    categories=lines_to_include,\n",
    "    ordered=True\n",
    ")\n"
   ]
  },
  {
   "cell_type": "code",
   "execution_count": 10,
   "id": "d539b8c5",
   "metadata": {},
   "outputs": [
    {
     "data": {
      "text/plain": [
       "batch   group         \n",
       "batch5  dNLS_Untreated    745\n",
       "        dNLS_DOX          736\n",
       "batch4  dNLS_DOX          728\n",
       "        dNLS_Untreated    625\n",
       "batch2  dNLS_DOX          586\n",
       "batch6  dNLS_DOX          477\n",
       "batch1  dNLS_DOX          476\n",
       "        dNLS_Untreated    353\n",
       "batch2  dNLS_Untreated    311\n",
       "batch6  dNLS_Untreated    284\n",
       "Name: count, dtype: int64"
      ]
     },
     "execution_count": 10,
     "metadata": {},
     "output_type": "execute_result"
    }
   ],
   "source": [
    "cp_measurements[['batch', 'group']].value_counts()\n"
   ]
  },
  {
   "cell_type": "code",
   "execution_count": 11,
   "id": "be6b0f4e",
   "metadata": {},
   "outputs": [
    {
     "data": {
      "text/plain": [
       "batch \n",
       "batch5    1481\n",
       "batch4    1353\n",
       "batch2     897\n",
       "batch1     829\n",
       "batch6     761\n",
       "Name: count, dtype: int64"
      ]
     },
     "execution_count": 11,
     "metadata": {},
     "output_type": "execute_result"
    }
   ],
   "source": [
    "cp_measurements[['batch']].value_counts()"
   ]
  },
  {
   "cell_type": "code",
   "execution_count": 12,
   "id": "e874460d",
   "metadata": {},
   "outputs": [
    {
     "data": {
      "text/plain": [
       "group         \n",
       "dNLS_DOX          3003\n",
       "dNLS_Untreated    2318\n",
       "Name: count, dtype: int64"
      ]
     },
     "execution_count": 12,
     "metadata": {},
     "output_type": "execute_result"
    }
   ],
   "source": [
    "cp_measurements[['group']].value_counts()"
   ]
  },
  {
   "cell_type": "markdown",
   "id": "11eac037",
   "metadata": {},
   "source": [
    "# Effect size modeling\n",
    "\n",
    "The terms in the formula:\n",
    "- measurement: The CellProfiler feature (e.g., mean number of p-bodies).\n",
    "- gene_group: A fixed effect to test differences between WT, C9, +sALS, -sALS.\n",
    "- rep: Random intercept for each patient, accounting for intra-patient correlation across site images.\n",
    "\n",
    "What This Model Gives You:\n",
    "- Estimates of group differences: WT vs other groups, with significance testing.\n",
    "\n",
    "- Within-patient variability: Captures how consistent measurements are across images for a given patient.\n",
    "\n",
    "- Between-patient variability: Tests whether observed effects are reproducible across patients.\n",
    "\n",
    "- P-values or confidence intervals: For significance of gene group effects.\n",
    "\n"
   ]
  },
  {
   "cell_type": "code",
   "execution_count": 13,
   "id": "978e682d",
   "metadata": {},
   "outputs": [
    {
     "data": {
      "text/html": [
       "<div>\n",
       "<style scoped>\n",
       "    .dataframe tbody tr th:only-of-type {\n",
       "        vertical-align: middle;\n",
       "    }\n",
       "\n",
       "    .dataframe tbody tr th {\n",
       "        vertical-align: top;\n",
       "    }\n",
       "\n",
       "    .dataframe thead tr th {\n",
       "        text-align: left;\n",
       "    }\n",
       "\n",
       "    .dataframe thead tr:last-of-type th {\n",
       "        text-align: right;\n",
       "    }\n",
       "</style>\n",
       "<table border=\"1\" class=\"dataframe\">\n",
       "  <thead>\n",
       "    <tr>\n",
       "      <th></th>\n",
       "      <th colspan=\"8\" halign=\"left\">mean_Math_TDP43_cyto_over_nuc</th>\n",
       "    </tr>\n",
       "    <tr>\n",
       "      <th></th>\n",
       "      <th>count</th>\n",
       "      <th>mean</th>\n",
       "      <th>std</th>\n",
       "      <th>min</th>\n",
       "      <th>25%</th>\n",
       "      <th>50%</th>\n",
       "      <th>75%</th>\n",
       "      <th>max</th>\n",
       "    </tr>\n",
       "    <tr>\n",
       "      <th>group</th>\n",
       "      <th></th>\n",
       "      <th></th>\n",
       "      <th></th>\n",
       "      <th></th>\n",
       "      <th></th>\n",
       "      <th></th>\n",
       "      <th></th>\n",
       "      <th></th>\n",
       "    </tr>\n",
       "  </thead>\n",
       "  <tbody>\n",
       "    <tr>\n",
       "      <th>dNLS_Untreated</th>\n",
       "      <td>2318.0</td>\n",
       "      <td>0.178180</td>\n",
       "      <td>0.115538</td>\n",
       "      <td>0.010979</td>\n",
       "      <td>0.083957</td>\n",
       "      <td>0.166788</td>\n",
       "      <td>0.246894</td>\n",
       "      <td>1.797804</td>\n",
       "    </tr>\n",
       "    <tr>\n",
       "      <th>dNLS_DOX</th>\n",
       "      <td>3003.0</td>\n",
       "      <td>0.709998</td>\n",
       "      <td>0.350533</td>\n",
       "      <td>0.014058</td>\n",
       "      <td>0.453639</td>\n",
       "      <td>0.716769</td>\n",
       "      <td>0.943910</td>\n",
       "      <td>3.331670</td>\n",
       "    </tr>\n",
       "  </tbody>\n",
       "</table>\n",
       "</div>"
      ],
      "text/plain": [
       "               mean_Math_TDP43_cyto_over_nuc                                \\\n",
       "                                       count      mean       std       min   \n",
       "group                                                                        \n",
       "dNLS_Untreated                        2318.0  0.178180  0.115538  0.010979   \n",
       "dNLS_DOX                              3003.0  0.709998  0.350533  0.014058   \n",
       "\n",
       "                                                        \n",
       "                     25%       50%       75%       max  \n",
       "group                                                   \n",
       "dNLS_Untreated  0.083957  0.166788  0.246894  1.797804  \n",
       "dNLS_DOX        0.453639  0.716769  0.943910  3.331670  "
      ]
     },
     "execution_count": 13,
     "metadata": {},
     "output_type": "execute_result"
    }
   ],
   "source": [
    "\n",
    "cp_measurements[['group', 'mean_Math_TDP43_cyto_over_nuc']].groupby('group', observed=False).describe()"
   ]
  },
  {
   "cell_type": "code",
   "execution_count": 14,
   "id": "f7db6dcf",
   "metadata": {},
   "outputs": [
    {
     "name": "stdout",
     "output_type": "stream",
     "text": [
      "\n",
      "\n",
      "\n",
      "Analysing CP feature: mean_Math_TDP43_cyto_over_nuc\n",
      "⚠️ Warning during model fit for feature mean_Math_TDP43_cyto_over_nuc: UserWarning: Random effects covariance is singular\n",
      "⚠️ Warning during model fit for feature mean_Math_TDP43_cyto_over_nuc: UserWarning: The random effects covariance matrix is singular.\n",
      "⚠️ Warning during model fit for feature mean_Math_TDP43_cyto_over_nuc: ConvergenceWarning: The MLE may be on the boundary of the parameter space.\n",
      "⚠️ Warning during model fit for feature mean_Math_TDP43_cyto_over_nuc: UserWarning: The random effects covariance matrix is singular.\n",
      "⚠️ Warning during model fit for feature mean_Math_TDP43_cyto_over_nuc: ConvergenceWarning: The Hessian matrix at the estimated parameter values is not positive definite.\n",
      "❌ Random effect variance is near zero. — Unable to fit random intercept (e.g., low variance or convergence issue)\n",
      "⚠️ Fallback to fixed-effects model for feature: mean_Math_TDP43_cyto_over_nuc\n",
      "                            OLS Regression Results                            \n",
      "==============================================================================\n",
      "Dep. Variable:          feature_value   R-squared:                       0.538\n",
      "Model:                            OLS   Adj. R-squared:                  0.537\n",
      "Method:                 Least Squares   F-statistic:                     1236.\n",
      "Date:                Mon, 06 Oct 2025   Prob (F-statistic):               0.00\n",
      "Time:                        18:29:31   Log-Likelihood:                -354.51\n",
      "No. Observations:                5321   AIC:                             721.0\n",
      "Df Residuals:                    5315   BIC:                             760.5\n",
      "Df Model:                           5                                         \n",
      "Covariance Type:            nonrobust                                         \n",
      "========================================================================================\n",
      "                           coef    std err          t      P>|t|      [0.025      0.975]\n",
      "----------------------------------------------------------------------------------------\n",
      "Intercept                0.0642      0.010      6.492      0.000       0.045       0.084\n",
      "C(group)[T.dNLS_DOX]     0.5508      0.007     76.459      0.000       0.537       0.565\n",
      "C(batch)[T.batch2]      -0.0269      0.012     -2.156      0.031      -0.051      -0.002\n",
      "C(batch)[T.batch4]       0.1626      0.011     14.243      0.000       0.140       0.185\n",
      "C(batch)[T.batch5]       0.2028      0.011     18.040      0.000       0.181       0.225\n",
      "C(batch)[T.batch6]       0.0698      0.013      5.368      0.000       0.044       0.095\n",
      "==============================================================================\n",
      "Omnibus:                     1253.909   Durbin-Watson:                   1.980\n",
      "Prob(Omnibus):                  0.000   Jarque-Bera (JB):             8465.189\n",
      "Skew:                           0.954   Prob(JB):                         0.00\n",
      "Kurtosis:                       8.877   Cond. No.                         7.58\n",
      "==============================================================================\n",
      "\n",
      "Notes:\n",
      "[1] Standard Errors assume that the covariance matrix of the errors is correctly specified.\n",
      "\n",
      "### Fixed Effects: Gene Group Differences from Ctrl\n",
      "- Ctrl: estimated average = 0.06\n",
      "- dNLS_DOX: +0.55082 units vs Ctrl (p = 0.00000, 95% CI: [0.53670, 0.56494]) → ✔️ Significant\n",
      "\n",
      "### Random Effects (Batch-level / Intra-patient variability)\n",
      "- ℹ️ Model did not include random effects (fixed-effects fallback used).\n",
      "\n",
      "\n",
      "Saving all results to: /home/projects/hornsteinlab/Collaboration/NOVA/cell_profiler/outputs/cell_profiler_RUNS/Final_cp_analysis/TDP_localization/dNLS_cyto_TDP43/mixed_effect_report/mixedlm_results.csv\n"
     ]
    },
    {
     "name": "stderr",
     "output_type": "stream",
     "text": [
      "/home/projects/hornsteinlab/Collaboration/NOVA/cell_profiler/code/cp_effect_size_utils.py:437: SettingWithCopyWarning: \n",
      "A value is trying to be set on a copy of a slice from a DataFrame.\n",
      "Try using .loc[row_indexer,col_indexer] = value instead\n",
      "\n",
      "See the caveats in the documentation: https://pandas.pydata.org/pandas-docs/stable/user_guide/indexing.html#returning-a-view-versus-a-copy\n",
      "  _, results_df_wo_intercept[\"fdr_pval_global\"], _, _ = multipletests(results_df_wo_intercept[\"pval\"], method=\"fdr_bh\")\n"
     ]
    },
    {
     "data": {
      "text/html": [
       "<div>\n",
       "<style scoped>\n",
       "    .dataframe tbody tr th:only-of-type {\n",
       "        vertical-align: middle;\n",
       "    }\n",
       "\n",
       "    .dataframe tbody tr th {\n",
       "        vertical-align: top;\n",
       "    }\n",
       "\n",
       "    .dataframe thead th {\n",
       "        text-align: right;\n",
       "    }\n",
       "</style>\n",
       "<table border=\"1\" class=\"dataframe\">\n",
       "  <thead>\n",
       "    <tr style=\"text-align: right;\">\n",
       "      <th></th>\n",
       "      <th>feature</th>\n",
       "      <th>comparison</th>\n",
       "      <th>effect_size</th>\n",
       "      <th>pval</th>\n",
       "      <th>ci_lower</th>\n",
       "      <th>ci_upper</th>\n",
       "      <th>group_var</th>\n",
       "      <th>residual_var</th>\n",
       "      <th>significance</th>\n",
       "      <th>fit_status</th>\n",
       "      <th>used_fixed_model</th>\n",
       "      <th>aic</th>\n",
       "      <th>bic</th>\n",
       "      <th>loglik</th>\n",
       "      <th>r_squared</th>\n",
       "      <th>fdr_pval_global</th>\n",
       "    </tr>\n",
       "  </thead>\n",
       "  <tbody>\n",
       "    <tr>\n",
       "      <th>0</th>\n",
       "      <td>mean_Math_TDP43_cyto_over_nuc</td>\n",
       "      <td>Intercept</td>\n",
       "      <td>0.064233</td>\n",
       "      <td>9.244160e-11</td>\n",
       "      <td>0.044836</td>\n",
       "      <td>0.083629</td>\n",
       "      <td>NaN</td>\n",
       "      <td>0.066971</td>\n",
       "      <td>****</td>\n",
       "      <td>fallback_ols_fixed_batch</td>\n",
       "      <td>True</td>\n",
       "      <td>721.0193</td>\n",
       "      <td>760.495799</td>\n",
       "      <td>-354.50965</td>\n",
       "      <td>0.537604</td>\n",
       "      <td>NaN</td>\n",
       "    </tr>\n",
       "    <tr>\n",
       "      <th>1</th>\n",
       "      <td>mean_Math_TDP43_cyto_over_nuc</td>\n",
       "      <td>dNLS_DOX</td>\n",
       "      <td>0.550820</td>\n",
       "      <td>0.000000e+00</td>\n",
       "      <td>0.536697</td>\n",
       "      <td>0.564943</td>\n",
       "      <td>NaN</td>\n",
       "      <td>0.066971</td>\n",
       "      <td>****</td>\n",
       "      <td>fallback_ols_fixed_batch</td>\n",
       "      <td>True</td>\n",
       "      <td>721.0193</td>\n",
       "      <td>760.495799</td>\n",
       "      <td>-354.50965</td>\n",
       "      <td>0.537604</td>\n",
       "      <td>0.0</td>\n",
       "    </tr>\n",
       "  </tbody>\n",
       "</table>\n",
       "</div>"
      ],
      "text/plain": [
       "                         feature comparison  effect_size          pval  \\\n",
       "0  mean_Math_TDP43_cyto_over_nuc  Intercept     0.064233  9.244160e-11   \n",
       "1  mean_Math_TDP43_cyto_over_nuc   dNLS_DOX     0.550820  0.000000e+00   \n",
       "\n",
       "   ci_lower  ci_upper  group_var  residual_var significance  \\\n",
       "0  0.044836  0.083629        NaN      0.066971         ****   \n",
       "1  0.536697  0.564943        NaN      0.066971         ****   \n",
       "\n",
       "                 fit_status  used_fixed_model       aic         bic  \\\n",
       "0  fallback_ols_fixed_batch              True  721.0193  760.495799   \n",
       "1  fallback_ols_fixed_batch              True  721.0193  760.495799   \n",
       "\n",
       "      loglik  r_squared  fdr_pval_global  \n",
       "0 -354.50965   0.537604              NaN  \n",
       "1 -354.50965   0.537604              0.0  "
      ]
     },
     "execution_count": 14,
     "metadata": {},
     "output_type": "execute_result"
    }
   ],
   "source": [
    "# get the CellProfiler features you want to calculate effect for \n",
    "cp_features_columns = [col for col in cp_measurements.columns if col not in group_by_columns + ['group', 'batch']]\n",
    "\n",
    "results_df = run_analysis_generate_report(\n",
    "                                df=cp_measurements,\n",
    "                                feature_columns=cp_features_columns,\n",
    "                                group_col=\"group\",\n",
    "                                batch_col=\"batch\",\n",
    "                                output_dir=os.path.join(CP_OUTPUTS_FOLDER, ANALYSIS_TYPE, 'mixed_effect_report')\n",
    ")\n",
    "\n",
    "results_df\n"
   ]
  },
  {
   "cell_type": "code",
   "execution_count": null,
   "id": "8bbca5a2",
   "metadata": {},
   "outputs": [
    {
     "data": {
      "image/png": "[encoded data removed]",
      "text/plain": [
       "<Figure size 300x400 with 1 Axes>"
      ]
     },
     "metadata": {},
     "output_type": "display_data"
    }
   ],
   "source": [
    "\n",
    "def plot_cp_feature_grouped_by_gene(cp_measurements, cp_feature_col, group_col=\"gene_group\", patient_col=\"patient_id\", color_mapping=None, model_results_df=None):\n",
    "    \n",
    "    df = cp_measurements.copy()\n",
    "\n",
    "    # Define fixed color and label mapping for both group_col and patient_col\n",
    "    _palette = {}\n",
    "    groups = df[group_col].astype(str).unique().tolist() + df[patient_col].astype(str).unique().tolist()\n",
    "    for g in groups:\n",
    "        if g in color_mapping: _palette[color_mapping[g]['alias']] = color_mapping[g]['color']\n",
    "    if patient_col=='batch':\n",
    "        for b in df[patient_col].astype(str).unique().tolist():\n",
    "            _palette[b]='gray'\n",
    "\n",
    "    \n",
    "    # Rename groups to aliases\n",
    "    label_mapping = {k: v[\"alias\"] for k, v in color_mapping.items() if k in groups}\n",
    "    df[group_col] = df[group_col].cat.rename_categories(label_mapping)\n",
    "    df[patient_col] = df[patient_col].astype(\"category\").cat.rename_categories(label_mapping)\n",
    "    \n",
    "    # Determine group order and x-axis positions for each group (reversed for visual preference)\n",
    "    groups_order = sorted(df[group_col].unique(), reverse=True)\n",
    "    x_spacing = 0.4\n",
    "    x_pos_map = {label: i * x_spacing for i, label in enumerate(groups_order)}\n",
    "\n",
    "    \n",
    "    # Setup plot\n",
    "    sns.set(style=\"white\", font_scale=1.0)\n",
    "    fig, ax = plt.subplots(figsize=(3, 4))\n",
    "    line_width = 1\n",
    "\n",
    "    \n",
    "    # ============================\n",
    "    # Plot each group manually by numeric x\n",
    "    # ============================\n",
    "    for i, group in enumerate(groups_order):\n",
    "        \n",
    "        group_data = df[df[group_col] == group]\n",
    "        xpos = x_pos_map[group]\n",
    "        \n",
    "        # Boxplot for group\n",
    "        sns.boxplot(\n",
    "            data=group_data,\n",
    "            y=cp_feature_col,\n",
    "            ax=ax,\n",
    "            width=0.3,\n",
    "            linewidth=line_width,\n",
    "            showfliers=False,\n",
    "            showmeans=True,\n",
    "            meanline=True,\n",
    "            meanprops={\"linestyle\": \"-\", \"color\": \"black\", \"linewidth\": line_width },\n",
    "            boxprops=dict(facecolor='none', edgecolor='black', linewidth=line_width),\n",
    "            whiskerprops=dict(linewidth=line_width-0.3, color='black'),\n",
    "            capprops=dict(linewidth=line_width, color='black'),\n",
    "            medianprops=dict(visible=False),\n",
    "            positions=[x_pos_map[group]]\n",
    "        )\n",
    "\n",
    "        # ============================\n",
    "        # Full distribution: raw cell-level/image-level points (light gray)\n",
    "        # ============================ \n",
    "        ax.scatter(\n",
    "            x=np.random.normal(loc=x_pos_map[group], scale=0.05, size=len(group_data)),  # jitter\n",
    "            y=group_data[cp_feature_col],\n",
    "            color='lightgray',\n",
    "            s=2.5,\n",
    "            alpha=0.4,\n",
    "            zorder=1\n",
    "        )\n",
    "\n",
    "    # ============================\n",
    "    # Overlay per-batch means (means as colored points)\n",
    "    # ============================\n",
    "    batch_means = df.groupby([group_col, patient_col], observed=True)[cp_feature_col].mean().reset_index()\n",
    "\n",
    "    for _, row in batch_means.iterrows():\n",
    "        group = row[group_col]\n",
    "        batch = row[patient_col]\n",
    "        xpos = x_pos_map[group]\n",
    "        y = row[cp_feature_col]\n",
    "        jittered_x = np.random.normal(loc=xpos, scale=0.05)\n",
    "\n",
    "        ax.scatter(\n",
    "            x=jittered_x,\n",
    "            y=y,\n",
    "            color=_palette.get(group, 'black'),\n",
    "            edgecolor=None,\n",
    "            s=5,\n",
    "            zorder=3,\n",
    "            label=batch\n",
    "        )\n",
    "\n",
    "    # Deduplicate legend\n",
    "    handles, labels = ax.get_legend_handles_labels()\n",
    "    unique = dict(zip(labels, handles))\n",
    "    ax.legend(\n",
    "        unique.values(),\n",
    "        unique.keys(),\n",
    "        title=patient_col,\n",
    "        bbox_to_anchor=(1.02, 1),\n",
    "        loc=\"upper left\"\n",
    "    )\n",
    "\n",
    "    # Set axis formatting\n",
    "    ax.set_xlim(-x_spacing+0.1, max(x_pos_map.values()) + x_spacing - 0.1)\n",
    "    \n",
    "    ax.set_xticks(list(x_pos_map.values()))\n",
    "    ax.set_xticklabels(groups_order, rotation=45)\n",
    "    ax.set_ylabel('Cytoplasmic/nuclear \\nTDP-43 ratio')\n",
    "    ax.margins(x=0)\n",
    "    \n",
    "    # Ensure tick marks are shown on both axes\n",
    "    ax.tick_params(axis='both', which='both', direction='out',\n",
    "                   length=4, width=1, bottom=True, top=False, left=True, right=False)\n",
    "    \n",
    "\n",
    "    # ============================\n",
    "    # P-value annotation LMM\n",
    "    # ============================\n",
    "    stat = model_results_df[model_results_df['comparison'] == 'dNLS_DOX']\n",
    "    p = float(stat['pval'].iloc[0])\n",
    "\n",
    "    #ci_low = float(stat['ci_lower'].values[0])\n",
    "    #ci_high = float(stat['ci_upper'].values[0])\n",
    "    #txt = f\"(p = {p:.3f}, 95% CI: [{ci_low:.2f}, {ci_high:.2f}])\"\n",
    "\n",
    "    # Format p display\n",
    "    if p < 0.0001:\n",
    "        p_text = \"****\"\n",
    "    elif p < 0.001:\n",
    "        p_text = \"***\"\n",
    "    elif p < 0.01:\n",
    "        p_text = \"**\"\n",
    "    elif p < 0.05:\n",
    "        p_text = \"*\"\n",
    "    else:\n",
    "        p_text = f\"n.s. (p = {p:.2f})\"\n",
    "        \n",
    "    # Plot annotation - use actual plot limits to place annotation\n",
    "    ymin, ymax = ax.get_ylim()\n",
    "    y_range = ymax - ymin\n",
    "    \n",
    "    line_y = ymax - 0.1 * y_range\n",
    "    text_y = line_y - 0.02 * y_range\n",
    "\n",
    "    # Significance - Bridge line between two groups\n",
    "    x_keys = list(x_pos_map.values())\n",
    "    if len(x_keys) >= 2:\n",
    "        x1, x2 = x_keys[0], x_keys[1]\n",
    "        ymin, ymax = ax.get_ylim()\n",
    "        y_range = ymax - ymin\n",
    "        line_y = ymax - 0.1 * y_range\n",
    "        text_y = line_y - 0.02 * y_range\n",
    "\n",
    "\n",
    "        ax.plot([x1, x1, x2, x2],\n",
    "                [line_y, line_y + 0.01*y_range, \n",
    "                 line_y + 0.01*y_range, line_y],\n",
    "                lw=1.5, c='black')\n",
    "\n",
    "        # Annotation text\n",
    "        ax.text((x1 + x2) / 2, text_y, p_text, ha='center', va='bottom')\n",
    "    \n",
    "    \n",
    "    # Remove extra space around plot\n",
    "    plt.tight_layout()\n",
    "    # Add top space if needed\n",
    "    plt.subplots_adjust(top=0.8)\n",
    "\n",
    "    # Save the plot\n",
    "    plt.savefig(f\"{save_path}/cell_profiler_dNLS_cyto_TDP43.pdf\", dpi=300)\n",
    "    plt.savefig(f\"{save_path}/cell_profiler_dNLS_cyto_TDP43.png\", dpi=300)\n",
    "\n",
    "    plt.show()\n",
    "    \n",
    "plot_cp_feature_grouped_by_gene(cp_measurements, \n",
    "                                  cp_feature_col='mean_Math_TDP43_cyto_over_nuc',\n",
    "                                  group_col='group', \n",
    "                                  patient_col=\"batch\",\n",
    "                                  color_mapping=PlotConfig().COLOR_MAPPINGS_DOX, \n",
    "                                  model_results_df=results_df)   "
   ]
  },
  {
   "cell_type": "code",
   "execution_count": null,
   "id": "bcf365d7",
   "metadata": {},
   "outputs": [],
   "source": []
  },
  {
   "cell_type": "code",
   "execution_count": 15,
   "id": "5693abbf",
   "metadata": {},
   "outputs": [
    {
     "name": "stdout",
     "output_type": "stream",
     "text": [
      "Done!\n"
     ]
    }
   ],
   "source": [
    "print(\"Done!\")"
   ]
  },
  {
   "cell_type": "code",
   "execution_count": null,
   "id": "c6a76c39",
   "metadata": {},
   "outputs": [],
   "source": []
  }
 ],
 "metadata": {
  "kernelspec": {
   "display_name": "nova new",
   "language": "python",
   "name": "nova_new"
  },
  "language_info": {
   "codemirror_mode": {
    "name": "ipython",
    "version": 3
   },
   "file_extension": ".py",
   "mimetype": "text/x-python",
   "name": "python",
   "nbconvert_exporter": "python",
   "pygments_lexer": "ipython3",
   "version": "3.9.19"
  }
 },
 "nbformat": 4,
 "nbformat_minor": 5
}
