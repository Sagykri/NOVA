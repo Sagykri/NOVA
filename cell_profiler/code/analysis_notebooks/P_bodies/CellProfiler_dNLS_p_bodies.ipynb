{
 "cells": [
  {
   "cell_type": "markdown",
   "id": "d757d25b",
   "metadata": {},
   "source": [
    "# <font color=\"red\"> CellProfiler: profiling of P-Bodies (DCP1A, LSM14A) dNLS across all batches </font>\n",
    " \n",
    "JIRA task: NN-83"
   ]
  },
  {
   "cell_type": "markdown",
   "id": "8a4456a1",
   "metadata": {},
   "source": [
    "Why Linear Mixed-Effects Models (LMMs)?\n",
    "Your experimental structure involves:\n",
    "\n",
    "- Two groups: dNLS_Untreated vs dNLS_DOX\n",
    "\n",
    "- 5 batches per group\n",
    "\n",
    "- Measurements per site image (the dependent variable), 50–250 site images per batch (i.e., image-level measurements)\n",
    "\n",
    "\n",
    "- Random variation across batches random intercept per batch (i.e., variation across batches)\n",
    "\n",
    "This design includes both fixed effects (groups) and random effects (batches)\n",
    "Estimate how dNLS_DOX affects each CellProfiler feature vs dNLS_Untreated, accounting for batch effects (inter-batch variation)."
   ]
  },
  {
   "cell_type": "code",
   "execution_count": 1,
   "id": "c9a94359",
   "metadata": {},
   "outputs": [
    {
     "name": "stdout",
     "output_type": "stream",
     "text": [
      "NOVA_HOME is at /home/projects/hornsteinlab/Collaboration/NOVA/\n"
     ]
    }
   ],
   "source": [
    "from pathlib import Path\n",
    "import glob\n",
    "import sys\n",
    "import os\n",
    "\n",
    "\n",
    "os.environ['NOVA_HOME'] = '/home/projects/hornsteinlab/Collaboration/NOVA/'\n",
    "os.environ['NOVA_DATA_HOME'] = f\"{os.environ['NOVA_HOME']}/input\"\n",
    "print('NOVA_HOME is at', os.getenv('NOVA_HOME'))\n",
    "sys.path.insert(1, os.getenv('NOVA_HOME'))\n",
    "\n",
    "\n",
    "import numpy as np\n",
    "import pandas as pd\n",
    "import seaborn as sns\n",
    "from markdown import markdown\n",
    "import matplotlib.pyplot as plt\n",
    "from matplotlib.backends.backend_pdf import PdfPages\n",
    "\n",
    "from cell_profiler.code.cp_effect_size_utils import CP_OUTPUTS_FOLDER, validate_cp_files, extract_path_parts, merge_on_group, collect_cp_results_by_cell_line, load_cp_results, get_features_per_image, get_aggregated_features_per_image, collect_all_features, run_analysis_generate_report, print_mixedlm_conclusions, measures_to_plot\n",
    "from manuscript.plot_config import PlotConfig\n",
    "\n",
    "%load_ext autoreload    \n",
    "%autoreload 2"
   ]
  },
  {
   "cell_type": "markdown",
   "id": "95790515",
   "metadata": {},
   "source": [
    "# New dNLS dataset - DCP1A"
   ]
  },
  {
   "cell_type": "code",
   "execution_count": 2,
   "id": "d655f20c",
   "metadata": {},
   "outputs": [],
   "source": [
    "ANALYSIS_TYPE = 'PB_profiling/dNLS_DCP1A'\n",
    "BATCHES = ['batch1', 'batch2', 'batch4', 'batch5', 'batch6']\n",
    "\n",
    "# Save figures here\n",
    "save_path = '/home/projects/hornsteinlab/Collaboration/NOVA/outputs/vit_models/finetunedModel_MLPHead_acrossBatches_B56789_80pct_frozen/figures/dNLS/cell_profiler/PB_profiling/dNLS_DCP1A'\n",
    "\n",
    "# Font\n",
    "FONT_PATH = '/home/projects/hornsteinlab/sagyk/anaconda3/envs/nova/fonts/arial.ttf'\n",
    "from matplotlib import font_manager as fm\n",
    "import matplotlib\n",
    "fm.fontManager.addfont(FONT_PATH)\n",
    "matplotlib.rcParams['font.family'] = 'Arial'\n",
    "\n",
    "plt.rcParams.update({\n",
    "    'font.family': 'Arial',\n",
    "    'font.size': 6\n",
    "})"
   ]
  },
  {
   "cell_type": "code",
   "execution_count": 3,
   "id": "46be1575",
   "metadata": {},
   "outputs": [],
   "source": [
    "group_by_columns = ['ImageNumber', 'batch', 'rep', 'cell_line', 'condition']\n",
    "REQUIRED_FILES = ['Image.csv', 'Pbodies.csv', 'Cytoplasm.csv']\n"
   ]
  },
  {
   "cell_type": "code",
   "execution_count": 4,
   "id": "e92e1050",
   "metadata": {},
   "outputs": [],
   "source": [
    "\n",
    "# Test CP outputs (number of images)\n",
    "if False:\n",
    "    pattern = os.path.join(CP_OUTPUTS_FOLDER, ANALYSIS_TYPE, '*', '*', '*', '*', '*', '*')\n",
    "    # store marker folders by cell line\n",
    "    for marker_path in glob.glob(pattern):\n",
    "        if os.path.isdir(marker_path):\n",
    "            try:\n",
    "                image_df = pd.read_csv(marker_path +'/Image.csv')\n",
    "                #print(marker_path, image_df.shape)\n",
    "                #print(image_df[['Count_Pbodies', 'Count_nucleus']].head(10))\n",
    "                \n",
    "                # DEBUG CODE: to recognise problems in CP wiriting to the wrong folder\n",
    "                # parts_df = image_df['PathName_nucleus'].apply(extract_path_parts)\n",
    "                parts_df = image_df['PathName_DAPI'].apply(extract_path_parts)\n",
    "                \n",
    "                print(marker_path, parts_df['batch'].unique(), parts_df['cell_line'].unique(), parts_df['condition'].unique(), parts_df['rep'].unique(), )\n",
    "                # DEBUG CODE\n",
    "\n",
    "                marker = os.path.basename(marker_path)    \n",
    "                cell_line = Path(marker_path).resolve().parents[3].name\n",
    "            except FileNotFoundError as e:\n",
    "                print(\"!!!!\")\n",
    "                print(e)\n",
    "        else:\n",
    "            print(f\"Not a marker folder directory:{marker_path}\")\n"
   ]
  },
  {
   "cell_type": "markdown",
   "id": "570bcf2a",
   "metadata": {},
   "source": [
    "## Collect CP files by \"cell_line+condition\" and Load CP data"
   ]
  },
  {
   "cell_type": "code",
   "execution_count": 5,
   "id": "f666b5e1",
   "metadata": {},
   "outputs": [],
   "source": [
    "# Collect paths of CP output files\n",
    "paths_by_cell_line = collect_cp_results_by_cell_line(ANALYSIS_TYPE, include_condition=True)"
   ]
  },
  {
   "cell_type": "code",
   "execution_count": 6,
   "id": "2e0e833b",
   "metadata": {},
   "outputs": [
    {
     "name": "stdout",
     "output_type": "stream",
     "text": [
      "number of subjects from cell line WT_Untreated: 10\n",
      "number of subjects from cell line dNLS_Untreated: 15\n",
      "number of subjects from cell line dNLS_DOX: 15\n"
     ]
    }
   ],
   "source": [
    "# Load CP data\n",
    "cp_data = load_cp_results(paths_by_cell_line, REQUIRED_FILES)"
   ]
  },
  {
   "cell_type": "code",
   "execution_count": 7,
   "id": "5b238c54",
   "metadata": {
    "scrolled": true
   },
   "outputs": [
    {
     "name": "stdout",
     "output_type": "stream",
     "text": [
      "⚠️ WT_Untreated: Removed 4 of 1441 site images with 0 nuclei.\n",
      "WT_Untreated (1437, 6) (1441, 32) (1437, 18)\n",
      "(1441, 33)\n",
      "(1441, 46)\n",
      "⚠️ dNLS_Untreated: Removed 2 of 2149 site images with 0 nuclei.\n",
      "dNLS_Untreated (2147, 6) (2149, 32) (2147, 18)\n",
      "(2149, 33)\n",
      "(2149, 46)\n",
      "⚠️ dNLS_DOX: Removed 4 of 1828 site images with 0 nuclei.\n",
      "dNLS_DOX (1824, 6) (1828, 32) (1824, 18)\n",
      "(1828, 33)\n",
      "(1828, 46)\n",
      "Shape after merging is: (5418, 46)\n"
     ]
    }
   ],
   "source": [
    "# Get the calculated features from all CP output files\n",
    "cp_measurements = collect_all_features(cp_data, group_by_columns)"
   ]
  },
  {
   "cell_type": "markdown",
   "id": "df9d12d3",
   "metadata": {},
   "source": [
    "# Remove batch 3, remove WT, add new variable \"group\""
   ]
  },
  {
   "cell_type": "code",
   "execution_count": 8,
   "id": "dc23550e",
   "metadata": {},
   "outputs": [
    {
     "name": "stdout",
     "output_type": "stream",
     "text": [
      "(3977, 47)\n"
     ]
    }
   ],
   "source": [
    "# Remove batch 3\n",
    "cp_measurements = cp_measurements[cp_measurements['batch'].isin(BATCHES)]\n",
    "\n",
    "# Add group\n",
    "cp_measurements['group'] = cp_measurements['cell_line']+\"_\"+cp_measurements['condition']\n",
    "\n",
    "# Fiilter by lines\n",
    "lines_to_include = [\"dNLS_Untreated\", \"dNLS_DOX\"]\n",
    "cp_measurements = cp_measurements[cp_measurements['group'].isin(lines_to_include)]\n",
    "print(cp_measurements.shape)\n",
    "\n",
    "# Important to put the reference group first in order for mixedlm() - has to be Categorical!\n",
    "cp_measurements[\"group\"] = pd.Categorical(\n",
    "    cp_measurements[\"group\"],\n",
    "    categories=lines_to_include,\n",
    "    ordered=True\n",
    ")\n"
   ]
  },
  {
   "cell_type": "code",
   "execution_count": 9,
   "id": "d539b8c5",
   "metadata": {
    "scrolled": true
   },
   "outputs": [],
   "source": [
    "#cp_measurements[['rep', 'group']].value_counts()\n"
   ]
  },
  {
   "cell_type": "code",
   "execution_count": 10,
   "id": "be6b0f4e",
   "metadata": {
    "scrolled": true
   },
   "outputs": [],
   "source": [
    "#cp_measurements[['batch']].value_counts()"
   ]
  },
  {
   "cell_type": "code",
   "execution_count": 11,
   "id": "e874460d",
   "metadata": {
    "scrolled": true
   },
   "outputs": [],
   "source": [
    "#cp_measurements[['group']].value_counts()"
   ]
  },
  {
   "cell_type": "markdown",
   "id": "11eac037",
   "metadata": {},
   "source": [
    "# Effect size modeling\n",
    "\n",
    "The terms in the formula:\n",
    "- measurement: The CellProfiler feature (e.g., mean number of p-bodies).\n",
    "- gene_group: A fixed effect to test differences between WT, C9, +sALS, -sALS.\n",
    "- rep: Random intercept for each patient, accounting for intra-patient correlation across site images.\n",
    "\n",
    "What This Model Gives You:\n",
    "- Estimates of group differences: WT vs other groups, with significance testing.\n",
    "\n",
    "- Within-patient variability: Captures how consistent measurements are across images for a given patient.\n",
    "\n",
    "- Between-patient variability: Tests whether observed effects are reproducible across patients.\n",
    "\n",
    "- P-values or confidence intervals: For significance of gene group effects.\n",
    "\n"
   ]
  },
  {
   "cell_type": "code",
   "execution_count": 12,
   "id": "978e682d",
   "metadata": {},
   "outputs": [],
   "source": [
    "#cp_measurements[['group', 'batch', 'num_pb']].groupby(['group', 'batch'], observed=False).describe()\n",
    "#cp_measurements[['gene_group', 'num_pb']].groupby('gene_group', observed=False).describe()"
   ]
  },
  {
   "cell_type": "code",
   "execution_count": 13,
   "id": "f7db6dcf",
   "metadata": {},
   "outputs": [
    {
     "name": "stdout",
     "output_type": "stream",
     "text": [
      "\n",
      "\n",
      "\n",
      "Analysing CP feature: mean_AreaShape_MeanRadius\n",
      "⚠️ Warning during model fit for feature mean_AreaShape_MeanRadius: UserWarning: Random effects covariance is singular\n",
      "⚠️ Warning during model fit for feature mean_AreaShape_MeanRadius: UserWarning: The random effects covariance matrix is singular.\n",
      "⚠️ Warning during model fit for feature mean_AreaShape_MeanRadius: ConvergenceWarning: The MLE may be on the boundary of the parameter space.\n",
      "⚠️ Warning during model fit for feature mean_AreaShape_MeanRadius: UserWarning: The random effects covariance matrix is singular.\n",
      "⚠️ Warning during model fit for feature mean_AreaShape_MeanRadius: ConvergenceWarning: The Hessian matrix at the estimated parameter values is not positive definite.\n",
      "❌ Random effect variance is near zero. — Unable to fit random intercept (e.g., low variance or convergence issue)\n",
      "⚠️ Fallback to fixed-effects model for feature: mean_AreaShape_MeanRadius\n",
      "                            OLS Regression Results                            \n",
      "==============================================================================\n",
      "Dep. Variable:          feature_value   R-squared:                       0.469\n",
      "Model:                            OLS   Adj. R-squared:                  0.469\n",
      "Method:                 Least Squares   F-statistic:                     702.7\n",
      "Date:                Mon, 06 Oct 2025   Prob (F-statistic):               0.00\n",
      "Time:                        18:41:16   Log-Likelihood:                 5916.5\n",
      "No. Observations:                3977   AIC:                        -1.182e+04\n",
      "Df Residuals:                    3971   BIC:                        -1.178e+04\n",
      "Df Model:                           5                                         \n",
      "Covariance Type:            nonrobust                                         \n",
      "========================================================================================\n",
      "                           coef    std err          t      P>|t|      [0.025      0.975]\n",
      "----------------------------------------------------------------------------------------\n",
      "Intercept                1.5170      0.003    574.423      0.000       1.512       1.522\n",
      "C(group)[T.dNLS_DOX]    -0.0556      0.002    -31.737      0.000      -0.059      -0.052\n",
      "C(batch)[T.batch2]       0.0195      0.003      6.216      0.000       0.013       0.026\n",
      "C(batch)[T.batch4]       0.0234      0.003      7.832      0.000       0.018       0.029\n",
      "C(batch)[T.batch5]       0.1068      0.003     36.479      0.000       0.101       0.113\n",
      "C(batch)[T.batch6]       0.0341      0.004      9.145      0.000       0.027       0.041\n",
      "==============================================================================\n",
      "Omnibus:                       62.028   Durbin-Watson:                   1.993\n",
      "Prob(Omnibus):                  0.000   Jarque-Bera (JB):              105.001\n",
      "Skew:                          -0.116   Prob(JB):                     1.58e-23\n",
      "Kurtosis:                       3.761   Cond. No.                         8.21\n",
      "==============================================================================\n",
      "\n",
      "Notes:\n",
      "[1] Standard Errors assume that the covariance matrix of the errors is correctly specified.\n",
      "\n",
      "### Fixed Effects: Gene Group Differences from Ctrl\n",
      "- Ctrl: estimated average = 1.52\n",
      "- dNLS_DOX: -0.05560 units vs Ctrl (p = 0.00000, 95% CI: [-0.05903, -0.05216]) → ✔️ Significant\n",
      "\n",
      "### Random Effects (Batch-level / Intra-patient variability)\n",
      "- ℹ️ Model did not include random effects (fixed-effects fallback used).\n",
      "\n",
      "\n",
      "Saving all results to: /home/projects/hornsteinlab/Collaboration/NOVA/cell_profiler/outputs/cell_profiler_RUNS/Final_cp_analysis/PB_profiling/dNLS_DCP1A/mixed_effect_report/mixedlm_results.csv\n"
     ]
    },
    {
     "name": "stderr",
     "output_type": "stream",
     "text": [
      "/home/projects/hornsteinlab/Collaboration/NOVA/cell_profiler/code/cp_effect_size_utils.py:437: SettingWithCopyWarning: \n",
      "A value is trying to be set on a copy of a slice from a DataFrame.\n",
      "Try using .loc[row_indexer,col_indexer] = value instead\n",
      "\n",
      "See the caveats in the documentation: https://pandas.pydata.org/pandas-docs/stable/user_guide/indexing.html#returning-a-view-versus-a-copy\n",
      "  _, results_df_wo_intercept[\"fdr_pval_global\"], _, _ = multipletests(results_df_wo_intercept[\"pval\"], method=\"fdr_bh\")\n"
     ]
    },
    {
     "data": {
      "text/html": [
       "<div>\n",
       "<style scoped>\n",
       "    .dataframe tbody tr th:only-of-type {\n",
       "        vertical-align: middle;\n",
       "    }\n",
       "\n",
       "    .dataframe tbody tr th {\n",
       "        vertical-align: top;\n",
       "    }\n",
       "\n",
       "    .dataframe thead th {\n",
       "        text-align: right;\n",
       "    }\n",
       "</style>\n",
       "<table border=\"1\" class=\"dataframe\">\n",
       "  <thead>\n",
       "    <tr style=\"text-align: right;\">\n",
       "      <th></th>\n",
       "      <th>feature</th>\n",
       "      <th>comparison</th>\n",
       "      <th>effect_size</th>\n",
       "      <th>pval</th>\n",
       "      <th>ci_lower</th>\n",
       "      <th>ci_upper</th>\n",
       "      <th>group_var</th>\n",
       "      <th>residual_var</th>\n",
       "      <th>significance</th>\n",
       "      <th>fit_status</th>\n",
       "      <th>used_fixed_model</th>\n",
       "      <th>aic</th>\n",
       "      <th>bic</th>\n",
       "      <th>loglik</th>\n",
       "      <th>r_squared</th>\n",
       "      <th>fdr_pval_global</th>\n",
       "    </tr>\n",
       "  </thead>\n",
       "  <tbody>\n",
       "    <tr>\n",
       "      <th>0</th>\n",
       "      <td>mean_AreaShape_MeanRadius</td>\n",
       "      <td>Intercept</td>\n",
       "      <td>1.517047</td>\n",
       "      <td>0.000000e+00</td>\n",
       "      <td>1.511870</td>\n",
       "      <td>1.522225</td>\n",
       "      <td>NaN</td>\n",
       "      <td>0.002992</td>\n",
       "      <td>****</td>\n",
       "      <td>fallback_ols_fixed_batch</td>\n",
       "      <td>True</td>\n",
       "      <td>-11820.905108</td>\n",
       "      <td>-11783.17541</td>\n",
       "      <td>5916.452554</td>\n",
       "      <td>0.469429</td>\n",
       "      <td>NaN</td>\n",
       "    </tr>\n",
       "    <tr>\n",
       "      <th>1</th>\n",
       "      <td>mean_AreaShape_MeanRadius</td>\n",
       "      <td>dNLS_DOX</td>\n",
       "      <td>-0.055598</td>\n",
       "      <td>3.287573e-197</td>\n",
       "      <td>-0.059032</td>\n",
       "      <td>-0.052163</td>\n",
       "      <td>NaN</td>\n",
       "      <td>0.002992</td>\n",
       "      <td>****</td>\n",
       "      <td>fallback_ols_fixed_batch</td>\n",
       "      <td>True</td>\n",
       "      <td>-11820.905108</td>\n",
       "      <td>-11783.17541</td>\n",
       "      <td>5916.452554</td>\n",
       "      <td>0.469429</td>\n",
       "      <td>3.287573e-197</td>\n",
       "    </tr>\n",
       "  </tbody>\n",
       "</table>\n",
       "</div>"
      ],
      "text/plain": [
       "                     feature comparison  effect_size           pval  ci_lower  \\\n",
       "0  mean_AreaShape_MeanRadius  Intercept     1.517047   0.000000e+00  1.511870   \n",
       "1  mean_AreaShape_MeanRadius   dNLS_DOX    -0.055598  3.287573e-197 -0.059032   \n",
       "\n",
       "   ci_upper  group_var  residual_var significance                fit_status  \\\n",
       "0  1.522225        NaN      0.002992         ****  fallback_ols_fixed_batch   \n",
       "1 -0.052163        NaN      0.002992         ****  fallback_ols_fixed_batch   \n",
       "\n",
       "   used_fixed_model           aic          bic       loglik  r_squared  \\\n",
       "0              True -11820.905108 -11783.17541  5916.452554   0.469429   \n",
       "1              True -11820.905108 -11783.17541  5916.452554   0.469429   \n",
       "\n",
       "   fdr_pval_global  \n",
       "0              NaN  \n",
       "1    3.287573e-197  "
      ]
     },
     "execution_count": 13,
     "metadata": {},
     "output_type": "execute_result"
    }
   ],
   "source": [
    "# get the CellProfiler features you want to calculate effect for \n",
    "# cp_features_columns = [col for col in cp_measurements.columns if col not in group_by_columns + ['batch', 'group']]\n",
    "cp_features_columns = ['mean_AreaShape_MeanRadius']\n",
    "results_df_DCP1A = run_analysis_generate_report(\n",
    "                                df=cp_measurements,\n",
    "                                feature_columns=cp_features_columns,\n",
    "                                group_col=\"group\",\n",
    "                                batch_col=\"batch\",\n",
    "                                output_dir=os.path.join(CP_OUTPUTS_FOLDER, ANALYSIS_TYPE, 'mixed_effect_report')\n",
    ")\n",
    "\n",
    "results_df_DCP1A\n"
   ]
  },
  {
   "cell_type": "markdown",
   "id": "0414935f",
   "metadata": {},
   "source": [
    "# Plotting"
   ]
  },
  {
   "cell_type": "code",
   "execution_count": null,
   "id": "4d6a9465",
   "metadata": {},
   "outputs": [],
   "source": [
    "\n",
    "def plot_cp_feature_grouped_by_gene(cp_measurements, cp_feature_col, group_col=\"gene_group\", patient_col=\"patient_id\", color_mapping=None, model_results_df=None, pdf_file=None):\n",
    "    \n",
    "    df = cp_measurements.copy()\n",
    "\n",
    "    # Define fixed color and label mapping for both group_col and patient_col\n",
    "    _palette = {}\n",
    "    groups = df[group_col].astype(str).unique().tolist() + df[patient_col].astype(str).unique().tolist()\n",
    "    for g in groups:\n",
    "        if g in color_mapping: _palette[color_mapping[g]['alias']] = color_mapping[g]['color']\n",
    "    if patient_col=='batch':\n",
    "        for b in df[patient_col].astype(str).unique().tolist():\n",
    "            _palette[b]='gray'\n",
    "\n",
    "    \n",
    "    # Rename groups to aliases\n",
    "    label_mapping = {k: v[\"alias\"] for k, v in color_mapping.items() if k in groups}\n",
    "    df[group_col] = df[group_col].cat.rename_categories(label_mapping)\n",
    "    df[patient_col] = df[patient_col].astype(\"category\").cat.rename_categories(label_mapping)\n",
    "    \n",
    "    # Determine group order and x-axis positions for each group (reversed for visual preference)\n",
    "    groups_order = sorted(df[group_col].unique(), reverse=True)\n",
    "    x_spacing = 0.4\n",
    "    x_pos_map = {label: i * x_spacing for i, label in enumerate(groups_order)}\n",
    "\n",
    "    \n",
    "    # Setup plot\n",
    "    sns.set(style=\"white\", font_scale=1.0)\n",
    "    fig, ax = plt.subplots(figsize=(3, 4))\n",
    "    line_width = 1\n",
    "\n",
    "    \n",
    "    # ============================\n",
    "    # Plot each group manually by numeric x\n",
    "    # ============================\n",
    "    for i, group in enumerate(groups_order):\n",
    "        \n",
    "        group_data = df[df[group_col] == group]\n",
    "        xpos = x_pos_map[group]\n",
    "        \n",
    "        # Boxplot for group\n",
    "        sns.boxplot(\n",
    "            data=group_data,\n",
    "            y=cp_feature_col,\n",
    "            ax=ax,\n",
    "            width=0.3,\n",
    "            linewidth=line_width,\n",
    "            showfliers=False,\n",
    "            showmeans=True,\n",
    "            meanline=True,\n",
    "            meanprops={\"linestyle\": \"-\", \"color\": \"black\", \"linewidth\": line_width},\n",
    "            boxprops=dict(facecolor='none', edgecolor='black', linewidth=line_width),\n",
    "            whiskerprops=dict(linewidth=line_width-0.3, color='black'),\n",
    "            capprops=dict(linewidth=line_width, color='black'),\n",
    "            medianprops=dict(visible=False),\n",
    "            positions=[x_pos_map[group]]\n",
    "        )\n",
    "\n",
    "        # ============================\n",
    "        # Full distribution: raw cell-level/image-level points (light gray)\n",
    "        # ============================ \n",
    "        ax.scatter(\n",
    "            x=np.random.normal(loc=x_pos_map[group], scale=0.05, size=len(group_data)),  # jitter\n",
    "            y=group_data[cp_feature_col],\n",
    "            color='lightgray',\n",
    "            s=2.5,\n",
    "            alpha=0.4,\n",
    "            zorder=1\n",
    "        )\n",
    "\n",
    "    # ============================\n",
    "    # Overlay per-batch means (means as colored points)\n",
    "    # ============================\n",
    "    batch_means = df.groupby([group_col, patient_col], observed=True)[cp_feature_col].mean().reset_index()\n",
    "\n",
    "    for _, row in batch_means.iterrows():\n",
    "        group = row[group_col]\n",
    "        batch = row[patient_col]\n",
    "\n",
    "        # Skip if value is missing\n",
    "        if pd.isna(group) or pd.isna(batch) or pd.isna(row[cp_feature_col]):\n",
    "            continue\n",
    "\n",
    "        xpos = x_pos_map.get(group)\n",
    "        y = row[cp_feature_col]\n",
    "\n",
    "        if pd.isna(xpos) or pd.isna(y):\n",
    "            continue\n",
    "\n",
    "        jittered_x = np.random.normal(loc=xpos, scale=0.05)\n",
    "\n",
    "        ax.scatter(\n",
    "            x=jittered_x,\n",
    "            y=y,\n",
    "            color=_palette.get(group, 'black'),\n",
    "            edgecolor=None,\n",
    "            s=5,\n",
    "            zorder=3,\n",
    "            label=batch\n",
    "        )\n",
    "\n",
    "    # Deduplicate legend\n",
    "    handles, labels = ax.get_legend_handles_labels()\n",
    "    unique = dict(zip(labels, handles))\n",
    "    ax.legend(\n",
    "        unique.values(),\n",
    "        unique.keys(),\n",
    "        title=patient_col,\n",
    "        bbox_to_anchor=(1.02, 1),\n",
    "        loc=\"upper left\"\n",
    "    )\n",
    "\n",
    "    # Set axis formatting\n",
    "    ax.set_xlim(-x_spacing+0.1, max(x_pos_map.values()) + x_spacing - 0.1)\n",
    "    \n",
    "    ax.set_xticks(list(x_pos_map.values()))\n",
    "    ax.set_xticklabels(groups_order, rotation=90)\n",
    "    ax.set_ylabel(cp_feature_col)\n",
    "    ax.margins(x=0)\n",
    "    \n",
    "    # Ensure tick marks are shown on both axes\n",
    "    ax.tick_params(axis='both', which='both', direction='out',\n",
    "                   length=4, width=1, bottom=True, top=False, left=True, right=False)\n",
    "    \n",
    "\n",
    "    # ============================\n",
    "    # P-value annotation LMM\n",
    "    # ============================\n",
    "    stat = model_results_df.loc[(model_results_df['comparison'] == 'dNLS_DOX') & (model_results_df['feature'] ==cp_feature_col)]\n",
    "    p = float(stat['pval'].iloc[0])\n",
    "    effect_size = float(stat['effect_size'].iloc[0])\n",
    "    ci_low = float(stat['ci_lower'].values[0])\n",
    "    ci_high = float(stat['ci_upper'].values[0])\n",
    "    txt = f\"Effect size: {effect_size} \\n(p = {p}, 95% CI: \\n[{ci_low:.4f}, {ci_high:.4f}])\"\n",
    "\n",
    "    # Format p display\n",
    "    if p < 0.0001:\n",
    "        p_text = \"****\"\n",
    "    elif p < 0.001:\n",
    "        p_text = \"***\"\n",
    "    elif p < 0.01:\n",
    "        p_text = \"**\"\n",
    "    elif p < 0.05:\n",
    "        p_text = \"*\"\n",
    "    else:\n",
    "        p_text = f\"n.s. (p = {p:.2f})\"\n",
    "        \n",
    "    # Plot annotation - use actual plot limits to place annotation\n",
    "    ymin, ymax = ax.get_ylim()\n",
    "    y_range = ymax - ymin\n",
    "    \n",
    "    line_y = ymax - 0.1 * y_range\n",
    "    text_y = line_y - 0.02 * y_range\n",
    "\n",
    "    # Significance - Bridge line between two groups\n",
    "    x_keys = list(x_pos_map.values())\n",
    "    if len(x_keys) >= 2:\n",
    "        x1, x2 = x_keys[0], x_keys[1]\n",
    "        ymin, ymax = ax.get_ylim()\n",
    "        y_range = ymax - ymin\n",
    "        line_y = ymax - 0.1 * y_range\n",
    "        text_y = line_y - 0.02 * y_range\n",
    "\n",
    "\n",
    "        ax.plot([x1, x1, x2, x2],\n",
    "                [line_y, line_y + 0.01*y_range, \n",
    "                 line_y + 0.01*y_range, line_y],\n",
    "                lw=1.5, c='black')\n",
    "\n",
    "        # Annotation text\n",
    "        ax.text((x1 + x2) / 2, text_y, p_text, ha='center', va='bottom')\n",
    "    \n",
    "    # Remove extra space around plot\n",
    "    plt.tight_layout()\n",
    "    # Add top space if needed\n",
    "    plt.subplots_adjust(top=0.8)\n",
    "    plt.suptitle(txt, fontsize=8)\n",
    "    \n",
    "    # Save the plot\n",
    "    if pdf_file is not None:\n",
    "        pdf_file.savefig(fig)\n",
    "        plt.close(fig)\n",
    "    else:\n",
    "        plt.show()\n",
    "    \n"
   ]
  },
  {
   "cell_type": "code",
   "execution_count": 15,
   "id": "84256aa8",
   "metadata": {},
   "outputs": [],
   "source": [
    "\n",
    "\n",
    "with PdfPages(f\"{save_path}/cell_profiler_dNLS_p_bodies_DCP1A.pdf\") as pdf:\n",
    "    for cp_feature_col in measures_to_plot:\n",
    "        if cp_feature_col in cp_measurements.columns:\n",
    "            \n",
    "            plot_cp_feature_grouped_by_gene(\n",
    "                cp_measurements,\n",
    "                cp_feature_col=cp_feature_col,\n",
    "                group_col='group',\n",
    "                patient_col=\"batch\",\n",
    "                color_mapping=PlotConfig().COLOR_MAPPINGS_DOX,\n",
    "                model_results_df=results_df_DCP1A,\n",
    "                pdf_file=pdf  \n",
    "            )"
   ]
  },
  {
   "cell_type": "markdown",
   "id": "b8e5e7c2",
   "metadata": {},
   "source": [
    "# New dNLS dataset - LSM14A"
   ]
  },
  {
   "cell_type": "code",
   "execution_count": 14,
   "id": "1904340b",
   "metadata": {},
   "outputs": [],
   "source": [
    "\n",
    "ANALYSIS_TYPE = 'PB_profiling/dNLS_LSM14A'\n",
    "BATCHES = ['batch1', 'batch2',  'batch4', 'batch5', 'batch6']\n",
    "\n",
    "# Save figures here\n",
    "save_path = '/home/projects/hornsteinlab/Collaboration/NOVA/outputs/vit_models/finetunedModel_MLPHead_acrossBatches_B56789_80pct_frozen/figures/dNLS/cell_profiler/PB_profiling/dNLS_LSM14A'\n"
   ]
  },
  {
   "cell_type": "code",
   "execution_count": 15,
   "id": "970a7208",
   "metadata": {},
   "outputs": [],
   "source": [
    "\n",
    "# Test CP outputs (number of images)\n",
    "if False:\n",
    "    pattern = os.path.join(CP_OUTPUTS_FOLDER, ANALYSIS_TYPE, '*', '*', '*', '*', '*', '*')\n",
    "    # store marker folders by cell line\n",
    "    for marker_path in glob.glob(pattern):\n",
    "        if os.path.isdir(marker_path):\n",
    "            try:\n",
    "                image_df = pd.read_csv(marker_path +'/Image.csv')\n",
    "                #print(marker_path, image_df.shape)\n",
    "                #print(image_df[['Count_Pbodies', 'Count_nucleus']].head(10))\n",
    "                \n",
    "                # DEBUG CODE: to recognise problems in CP wiriting to the wrong folder\n",
    "                # parts_df = image_df['PathName_nucleus'].apply(extract_path_parts)\n",
    "                parts_df = image_df['PathName_DAPI'].apply(extract_path_parts)\n",
    "                \n",
    "                print(marker_path, parts_df['batch'].unique(), parts_df['cell_line'].unique(), parts_df['condition'].unique(), parts_df['rep'].unique(), )\n",
    "                # DEBUG CODE\n",
    "\n",
    "                marker = os.path.basename(marker_path)    \n",
    "                cell_line = Path(marker_path).resolve().parents[3].name\n",
    "            except FileNotFoundError as e:\n",
    "                print(\"!!!!\")\n",
    "                print(e)\n",
    "        else:\n",
    "            print(f\"Not a marker folder directory:{marker_path}\")\n"
   ]
  },
  {
   "cell_type": "markdown",
   "id": "d782f2b5",
   "metadata": {},
   "source": [
    "## Collect CP files by \"cell_line+condition\" and Load CP data"
   ]
  },
  {
   "cell_type": "code",
   "execution_count": 16,
   "id": "58fc78a2",
   "metadata": {},
   "outputs": [],
   "source": [
    "#NOTE!! when I ran this, batch5/WT/.../rep1 was empty. so \"validate=False\" to over come this\n",
    "\n",
    "# Collect paths of CP output files\n",
    "paths_by_cell_line = collect_cp_results_by_cell_line(ANALYSIS_TYPE, include_condition=True, validate=False)"
   ]
  },
  {
   "cell_type": "code",
   "execution_count": 17,
   "id": "ea563939",
   "metadata": {},
   "outputs": [],
   "source": [
    "#NOTE!! when I ran this, batch5/WT/.../rep1 was empty. so \"validate=False\" to over come this\n",
    "paths_by_cell_line['WT_Untreated'].remove('/home/projects/hornsteinlab/Collaboration/NOVA/cell_profiler/outputs/cell_profiler_RUNS/Final_cp_analysis/PB_profiling/dNLS_LSM14A/batch5/WT/panelH/Untreated/rep1/LSM14A')\n"
   ]
  },
  {
   "cell_type": "code",
   "execution_count": 18,
   "id": "b7b6d2f5",
   "metadata": {},
   "outputs": [
    {
     "name": "stdout",
     "output_type": "stream",
     "text": [
      "number of subjects from cell line WT_Untreated: 9\n",
      "number of subjects from cell line dNLS_Untreated: 15\n",
      "number of subjects from cell line dNLS_DOX: 15\n"
     ]
    }
   ],
   "source": [
    "# Load CP data\n",
    "cp_data = load_cp_results(paths_by_cell_line, REQUIRED_FILES)\n"
   ]
  },
  {
   "cell_type": "code",
   "execution_count": 19,
   "id": "755cbf60",
   "metadata": {
    "scrolled": true
   },
   "outputs": [
    {
     "name": "stdout",
     "output_type": "stream",
     "text": [
      "WT_Untreated (1351, 6) (1351, 32) (1351, 18)\n",
      "(1351, 33)\n",
      "(1351, 46)\n",
      "⚠️ dNLS_Untreated: Removed 1 of 2474 site images with 0 nuclei.\n",
      "dNLS_Untreated (2473, 6) (2474, 32) (2473, 18)\n",
      "(2474, 33)\n",
      "(2474, 46)\n",
      "⚠️ dNLS_DOX: Removed 2 of 2365 site images with 0 nuclei.\n",
      "dNLS_DOX (2363, 6) (2365, 32) (2363, 18)\n",
      "(2365, 33)\n",
      "(2365, 46)\n",
      "Shape after merging is: (6190, 46)\n"
     ]
    }
   ],
   "source": [
    "# Get the calculated features from all CP output files\n",
    "\n",
    "LSM14A_PB_in_cyto_measures = [\n",
    "    \"Math_LSM14A_PB_over_cyto\", \n",
    "    \"Math_Texture_Contrast_LSM14A_pb_only_15\", \n",
    "    \"Math_Texture_Contrast_LSM14A_pb_only_3\", \n",
    "    \"Math_Texture_Contrast_LSM14A_pb_only_5\",\n",
    "    \"Math_Texture_Contrast_LSM14A_pb_only_9\",\n",
    "    \"Math_Texture_Entropy_LSM14A_pb_only_15\",\n",
    "    \"Math_Texture_Entropy_LSM14A_pb_only_3\",\n",
    "    \"Math_Texture_Entropy_LSM14A_pb_only_5\",\n",
    "    \"Math_Texture_Entropy_LSM14A_pb_only_9\",\n",
    "    \"Math_Texture_Homogeneity_LSM14A_pb_only_15\",\n",
    "    \"Math_Texture_Homogeneity_LSM14A_pb_only_3\",\n",
    "    \"Math_Texture_Homogeneity_LSM14A_pb_only_5\",\n",
    "    \"Math_Texture_Homogeneity_LSM14A_pb_only_9\",\n",
    "\n",
    "    \n",
    "]\n",
    "\n",
    "cp_measurements = collect_all_features(cp_data, group_by_columns, PB_in_cyto_measures=LSM14A_PB_in_cyto_measures)"
   ]
  },
  {
   "cell_type": "markdown",
   "id": "af8a573a",
   "metadata": {},
   "source": [
    "# Remove batch 3, remove WT, add new variable \"group\""
   ]
  },
  {
   "cell_type": "code",
   "execution_count": 20,
   "id": "8c35a103",
   "metadata": {},
   "outputs": [
    {
     "name": "stdout",
     "output_type": "stream",
     "text": [
      "(4839, 47)\n"
     ]
    }
   ],
   "source": [
    "# Remove batch 3\n",
    "cp_measurements = cp_measurements[cp_measurements['batch'].isin(BATCHES)]\n",
    "\n",
    "# Add group\n",
    "cp_measurements['group'] = cp_measurements['cell_line']+\"_\"+cp_measurements['condition']\n",
    "\n",
    "# Fiilter by lines\n",
    "lines_to_include = [\"dNLS_Untreated\", \"dNLS_DOX\"]\n",
    "cp_measurements = cp_measurements[cp_measurements['group'].isin(lines_to_include)]\n",
    "print(cp_measurements.shape)\n",
    "\n",
    "# Important to put the reference group first in order for mixedlm() - has to be Categorical!\n",
    "cp_measurements[\"group\"] = pd.Categorical(\n",
    "    cp_measurements[\"group\"],\n",
    "    categories=lines_to_include,\n",
    "    ordered=True\n",
    ")\n"
   ]
  },
  {
   "cell_type": "code",
   "execution_count": 21,
   "id": "dcf37e20",
   "metadata": {
    "scrolled": true
   },
   "outputs": [],
   "source": [
    "#cp_measurements[['rep', 'group']].value_counts()\n"
   ]
  },
  {
   "cell_type": "code",
   "execution_count": 22,
   "id": "c69226aa",
   "metadata": {
    "scrolled": true
   },
   "outputs": [],
   "source": [
    "#cp_measurements[['batch']].value_counts()"
   ]
  },
  {
   "cell_type": "code",
   "execution_count": 23,
   "id": "fe152acb",
   "metadata": {
    "scrolled": true
   },
   "outputs": [],
   "source": [
    "#cp_measurements[['group']].value_counts()"
   ]
  },
  {
   "cell_type": "markdown",
   "id": "5df90d2a",
   "metadata": {},
   "source": [
    "# Effect size modeling\n",
    "\n",
    "The terms in the formula:\n",
    "- measurement: The CellProfiler feature (e.g., mean number of p-bodies).\n",
    "- gene_group: A fixed effect to test differences between WT, C9, +sALS, -sALS.\n",
    "- rep: Random intercept for each patient, accounting for intra-patient correlation across site images.\n",
    "\n",
    "What This Model Gives You:\n",
    "- Estimates of group differences: WT vs other groups, with significance testing.\n",
    "\n",
    "- Within-patient variability: Captures how consistent measurements are across images for a given patient.\n",
    "\n",
    "- Between-patient variability: Tests whether observed effects are reproducible across patients.\n",
    "\n",
    "- P-values or confidence intervals: For significance of gene group effects.\n",
    "\n"
   ]
  },
  {
   "cell_type": "code",
   "execution_count": 24,
   "id": "4d76bd69",
   "metadata": {},
   "outputs": [],
   "source": [
    "#cp_measurements[['group', 'batch', 'num_pb']].groupby(['group', 'batch'], observed=False).describe()\n",
    "#cp_measurements[['gene_group', 'num_pb']].groupby('gene_group', observed=False).describe()"
   ]
  },
  {
   "cell_type": "code",
   "execution_count": 25,
   "id": "752bbfa2",
   "metadata": {},
   "outputs": [
    {
     "name": "stdout",
     "output_type": "stream",
     "text": [
      "\n",
      "\n",
      "\n",
      "Analysing CP feature: mean_AreaShape_MeanRadius\n",
      "⚠️ Warning during model fit for feature mean_AreaShape_MeanRadius: UserWarning: Random effects covariance is singular\n",
      "⚠️ Warning during model fit for feature mean_AreaShape_MeanRadius: UserWarning: The random effects covariance matrix is singular.\n",
      "⚠️ Warning during model fit for feature mean_AreaShape_MeanRadius: ConvergenceWarning: The MLE may be on the boundary of the parameter space.\n",
      "⚠️ Warning during model fit for feature mean_AreaShape_MeanRadius: UserWarning: The random effects covariance matrix is singular.\n",
      "⚠️ Warning during model fit for feature mean_AreaShape_MeanRadius: ConvergenceWarning: The Hessian matrix at the estimated parameter values is not positive definite.\n",
      "❌ Random effect variance is near zero. — Unable to fit random intercept (e.g., low variance or convergence issue)\n",
      "⚠️ Fallback to fixed-effects model for feature: mean_AreaShape_MeanRadius\n",
      "                            OLS Regression Results                            \n",
      "==============================================================================\n",
      "Dep. Variable:          feature_value   R-squared:                       0.199\n",
      "Model:                            OLS   Adj. R-squared:                  0.198\n",
      "Method:                 Least Squares   F-statistic:                     239.7\n",
      "Date:                Mon, 06 Oct 2025   Prob (F-statistic):          2.40e-229\n",
      "Time:                        18:53:47   Log-Likelihood:                 4716.2\n",
      "No. Observations:                4839   AIC:                            -9420.\n",
      "Df Residuals:                    4833   BIC:                            -9381.\n",
      "Df Model:                           5                                         \n",
      "Covariance Type:            nonrobust                                         \n",
      "========================================================================================\n",
      "                           coef    std err          t      P>|t|      [0.025      0.975]\n",
      "----------------------------------------------------------------------------------------\n",
      "Intercept                1.7067      0.003    498.435      0.000       1.700       1.713\n",
      "C(group)[T.dNLS_DOX]    -0.0247      0.003     -9.384      0.000      -0.030      -0.020\n",
      "C(batch)[T.batch2]       0.0085      0.004      1.966      0.049    2.43e-05       0.017\n",
      "C(batch)[T.batch4]      -0.0431      0.004    -10.298      0.000      -0.051      -0.035\n",
      "C(batch)[T.batch5]      -0.0922      0.004    -22.889      0.000      -0.100      -0.084\n",
      "C(batch)[T.batch6]       0.0239      0.005      5.107      0.000       0.015       0.033\n",
      "==============================================================================\n",
      "Omnibus:                      292.177   Durbin-Watson:                   1.970\n",
      "Prob(Omnibus):                  0.000   Jarque-Bera (JB):              373.081\n",
      "Skew:                           0.575   Prob(JB):                     9.70e-82\n",
      "Kurtosis:                       3.728   Cond. No.                         6.96\n",
      "==============================================================================\n",
      "\n",
      "Notes:\n",
      "[1] Standard Errors assume that the covariance matrix of the errors is correctly specified.\n",
      "\n",
      "### Fixed Effects: Gene Group Differences from Ctrl\n",
      "- Ctrl: estimated average = 1.71\n",
      "- dNLS_DOX: -0.02469 units vs Ctrl (p = 0.00000, 95% CI: [-0.02984, -0.01953]) → ✔️ Significant\n",
      "\n",
      "### Random Effects (Batch-level / Intra-patient variability)\n",
      "- ℹ️ Model did not include random effects (fixed-effects fallback used).\n",
      "\n",
      "\n",
      "Saving all results to: /home/projects/hornsteinlab/Collaboration/NOVA/cell_profiler/outputs/cell_profiler_RUNS/Final_cp_analysis/PB_profiling/dNLS_LSM14A/mixed_effect_report/mixedlm_results.csv\n"
     ]
    },
    {
     "name": "stderr",
     "output_type": "stream",
     "text": [
      "/home/projects/hornsteinlab/Collaboration/NOVA/cell_profiler/code/cp_effect_size_utils.py:437: SettingWithCopyWarning: \n",
      "A value is trying to be set on a copy of a slice from a DataFrame.\n",
      "Try using .loc[row_indexer,col_indexer] = value instead\n",
      "\n",
      "See the caveats in the documentation: https://pandas.pydata.org/pandas-docs/stable/user_guide/indexing.html#returning-a-view-versus-a-copy\n",
      "  _, results_df_wo_intercept[\"fdr_pval_global\"], _, _ = multipletests(results_df_wo_intercept[\"pval\"], method=\"fdr_bh\")\n"
     ]
    },
    {
     "data": {
      "text/html": [
       "<div>\n",
       "<style scoped>\n",
       "    .dataframe tbody tr th:only-of-type {\n",
       "        vertical-align: middle;\n",
       "    }\n",
       "\n",
       "    .dataframe tbody tr th {\n",
       "        vertical-align: top;\n",
       "    }\n",
       "\n",
       "    .dataframe thead th {\n",
       "        text-align: right;\n",
       "    }\n",
       "</style>\n",
       "<table border=\"1\" class=\"dataframe\">\n",
       "  <thead>\n",
       "    <tr style=\"text-align: right;\">\n",
       "      <th></th>\n",
       "      <th>feature</th>\n",
       "      <th>comparison</th>\n",
       "      <th>effect_size</th>\n",
       "      <th>pval</th>\n",
       "      <th>ci_lower</th>\n",
       "      <th>ci_upper</th>\n",
       "      <th>group_var</th>\n",
       "      <th>residual_var</th>\n",
       "      <th>significance</th>\n",
       "      <th>fit_status</th>\n",
       "      <th>used_fixed_model</th>\n",
       "      <th>aic</th>\n",
       "      <th>bic</th>\n",
       "      <th>loglik</th>\n",
       "      <th>r_squared</th>\n",
       "      <th>fdr_pval_global</th>\n",
       "    </tr>\n",
       "  </thead>\n",
       "  <tbody>\n",
       "    <tr>\n",
       "      <th>0</th>\n",
       "      <td>mean_AreaShape_MeanRadius</td>\n",
       "      <td>Intercept</td>\n",
       "      <td>1.706725</td>\n",
       "      <td>0.000000e+00</td>\n",
       "      <td>1.700012</td>\n",
       "      <td>1.713438</td>\n",
       "      <td>NaN</td>\n",
       "      <td>0.008347</td>\n",
       "      <td>****</td>\n",
       "      <td>fallback_ols_fixed_batch</td>\n",
       "      <td>True</td>\n",
       "      <td>-9420.380633</td>\n",
       "      <td>-9381.473853</td>\n",
       "      <td>4716.190317</td>\n",
       "      <td>0.198731</td>\n",
       "      <td>NaN</td>\n",
       "    </tr>\n",
       "    <tr>\n",
       "      <th>1</th>\n",
       "      <td>mean_AreaShape_MeanRadius</td>\n",
       "      <td>dNLS_DOX</td>\n",
       "      <td>-0.024686</td>\n",
       "      <td>9.557192e-21</td>\n",
       "      <td>-0.029844</td>\n",
       "      <td>-0.019529</td>\n",
       "      <td>NaN</td>\n",
       "      <td>0.008347</td>\n",
       "      <td>****</td>\n",
       "      <td>fallback_ols_fixed_batch</td>\n",
       "      <td>True</td>\n",
       "      <td>-9420.380633</td>\n",
       "      <td>-9381.473853</td>\n",
       "      <td>4716.190317</td>\n",
       "      <td>0.198731</td>\n",
       "      <td>9.557192e-21</td>\n",
       "    </tr>\n",
       "  </tbody>\n",
       "</table>\n",
       "</div>"
      ],
      "text/plain": [
       "                     feature comparison  effect_size          pval  ci_lower  \\\n",
       "0  mean_AreaShape_MeanRadius  Intercept     1.706725  0.000000e+00  1.700012   \n",
       "1  mean_AreaShape_MeanRadius   dNLS_DOX    -0.024686  9.557192e-21 -0.029844   \n",
       "\n",
       "   ci_upper  group_var  residual_var significance                fit_status  \\\n",
       "0  1.713438        NaN      0.008347         ****  fallback_ols_fixed_batch   \n",
       "1 -0.019529        NaN      0.008347         ****  fallback_ols_fixed_batch   \n",
       "\n",
       "   used_fixed_model          aic          bic       loglik  r_squared  \\\n",
       "0              True -9420.380633 -9381.473853  4716.190317   0.198731   \n",
       "1              True -9420.380633 -9381.473853  4716.190317   0.198731   \n",
       "\n",
       "   fdr_pval_global  \n",
       "0              NaN  \n",
       "1     9.557192e-21  "
      ]
     },
     "execution_count": 25,
     "metadata": {},
     "output_type": "execute_result"
    }
   ],
   "source": [
    "# get the CellProfiler features you want to calculate effect for \n",
    "# cp_features_columns = [col for col in cp_measurements.columns if col not in group_by_columns + ['batch', 'group']]\n",
    "cp_features_columns = ['mean_AreaShape_MeanRadius']\n",
    "\n",
    "results_df_LSM14 = run_analysis_generate_report(\n",
    "                                df=cp_measurements,\n",
    "                                feature_columns=cp_features_columns,\n",
    "                                group_col=\"group\",\n",
    "                                batch_col=\"batch\",\n",
    "                                output_dir=os.path.join(CP_OUTPUTS_FOLDER, ANALYSIS_TYPE, 'mixed_effect_report')\n",
    ")\n",
    "\n",
    "results_df_LSM14\n"
   ]
  },
  {
   "cell_type": "code",
   "execution_count": 28,
   "id": "35595585",
   "metadata": {},
   "outputs": [],
   "source": [
    "\n",
    "with PdfPages(f\"{save_path}/cell_profiler_dNLS_p_bodies_LASM14A.pdf\") as pdf:\n",
    "    for cp_feature_col in measures_to_plot:\n",
    "        if cp_feature_col in cp_measurements.columns:\n",
    "            \n",
    "            plot_cp_feature_grouped_by_gene(\n",
    "                cp_measurements,\n",
    "                cp_feature_col=cp_feature_col,\n",
    "                group_col='group',\n",
    "                patient_col=\"batch\",\n",
    "                color_mapping=PlotConfig().COLOR_MAPPINGS_DOX,\n",
    "                model_results_df=results_df_LSM14,\n",
    "                pdf_file=pdf  \n",
    "            )\n"
   ]
  },
  {
   "cell_type": "code",
   "execution_count": 29,
   "id": "46352615",
   "metadata": {},
   "outputs": [
    {
     "name": "stdout",
     "output_type": "stream",
     "text": [
      "Done!\n"
     ]
    }
   ],
   "source": [
    "print(\"Done!\")"
   ]
  },
  {
   "cell_type": "code",
   "execution_count": null,
   "id": "2cfaab6b",
   "metadata": {},
   "outputs": [],
   "source": []
  }
 ],
 "metadata": {
  "kernelspec": {
   "display_name": "nova new",
   "language": "python",
   "name": "nova_new"
  },
  "language_info": {
   "codemirror_mode": {
    "name": "ipython",
    "version": 3
   },
   "file_extension": ".py",
   "mimetype": "text/x-python",
   "name": "python",
   "nbconvert_exporter": "python",
   "pygments_lexer": "ipython3",
   "version": "3.9.19"
  }
 },
 "nbformat": 4,
 "nbformat_minor": 5
}
