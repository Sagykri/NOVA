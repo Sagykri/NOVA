{
 "cells": [
  {
   "cell_type": "code",
   "execution_count": 1,
   "metadata": {},
   "outputs": [],
   "source": [
    "import matplotlib.pyplot as plt\n",
    "%matplotlib inline\n",
    "import numpy as np\n",
    "import pandas as pd"
   ]
  },
  {
   "cell_type": "code",
   "execution_count": 29,
   "metadata": {},
   "outputs": [],
   "source": [
    "def ari_plot(scores, save_filename):\n",
    "    n_scores = len(scores.keys())\n",
    "    titles = [\"ARI\"]\n",
    "    vranges = [(-0.5,1)]\n",
    "    \n",
    "    # Optional\n",
    "    linecolor = 'r'\n",
    "    linewidth = 5\n",
    "    cmap = \"Greys\"\n",
    "\n",
    "    _, ax = plt.subplots(1,1, figsize=(5,0.2))\n",
    "\n",
    "    for i, key in enumerate(scores.keys()):\n",
    "        score = scores[key]\n",
    "        vmin, vmax = vranges[i][0], vranges[i][1]\n",
    "        sm = plt.cm.ScalarMappable(cmap=cmap)\n",
    "        sm.set_clim(vmin=vmin, vmax=vmax)\n",
    "        cax = ax[i] if n_scores > 1 else ax\n",
    "        cb = plt.colorbar(sm, cax=cax, orientation='horizontal', pad=0.25)\n",
    "        cb.set_ticks([score])\n",
    "        cb.ax.tick_params(labelsize=12)\n",
    "        cb.ax.set_title(titles[i], fontsize=16) # Nancy for figure 2A - remove \"ARI\" text from scale bar\n",
    "        cb.ax.plot([score]*2, [vmin,vmax], linecolor, linewidth=linewidth)\n",
    "    \n",
    "    savepath = f\"/home/labs/hornsteinlab/Collaboration/MOmaps/outputs/figures/tmp_sagy/110124/ari_bars/{save_filename}\"\n",
    "    plt.savefig(f\"{savepath}.eps\", dpi=300, facecolor=\"white\",bbox_inches='tight', format='eps')\n",
    "    plt.savefig(f\"{savepath}.png\", dpi=300, facecolor=\"white\",bbox_inches='tight')\n",
    "    plt.show()"
   ]
  },
  {
   "cell_type": "code",
   "execution_count": 30,
   "metadata": {},
   "outputs": [
    {
     "data": {
      "image/png": "[encoded data removed]",
      "text/plain": [
       "<Figure size 500x20 with 1 Axes>"
      ]
     },
     "metadata": {},
     "output_type": "display_data"
    }
   ],
   "source": [
    "#Fig4C\n",
    "\n",
    "scores_path = \"/home/labs/hornsteinlab/Collaboration/MOmaps/outputs/figures/tmp_sagy/110124/fig4/C/UMAPs/110124_171315_189626_model_22/batch3_TDP43B_Metrics.csv\"\n",
    "scores_df = pd.read_csv(scores_path)\n",
    "scores = {'ARI': scores_df['Value'].values[0]}\n",
    "scores\n",
    "\n",
    "ari_plot(scores, \"fig4c\")"
   ]
  },
  {
   "cell_type": "code",
   "execution_count": 31,
   "metadata": {},
   "outputs": [
    {
     "data": {
      "image/png": "[encoded data removed]",
      "text/plain": [
       "<Figure size 500x20 with 1 Axes>"
      ]
     },
     "metadata": {},
     "output_type": "display_data"
    }
   ],
   "source": [
    "#SupFig6 panelC\n",
    "\n",
    "scores_path = \"/home/labs/hornsteinlab/Collaboration/MOmaps/outputs/figures/tmp_sagy/110124/sup_fig6/C/SM_UMAPs/110124_160517_402211_989531_model_31/batch6_Metrics.csv\"\n",
    "scores_df = pd.read_csv(scores_path)\n",
    "scores = {'ARI': scores_df['Value'].values[0]}\n",
    "scores\n",
    "\n",
    "ari_plot(scores, \"Sup6C\")"
   ]
  },
  {
   "cell_type": "code",
   "execution_count": null,
   "metadata": {},
   "outputs": [],
   "source": [
    "#SupFig6 panelD\n",
    "\n",
    "scores_path = \"/home/labs/hornsteinlab/Collaboration/MOmaps/outputs/figures/tmp_sagy/110124/sup_fig6/C/SM_UMAPs/110124_160517_402211_989531_model_31/batch6_Metrics.csv\"\n",
    "scores_df = pd.read_csv(scores_path)\n",
    "scores = {'ARI': scores_df['Value'].values[0]}\n",
    "scores\n",
    "\n",
    "ari_plot(scores, \"Sup6D\")"
   ]
  },
  {
   "cell_type": "code",
   "execution_count": 32,
   "metadata": {},
   "outputs": [
    {
     "data": {
      "image/png": "[encoded data removed]",
      "text/plain": [
       "<Figure size 500x20 with 1 Axes>"
      ]
     },
     "metadata": {},
     "output_type": "display_data"
    }
   ],
   "source": [
    "#Fig5E\n",
    "\n",
    "scores_path = \"/home/labs/hornsteinlab/Collaboration/MOmaps/outputs/figures/tmp_sagy/110124/fig5/E/SM_UMAPs/110124_160517_833563_989513_model_31/batch6_Metrics.csv\"\n",
    "scores_df = pd.read_csv(scores_path)\n",
    "scores = {'ARI': scores_df['Value'].values[0]}\n",
    "scores\n",
    "\n",
    "ari_plot(scores, \"Fig5E\")"
   ]
  },
  {
   "cell_type": "code",
   "execution_count": 33,
   "metadata": {},
   "outputs": [
    {
     "data": {
      "image/png": "[encoded data removed]",
      "text/plain": [
       "<Figure size 500x20 with 1 Axes>"
      ]
     },
     "metadata": {},
     "output_type": "display_data"
    }
   ],
   "source": [
    "#Fig5F\n",
    "\n",
    "scores_path = \"/home/labs/hornsteinlab/Collaboration/MOmaps/outputs/figures/tmp_sagy/110124/fig5/F/b6/SM_UMAPs/110124_160519_844784_989514_model_31/batch6_Metrics.csv\"\n",
    "scores_df = pd.read_csv(scores_path)\n",
    "scores = {'ARI': scores_df['Value'].values[0]}\n",
    "scores\n",
    "\n",
    "ari_plot(scores, \"Fig5F\")"
   ]
  },
  {
   "cell_type": "code",
   "execution_count": 34,
   "metadata": {},
   "outputs": [
    {
     "data": {
      "image/png": "[encoded data removed]",
      "text/plain": [
       "<Figure size 500x20 with 1 Axes>"
      ]
     },
     "metadata": {},
     "output_type": "display_data"
    }
   ],
   "source": [
    "#Fig5F scna\n",
    "scores_path = \"/home/labs/hornsteinlab/Collaboration/MOmaps/outputs/figures/tmp_sagy/110124/fig5/F/scna/b9/SM_UMAPs/110124_160506_796982_989518_model_31/batch9_Metrics.csv\"\n",
    "scores_df = pd.read_csv(scores_path)\n",
    "scores = {'ARI': scores_df['Value'].values[0]}\n",
    "scores\n",
    "\n",
    "ari_plot(scores, \"Fig5F_SCNA\")"
   ]
  }
 ],
 "metadata": {
  "kernelspec": {
   "display_name": "cytoself_torch",
   "language": "python",
   "name": "python3"
  },
  "language_info": {
   "codemirror_mode": {
    "name": "ipython",
    "version": 3
   },
   "file_extension": ".py",
   "mimetype": "text/x-python",
   "name": "python",
   "nbconvert_exporter": "python",
   "pygments_lexer": "ipython3",
   "version": "3.9.16"
  }
 },
 "nbformat": 4,
 "nbformat_minor": 2
}
