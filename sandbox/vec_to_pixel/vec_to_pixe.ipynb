{
 "cells": [
  {
   "cell_type": "code",
   "execution_count": 32,
   "metadata": {},
   "outputs": [],
   "source": [
    "import os\n",
    "os.environ[\"MOMAPS_HOME\"] = \"/home/labs/hornsteinlab/Collaboration/MOmaps_Sagy/MOmaps\""
   ]
  },
  {
   "cell_type": "code",
   "execution_count": 33,
   "metadata": {},
   "outputs": [
    {
     "name": "stdout",
     "output_type": "stream",
     "text": [
      "MOMAPS_HOME: /home/labs/hornsteinlab/Collaboration/MOmaps_Sagy/MOmaps\n",
      "Modules to reload:\n",
      "all-except-skipped\n",
      "\n",
      "Modules to skip:\n",
      "\n"
     ]
    }
   ],
   "source": [
    "# img = next(iter(dataloader))['image'].detach().cpu().numpy()\n",
    "# torch.cuda.empty_cache()\n",
    "import datetime\n",
    "import os\n",
    "import sys\n",
    "\n",
    "\n",
    "\n",
    "\n",
    "sys.path.insert(1, os.getenv(\"MOMAPS_HOME\"))\n",
    "print(f\"MOMAPS_HOME: {os.getenv('MOMAPS_HOME')}\")\n",
    "\n",
    "import numpy as np\n",
    "import pandas as pd\n",
    "import logging\n",
    "import  torch\n",
    "\n",
    "from src.common.lib.utils import get_if_exists, load_config_file\n",
    "from src.common.lib.model import Model\n",
    "from src.common.lib.data_loader import get_dataloader\n",
    "from src.datasets.dataset_spd import DatasetSPD\n",
    "from torchvision.transforms import InterpolationMode\n",
    "from torchvision.transforms.functional import resize\n",
    "import matplotlib.pyplot as plt\n",
    "\n",
    "%matplotlib inline\n",
    "%reload_ext autoreload\n",
    "%autoreload 2\n",
    "%aimport"
   ]
  },
  {
   "cell_type": "code",
   "execution_count": 3,
   "metadata": {},
   "outputs": [],
   "source": [
    "os.environ['CUDA_LAUNCH_BLOCKING'] = '1'"
   ]
  },
  {
   "cell_type": "code",
   "execution_count": 34,
   "metadata": {},
   "outputs": [
    {
     "data": {
      "text/plain": [
       "True"
      ]
     },
     "execution_count": 34,
     "metadata": {},
     "output_type": "execute_result"
    }
   ],
   "source": [
    "torch.cuda.is_available()"
   ]
  },
  {
   "cell_type": "code",
   "execution_count": 35,
   "metadata": {},
   "outputs": [],
   "source": [
    "# Utils\n",
    "\n",
    "def get_model():\n",
    "    # Load the model\n",
    "    config_model = load_config_file(\"./src/models/neuroself/configs/model_config/TLNeuroselfB78NoDSModelConfig\", 'model')\n",
    "\n",
    "\n",
    "    model = Model(config_model)\n",
    "\n",
    "    model.load_model(num_fc_output_classes=225)\n",
    "    \n",
    "    return model\n",
    "\n",
    "def plot_image(img):\n",
    "    plt.imshow(img[0,0,...], vmin=0, vmax=1, cmap='gray')\n",
    "    \n",
    "def get_image(path):\n",
    "    images = np.load(path)\n",
    "\n",
    "    images = np.transpose(images, (0,3,1,2))\n",
    "\n",
    "#     img = images[[0]]\n",
    "#     img_original = img\n",
    "    \n",
    "    return images\n",
    "    \n",
    "def get_embs(model):\n",
    "    emb2 = model.model.infer_embeddings(img, 'vqvec2')\n",
    "    emb2 = torch.from_numpy(emb2)\n",
    "    emb2 = resize(emb2, (25,25), interpolation=InterpolationMode.NEAREST)\n",
    "    print(f\"emb2: {emb2.shape}\")\n",
    "\n",
    "    emb1 = model.model.infer_embeddings(img, 'vqvec1')\n",
    "    emb1 = torch.from_numpy(emb1)\n",
    "    print(f\"emb1: {emb1.shape}\")\n",
    "    \n",
    "    return emb1, emb2\n",
    "\n",
    "def get_embs_ind(model, img):\n",
    "    emb2 = model.model.infer_embeddings(img, 'vqind2')\n",
    "    emb2 = torch.from_numpy(emb2)\n",
    "    emb2 = resize(emb2, (25,25), interpolation=InterpolationMode.NEAREST)\n",
    "    print(f\"emb2: {emb2.shape}\")\n",
    "\n",
    "    emb1 = model.model.infer_embeddings(img, 'vqind1')\n",
    "    emb1 = torch.from_numpy(emb1)\n",
    "    print(f\"emb1: {emb1.shape}\")\n",
    "    \n",
    "    return emb1, emb2\n",
    "\n",
    "def reconstruct_image(emb1, emb2):\n",
    "    emb_both = torch.cat([emb2, emb1], 1)\n",
    "    model.model.model.eval()\n",
    "    with torch.no_grad():\n",
    "        img_reconstructed = model.model.model.decoders[0](emb_both)\n",
    "    print(img_reconstructed.shape)\n",
    "    # plt.imshow(img_reconstructed[0,0,...])\n",
    "    # plt.show()\n",
    "    return img_reconstructed\n",
    "\n",
    "def get_codebook(model):\n",
    "    return model.model.model.vq_layers[0].codebook.weight.detach().cpu().numpy()\n",
    "\n",
    "def get_ind_locations(embind, ind):\n",
    "    return np.where(embind[0,0,...] == ind)\n",
    "\n",
    "import matplotlib\n",
    "\n",
    "def show_reco_image(img):\n",
    "    plt.imshow(img[0,0,...], vmin=0, vmax=1, cmap='gray')\n",
    "    plt.show()\n",
    "\n",
    "def show_reco_and_altered_image(img, altered):\n",
    "    print(\"Original\")\n",
    "    plt.imshow(img_original[0,0,...], cmap='seismic')\n",
    "    plt.show()\n",
    "    \n",
    "    assert torch.any(img[0,0,...] != altered[0,0,...]), \"The same\"\n",
    "    print(\"Reconstructed\")\n",
    "    plt.imshow(img[0,0,...], cmap='seismic')#, vmin=0, vmax=255)\n",
    "    plt.show()\n",
    "    # print(\"Modified Reconstructed\")\n",
    "    # plt.imshow(altered[0,0,...], alpha=1, cmap='seismic')#, cmap='seismic')\n",
    "    # plt.show()\n",
    "    \n",
    "    c = torch.zeros(altered[0,0,...].shape)\n",
    "    ci = torch.argwhere(img[0,0,...] != altered[0,0,...])\n",
    "    for k in ci:\n",
    "        c[k[0], k[1]] = 100000\n",
    "    \n",
    "    # ci_up = torch.argwhere(altered[0,0,...] > 10000)#torch.argwhere(torch.argwhere(img[0,0,...] != altered[0,0,...]))#\n",
    "    # for k in ci_up:\n",
    "    #     c[k[0], k[1]] = 100000\n",
    "    # ci_down = torch.argwhere(altered[0,0,...] < -10000)#torch.argwhere(img[0,0,...] != altered[0,0,...])\n",
    "    # for k in ci_down:\n",
    "    #     c[k[0], k[1]] = -100000\n",
    "    \n",
    "    # print(\"Modifications\")\n",
    "    cmap = matplotlib.colors.ListedColormap(['white', 'yellow'])\n",
    "    # plt.imshow(c, cmap=cmap)\n",
    "    # plt.colorbar()\n",
    "    # plt.show()\n",
    "    print(\"Diff\")\n",
    "    plt.imshow(c, cmap=cmap)\n",
    "    plt.show()\n",
    "    print(\"Diff Overlay\")\n",
    "    plt.imshow(img[0,0,...], cmap='seismic')#, cmap='seismic')\n",
    "    plt.imshow(c, alpha=0.3, cmap=cmap)\n",
    "    plt.colorbar()\n",
    "    plt.show()"
   ]
  },
  {
   "cell_type": "code",
   "execution_count": 36,
   "metadata": {},
   "outputs": [
    {
     "name": "stderr",
     "output_type": "stream",
     "text": [
      "2023-12-17 12:00:32 INFO Creating the model\n",
      "2023-12-17 12:00:32 INFO early_stop_patience=10, learn_rate=0.0002,                batch_size=4, max_epoch=100\n",
      "2023-12-17 12:00:32 INFO Init model object (fc output: 225)\n",
      "/home/labs/hornsteinlab/Collaboration/MOmaps/anaconda3/momaps_torch/lib/python3.9/site-packages/torchvision/ops/misc.py:120: UserWarning: Don't use ConvNormActivation directly, please use Conv2dNormActivation and Conv3dNormActivation instead.\n",
      "  warnings.warn(\n",
      "2023-12-17 12:00:33 INFO Loading model /home/labs/hornsteinlab/Collaboration/MOmaps/outputs/models_outputs_batch78_nods_tl_ep23/model_31.pt\n",
      "2023-12-17 12:00:34 INFO A model has been loaded from /home/labs/hornsteinlab/Collaboration/MOmaps/outputs/models_outputs_batch78_nods_tl_ep23/model_31.pt\n"
     ]
    }
   ],
   "source": [
    "model = get_model()"
   ]
  },
  {
   "cell_type": "code",
   "execution_count": 37,
   "metadata": {},
   "outputs": [
    {
     "data": {
      "image/png": "[encoded data removed]",
      "text/plain": [
       "<Figure size 640x480 with 1 Axes>"
      ]
     },
     "metadata": {},
     "output_type": "display_data"
    }
   ],
   "source": [
    "path = \"/home/labs/hornsteinlab/Collaboration/MOmaps/input/images/processed/spd2/SpinningDisk/batch9_16bit_no_downsample/WT/stress/G3BP1/rep1_R11_w3confCy5_s1_panelA_WT_processed.npy\"\n",
    "\n",
    "images = get_image(path)\n",
    "img = images[[0]]\n",
    "# images = np.load(\"/home/labs/hornsteinlab/Collaboration/MOmaps/input/images/processed/spd2/SpinningDisk/batch9_16bit_no_downsample/WT/Untreated/G3BP1/rep1_R11_w3confCy5_s201_panelA_WT_processed.npy\")\n",
    "plot_image(images)"
   ]
  },
  {
   "cell_type": "code",
   "execution_count": 38,
   "metadata": {},
   "outputs": [
    {
     "name": "stderr",
     "output_type": "stream",
     "text": [
      "2023-12-17 12:00:36 INFO [infer_embeddings] output_layer = vqvec2\n",
      "2023-12-17 12:00:36 INFO [infer_embeddings] output_layer = vqvec1\n"
     ]
    },
    {
     "name": "stdout",
     "output_type": "stream",
     "text": [
      "emb2: torch.Size([1, 576, 25, 25])\n",
      "emb1: torch.Size([1, 64, 25, 25])\n"
     ]
    }
   ],
   "source": [
    "emb1, emb2 = get_embs(model)\n",
    "emb1 = emb1.cuda()\n",
    "emb2 = emb2.cuda()"
   ]
  },
  {
   "cell_type": "code",
   "execution_count": 39,
   "metadata": {},
   "outputs": [
    {
     "name": "stderr",
     "output_type": "stream",
     "text": [
      "2023-12-17 12:00:37 INFO [infer_embeddings] output_layer = vqind2\n",
      "2023-12-17 12:00:37 INFO [infer_embeddings] output_layer = vqind1\n"
     ]
    },
    {
     "name": "stdout",
     "output_type": "stream",
     "text": [
      "emb2: torch.Size([1, 9, 25, 25])\n",
      "emb1: torch.Size([1, 1, 25, 25])\n"
     ]
    }
   ],
   "source": [
    "emb_ind1, emb_ind2 = get_embs_ind(model, img)\n"
   ]
  },
  {
   "cell_type": "code",
   "execution_count": 40,
   "metadata": {},
   "outputs": [
    {
     "data": {
      "text/plain": [
       "(2048, 64)"
      ]
     },
     "execution_count": 40,
     "metadata": {},
     "output_type": "execute_result"
    }
   ],
   "source": [
    "codebook = get_codebook(model)\n",
    "codebook.shape"
   ]
  },
  {
   "cell_type": "code",
   "execution_count": 10,
   "metadata": {},
   "outputs": [
    {
     "data": {
      "text/plain": [
       "(array([14, 15, 15, 16, 16, 17, 17, 17, 18, 18, 19, 20, 20, 21, 21, 22, 22,\n",
       "        22]),\n",
       " array([22, 20, 21, 19, 20, 18, 19, 22, 17, 18, 17,  5, 12,  6, 13,  6,  7,\n",
       "         8]))"
      ]
     },
     "execution_count": 10,
     "metadata": {},
     "output_type": "execute_result"
    }
   ],
   "source": [
    "locs = get_ind_locations(emb_ind1, 198)\n",
    "locs"
   ]
  },
  {
   "cell_type": "code",
   "execution_count": 41,
   "metadata": {},
   "outputs": [
    {
     "name": "stdout",
     "output_type": "stream",
     "text": [
      "torch.Size([1, 2, 100, 100])\n"
     ]
    },
    {
     "data": {
      "image/png": "[encoded data removed]",
      "text/plain": [
       "<Figure size 640x480 with 1 Axes>"
      ]
     },
     "metadata": {},
     "output_type": "display_data"
    }
   ],
   "source": [
    "# Alter embeddings and reconstruct\n",
    "\n",
    "emb1_altered = emb1.clone()\n",
    "#     emb1_altered[0,:,13:,13:] = repeated_tensor*3\n",
    "emb1_altered[0,:,13:,13:] = torch.zeros(64,12,12)\n",
    "emb1_altered.shape\n",
    "\n",
    "emb2_altered = emb2.clone()\n",
    "#     emb2_altered[0,:,13:,13:] = torch.zeros(576,12,12)*100\n",
    "# emb2_altered.shape\n",
    "\n",
    "reco = reconstruct_image(emb1_altered, emb2_altered)\n",
    "reco = reco.cpu()\n",
    "show_reco_image(reco)"
   ]
  },
  {
   "cell_type": "code",
   "execution_count": 14,
   "metadata": {},
   "outputs": [
    {
     "data": {
      "text/plain": [
       "torch.Size([1, 64, 25, 25])"
      ]
     },
     "execution_count": 14,
     "metadata": {},
     "output_type": "execute_result"
    }
   ],
   "source": [
    "emb1_altered.shape"
   ]
  },
  {
   "cell_type": "code",
   "execution_count": 52,
   "metadata": {
    "tags": []
   },
   "outputs": [
    {
     "name": "stdout",
     "output_type": "stream",
     "text": [
      "tensor(0., device='cuda:0') tensor(0., device='cuda:0')\n",
      "tensor(-0.2730, device='cuda:0') tensor(2.3564, device='cuda:0')\n",
      "tensor(0., device='cuda:0') tensor(0., device='cuda:0')\n",
      "torch.Size([1, 2, 100, 100])\n"
     ]
    },
    {
     "data": {
      "image/png": "[encoded data removed]",
      "text/plain": [
       "<Figure size 640x480 with 1 Axes>"
      ]
     },
     "metadata": {},
     "output_type": "display_data"
    }
   ],
   "source": [
    "# All vectors\n",
    "\n",
    "\n",
    "# Alter embeddings and reconstruct\n",
    "\n",
    "emb1_altered = emb1.clone()\n",
    "emb1_altered[0,...] = torch.zeros(64,25,25)\n",
    "print(torch.min(emb1_altered), torch.max(emb1_altered))\n",
    "\n",
    "for i in range(emb1_altered.shape[2]):\n",
    "    for j in range(emb1_altered.shape[3]):\n",
    "        emb1_altered[0,:,i,j] = torch.tensor(codebook[i*emb1_altered.shape[2]+j]).cuda()\n",
    "print(torch.min(emb1_altered), torch.max(emb1_altered))\n",
    "\n",
    "emb1_altered.shape\n",
    "\n",
    "emb2_altered = emb2.clone()\n",
    "emb2_altered[0,...] = torch.zeros(576,25,25)\n",
    "print(torch.min(emb2_altered), torch.max(emb2_altered))\n",
    "emb2_altered.shape\n",
    "\n",
    "reco = reconstruct_image(emb1_altered, emb2_altered)\n",
    "reco = reco.cpu()\n",
    "show_reco_image(reco)"
   ]
  },
  {
   "cell_type": "code",
   "execution_count": 340,
   "metadata": {},
   "outputs": [
    {
     "name": "stdout",
     "output_type": "stream",
     "text": [
      "Output shape: torch.Size([1, 2, 100, 100])\n",
      "target: 0.24619391560554504\n",
      "tensor(-0.1333, device='cuda:0') tensor(0.1245, device='cuda:0')\n",
      "torch.Size([1, 160, 100, 100])\n",
      "(100, 100)\n",
      "[[0.         0.         0.         ... 0.         0.         0.        ]\n",
      " [0.         0.         0.         ... 0.         0.         0.        ]\n",
      " [0.         0.         0.         ... 0.03783099 0.         0.        ]\n",
      " ...\n",
      " [0.         0.         0.         ... 0.06880943 0.03354515 0.        ]\n",
      " [0.         0.         0.         ... 0.0630805  0.02730566 0.        ]\n",
      " [0.         0.         0.         ... 0.         0.         0.        ]]\n",
      "False\n"
     ]
    },
    {
     "data": {
      "image/png": "[encoded data removed]",
      "text/plain": [
       "<Figure size 640x480 with 1 Axes>"
      ]
     },
     "metadata": {},
     "output_type": "display_data"
    }
   ],
   "source": [
    "# GRAD CAM (the labels are the pixels)\n",
    "\n",
    "import torch\n",
    "import torch.nn.functional as F\n",
    "import numpy as np\n",
    "import matplotlib.pyplot as plt\n",
    "\n",
    "class GradCAM:\n",
    "    def __init__(self, model, target_layer):\n",
    "        self.model = model\n",
    "        self.target_layer = target_layer\n",
    "        self.gradients = None\n",
    "        self.activations = None\n",
    "\n",
    "        # Register hooks\n",
    "        target_layer.register_forward_hook(self.save_activations_hook)\n",
    "        target_layer.register_backward_hook(self.save_gradients_hook)\n",
    "\n",
    "    def save_activations_hook(self, module, input, output):\n",
    "        self.activations = output\n",
    "\n",
    "    def save_gradients_hook(self, module, grad_input, grad_output):\n",
    "        self.gradients = grad_output[0]\n",
    "\n",
    "    def generate_heatmap(self, input_tensor, target_region):\n",
    "        # Forward pass\n",
    "        output, label1, label2 = self.model(input_tensor)\n",
    "        \n",
    "        print(f\"Output shape: {output.shape}\")\n",
    "        \n",
    "        # Zero gradients\n",
    "        self.model.zero_grad()\n",
    "\n",
    "        # Backward pass\n",
    "        target = output[target_region[0], target_region[1], target_region[2], target_region[3]]\n",
    "        print(f\"target: {target}\")\n",
    "        target.backward()\n",
    "\n",
    "        # Compute weights\n",
    "        print(torch.min(self.gradients), torch.max(self.gradients))\n",
    "        print(self.gradients.shape)\n",
    "        pooled_gradients = torch.mean(self.gradients, dim=[0, 2, 3])\n",
    "        for i in range(self.activations.shape[1]):\n",
    "            self.activations[:, i, :, :] *= pooled_gradients[i]\n",
    "\n",
    "        # Generate heatmap\n",
    "        heatmap = torch.mean(self.activations, dim=1).squeeze()\n",
    "        heatmap = F.relu(heatmap)\n",
    "        heatmap = heatmap / torch.max(heatmap)\n",
    "\n",
    "        return heatmap.detach().cpu().numpy()\n",
    "\n",
    "    def overlay_heatmap(self, heatmap, original_image, alpha=0.5, colormap='viridis'):\n",
    "        # Normalize heatmap\n",
    "        heatmap = np.uint8(255 * heatmap)\n",
    "\n",
    "        # Apply colormap\n",
    "        colormap = plt.get_cmap(colormap)\n",
    "        heatmap = colormap(heatmap)\n",
    "\n",
    "        # Overlay heatmap\n",
    "        heatmap = np.float32(heatmap) / 255\n",
    "        overlayed_image = heatmap[..., 0] * alpha + np.float32(original_image) * (1 - alpha)\n",
    "\n",
    "        return np.uint8(255 * overlayed_image)\n",
    "\n",
    "# Usage\n",
    "model.model.model.train()\n",
    "target_layer = model.model.model.decoders[0].decoder['resrep2last']  # The layer you want to visualize\n",
    "grad_cam = GradCAM(model.model.model, target_layer)\n",
    "\n",
    "# Prepare input tensor\n",
    "images = np.load(\"/home/labs/hornsteinlab/Collaboration/MOmaps/input/images/processed/spd2/SpinningDisk/batch9_16bit_no_downsample/WT/stress/G3BP1/rep1_R11_w3confCy5_s1_panelA_WT_processed.npy\")\n",
    "images = np.transpose(images, (0,3,1,2))\n",
    "input_tensor = torch.tensor(images[[0]]).float().cuda()  # Your input tensor\n",
    "\n",
    "# Define the target pixel or region\n",
    "target_region = (0,0,50, 50)\n",
    "\n",
    "# Generate heatmap\n",
    "heatmap = grad_cam.generate_heatmap(input_tensor, target_region)\n",
    "print(heatmap.shape)\n",
    "print(heatmap)\n",
    "print((heatmap == old_heatmap).all())\n",
    "old_heatmap = heatmap\n",
    "# Overlay heatmap on original image (if applicable)\n",
    "# original_image = images[0]  # The original image\n",
    "# overlayed_image = grad_cam.overlay_heatmap(heatmap, original_image[0,...], alpha=1)\n",
    "\n",
    "# Plotting\n",
    "# plt.imshow(overlayed_image, cmap='gray', vmin=0, vmax=255)\n",
    "# plt.show()\n",
    "\n",
    "plt.imshow(heatmap, cmap='gray', vmin=0, vmax=1)\n",
    "plt.show()\n",
    "\n",
    "\n"
   ]
  },
  {
   "cell_type": "code",
   "execution_count": null,
   "metadata": {},
   "outputs": [],
   "source": []
  },
  {
   "cell_type": "markdown",
   "metadata": {},
   "source": [
    "------------------------------------------"
   ]
  },
  {
   "cell_type": "code",
   "execution_count": null,
   "metadata": {},
   "outputs": [],
   "source": [
    "# Utils obsolete??\n",
    "def get_diff_indexes(marker='G3BP1', threshold=2.5):\n",
    "    plt.bar(np.arange(len(diff.loc[marker,:])), diff.loc[marker,:])\n",
    "    plt.axhline(threshold, alpha=0.3, color='red')\n",
    "    plt.axhline(-threshold,  alpha=0.3, color='red')\n",
    "\n",
    "    diff_indexes_up = diff.loc[marker,diff.loc[marker,:] >= threshold].index\n",
    "    diff_indexes_down = diff.loc[marker,diff.loc[marker,:] <= -threshold].index\n",
    "    return diff_indexes_up, diff_indexes_down\n",
    "\n",
    "# diff_indexes_up, diff_indexes_down = get_diff_indexes(threshold=3)\n",
    "\n",
    "def replace_diff_indexes_with(indx=0, codeword=None, swap=False, is_baseline=True, only_up=False, only_down=False):\n",
    "    # is_baseline - if the image is stress set it to True, False otherwise (untreated)\n",
    "    # swap - Swap upregualted codeword with dowregulated ones\n",
    "    # index - Set to all up/downregulated codewords the i codeword from the codebook\n",
    "    # codeword - Set this codeword to all up/downregulated codewords\n",
    "    vq_idx = 1\n",
    "    emb1_copy = emb1.clone()\n",
    "    \n",
    "    embind1 = model.model.infer_embeddings(img, f'vqind{vq_idx}')\n",
    "    embind1 = torch.from_numpy(embind1)\n",
    "    print(embind1.shape)\n",
    "    \n",
    "    codebook = model.model.model.vq_layers[vq_idx - 1].codebook.weight.detach().cpu().numpy()\n",
    "\n",
    "    if not swap:\n",
    "        placeholder_word = torch.from_numpy(codebook[indx]) if codeword is None else codeword\n",
    "        placeholder_word.shape\n",
    "\n",
    "    indexes_to_replace_up = np.isin(embind1[0][0].detach().cpu().numpy(), diff_indexes_up)\n",
    "    indexes_to_replace_down = np.isin(embind1[0][0].detach().cpu().numpy(), diff_indexes_down)\n",
    "    \n",
    "    if is_baseline:\n",
    "        _tmp = indexes_to_replace_up\n",
    "        indexes_to_replace_up = indexes_to_replace_down\n",
    "        indexes_to_replace_down = _tmp\n",
    "    \n",
    "    if not swap:\n",
    "        placeholder_word_up = placeholder_word\n",
    "        placeholder_word_down = -placeholder_word\n",
    "    \n",
    "    # if swap:\n",
    "    #     placeholder_word_up = codebook[diff_indexes_down[0]]\n",
    "        # placeholder_word_down = codebook[diff_indexes_up[0]]\n",
    "    \n",
    "    print(np.sum(indexes_to_replace_up), np.sum(indexes_to_replace_down))\n",
    "\n",
    "    for i in range(emb1_copy.shape[2]):\n",
    "        for j in range(emb1_copy.shape[3]):\n",
    "            if indexes_to_replace_up[i,j] and not only_down:\n",
    "                print(f\"Here, ({i}, {j})\")\n",
    "                if swap:\n",
    "                    placeholder_word_up = codebook[diff_indexes_down[np.random.choice(len(diff_indexes_down))]]\n",
    "                    placeholder_word_up = torch.from_numpy(placeholder_word_up)\n",
    "                    # print(placeholder_word_up)\n",
    "                assert torch.any(emb1_copy[:,:, i,j] != placeholder_word_up), \"The same\"\n",
    "                emb1_copy[:,:, i,j] = placeholder_word_up\n",
    "            elif indexes_to_replace_down[i,j] and not only_up:\n",
    "                if not swap:\n",
    "                    print(f\"Here Down, ({i}, {j}), {placeholder_word_down}\")\n",
    "                    emb1_copy[:,:, i,j] = placeholder_word_down\n",
    "            # else:\n",
    "            #     if not swap:\n",
    "            #         emb1_copy[:,:, i,j] = torch.zeros((64,))\n",
    "\n",
    "\n",
    "    # for i in range(indexes_to_replace_up.shape[0]):\n",
    "    #     for j in range(indexes_to_replace_up.shape[1]):\n",
    "    #         if not indexes_to_replace_up[i,j]:\n",
    "    #             continue\n",
    "    #         print(f\"Yes, ({i},{j})\")\n",
    "    #         emb1_copy[:,:, i,j] = placeholder_word\n",
    "            \n",
    "    # for i in range(indexes_to_replace_down.shape[0]):\n",
    "    #     for j in range(indexes_to_replace_down.shape[1]):\n",
    "    #         if not indexes_to_replace_down[i,j]:\n",
    "    #             continue\n",
    "    #         print(f\"Yes, ({i},{j})\")\n",
    "    #         emb1_copy[:,:, i,j] = -placeholder_word\n",
    "    \n",
    "    return emb1_copy\n",
    "\n",
    "def highlight_codevecs_separatly():\n",
    "    # is_baseline - if the image is stress set it to True, False otherwise (untreated)\n",
    "    # swap - Swap upregualted codeword with dowregulated ones\n",
    "    # index - Set to all up/downregulated codewords the i codeword from the codebook\n",
    "    # codeword - Set this codeword to all up/downregulated codewords\n",
    "    vq_idx = 1\n",
    "    \n",
    "    embind1 = model.model.infer_embeddings(img, f'vqind{vq_idx}')\n",
    "    embind1 = torch.from_numpy(embind1)\n",
    "    print(embind1.shape)\n",
    "    \n",
    "    # codebook = model.model.model.vq_layers[vq_idx - 1].codebook.weight.detach().cpu().numpy()\n",
    "\n",
    "    all_indexes = np.unique(embind1[0][0].detach().cpu().numpy())\n",
    "    print(len(all_indexes))\n",
    "    \n",
    "    \n",
    "    for index in all_indexes:\n",
    "        index_to_highlight = torch.argwhere(embind1[0][0] == index)\n",
    "        for i in index_to_highlight:\n",
    "            emb1_copy = torch.zeros_like(emb1)\n",
    "            emb1_copy[:,:, i[0],i[1]] = torch.ones((64,))*10000\n",
    "            r = reconstruct_image(emb1_copy, emb2)\n",
    "            plt.imshow(img_original[0,0,...], cmap='gray')\n",
    "            plt.imshow(r[0,0,...], alpha=0.3, cmap='seismic')\n",
    "            plt.show()\n",
    "            # else:\n",
    "            #     if not swap:\n",
    "            #         emb1_copy[:,:, i,j] = torch.zeros((64,))\n",
    "\n",
    "\n",
    "    # for i in range(indexes_to_replace_up.shape[0]):\n",
    "    #     for j in range(indexes_to_replace_up.shape[1]):\n",
    "    #         if not indexes_to_replace_up[i,j]:\n",
    "    #             continue\n",
    "    #         print(f\"Yes, ({i},{j})\")\n",
    "    #         emb1_copy[:,:, i,j] = placeholder_word\n",
    "            \n",
    "    # for i in range(indexes_to_replace_down.shape[0]):\n",
    "    #     for j in range(indexes_to_replace_down.shape[1]):\n",
    "    #         if not indexes_to_replace_down[i,j]:\n",
    "    #             continue\n",
    "    #         print(f\"Yes, ({i},{j})\")\n",
    "    #         emb1_copy[:,:, i,j] = -placeholder_word\n",
    "    \n",
    "    # return emb1_copy\n",
    "    \n",
    "# emb1_altered = replace_diff_indexes_with(swap=False, is_baseline=False, codeword=torch.ones((64,))*1000000, only_down=True)\n",
    "# emb1_altered.shape"
   ]
  }
 ],
 "metadata": {
  "kernelspec": {
   "display_name": "Python 3",
   "language": "python",
   "name": "python3"
  },
  "language_info": {
   "codemirror_mode": {
    "name": "ipython",
    "version": 3
   },
   "file_extension": ".py",
   "mimetype": "text/x-python",
   "name": "python",
   "nbconvert_exporter": "python",
   "pygments_lexer": "ipython3",
   "version": "3.9.16"
  }
 },
 "nbformat": 4,
 "nbformat_minor": 4
}
