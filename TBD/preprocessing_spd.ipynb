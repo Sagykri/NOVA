{
 "cells": [
  {
   "cell_type": "markdown",
   "metadata": {},
   "source": [
    "# Installations"
   ]
  },
  {
   "cell_type": "code",
   "execution_count": null,
   "metadata": {
    "execution": {
     "iopub.execute_input": "2023-02-22T12:47:44.107130Z",
     "iopub.status.busy": "2023-02-22T12:47:44.106734Z",
     "iopub.status.idle": "2023-02-22T12:47:44.109598Z",
     "shell.execute_reply": "2023-02-22T12:47:44.109162Z"
    }
   },
   "outputs": [],
   "source": [
    "# %pip install \"opencv-python-headless<4.3\"\n",
    "# %pip install cellpose\n",
    "# %pip install cytoself\n",
    "\n",
    "# %pip install --upgrade scikit-image"
   ]
  },
  {
   "cell_type": "markdown",
   "metadata": {},
   "source": [
    "# Imports"
   ]
  },
  {
   "cell_type": "code",
   "execution_count": null,
   "metadata": {
    "execution": {
     "iopub.execute_input": "2023-02-22T12:47:44.111681Z",
     "iopub.status.busy": "2023-02-22T12:47:44.111323Z",
     "iopub.status.idle": "2023-02-22T12:48:01.693924Z",
     "shell.execute_reply": "2023-02-22T12:48:01.693208Z"
    }
   },
   "outputs": [],
   "source": [
    "import os\n",
    "import numpy as np\n",
    "import pandas as pd\n",
    "import random\n",
    "import logging\n",
    "import torch\n",
    "\n",
    "from config import SEED\n",
    "from preprocessing import preprocess_images_spd\n",
    "\n",
    "\n",
    "\n",
    "np.random.seed(SEED)\n",
    "random.seed(SEED)\n",
    "\n",
    "%reload_ext autoreload\n",
    "%autoreload 2\n",
    "%aimport"
   ]
  },
  {
   "cell_type": "code",
   "execution_count": null,
   "metadata": {
    "execution": {
     "iopub.execute_input": "2023-02-22T12:48:01.732340Z",
     "iopub.status.busy": "2023-02-22T12:48:01.731685Z",
     "iopub.status.idle": "2023-02-22T16:14:19.557790Z",
     "shell.execute_reply": "2023-02-22T16:14:19.557252Z"
    }
   },
   "outputs": [],
   "source": [
    "log_file_path = f\"./logs/preprocessing_perturbations_spd2.log\"\n",
    "logging.basicConfig(filename=log_file_path, level=logging.INFO,\n",
    "                    format=\"%(asctime)s %(levelname)s %(message)s\",\n",
    "                    datefmt=\"%Y-%m-%d %H:%M:%S\")\n",
    "\n",
    "raw_folder_root = \"./data/raw/\"\n",
    "processed_folder_root = \"./data/processed/spd2/\"\n",
    "\n",
    "\n",
    "logging.info(f\"Is GPU available: {torch.cuda.is_available()}\")\n",
    "\n",
    "# raw_files = os.listdir(raw_folder_root)\n",
    "raw_folders = [\"./SpinningDisk/Perturbations\"]\n",
    "\n",
    "for raw_f in raw_folders:\n",
    "    input_folder_root = os.path.join(raw_folder_root, raw_f)\n",
    "    output_folder_root = os.path.join(processed_folder_root, raw_f)\n",
    "    \n",
    "    logging.info(f\"[{raw_f}] Processing folder\")\n",
    "    \n",
    "    if not os.path.isdir(input_folder_root):\n",
    "        logging.info(f\"[{raw_f}] Skipping non-folder\")\n",
    "        continue\n",
    "    \n",
    "    cell_lines = [f for f in os.listdir(input_folder_root) if os.path.isdir(os.path.join(input_folder_root, f))]\n",
    "\n",
    "    logging.info(f\"[{raw_f}] Cell line detected: {cell_lines}\")\n",
    "\n",
    "    for cell_line in cell_lines:\n",
    "       \n",
    "        \n",
    "        logging.info(f\"[{raw_f} {cell_line}] Cell line: {cell_line}\")\n",
    "        \n",
    "        input_folder_root_cell_line = os.path.join(input_folder_root, cell_line)\n",
    "        \n",
    "        panels = [f for f in os.listdir(input_folder_root_cell_line) if os.path.isdir(os.path.join(input_folder_root_cell_line, f))]        \n",
    "        \n",
    "        logging.info(f\"[{raw_f}, {cell_line}] Panels: {panels}\")\n",
    "         \n",
    "        for panel in panels:\n",
    "            logging.info(f\"[{raw_f} {cell_line} {panel}] Panel: {panel}\")\n",
    "            \n",
    "            input_folder_root_panel = os.path.join(input_folder_root_cell_line, panel)\n",
    "            \n",
    "            conditions = [f for f in os.listdir(input_folder_root_panel) \n",
    "                          if os.path.isdir(os.path.join(input_folder_root_panel, f)) and f != 'experiment setup']   \n",
    "                \n",
    "            logging.info(f\"[{raw_f} {cell_line} {panel}] Conditions: {conditions}\")\n",
    "            \n",
    "            input_folders = [os.path.join(input_folder_root, cell_line, panel, cond) for cond in conditions]     \n",
    "            output_folders = [os.path.join(output_folder_root, cell_line, cond) for cond in conditions]\n",
    "            \n",
    "            print(f\"Input folders: {input_folders}\")\n",
    "            logging.info(f\"Input folders: {input_folders}\")\n",
    "\n",
    "            format_output_filename = lambda filename, ext: f\"{filename}_{panel}_{cell_line}{ext}\"\n",
    "            preprocess_images_spd(input_folders, output_folders,\\\n",
    "                            format_output_filename=format_output_filename, show=False)\n"
   ]
  }
 ],
 "metadata": {
  "kernelspec": {
   "display_name": "Python 3 (ipykernel)",
   "language": "python",
   "name": "python3"
  },
  "language_info": {
   "codemirror_mode": {
    "name": "ipython",
    "version": 3
   },
   "file_extension": ".py",
   "mimetype": "text/x-python",
   "name": "python",
   "nbconvert_exporter": "python",
   "pygments_lexer": "ipython3",
   "version": "3.7.11"
  },
  "vscode": {
   "interpreter": {
    "hash": "968e379122ae9f8d16a34d46f8720be4493d19d7829fc1f3ffcce7bd42b01504"
   }
  }
 },
 "nbformat": 4,
 "nbformat_minor": 2
}
