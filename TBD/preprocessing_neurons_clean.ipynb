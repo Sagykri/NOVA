{
 "cells": [
  {
   "cell_type": "markdown",
   "metadata": {},
   "source": [
    "# Installations"
   ]
  },
  {
   "cell_type": "code",
   "execution_count": null,
   "metadata": {
    "execution": {
     "iopub.execute_input": "2022-09-22T14:31:25.379526Z",
     "iopub.status.busy": "2022-09-22T14:31:25.379233Z",
     "iopub.status.idle": "2022-09-22T14:31:25.382652Z",
     "shell.execute_reply": "2022-09-22T14:31:25.382039Z"
    }
   },
   "outputs": [],
   "source": [
    "# %pip install \"opencv-python-headless<4.3\"\n",
    "# %pip install cellpose\n",
    "# %pip install cytoself\n",
    "\n",
    "# %pip install --upgrade scikit-image"
   ]
  },
  {
   "cell_type": "markdown",
   "metadata": {},
   "source": [
    "# Imports"
   ]
  },
  {
   "cell_type": "code",
   "execution_count": null,
   "metadata": {
    "execution": {
     "iopub.execute_input": "2022-09-22T14:31:25.385222Z",
     "iopub.status.busy": "2022-09-22T14:31:25.384995Z",
     "iopub.status.idle": "2022-09-22T14:31:48.023472Z",
     "shell.execute_reply": "2022-09-22T14:31:48.022882Z"
    }
   },
   "outputs": [],
   "source": [
    "import os\n",
    "import numpy as np\n",
    "import random\n",
    "from config import SEED\n",
    "from preprocessing import preprocess_images\n",
    "\n",
    "np.random.seed(SEED)\n",
    "random.seed(SEED)\n",
    "\n",
    "%reload_ext autoreload\n",
    "%autoreload 2\n",
    "%aimport"
   ]
  },
  {
   "cell_type": "markdown",
   "metadata": {},
   "source": [
    "## Neurons - 12 markers"
   ]
  },
  {
   "cell_type": "code",
   "execution_count": null,
   "metadata": {
    "execution": {
     "iopub.execute_input": "2022-09-22T14:31:48.057317Z",
     "iopub.status.busy": "2022-09-22T14:31:48.056901Z",
     "iopub.status.idle": "2022-09-22T14:31:48.114759Z",
     "shell.execute_reply": "2022-09-22T14:31:48.114229Z"
    }
   },
   "outputs": [],
   "source": [
    "# input_folder_root = \"TODO\"\n",
    "# output_folder_root = \"TODO\"\n",
    "# cell_lines = ['WT', 'TDP43', 'FUS']\n"
   ]
  },
  {
   "cell_type": "code",
   "execution_count": null,
   "metadata": {
    "execution": {
     "iopub.execute_input": "2022-09-22T14:31:48.117193Z",
     "iopub.status.busy": "2022-09-22T14:31:48.116947Z",
     "iopub.status.idle": "2022-09-22T14:31:48.175031Z",
     "shell.execute_reply": "2022-09-22T14:31:48.174549Z"
    }
   },
   "outputs": [],
   "source": [
    "# for cell_line in cell_lines:\n",
    "#     print(\"Cell line: \", cell_line)\n",
    "    \n",
    "#     folders = lambda root: [os.path.join(root, cell_line, \"no_stress\"), os.path.join(root, cell_line, \"stress\")]\n",
    "#     input_folders = folders(input_folder_root)\n",
    "#     output_folders = folders(output_folder_root)\n",
    "\n",
    "#     format_output_filename = lambda filename, ext: f\"{filename}_{cell_line}{ext}\"\n",
    "#     preprocess_images(input_folders, output_folders, format_output_filename=format_output_filename)"
   ]
  },
  {
   "cell_type": "markdown",
   "metadata": {},
   "source": [
    "# Neurons - 15 markers"
   ]
  },
  {
   "cell_type": "code",
   "execution_count": null,
   "metadata": {
    "execution": {
     "iopub.execute_input": "2022-09-22T14:31:48.177644Z",
     "iopub.status.busy": "2022-09-22T14:31:48.177407Z",
     "iopub.status.idle": "2022-09-22T14:31:48.234670Z",
     "shell.execute_reply": "2022-09-22T14:31:48.234201Z"
    }
   },
   "outputs": [],
   "source": [
    "# input_folder_root = \"./drive/MyDrive/cytoself/data/220818_neurons/\"\n",
    "# output_folder_root = \"./drive/MyDrive/cytoself/output/220818_neurons_with_constraint/\"\n",
    "# cell_lines = ['WT', 'TDP43', 'FUS', \"OPTN\", \"TBK1\"]\n",
    "\n",
    "\n",
    "# for cell_line in cell_lines:\n",
    "#     print(\"Cell line: \", cell_line)\n",
    "    \n",
    "#     input_folders = [os.path.join(input_folder_root, cell_line, \"no_stress\")] \n",
    "#     output_folders = [os.path.join(output_folder_root, cell_line, \"unstressed\")] \n",
    "\n",
    "#     format_output_filename = lambda filename, ext: f\"{filename}_{cell_line}{ext}\"\n",
    "#     preprocess_images(input_folders, output_folders,\\\n",
    "#                       format_output_filename=format_output_filename,\\\n",
    "#                       nucleus_channel=2, markers_to_include=[\"NEMO\", \"DCP1A\", \"TOMM20\"])"
   ]
  },
  {
   "cell_type": "markdown",
   "metadata": {},
   "source": [
    "# ALL"
   ]
  },
  {
   "cell_type": "code",
   "execution_count": null,
   "metadata": {
    "execution": {
     "iopub.execute_input": "2022-09-22T14:31:48.237313Z",
     "iopub.status.busy": "2022-09-22T14:31:48.237075Z",
     "iopub.status.idle": "2022-09-22T15:36:12.371038Z",
     "shell.execute_reply": "2022-09-22T15:36:12.369927Z"
    }
   },
   "outputs": [],
   "source": [
    "import logging\n",
    "\n",
    "import torch\n",
    "import pandas as pd\n",
    "\n",
    "id = 1\n",
    "log_file_path = f\"./logs/log{id}.log\"\n",
    "logging.basicConfig(filename=log_file_path, level=logging.INFO,\n",
    "                    format=\"%(asctime)s %(levelname)s %(message)s\",\n",
    "                    datefmt=\"%Y-%m-%d %H:%M:%S\")\n",
    "\n",
    "raw_folder_root = \"/home/labs/hornsteinlab/sagyk/MOmaps/data/raw/\"\n",
    "processed_folder_root = \"/home/labs/hornsteinlab/sagyk/MOmaps/data/processed/\"\n",
    "\n",
    "\n",
    "logging.info(f\"Is GPU available: {torch.cuda.is_available()}\")\n",
    "\n",
    "# raw_files = os.listdir(raw_folder_root)\n",
    "raw_files = [\"220629_neurons_12markers_unstressed\"]\n",
    "\n",
    "\n",
    "cols = [\"WT\", \"FUS\", \"TDP43\", \"TBK1\", \"OPTN\"]\n",
    "dead_cells_count_df = pd.DataFrame(-np.ones((len(raw_files),len(cols))), columns = cols, index=raw_files).astype(int)\n",
    "\n",
    "\n",
    "for raw_f in raw_files:\n",
    "    input_folder_root = os.path.join(raw_folder_root, raw_f)\n",
    "    output_folder_root = os.path.join(processed_folder_root, raw_f)\n",
    "    \n",
    "    print(f\"[{raw_f}] Processing folder\")\n",
    "    logging.info(f\"[{raw_f}] Processing folder\")\n",
    "    \n",
    "    if not os.path.isdir(input_folder_root):\n",
    "        print(f\"[{raw_f}] Skipping non-folder\")\n",
    "        logging.info(f\"[{raw_f}] Skipping non-folder\")\n",
    "        continue\n",
    "    \n",
    "    ### SKIPPING HEK & U2OS\n",
    "    if raw_f == \"220714\":\n",
    "        print(f\"[{raw_f}] Skipping HEK + U2OS folder for now\")\n",
    "        logging.info(f\"[{raw_f}] Skipping HEK + U2OS folder for now\")\n",
    "        continue\n",
    "    \n",
    "    cell_lines = [f for f in os.listdir(input_folder_root) if os.path.isdir(os.path.join(input_folder_root, f))]\n",
    "\n",
    "    print(f\"[{raw_f}] Cell lines detected: {cell_lines}\")\n",
    "    logging.info(f\"[{raw_f}] Cell line detected: {cell_lines}\")\n",
    "\n",
    "    for cell_line in cell_lines:\n",
    "        print(f\"[{raw_f}] Cell line: {cell_line}\")\n",
    "        logging.info(f\"[{raw_f}] Cell line: {cell_line}\")\n",
    "        \n",
    "        input_folder_root_cell_line = os.path.join(input_folder_root, cell_line)\n",
    "        \n",
    "        conditions = [f for f in os.listdir(input_folder_root_cell_line) if os.path.isdir(os.path.join(input_folder_root_cell_line, f))]        \n",
    "        \n",
    "        print(f\"[{raw_f}, {cell_line}] Conditions: {conditions}\")\n",
    "        logging.info(f\"[{raw_f}] Conditions: {conditions}\")\n",
    "        \n",
    "        input_folders = [os.path.join(input_folder_root, cell_line, c) for c in conditions] \n",
    "        output_folders = [os.path.join(output_folder_root, cell_line, c) for c in conditions] \n",
    "\n",
    "        print(f\"Input folders: {input_folders}\")\n",
    "        logging.info(f\"Input folders: {input_folders}\")\n",
    "\n",
    "        format_output_filename = lambda filename, ext: f\"{filename}_{cell_line}{ext}\"\n",
    "        # preprocess_images(input_folders, output_folders,\\\n",
    "        #                 format_output_filename=format_output_filename,\\\n",
    "        #                 nucleus_channel=-1)\n",
    "        \n",
    "        dead_cells_count = preprocess_images(input_folders, output_folders,\\\n",
    "                        format_output_filename=format_output_filename,\\\n",
    "                        nucleus_channel=-1)\n",
    "        dead_cells_count_df.loc[raw_f, cell_line] = dead_cells_count\n",
    "        dead_cells_count_df.to_csv(f\"./dead_cells_counts_{id}\")\n",
    "        "
   ]
  }
 ],
 "metadata": {
  "kernelspec": {
   "display_name": "Python 3 (ipykernel)",
   "language": "python",
   "name": "python3"
  },
  "language_info": {
   "codemirror_mode": {
    "name": "ipython",
    "version": 3
   },
   "file_extension": ".py",
   "mimetype": "text/x-python",
   "name": "python",
   "nbconvert_exporter": "python",
   "pygments_lexer": "ipython3",
   "version": "3.7.11"
  },
  "vscode": {
   "interpreter": {
    "hash": "968e379122ae9f8d16a34d46f8720be4493d19d7829fc1f3ffcce7bd42b01504"
   }
  }
 },
 "nbformat": 4,
 "nbformat_minor": 2
}
