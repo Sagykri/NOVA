{
 "cells": [
  {
   "cell_type": "code",
   "execution_count": 1,
   "metadata": {},
   "outputs": [],
   "source": [
    "%load_ext autoreload\n",
    "%autoreload 2"
   ]
  },
  {
   "cell_type": "code",
   "execution_count": 32,
   "metadata": {},
   "outputs": [
    {
     "name": "stdout",
     "output_type": "stream",
     "text": [
      "NOVA_HOME: /home/projects/hornsteinlab/Collaboration/NOVA\n"
     ]
    }
   ],
   "source": [
    "import matplotlib.pyplot as plt\n",
    "import numpy as np\n",
    "import pandas as pd\n",
    "import cv2\n",
    "import sys\n",
    "import os\n",
    "\n",
    "os.environ['NOVA_HOME'] = '/home/projects/hornsteinlab/Collaboration/NOVA'\n",
    "\n",
    "sys.path.insert(1, os.getenv('NOVA_HOME'))\n",
    "print(f\"NOVA_HOME: {os.getenv('NOVA_HOME')}\")\n",
    "\n",
    "from src.preprocessing.preprocessing_utils import rescale_intensity, fit_image_shape\n",
    "\n",
    "%matplotlib inline"
   ]
  },
  {
   "cell_type": "markdown",
   "metadata": {
    "tags": []
   },
   "source": [
    "# Raw"
   ]
  },
  {
   "cell_type": "code",
   "execution_count": null,
   "metadata": {},
   "outputs": [],
   "source": [
    "# You may change this block\n",
    "batch = \"batch1\"\n",
    "root_path = f\"/home/projects/hornsteinlab/Collaboration/MOmaps/input/images/raw/SpinningDisk/NOVA_d18_neurons_sorted/{batch}/\"\n",
    "n_images = 3"
   ]
  },
  {
   "cell_type": "code",
   "execution_count": 2,
   "metadata": {},
   "outputs": [],
   "source": [
    "# UTILS\n",
    "\n",
    "def plot_images(root_folder, n_sites=3):\n",
    "    for foldername, _, filenames in os.walk(root_folder):\n",
    "        image_count = 0\n",
    "        images = []\n",
    "        names = []\n",
    "        for filename in filenames:\n",
    "            if filename.endswith('.tiff') or filename.endswith('.tif'):\n",
    "                # if 'DMSO' not in filename:\n",
    "                #     continue\n",
    "                image_count += 1\n",
    "                image_path = os.path.join(foldername, filename)\n",
    "                image = cv2.imread(image_path, cv2.IMREAD_ANYDEPTH)\n",
    "                image = fit_image_shape(image, (1024, 1024))\n",
    "                rescale_image = rescale_intensity(image)\n",
    "                print(rescale_image.shape)\n",
    "                images.append(rescale_image)\n",
    "                names.append(filename)\n",
    "                if image_count == n_sites:\n",
    "                    break\n",
    "        if image_count == n_sites:\n",
    "            plt.figure(figsize=(20, 5))\n",
    "            plt.suptitle(f'{foldername}')\n",
    "            for i in range(n_sites):\n",
    "                plt.subplot(1, n_sites, i + 1)\n",
    "                plt.imshow(images[i], cmap='gray')\n",
    "                plt.axis('off')\n",
    "            plt.show()\n"
   ]
  },
  {
   "cell_type": "code",
   "execution_count": null,
   "metadata": {},
   "outputs": [],
   "source": [
    "plot_images(root_path, n_images)"
   ]
  },
  {
   "cell_type": "code",
   "execution_count": null,
   "metadata": {},
   "outputs": [],
   "source": [
    "# You may change this block\n",
    "batch = \"batch2\"\n",
    "root_path = f\"/home/projects/hornsteinlab/Collaboration/MOmaps/input/images/raw/SpinningDisk/NOVA_d18_neurons_sorted/{batch}/\"\n",
    "n_images = 3"
   ]
  },
  {
   "cell_type": "code",
   "execution_count": null,
   "metadata": {},
   "outputs": [],
   "source": [
    "plot_images(root_path, n_images)"
   ]
  },
  {
   "cell_type": "markdown",
   "metadata": {
    "jp-MarkdownHeadingCollapsed": true,
    "tags": []
   },
   "source": [
    "# Processed"
   ]
  },
  {
   "cell_type": "code",
   "execution_count": 33,
   "metadata": {},
   "outputs": [],
   "source": [
    "processed_root_path = \"/home/projects/hornsteinlab/Collaboration/NOVA/input/images/processed/ManuscriptFinalData_80pct/AlyssaCoyne/batch1\"#\"/home/labs/hornsteinlab/Collaboration/MOmaps/input/images/processed/spd2/SpinningDisk/240323_day29_neurons/batch1/\""
   ]
  },
  {
   "cell_type": "code",
   "execution_count": 34,
   "metadata": {},
   "outputs": [],
   "source": [
    "# UTILS\n",
    "\n",
    "def plot_images(root_folder, cell_line=None, marker=None, n_tiles_per_marker=10):\n",
    "    print(f\"rootfolder = {root_folder}, cell_line = {cell_line}, marker={marker}, n_tiles_per_marker={n_tiles_per_marker}\")\n",
    "    for foldername, _, filenames in os.walk(root_folder):\n",
    "        image_count = 0\n",
    "        images = []\n",
    "        images_filenames = []\n",
    "        for filename in filenames:\n",
    "            if filename.endswith('.npy'):\n",
    "                image_path = os.path.join(foldername, filename)\n",
    "                if cell_line is not None and cell_line not in image_path:\n",
    "                    continue\n",
    "                if marker is not None and marker != os.path.basename(foldername):\n",
    "                    continue\n",
    "                image_count += 1\n",
    "                image = np.load(image_path)\n",
    "                tile_indx = np.random.choice(np.arange(len(image)))\n",
    "                image = image[tile_indx]\n",
    "                images.append(image)\n",
    "                images_filenames.append(f\"{filename}_{tile_indx}\")\n",
    "                if image_count == n_tiles_per_marker:\n",
    "                    break\n",
    "        if image_count == 0:\n",
    "            continue\n",
    "        if image_count < n_tiles_per_marker:\n",
    "            print(f\"Found only {image_count} images for {foldername}, skipping...\")\n",
    "            n_tiles_per_marker = image_count\n",
    "            \n",
    "        for i in range(n_tiles_per_marker):\n",
    "            channels = [os.path.basename(foldername), 'nucleus']\n",
    "            fig, ax = plt.subplots(1, len(channels), figsize=(7,7))\n",
    "            fig.suptitle(f'{foldername}')\n",
    "            for j in range(len(channels)):\n",
    "                ax[j].imshow(images[i][...,j], cmap='gray', vmin=0, vmax=1)\n",
    "                if j == 1:\n",
    "                    ax[j].set_title(f\"{channels[j]}\\n{images_filenames[i]}\", y=0, pad=-25)\n",
    "                else:\n",
    "                    ax[j].set_title(f\"{channels[j]}\\n{images_filenames[i]}\")\n",
    "                ax[j].set_axis_off()\n",
    "        plt.show()\n"
   ]
  },
  {
   "cell_type": "code",
   "execution_count": null,
   "metadata": {
    "tags": []
   },
   "outputs": [],
   "source": [
    "plot_images(processed_root_path, cell_line='sALSNegativeCytoTDP43', marker='Map2', n_tiles_per_marker=20)"
   ]
  },
  {
   "cell_type": "code",
   "execution_count": null,
   "metadata": {},
   "outputs": [],
   "source": [
    "processed_root_path_opera = \"/home/projects/hornsteinlab/Collaboration/MOmaps/input/images/processed/Opera/batch1/\"#KOLF/Untreated/\"\n",
    "plot_images(processed_root_path_opera, cell_line='DMSO', marker='LAMP1', n_tiles_per_marker=40)"
   ]
  },
  {
   "cell_type": "markdown",
   "metadata": {},
   "source": [
    "### Save chosen tiles as tiffs "
   ]
  },
  {
   "cell_type": "code",
   "execution_count": 5,
   "metadata": {},
   "outputs": [],
   "source": [
    "# --- SAVE CHOSEN TILES AS TIFFS (use full .npy paths like \".../file.npy_2\") ---\n",
    "import os\n",
    "import re\n",
    "import numpy as np\n",
    "from tifffile import imwrite\n",
    "\n",
    "def _scale_to_uint16(img):\n",
    "    \"\"\"Convert float [0,1] -> uint16 (ImageJ-friendly). Leave int types as-is.\"\"\"\n",
    "    if np.issubdtype(img.dtype, np.floating):\n",
    "        img = np.nan_to_num(img, nan=0.0, posinf=1.0, neginf=0.0)\n",
    "        img = np.clip(img, 0.0, 1.0)\n",
    "        return (img * 65535).round().astype(np.uint16)\n",
    "    return img\n",
    "\n",
    "def _save_tile_array_as_tiff(tile_array_hw_c, out_path, imagej=False, force_uint16=True):\n",
    "    \"\"\"\n",
    "    tile_array_hw_c: (H, W, C) with C=2 here.\n",
    "    imagej=True -> save as planes (C,H,W) ImageJ stack; else interleaved (H,W,C).\n",
    "    \"\"\"\n",
    "    os.makedirs(os.path.dirname(out_path), exist_ok=True)\n",
    "    arr = tile_array_hw_c\n",
    "    if force_uint16:\n",
    "        arr = _scale_to_uint16(arr)\n",
    "\n",
    "    if imagej:\n",
    "        imwrite(out_path, np.moveaxis(arr, -1, 0), imagej=True)  # (C,H,W)\n",
    "    else:\n",
    "        imwrite(out_path, arr)  # (H,W,C)\n",
    "    print(f\"[saved] {out_path}\")\n",
    "\n",
    "_label_re = re.compile(r\"^(?P<path>.*\\.npy)_(?P<idx>\\d+)$\")\n",
    "\n",
    "def save_tiles_from_fullpaths(\n",
    "    labels,\n",
    "    out_dir,\n",
    "    imagej=False,\n",
    "    force_uint16=True,\n",
    "    prefix_parents=2,\n",
    "):\n",
    "    \"\"\"\n",
    "    Save tiles given labels that include the FULL npy path + tile index, e.g.:\n",
    "        \"/.../NIH/batch2/WT/Untreated/TDP43/sample_001.npy_7\"\n",
    "    - Loads the npy at the exact path; no folder search is done.\n",
    "    - Expects arrays shaped (N, H, W, 2); saves tile 'idx' to TIFF in out_dir.\n",
    "    - Output filename includes up to `prefix_parents` parent folders to avoid collisions.\n",
    "    \"\"\"\n",
    "    os.makedirs(out_dir, exist_ok=True)\n",
    "\n",
    "    for label in labels:\n",
    "        m = _label_re.match(label)\n",
    "        if not m:\n",
    "            print(f\"[skip] Bad label format (expect '/full/path/file.npy_X'): {label}\")\n",
    "            continue\n",
    "\n",
    "        npy_path = m.group(\"path\")\n",
    "        tile_idx = int(m.group(\"idx\"))\n",
    "\n",
    "        if not os.path.isfile(npy_path):\n",
    "            print(f\"[miss] Not found: {npy_path}\")\n",
    "            continue\n",
    "\n",
    "        try:\n",
    "            arr = np.load(npy_path)  # expect (N, H, W, 2)\n",
    "        except Exception as e:\n",
    "            print(f\"[error] Failed to load {npy_path}: {e}\")\n",
    "            continue\n",
    "\n",
    "        if arr.ndim != 4 or arr.shape[-1] != 2:\n",
    "            print(f\"[skip] Unexpected shape for {npy_path}: {arr.shape} (need (N,H,W,2))\")\n",
    "            continue\n",
    "\n",
    "        if tile_idx < 0 or tile_idx >= arr.shape[0]:\n",
    "            print(f\"[skip] Index {tile_idx} out of range 0..{arr.shape[0]-1} for {npy_path}\")\n",
    "            continue\n",
    "\n",
    "        tile = arr[tile_idx]  # (H, W, 2)\n",
    "\n",
    "        base = os.path.basename(npy_path)  # \"file.npy\"\n",
    "        # Build a disambiguated name by prefixing last `prefix_parents` directories\n",
    "        parts = []\n",
    "        d = os.path.dirname(npy_path)\n",
    "        for _ in range(max(prefix_parents, 0)):\n",
    "            head, tail = os.path.split(d)\n",
    "            if not tail:\n",
    "                break\n",
    "            parts.append(tail)\n",
    "            d = head\n",
    "        parts = list(reversed(parts))  # from higher to lower level\n",
    "        out_name = f\"{'__'.join(parts + [base])}_{tile_idx}.tif\" if parts else f\"{base}_{tile_idx}.tif\"\n",
    "        out_path = os.path.join(out_dir, out_name)\n",
    "\n",
    "        _save_tile_array_as_tiff(tile, out_path, imagej=imagej, force_uint16=force_uint16)\n",
    "\n",
    "# --- Example usage ---\n",
    "# tiles_to_save = [\n",
    "#     \"/home/projects/hornsteinlab/Collaboration/NOVA/input/images/processed/ManuscriptFinalData_80pct/NIH/batch2/WT/Untreated/TDP43/sample_001.npy_7\",\n",
    "#     \"/home/projects/hornsteinlab/Collaboration/NOVA/input/images/processed/ManuscriptFinalData_80pct/NIH/batch2/WT/Treated/TDP43/sample_001.npy_3\",\n",
    "# ]\n",
    "# save_tiles_from_fullpaths(\n",
    "#     labels=tiles_to_save,\n",
    "#     out_dir=\"/home/projects/hornsteinlab/tiles_out/selected\",\n",
    "#     imagej=False,        # True -> (C,H,W) ImageJ stack\n",
    "#     force_uint16=True,   # scale [0,1] floats to uint16\n",
    "#     prefix_parents=3     # include last 3 parent dirs in filename to avoid collisions\n",
    "# )"
   ]
  },
  {
   "cell_type": "code",
   "execution_count": 42,
   "metadata": {},
   "outputs": [
    {
     "name": "stdout",
     "output_type": "stream",
     "text": [
      "[saved] /home/projects/hornsteinlab/Collaboration/NOVA/manuscript/rep_images/Coyne_Fig5/sALSNegativeCytoTDP43__Untreated__Map2__rep1_R11_w2confmCherry_s66_panelA_sALSNegativeCytoTDP43_processed.npy_2.tif\n"
     ]
    }
   ],
   "source": [
    "processed_root_path = \"/home/projects/hornsteinlab/Collaboration/NOVA/input/images/processed/ManuscriptFinalData_80pct/AlyssaCoyne/batch1\"\n",
    "\n",
    "tiles_to_save = [\n",
    "    \"/home/projects/hornsteinlab/Collaboration/NOVA/input/images/processed/ManuscriptFinalData_80pct/AlyssaCoyne/batch1/sALSNegativeCytoTDP43/Untreated/Map2/rep1_R11_w2confmCherry_s66_panelA_sALSNegativeCytoTDP43_processed.npy_2\"\n",
    "]\n",
    "\n",
    "save_tiles_from_fullpaths(\n",
    "    labels=tiles_to_save,\n",
    "    out_dir=\"/home/projects/hornsteinlab/Collaboration/NOVA/manuscript/rep_images/Coyne_Fig5\",\n",
    "    imagej=True,        # True -> (C,H,W) ImageJ stack\n",
    "    force_uint16=True,   # scale [0,1] floats to uint16\n",
    "    prefix_parents=3     # include last 3 parent dirs in filename to avoid collisions\n",
    ")"
   ]
  },
  {
   "cell_type": "markdown",
   "metadata": {},
   "source": [
    "#### Read scale from tiff ?"
   ]
  },
  {
   "cell_type": "code",
   "execution_count": 24,
   "metadata": {},
   "outputs": [
    {
     "name": "stdout",
     "output_type": "stream",
     "text": [
      "ResolutionUnit: 2 (inch)\n",
      "XResolution: 300.000 px/inch, YResolution: 300.000 px/inch\n",
      "Pixel size: 84.66666666666667 µm/px (X), 84.66666666666667 µm/px (Y)\n"
     ]
    }
   ],
   "source": [
    "import tifffile as tiff\n",
    "\n",
    "tif_path = \"/home/projects/hornsteinlab/Collaboration/NOVA/input/images/raw/AlyssaCoyne/MOmaps_iPSC_patients_TDP43_PB_CoyneLab/batch1/c9orf72ALSPatients/panelA/Untreated/rep1/DCP1A/R11_w2confCy5_s01.tif\"\n",
    "\n",
    "with tiff.TiffFile(tif_path) as tf:\n",
    "    page = tf.pages[0]\n",
    "    # Pixels per unit (RATIONAL)\n",
    "    xnum, xden = page.tags[\"XResolution\"].value\n",
    "    ynum, yden = page.tags[\"YResolution\"].value\n",
    "    ppu_x = xnum / xden\n",
    "    ppu_y = ynum / yden\n",
    "\n",
    "    # ResolutionUnit: 1=No absolute unit, 2=Inch, 3=Centimeter\n",
    "    unit = page.tags[\"ResolutionUnit\"].value if \"ResolutionUnit\" in page.tags else 1\n",
    "\n",
    "    if unit == 2:\n",
    "        um_per_px_x = 25400.0 / ppu_x  # µm per inch / pixels per inch\n",
    "        um_per_px_y = 25400.0 / ppu_y\n",
    "        unit_name = \"inch\"\n",
    "    elif unit == 3:\n",
    "        um_per_px_x = 10000.0 / ppu_x  # µm per cm / pixels per cm\n",
    "        um_per_px_y = 10000.0 / ppu_y\n",
    "        unit_name = \"centimeter\"\n",
    "    else:\n",
    "        um_per_px_x = um_per_px_y = None\n",
    "        unit_name = \"unknown\"\n",
    "\n",
    "    print(f\"ResolutionUnit: {unit} ({unit_name})\")\n",
    "    print(f\"XResolution: {ppu_x:.3f} px/{unit_name}, YResolution: {ppu_y:.3f} px/{unit_name}\")\n",
    "    print(f\"Pixel size: {um_per_px_x} µm/px (X), {um_per_px_y} µm/px (Y)\")\n"
   ]
  },
  {
   "cell_type": "code",
   "execution_count": null,
   "metadata": {},
   "outputs": [],
   "source": [
    "\"\"\"\n",
    "for tiles that are downsized from 128x128 to 100x100:\n",
    "1 pixel = 0.1083x(128/100) = 0.1386 um\n",
    "\"\"\""
   ]
  }
 ],
 "metadata": {
  "kernelspec": {
   "display_name": "nova new",
   "language": "python",
   "name": "nova_new"
  },
  "language_info": {
   "codemirror_mode": {
    "name": "ipython",
    "version": 3
   },
   "file_extension": ".py",
   "mimetype": "text/x-python",
   "name": "python",
   "nbconvert_exporter": "python",
   "pygments_lexer": "ipython3",
   "version": "3.9.19"
  }
 },
 "nbformat": 4,
 "nbformat_minor": 4
}
