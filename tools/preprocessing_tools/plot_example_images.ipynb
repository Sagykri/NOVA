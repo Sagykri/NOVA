{
 "cells": [
  {
   "cell_type": "code",
   "execution_count": null,
   "metadata": {},
   "outputs": [],
   "source": [
    "%load_ext autoreload\n",
    "%autoreload 2"
   ]
  },
  {
   "cell_type": "code",
   "execution_count": null,
   "metadata": {},
   "outputs": [],
   "source": [
    "import matplotlib.pyplot as plt\n",
    "import numpy as np\n",
    "import pandas as pd\n",
    "import cv2\n",
    "import sys\n",
    "import os\n",
    "\n",
    "os.environ['MOMAPS_HOME'] = '/home/labs/hornsteinlab/Collaboration/MOmaps'\n",
    "\n",
    "sys.path.insert(1, os.getenv('MOMAPS_HOME'))\n",
    "print(f\"MOMAPS_HOME: {os.getenv('MOMAPS_HOME')}\")\n",
    "\n",
    "from src.preprocessing.preprocessing_utils import rescale_intensity, fit_image_shape\n",
    "\n",
    "%matplotlib inline"
   ]
  },
  {
   "cell_type": "markdown",
   "metadata": {
    "tags": []
   },
   "source": [
    "# Raw"
   ]
  },
  {
   "cell_type": "code",
   "execution_count": null,
   "metadata": {},
   "outputs": [],
   "source": [
    "# You may change this block\n",
    "batch = \"batch1\"\n",
    "root_path = f\"/home/labs/hornsteinlab/Collaboration/MOmaps/input/images/raw/SpinningDisk/NOVA_d18_neurons_sorted/{batch}/\"\n",
    "n_images = 3"
   ]
  },
  {
   "cell_type": "code",
   "execution_count": null,
   "metadata": {},
   "outputs": [],
   "source": [
    "# UTILS\n",
    "\n",
    "def plot_images(root_folder, n_sites=3):\n",
    "    for foldername, _, filenames in os.walk(root_folder):\n",
    "        image_count = 0\n",
    "        images = []\n",
    "        names = []\n",
    "        for filename in filenames:\n",
    "            if filename.endswith('.tiff') or filename.endswith('.tif'):\n",
    "                # if 'DMSO' not in filename:\n",
    "                #     continue\n",
    "                image_count += 1\n",
    "                image_path = os.path.join(foldername, filename)\n",
    "                image = cv2.imread(image_path, cv2.IMREAD_ANYDEPTH)\n",
    "                image = fit_image_shape(image, (1024, 1024))\n",
    "                rescale_image = rescale_intensity(image)\n",
    "                print(rescale_image.shape)\n",
    "                images.append(rescale_image)\n",
    "                names.append(filename)\n",
    "                if image_count == n_sites:\n",
    "                    break\n",
    "        if image_count == n_sites:\n",
    "            plt.figure(figsize=(20, 5))\n",
    "            plt.suptitle(f'{foldername}')\n",
    "            for i in range(n_sites):\n",
    "                plt.subplot(1, n_sites, i + 1)\n",
    "                plt.imshow(images[i], cmap='gray')\n",
    "                plt.axis('off')\n",
    "            plt.show()\n"
   ]
  },
  {
   "cell_type": "code",
   "execution_count": null,
   "metadata": {},
   "outputs": [],
   "source": [
    "plot_images(root_path, n_images)"
   ]
  },
  {
   "cell_type": "code",
   "execution_count": null,
   "metadata": {},
   "outputs": [],
   "source": [
    "# You may change this block\n",
    "batch = \"batch2\"\n",
    "root_path = f\"/home/labs/hornsteinlab/Collaboration/MOmaps/input/images/raw/SpinningDisk/NOVA_d18_neurons_sorted/{batch}/\"\n",
    "n_images = 3"
   ]
  },
  {
   "cell_type": "code",
   "execution_count": null,
   "metadata": {},
   "outputs": [],
   "source": [
    "plot_images(root_path, n_images)"
   ]
  },
  {
   "cell_type": "markdown",
   "metadata": {
    "jp-MarkdownHeadingCollapsed": true,
    "tags": []
   },
   "source": [
    "# Processed"
   ]
  },
  {
   "cell_type": "code",
   "execution_count": null,
   "metadata": {},
   "outputs": [],
   "source": [
    "processed_root_path = \"/home/labs/hornsteinlab/Collaboration/MOmaps/input/images/processed/spd2/SpinningDisk/FUS_lines_stress_2024_sorted/batch1/\"#\"/home/labs/hornsteinlab/Collaboration/MOmaps/input/images/processed/spd2/SpinningDisk/240323_day29_neurons/batch1/\""
   ]
  },
  {
   "cell_type": "code",
   "execution_count": null,
   "metadata": {},
   "outputs": [],
   "source": [
    "# UTILS\n",
    "\n",
    "def plot_images(root_folder, cell_line=None, marker=None, n_tiles_per_marker=10):\n",
    "    print(f\"rootfolder = {root_folder}, cell_line = {cell_line}, marker={marker}, n_tiles_per_marker={n_tiles_per_marker}\")\n",
    "    for foldername, _, filenames in os.walk(root_folder):\n",
    "        image_count = 0\n",
    "        images = []\n",
    "        images_filenames = []\n",
    "        for filename in filenames:\n",
    "            if filename.endswith('.npy'):\n",
    "                image_path = os.path.join(foldername, filename)\n",
    "                if cell_line is not None and cell_line not in image_path:\n",
    "                    continue\n",
    "                if marker is not None and marker != os.path.basename(foldername):\n",
    "                    continue\n",
    "                image_count += 1\n",
    "                image = np.load(image_path)\n",
    "                tile_indx = np.random.choice(np.arange(len(image)))\n",
    "                image = image[tile_indx]\n",
    "                images.append(image)\n",
    "                images_filenames.append(f\"{filename}_{tile_indx}\")\n",
    "                if image_count == n_tiles_per_marker:\n",
    "                    break\n",
    "        if image_count >= n_tiles_per_marker:\n",
    "            for i in range(n_tiles_per_marker):\n",
    "                channels = [os.path.basename(foldername), 'nucleus']\n",
    "                fig, ax = plt.subplots(1, len(channels), figsize=(7,7))\n",
    "                fig.suptitle(f'{foldername}')\n",
    "                for j in range(len(channels)):\n",
    "                    ax[j].imshow(images[i][...,j], cmap='gray', vmin=0, vmax=1)\n",
    "                    if j == 1:\n",
    "                        ax[j].set_title(f\"{channels[j]}\\n{images_filenames[i]}\", y=0, pad=-25)\n",
    "                    else:\n",
    "                        ax[j].set_title(f\"{channels[j]}\\n{images_filenames[i]}\")\n",
    "                    ax[j].set_axis_off()\n",
    "            plt.show()\n"
   ]
  },
  {
   "cell_type": "code",
   "execution_count": null,
   "metadata": {
    "tags": []
   },
   "outputs": [],
   "source": [
    "plot_images(processed_root_path, cell_line='DMSO', marker='FUS', n_tiles_per_marker=10)"
   ]
  },
  {
   "cell_type": "code",
   "execution_count": null,
   "metadata": {},
   "outputs": [],
   "source": [
    "processed_root_path_opera = \"/home/labs/hornsteinlab/Collaboration/MOmaps/input/images/processed/Opera/batch1/\"#KOLF/Untreated/\"\n",
    "plot_images(processed_root_path_opera, cell_line='DMSO', marker='ANXA11', n_tiles_per_marker=40)"
   ]
  }
 ],
 "metadata": {
  "kernelspec": {
   "display_name": "momaps_37",
   "language": "python",
   "name": "momaps_37"
  },
  "language_info": {
   "codemirror_mode": {
    "name": "ipython",
    "version": 3
   },
   "file_extension": ".py",
   "mimetype": "text/x-python",
   "name": "python",
   "nbconvert_exporter": "python",
   "pygments_lexer": "ipython3",
   "version": "3.7.11"
  }
 },
 "nbformat": 4,
 "nbformat_minor": 4
}
