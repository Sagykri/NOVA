{
 "cells": [
  {
   "cell_type": "markdown",
   "id": "e53d6453",
   "metadata": {},
   "source": [
    "# <font color='purple'>dNLS Preprocessing QC statistics </font> \n",
    "### October 2024"
   ]
  },
  {
   "cell_type": "code",
   "execution_count": null,
   "id": "a35a2e3e",
   "metadata": {},
   "outputs": [],
   "source": [
    "import os\n",
    "NOVA_HOME = '/home/labs/hornsteinlab/Collaboration/MOmaps_Noam/MOmaps'\n",
    "NOVA_DATA_HOME = '/home/labs/hornsteinlab/Collaboration/MOmaps'\n",
    "LOGS_PATH = os.path.join(NOVA_DATA_HOME, \"outputs/preprocessing/spd/logs/dNLS\")\n",
    "PLOT_PATH = os.path.join(NOVA_HOME, 'src', 'preprocessing', 'notebooks','figures','dNLS')\n",
    "\n",
    "NOVA_HOME = '/home/labs/hornsteinlab/Collaboration/NOVA_Oz/NOVA'\n",
    "NOVA_DATA_HOME = '/home/labs/hornsteinlab/Collaboration/MOmaps'\n",
    "LOGS_PATH = os.path.join(NOVA_HOME, 'logs', 'dnls')\n",
    "PLOT_PATH = os.path.join(NOVA_HOME, 'src', 'preprocessing', 'notebooks','figures','dnls_80pct')\n",
    "\n",
    "\n",
    "\n",
    "os.chdir(NOVA_HOME)\n",
    "import pandas as pd\n",
    "import numpy as np\n",
    "# plt.rcParams[\"image.cmap\"] = \"Set1\"\n",
    "import contextlib\n",
    "import io\n",
    "from IPython.display import display, Javascript\n",
    "\n",
    "from tools.preprocessing_tools.qc_reports.qc_utils import log_files_qc, run_validate_folder_structure, display_diff, sample_and_calc_variance, \\\n",
    "                                                show_site_survival_dapi_brenner, show_site_survival_dapi_cellpose, \\\n",
    "                                                show_site_survival_dapi_tiling, show_site_survival_target_brenner, \\\n",
    "                                                calc_total_sums, plot_filtering_heatmap, show_total_sum_tables, \\\n",
    "                                                plot_cell_count, plot_catplot, plot_hm_of_mean_cell_count_per_tile, \\\n",
    "                                                run_calc_hist_new\n",
    "                                                \n",
    "from tools.preprocessing_tools.qc_reports.qc_config import dnls_panels, dnls_markers, dnls_marker_info, dnls_cell_lines, \\\n",
    "                                                dnls_cell_lines_to_cond, dnls_cell_lines_for_disp, reps, \\\n",
    "                                                dnls_line_colors, dnls_lines_order, dnls_custom_palette, \\\n",
    "                                                dnls_expected_dapi_raw, markers, custom_palette\n",
    "\n",
    "%load_ext autoreload\n",
    "%autoreload 2"
   ]
  },
  {
   "cell_type": "code",
   "execution_count": null,
   "id": "24d1912d",
   "metadata": {},
   "outputs": [],
   "source": [
    "# choose batches\n",
    "batches = [f'batch{i}' for i in range(3,6)]\n",
    "batches"
   ]
  },
  {
   "cell_type": "code",
   "execution_count": null,
   "id": "6fb18e37",
   "metadata": {},
   "outputs": [],
   "source": [
    "df = log_files_qc(LOGS_PATH, only_wt_cond=False, batches=batches)\n",
    "# we are not using the wt line eventually\n",
    "df = df[df.cell_line != 'WT']\n",
    "\n",
    "df_dapi = df[df.marker=='DAPI']\n",
    "df_target = df[df.marker!='DAPI']\n",
    "# we need to match between the raw marker name (TDP43) and the processed marker name (TDP43N / TDP43B)\n",
    "df_target.loc[df_target['marker'] == 'TDP43', 'marker'] += df_target['panel'].str.replace('panel', '')"
   ]
  },
  {
   "cell_type": "markdown",
   "id": "e308d573-eda3-451a-b967-8664e8894a0c",
   "metadata": {
    "tags": []
   },
   "source": [
    "## Actual Files Validation"
   ]
  },
  {
   "cell_type": "markdown",
   "id": "c522d841",
   "metadata": {},
   "source": [
    "### Raw Files Validation"
   ]
  },
  {
   "cell_type": "markdown",
   "id": "917a4be4-355d-4452-b4ec-ed8554951021",
   "metadata": {},
   "source": [
    "1. How many site **tiff** files do we have in each folder?\n",
    "2. Are all existing files valid? (tif, at least 2049kB, not corrupetd)"
   ]
  },
  {
   "cell_type": "code",
   "execution_count": null,
   "id": "ec1d2ed4",
   "metadata": {
    "scrolled": true
   },
   "outputs": [],
   "source": [
    "\n",
    "root_directory_raw = os.path.join(NOVA_DATA_HOME, 'input', 'images', 'raw', 'SpinningDisk','deltaNLS_sort')\n",
    "\n",
    "raws = run_validate_folder_structure(root_directory_raw, False, dnls_panels, dnls_markers.copy(),PLOT_PATH, dnls_marker_info,\n",
    "                                    dnls_cell_lines_to_cond, reps, dnls_cell_lines_for_disp, dnls_expected_dapi_raw,\n",
    "                                     batches=batches, fig_width=3)"
   ]
  },
  {
   "cell_type": "markdown",
   "id": "5609985e",
   "metadata": {},
   "source": [
    "### Processed Files Validation"
   ]
  },
  {
   "cell_type": "markdown",
   "id": "6c298651-bc69-4088-bb25-7ed939fa192f",
   "metadata": {},
   "source": [
    "1. How many site **npy** files do we have in each folder? -> How many sites survived the pre-processing?\n",
    "2. Are all existing files valid? (at least 100kB, npy not corrupted)"
   ]
  },
  {
   "cell_type": "code",
   "execution_count": null,
   "id": "a9df410c",
   "metadata": {
    "scrolled": true
   },
   "outputs": [],
   "source": [
    "root_directory_proc = os.path.join(NOVA_DATA_HOME, 'input', 'images', 'processed', 'spd2',\n",
    "                              'SpinningDisk','deltaNLS_80pct')\n",
    "procs = run_validate_folder_structure(root_directory_proc, True, dnls_panels, dnls_markers,PLOT_PATH,dnls_marker_info,\n",
    "                                    dnls_cell_lines_to_cond, reps, dnls_cell_lines_for_disp, dnls_expected_dapi_raw,\n",
    "                                     batches=batches, fig_width=3)"
   ]
  },
  {
   "cell_type": "markdown",
   "id": "ffa77c24",
   "metadata": {},
   "source": [
    "### Difference between Raw and Processed"
   ]
  },
  {
   "cell_type": "code",
   "execution_count": null,
   "id": "e4848e93",
   "metadata": {
    "scrolled": true
   },
   "outputs": [],
   "source": [
    "display_diff(batches, raws, procs, PLOT_PATH, fig_width=3)"
   ]
  },
  {
   "cell_type": "markdown",
   "id": "f9e9d63a-0630-41df-b39c-83673c2f0868",
   "metadata": {},
   "source": [
    "### Variance in each batch (of processed files)"
   ]
  },
  {
   "cell_type": "code",
   "execution_count": null,
   "id": "42871b88",
   "metadata": {
    "scrolled": true
   },
   "outputs": [],
   "source": [
    "for batch in batches:\n",
    "    with contextlib.redirect_stdout(io.StringIO()):\n",
    "        var = sample_and_calc_variance(root_directory_proc, batch, \n",
    "                                       sample_size_per_markers=200, cond_count=2, rep_count=len(reps), \n",
    "                                       num_markers=len(dnls_markers))\n",
    "    print(f'{batch} var: ',var)"
   ]
  },
  {
   "cell_type": "markdown",
   "id": "64ccaaf3-ebd0-4d10-88b2-4a10b8128134",
   "metadata": {
    "tags": []
   },
   "source": [
    "## Preprocessing Filtering qc\n",
    "By order of filtering"
   ]
  },
  {
   "cell_type": "markdown",
   "id": "855168a5-82ca-4fc8-bd7c-0e6e55d9d7f6",
   "metadata": {},
   "source": [
    "### 1. % site survival after Brenner on DAPI channel\n",
    "Percentage out of the total sites"
   ]
  },
  {
   "cell_type": "code",
   "execution_count": null,
   "id": "789c977c-dd5c-40b6-babe-b80c954823c9",
   "metadata": {
    "scrolled": true,
    "tags": []
   },
   "outputs": [],
   "source": [
    "dapi_filter_by_brenner = show_site_survival_dapi_brenner(df_dapi,batches, dnls_line_colors, dnls_panels, reps, figsize=(3,5))"
   ]
  },
  {
   "cell_type": "markdown",
   "id": "a0b287b6-21d3-4feb-b1a4-77c6a30d5ad8",
   "metadata": {},
   "source": [
    "### 2. % Site survival after Cellpose\n",
    "Percentage out of the sites that passed the previous filter. In parenthesis are absolute values.\n",
    "\n",
    "**A site will be filtered out if Cellpose found 0 cells in it.**"
   ]
  },
  {
   "cell_type": "code",
   "execution_count": null,
   "id": "3f02458f-ac51-46ca-a9ce-425fc70d9cc6",
   "metadata": {
    "scrolled": true,
    "tags": []
   },
   "outputs": [],
   "source": [
    "dapi_filter_by_cellpose = show_site_survival_dapi_cellpose(df_dapi, batches, dapi_filter_by_brenner, dnls_line_colors, \n",
    "                                                           dnls_panels, reps, figsize=(3,5))"
   ]
  },
  {
   "cell_type": "markdown",
   "id": "b70f114d-bb87-44a9-87b3-7dfc47a7a6f4",
   "metadata": {},
   "source": [
    "### 3. % Site survival by tiling\n",
    "Percentage out of the sites that passed the previous filter. In parenthesis are absolute values.\n",
    "\n",
    "**A site will be filtered out if after tiling, no tile is containing at least one whole cell that Cellpose detected.**"
   ]
  },
  {
   "cell_type": "code",
   "execution_count": null,
   "id": "18786222-e52a-4d50-84d6-80c72ba28b7c",
   "metadata": {
    "scrolled": true,
    "tags": []
   },
   "outputs": [],
   "source": [
    "dapi_filter_by_tiling=show_site_survival_dapi_tiling(df_dapi, batches, dapi_filter_by_cellpose, dnls_line_colors, dnls_panels, \n",
    "                                                     reps, figsize=(3,5))"
   ]
  },
  {
   "cell_type": "markdown",
   "id": "e027fd00-e444-40c4-b766-8f4f020dc996",
   "metadata": {},
   "source": [
    "### 4. % Site survival after Brenner on target channel\n",
    "Percentage out of the sites that passed the previous filter. In parenthesis are absolute values (if different than the percentages)."
   ]
  },
  {
   "cell_type": "code",
   "execution_count": null,
   "id": "1dd30f69-b98c-43a8-8ee7-5abcc85f4662",
   "metadata": {
    "scrolled": true,
    "tags": []
   },
   "outputs": [],
   "source": [
    "show_site_survival_target_brenner(df_dapi, df_target, dapi_filter_by_tiling, dnls_markers,figsize=(3,8))"
   ]
  },
  {
   "cell_type": "markdown",
   "id": "fa37f8a0-e4cd-4672-bed7-0a66584f3d3d",
   "metadata": {},
   "source": [
    "## Statistics About the Processed Files"
   ]
  },
  {
   "cell_type": "code",
   "execution_count": null,
   "id": "b4859f5f-3f13-4dd9-93e7-d092bace8204",
   "metadata": {
    "scrolled": true,
    "tags": []
   },
   "outputs": [],
   "source": [
    "names = ['Total number of tiles', 'Total number of whole cells']\n",
    "stats = ['n_valid_tiles','site_whole_cells_counts_sum','site_cell_count','site_cell_count_sum']\n",
    "total_sum = calc_total_sums(df_target, df_dapi, stats, dnls_markers)"
   ]
  },
  {
   "cell_type": "markdown",
   "id": "3647a162-726d-457a-95b3-1a5cb31a99d5",
   "metadata": {},
   "source": [
    "### Total tiles"
   ]
  },
  {
   "cell_type": "code",
   "execution_count": null,
   "id": "751aa403-3d41-40d1-86f0-8a668ee9a1d3",
   "metadata": {},
   "outputs": [],
   "source": [
    "markers_for_dnls = markers.copy()\n",
    "markers_for_dnls.remove('TIA1')\n",
    "markers_for_dnls += ['TDP43B']\n",
    "total_sum[total_sum.marker.isin(markers_for_dnls)].n_valid_tiles.sum()"
   ]
  },
  {
   "cell_type": "markdown",
   "id": "597a30a9-8e29-4d50-a8f5-87d737c4c579",
   "metadata": {
    "tags": []
   },
   "source": [
    "### Total whole nuclei in tiles"
   ]
  },
  {
   "cell_type": "code",
   "execution_count": null,
   "id": "88fef222-c465-427d-ba0e-b4e5ea785f99",
   "metadata": {},
   "outputs": [],
   "source": [
    "total_sum[total_sum.marker =='DAPI'].site_whole_cells_counts_sum.sum()"
   ]
  },
  {
   "cell_type": "markdown",
   "id": "4110e547-26a8-47ca-9cc3-c34630337690",
   "metadata": {
    "tags": []
   },
   "source": [
    "### Total nuclei in sites"
   ]
  },
  {
   "cell_type": "code",
   "execution_count": null,
   "id": "c9ee53b4-9b3b-46ba-addb-61de6e99b291",
   "metadata": {
    "tags": []
   },
   "outputs": [],
   "source": [
    "total_sum[total_sum.marker =='DAPI'].site_cell_count.sum()"
   ]
  },
  {
   "cell_type": "code",
   "execution_count": null,
   "id": "c668a7cb-f984-4ecb-b811-a9d273544b2e",
   "metadata": {
    "scrolled": true,
    "tags": []
   },
   "outputs": [],
   "source": [
    "show_total_sum_tables(total_sum)"
   ]
  },
  {
   "cell_type": "markdown",
   "id": "008f2101-996e-4300-8ad0-7de0e49cfaee",
   "metadata": {
    "tags": []
   },
   "source": [
    "### Show Total Tile Counts\n",
    "For each batch, cell line, replicate and markerTotal number of tiles"
   ]
  },
  {
   "cell_type": "code",
   "execution_count": null,
   "id": "72fba7f9-2573-49a6-b360-dd50446be5cd",
   "metadata": {
    "scrolled": true,
    "tags": []
   },
   "outputs": [],
   "source": [
    "to_heatmap = total_sum.rename(columns={'n_valid_tiles':'index'})\n",
    "plot_filtering_heatmap(to_heatmap, extra_index='marker', vmin=None, vmax=None,\n",
    "                      xlabel = 'Total number of tiles', show_sum=True, figsize=(3,8))"
   ]
  },
  {
   "cell_type": "markdown",
   "id": "b34558b5-47d1-42a9-af71-eb1427aab04f",
   "metadata": {
    "tags": []
   },
   "source": [
    "### Show Total Whole Cell Counts\n",
    "For each batch, cell line, replicate and markerTotal number of tiles"
   ]
  },
  {
   "cell_type": "code",
   "execution_count": null,
   "id": "6e4e9b8c-b6df-47eb-b28d-45eb451d41e1",
   "metadata": {
    "scrolled": true,
    "tags": []
   },
   "outputs": [],
   "source": [
    "to_heatmap = total_sum.rename(columns={'site_whole_cells_counts_sum':'index'})\n",
    "plot_filtering_heatmap(to_heatmap, extra_index='marker', vmin=None, vmax=None,\n",
    "                      xlabel = 'Total number of whole cells', show_sum=True, figsize=(3,8))"
   ]
  },
  {
   "cell_type": "markdown",
   "id": "eeba0bc4-2370-4655-85cf-9f36f0bc6817",
   "metadata": {
    "tags": []
   },
   "source": [
    "### Show **Cell Count** Statistics per Batch"
   ]
  },
  {
   "cell_type": "code",
   "execution_count": null,
   "id": "d395b1c2",
   "metadata": {
    "scrolled": true,
    "tags": []
   },
   "outputs": [],
   "source": [
    "df_no_empty_sites = df_dapi[df_dapi.n_valid_tiles !=0]\n",
    "plot_cell_count(df_no_empty_sites, dnls_lines_order, dnls_custom_palette, y='site_cell_count_sum', \n",
    "                title='Cell Count Average per Site (from tiles)')\n",
    "\n",
    "plot_cell_count(df_no_empty_sites, dnls_lines_order, dnls_custom_palette, y='site_whole_cells_counts_sum',\n",
    "                title='Whole Cell Count Average per Site')\n",
    "\n",
    "plot_cell_count(df_no_empty_sites, dnls_lines_order, dnls_custom_palette, y='site_cell_count',\n",
    "               title='Cellpose Cell Count Average per Site')"
   ]
  },
  {
   "cell_type": "markdown",
   "id": "c60e2e49-861a-47cd-bd1c-b1f826e8e96d",
   "metadata": {
    "tags": []
   },
   "source": [
    "\n",
    "### Show **Tiles** per Site Statistics\n"
   ]
  },
  {
   "cell_type": "code",
   "execution_count": null,
   "id": "2b91a506-a50d-4616-b612-653f0e384773",
   "metadata": {
    "tags": []
   },
   "outputs": [],
   "source": [
    "df_dapi.groupby(['cell_line_cond']).n_valid_tiles.mean()"
   ]
  },
  {
   "cell_type": "code",
   "execution_count": null,
   "id": "f6b94cb2-86c7-4c00-bf2f-7ed13899e3ae",
   "metadata": {},
   "outputs": [],
   "source": [
    "df_dapi[['site_cell_count']].mean()"
   ]
  },
  {
   "cell_type": "code",
   "execution_count": null,
   "id": "eeb6f0d9",
   "metadata": {},
   "outputs": [],
   "source": [
    "plot_catplot(df_dapi, custom_palette,reps, x='n_valid_tiles', x_title='valid tiles count', batch_min=3, batch_max=5, height=6)"
   ]
  },
  {
   "cell_type": "markdown",
   "id": "5713e39c-4cd8-45ad-990c-9fcee2d03318",
   "metadata": {},
   "source": [
    "\n",
    "### Show Mean of cell count in valid tiles"
   ]
  },
  {
   "cell_type": "code",
   "execution_count": null,
   "id": "ea0f2dc3",
   "metadata": {
    "scrolled": true,
    "tags": []
   },
   "outputs": [],
   "source": [
    "plot_hm_of_mean_cell_count_per_tile(df_dapi, split_by='rep', rows='cell_line_cond', columns='panel', figsize=(10,3))\n"
   ]
  },
  {
   "cell_type": "markdown",
   "id": "0d1751b9",
   "metadata": {},
   "source": [
    "# Assessing Staining Reproducibility and Outliers"
   ]
  },
  {
   "cell_type": "code",
   "execution_count": null,
   "id": "77447058-61d8-4470-a830-528812f318c6",
   "metadata": {},
   "outputs": [],
   "source": [
    "dnls_cell_lines_for_disp"
   ]
  },
  {
   "cell_type": "code",
   "execution_count": null,
   "id": "d974e31a",
   "metadata": {
    "scrolled": true
   },
   "outputs": [],
   "source": [
    "for batch in batches:\n",
    "    print(batch)\n",
    "    run_calc_hist_new(f'{batch}', dnls_cell_lines_for_disp, dnls_markers,\n",
    "                      root_directory_raw, root_directory_proc,\n",
    "                           hist_sample=10,sample_size_per_markers=200, ncols=8, nrows=4, dnls=True)\n",
    "    print(\"=\"*30)"
   ]
  },
  {
   "cell_type": "code",
   "execution_count": null,
   "id": "2eaf3bdd",
   "metadata": {},
   "outputs": [],
   "source": [
    "# save notebook as HTML ( the HTML will be saved in the same folder the original script is)\n",
    "from IPython.display import display, Javascript\n",
    "display(Javascript('IPython.notebook.save_checkpoint();'))\n",
    "os.system(f'jupyter nbconvert --to html tools/preprocessing_tools/qc_reports/qc_report_dNLS_80pct.ipynb --output {NOVA_HOME}/manuscript/preprocessing_qc_reports/qc_report_dNLS_80pct.html')"
   ]
  },
  {
   "cell_type": "code",
   "execution_count": null,
   "id": "f6c215b6",
   "metadata": {},
   "outputs": [],
   "source": []
  },
  {
   "cell_type": "code",
   "execution_count": null,
   "id": "e2a802bd-fdb8-4783-abf9-03b545a69789",
   "metadata": {},
   "outputs": [],
   "source": []
  }
 ],
 "metadata": {
  "kernelspec": {
   "display_name": "Python 3",
   "language": "python",
   "name": "python3"
  },
  "language_info": {
   "codemirror_mode": {
    "name": "ipython",
    "version": 3
   },
   "file_extension": ".py",
   "mimetype": "text/x-python",
   "name": "python",
   "nbconvert_exporter": "python",
   "pygments_lexer": "ipython3",
   "version": "3.9.19"
  }
 },
 "nbformat": 4,
 "nbformat_minor": 5
}
