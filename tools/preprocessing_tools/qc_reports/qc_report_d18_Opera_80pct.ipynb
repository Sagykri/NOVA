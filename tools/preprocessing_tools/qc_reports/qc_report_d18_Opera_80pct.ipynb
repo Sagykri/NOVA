{
 "cells": [
  {
   "cell_type": "markdown",
   "id": "e53d6453",
   "metadata": {},
   "source": [
    "# <font color='purple'>Opera 18 days REIMAGED - Preprocessing QC statistics </font> \n",
    "## October 2024\n"
   ]
  },
  {
   "cell_type": "code",
   "execution_count": null,
   "id": "a35a2e3e",
   "metadata": {},
   "outputs": [],
   "source": [
    "import os\n",
    "NOVA_HOME = '/home/labs/hornsteinlab/Collaboration/MOmaps_Noam/MOmaps'\n",
    "NOVA_DATA_HOME = '/home/labs/hornsteinlab/Collaboration/MOmaps'\n",
    "LOGS_PATH = os.path.join(NOVA_DATA_HOME, \"outputs/preprocessing/Opera18Days_Reimaged/logs/\")\n",
    "PLOT_PATH = os.path.join(NOVA_DATA_HOME, \"outputs/preprocessing/Opera18Days_Reimaged/logs/plots\")\n",
    "\n",
    "NOVA_HOME = '/home/labs/hornsteinlab/Collaboration/NOVA_Oz/NOVA'\n",
    "NOVA_DATA_HOME = '/home/labs/hornsteinlab/Collaboration/MOmaps'\n",
    "LOGS_PATH = os.path.join(NOVA_HOME, 'logs', 'd18')\n",
    "PLOT_PATH = os.path.join(NOVA_HOME, 'src', 'preprocessing', 'notebooks','figures','d18_80pct')\n",
    "\n",
    "os.chdir(NOVA_HOME)\n",
    "import pandas as pd\n",
    "import contextlib\n",
    "import io\n",
    "from IPython.display import display, Javascript\n",
    "\n",
    "from tools.preprocessing_tools.qc_reports.qc_utils import log_files_qc, run_validate_folder_structure, display_diff, sample_and_calc_variance, \\\n",
    "                                                show_site_survival_dapi_brenner, show_site_survival_dapi_cellpose, \\\n",
    "                                                show_site_survival_dapi_tiling, show_site_survival_target_brenner, \\\n",
    "                                                calc_total_sums, plot_filtering_heatmap, show_total_sum_tables, \\\n",
    "                                                plot_cell_count, plot_catplot, plot_hm_combine_batches, plot_hm, \\\n",
    "                                                run_calc_hist_new\n",
    "                                                \n",
    "from tools.preprocessing_tools.qc_reports.qc_config import opera18days_panels, opera18days_markers, opera18days_marker_info, \\\n",
    "                                                opera18days_cell_lines, opera18days_cell_lines_to_cond,\\\n",
    "                                                opera18days_cell_lines_for_disp, opera18days_reps, \\\n",
    "                                                opera18days_line_colors, opera18days_lines_order, \\\n",
    "                                                opera18days_custom_palette, opera18days_expected_dapi_raw, \\\n",
    "                                                markers\n",
    "%load_ext autoreload\n",
    "%autoreload 2"
   ]
  },
  {
   "cell_type": "code",
   "execution_count": null,
   "id": "6fb18e37",
   "metadata": {},
   "outputs": [],
   "source": [
    "df = log_files_qc(LOGS_PATH,only_wt_cond=False, filename_split='-',site_location=0)\n",
    "df_dapi = df[df.marker=='DAPI']\n",
    "df_target = df[df.marker!='DAPI']"
   ]
  },
  {
   "cell_type": "code",
   "execution_count": null,
   "id": "24d1912d",
   "metadata": {},
   "outputs": [],
   "source": [
    "# choose batches\n",
    "batches = ['batch1', 'batch2']\n",
    "batches"
   ]
  },
  {
   "cell_type": "markdown",
   "id": "344a35eb-b413-4f93-8974-3815a4c374cf",
   "metadata": {
    "tags": []
   },
   "source": [
    "## Actual Files Validation"
   ]
  },
  {
   "cell_type": "markdown",
   "id": "f01ab33f-e509-4126-85ef-478eaf664d32",
   "metadata": {
    "tags": []
   },
   "source": [
    "### Raw Files Validation"
   ]
  },
  {
   "cell_type": "markdown",
   "id": "917a4be4-355d-4452-b4ec-ed8554951021",
   "metadata": {},
   "source": [
    "1. How many site **tiff** files do we have in each folder?\n",
    "2. Are all existing files valid? (tif or tiff, at least 1MB, not corrupetd)"
   ]
  },
  {
   "cell_type": "code",
   "execution_count": null,
   "id": "ec1d2ed4",
   "metadata": {
    "scrolled": true,
    "tags": []
   },
   "outputs": [],
   "source": [
    "\n",
    "root_directory_raw = os.path.join(NOVA_DATA_HOME, 'input', 'images', 'raw', 'Opera18DaysReimaged_sorted')\n",
    "\n",
    "batches_raw = [batch.replace(\"_16bit_no_downsample\",\"\") for batch in batches]\n",
    "raws = run_validate_folder_structure(root_directory_raw, False, opera18days_panels, opera18days_markers.copy(),PLOT_PATH, opera18days_marker_info,\n",
    "                                    opera18days_cell_lines_to_cond, opera18days_reps, opera18days_cell_lines_for_disp, opera18days_expected_dapi_raw,\n",
    "                                     batches=batches_raw, fig_height=12)"
   ]
  },
  {
   "cell_type": "markdown",
   "id": "5609985e",
   "metadata": {
    "tags": []
   },
   "source": [
    "### Processed Files Validation"
   ]
  },
  {
   "cell_type": "markdown",
   "id": "6c298651-bc69-4088-bb25-7ed939fa192f",
   "metadata": {},
   "source": [
    "1. How many site **npy** files do we have in each folder? -> How many sites survived the pre-processing?\n",
    "2. Are all existing files valid? (at least 100kB, npy not corrupted)"
   ]
  },
  {
   "cell_type": "code",
   "execution_count": null,
   "id": "a9df410c",
   "metadata": {
    "scrolled": true,
    "tags": []
   },
   "outputs": [],
   "source": [
    "root_directory_proc = os.path.join(NOVA_DATA_HOME, 'input', 'images', 'processed', 'Opera18DaysReimaged80Pct')\n",
    "procs = run_validate_folder_structure(root_directory_proc, True, opera18days_panels, opera18days_markers,PLOT_PATH,opera18days_marker_info,\n",
    "                                    opera18days_cell_lines_to_cond, opera18days_reps, opera18days_cell_lines_for_disp, opera18days_expected_dapi_raw,\n",
    "                                     batches=batches, fig_height=12)"
   ]
  },
  {
   "cell_type": "markdown",
   "id": "ffa77c24",
   "metadata": {
    "tags": []
   },
   "source": [
    "### Difference between Raw and Processed"
   ]
  },
  {
   "cell_type": "code",
   "execution_count": null,
   "id": "e4848e93",
   "metadata": {
    "scrolled": true
   },
   "outputs": [],
   "source": [
    "display_diff(batches, raws, procs, PLOT_PATH,fig_height=12)"
   ]
  },
  {
   "cell_type": "markdown",
   "id": "f9e9d63a-0630-41df-b39c-83673c2f0868",
   "metadata": {
    "tags": []
   },
   "source": [
    "### Variance in each batch (of processed files)"
   ]
  },
  {
   "cell_type": "code",
   "execution_count": null,
   "id": "42871b88",
   "metadata": {
    "scrolled": true
   },
   "outputs": [],
   "source": [
    "#for batch in list(range(3,9)) + ['7_16bit','8_16bit','9_16bit']:  \n",
    "\n",
    "for batch in batches:\n",
    "    with contextlib.redirect_stdout(io.StringIO()):\n",
    "        var = sample_and_calc_variance(root_directory_proc, batch, \n",
    "                                       sample_size_per_markers=200, cond_count=2, rep_count=len(opera18days_reps), \n",
    "                                       num_markers=len(opera18days_markers))\n",
    "    print(f'{batch} var: ',var)"
   ]
  },
  {
   "cell_type": "markdown",
   "id": "64ccaaf3-ebd0-4d10-88b2-4a10b8128134",
   "metadata": {
    "tags": []
   },
   "source": [
    "## Preprocessing Filtering qc\n",
    "By order of filtering"
   ]
  },
  {
   "cell_type": "markdown",
   "id": "855168a5-82ca-4fc8-bd7c-0e6e55d9d7f6",
   "metadata": {},
   "source": [
    "### 1. % site survival after Brenner on DAPI channel\n",
    "Percentage out of the total sites"
   ]
  },
  {
   "cell_type": "code",
   "execution_count": null,
   "id": "789c977c-dd5c-40b6-babe-b80c954823c9",
   "metadata": {
    "scrolled": true,
    "tags": []
   },
   "outputs": [],
   "source": [
    "dapi_filter_by_brenner = show_site_survival_dapi_brenner(df_dapi,batches, opera18days_line_colors, opera18days_panels,\n",
    "                                                         figsize=(10,6), reps = opera18days_reps)"
   ]
  },
  {
   "cell_type": "markdown",
   "id": "a0b287b6-21d3-4feb-b1a4-77c6a30d5ad8",
   "metadata": {},
   "source": [
    "### 2. % Site survival after Cellpose\n",
    "Percentage out of the sites that passed the previous filter. In parenthesis are absolute values.\n",
    "\n",
    "**A site will be filtered out if Cellpose found 0 cells in it.**"
   ]
  },
  {
   "cell_type": "code",
   "execution_count": null,
   "id": "3f02458f-ac51-46ca-a9ce-425fc70d9cc6",
   "metadata": {
    "scrolled": true,
    "tags": []
   },
   "outputs": [],
   "source": [
    "dapi_filter_by_cellpose = show_site_survival_dapi_cellpose(df_dapi, batches, dapi_filter_by_brenner, \n",
    "                                                           opera18days_line_colors, opera18days_panels, reps = opera18days_reps,\n",
    "                                                           figsize=(10,6))"
   ]
  },
  {
   "cell_type": "markdown",
   "id": "b70f114d-bb87-44a9-87b3-7dfc47a7a6f4",
   "metadata": {},
   "source": [
    "### 3. % Site survival by tiling\n",
    "Percentage out of the sites that passed the previous filter. In parenthesis are absolute values.\n",
    "\n",
    "**A site will be filtered out if after tiling, no tile is containing at least one whole cell that Cellpose detected.**"
   ]
  },
  {
   "cell_type": "code",
   "execution_count": null,
   "id": "18786222-e52a-4d50-84d6-80c72ba28b7c",
   "metadata": {
    "scrolled": true,
    "tags": []
   },
   "outputs": [],
   "source": [
    "dapi_filter_by_tiling=show_site_survival_dapi_tiling(df_dapi, batches, dapi_filter_by_cellpose, \n",
    "                                                     opera18days_line_colors, opera18days_panels, figsize=(10,6),\n",
    "                                                     reps = opera18days_reps)"
   ]
  },
  {
   "cell_type": "markdown",
   "id": "e027fd00-e444-40c4-b766-8f4f020dc996",
   "metadata": {},
   "source": [
    "### 4. % Site survival after Brenner on target channel\n",
    "Percentage out of the sites that passed the previous filter. In parenthesis are absolute values (if different than the percentages)."
   ]
  },
  {
   "cell_type": "code",
   "execution_count": null,
   "id": "1dd30f69-b98c-43a8-8ee7-5abcc85f4662",
   "metadata": {
    "scrolled": true,
    "tags": []
   },
   "outputs": [],
   "source": [
    "show_site_survival_target_brenner(df_dapi, df_target, dapi_filter_by_tiling,\n",
    "                                 figsize=(10,10), markers=opera18days_markers)"
   ]
  },
  {
   "cell_type": "markdown",
   "id": "b074ce00-c977-4e87-bbc0-d4f35baefa3b",
   "metadata": {},
   "source": [
    "## Statistics About the Processed Files"
   ]
  },
  {
   "cell_type": "code",
   "execution_count": null,
   "id": "78131b1c-5c79-4183-b406-15995d342e64",
   "metadata": {
    "scrolled": true,
    "tags": []
   },
   "outputs": [],
   "source": [
    "names = ['Total number of tiles', 'Total number of whole cells']\n",
    "stats = ['n_valid_tiles','site_whole_cells_counts_sum','site_cell_count','site_cell_count_sum']\n",
    "total_sum = calc_total_sums(df_target, df_dapi, stats, opera18days_markers)"
   ]
  },
  {
   "cell_type": "markdown",
   "id": "b5f5af9c-da90-4be7-8a1a-e3409a549cf0",
   "metadata": {},
   "source": [
    "### Total tiles"
   ]
  },
  {
   "cell_type": "code",
   "execution_count": null,
   "id": "4ae1a2c4-2711-4d0a-a36b-e6a2bc1164a3",
   "metadata": {},
   "outputs": [],
   "source": [
    "## Are we using FMRP?\n",
    "markers_for_d18 = markers.copy()\n",
    "markers_for_d18.remove('TIA1')\n",
    "total_sum[total_sum.marker.isin(markers_for_d18)].n_valid_tiles.sum()"
   ]
  },
  {
   "cell_type": "markdown",
   "id": "97b96615-0a8c-4658-ab42-a5268fe53ad1",
   "metadata": {
    "tags": []
   },
   "source": [
    "### Total whole nuclei in tiles"
   ]
  },
  {
   "cell_type": "code",
   "execution_count": null,
   "id": "34f24a36-3329-41a6-8bc7-4caf2689ffc0",
   "metadata": {
    "tags": []
   },
   "outputs": [],
   "source": [
    "total_sum[total_sum.marker =='DAPI'].site_whole_cells_counts_sum.sum()"
   ]
  },
  {
   "cell_type": "markdown",
   "id": "13debb5a-13cc-47f2-b0b4-f8a6b3badb1a",
   "metadata": {
    "tags": []
   },
   "source": [
    "### Total nuclei in sites"
   ]
  },
  {
   "cell_type": "code",
   "execution_count": null,
   "id": "94434f88-36b3-46ba-a8fa-71dbb8a9cdd5",
   "metadata": {
    "tags": []
   },
   "outputs": [],
   "source": [
    "total_sum[total_sum.marker =='DAPI'].site_cell_count.sum()"
   ]
  },
  {
   "cell_type": "code",
   "execution_count": null,
   "id": "c668a7cb-f984-4ecb-b811-a9d273544b2e",
   "metadata": {
    "scrolled": true,
    "tags": []
   },
   "outputs": [],
   "source": [
    "show_total_sum_tables(total_sum)"
   ]
  },
  {
   "cell_type": "markdown",
   "id": "6fdba4b0-7924-48d5-9e4d-d19357ef8bbb",
   "metadata": {
    "tags": []
   },
   "source": [
    "### Show Total Tile Counts\n",
    "For each batch, cell line, replicate and markerTotal number of tiles"
   ]
  },
  {
   "cell_type": "code",
   "execution_count": null,
   "id": "d395b1c2",
   "metadata": {
    "scrolled": true,
    "tags": []
   },
   "outputs": [],
   "source": [
    "df_no_empty_sites = df_dapi[df_dapi.n_valid_tiles !=0]\n",
    "plot_cell_count(df_no_empty_sites, opera18days_lines_order, opera18days_custom_palette, y='site_cell_count_sum', \n",
    "                title='Cell Count Average per Site (from tiles)')\n",
    "\n",
    "plot_cell_count(df_no_empty_sites, opera18days_lines_order, opera18days_custom_palette, y='site_whole_cells_counts_sum',\n",
    "                title='Whole Cell Count Average per Site')\n",
    "\n",
    "plot_cell_count(df_no_empty_sites, opera18days_lines_order, opera18days_custom_palette, y='site_cell_count',\n",
    "               title='Cellpose Cell Count Average per Site')"
   ]
  },
  {
   "cell_type": "markdown",
   "id": "e526fd4e-536f-4581-ad77-e5632503aef8",
   "metadata": {
    "tags": []
   },
   "source": [
    "### Show **Cell Count** Statistics per Batch"
   ]
  },
  {
   "cell_type": "code",
   "execution_count": null,
   "id": "5334c62d",
   "metadata": {
    "scrolled": true,
    "tags": []
   },
   "outputs": [],
   "source": [
    "df_no_empty_sites = df_dapi[df_dapi.n_valid_tiles !=0]\n",
    "plot_cell_count(df_no_empty_sites, opera18days_lines_order, opera18days_custom_palette, y='site_cell_count_sum', \n",
    "                title='Cell Count Average per Site (from tiles)')\n",
    "\n",
    "plot_cell_count(df_no_empty_sites, opera18days_lines_order, opera18days_custom_palette, y='site_whole_cells_counts_sum',\n",
    "                title='Whole Cell Count Average per Site')\n",
    "\n",
    "plot_cell_count(df_no_empty_sites, opera18days_lines_order, opera18days_custom_palette, y='site_cell_count',\n",
    "               title='Cellpose Cell Count Average per Site')"
   ]
  },
  {
   "cell_type": "markdown",
   "id": "415aaff9-7afb-404f-9506-c5a98fb73206",
   "metadata": {},
   "source": [
    "\n",
    "### Show **Tiles** per Site Statistics\n"
   ]
  },
  {
   "cell_type": "code",
   "execution_count": null,
   "id": "2b91a506-a50d-4616-b612-653f0e384773",
   "metadata": {
    "tags": []
   },
   "outputs": [],
   "source": [
    "df_dapi.groupby(['cell_line_cond']).n_valid_tiles.mean()"
   ]
  },
  {
   "cell_type": "code",
   "execution_count": null,
   "id": "94cc198a-8e48-4cf5-922a-39f9d5692100",
   "metadata": {},
   "outputs": [],
   "source": [
    "df_dapi[['site_cell_count']].mean()"
   ]
  },
  {
   "cell_type": "code",
   "execution_count": null,
   "id": "eeb6f0d9",
   "metadata": {},
   "outputs": [],
   "source": [
    "plot_catplot(df_dapi, opera18days_custom_palette, opera18days_reps, \n",
    "             x='n_valid_tiles', x_title='valid tiles count', batch_min=1, batch_max=2)"
   ]
  },
  {
   "cell_type": "markdown",
   "id": "1f15314a-d745-482f-babb-609a1e7f62a5",
   "metadata": {},
   "source": [
    "\n",
    "### Show Mean of cell count in valid tiles"
   ]
  },
  {
   "cell_type": "code",
   "execution_count": null,
   "id": "ea0f2dc3",
   "metadata": {
    "scrolled": true,
    "tags": []
   },
   "outputs": [],
   "source": [
    "plot_hm(df_dapi, split_by='rep', rows='cell_line', columns='panel')"
   ]
  },
  {
   "cell_type": "markdown",
   "id": "0d1751b9",
   "metadata": {},
   "source": [
    "# Assessing Staining Reproducibility and Outliers"
   ]
  },
  {
   "cell_type": "code",
   "execution_count": null,
   "id": "d974e31a",
   "metadata": {
    "scrolled": true
   },
   "outputs": [],
   "source": [
    "for batch in batches:\n",
    "    print(batch)\n",
    "    run_calc_hist_new(f'{batch}',opera18days_cell_lines_for_disp, opera18days_markers, \n",
    "                           root_directory_raw, root_directory_proc, hist_sample=10,\n",
    "                            sample_size_per_markers=200, ncols=7, nrows=5)\n",
    "    print(\"=\"*30)"
   ]
  },
  {
   "cell_type": "code",
   "execution_count": null,
   "id": "2eaf3bdd",
   "metadata": {
    "tags": []
   },
   "outputs": [],
   "source": [
    "# save notebook as HTML ( the HTML will be saved in the same folder the original script is)\n",
    "from IPython.display import display, Javascript\n",
    "display(Javascript('IPython.notebook.save_checkpoint();'))\n",
    "os.system(f'jupyter nbconvert --to html tools/preprocessing_tools/qc_reports/qc_report_d18_Opera_80pct.ipynb --output {NOVA_HOME}/manuscript/preprocessing_qc_reports/qc_report_d18_Opera_80pct.html')"
   ]
  },
  {
   "cell_type": "code",
   "execution_count": null,
   "id": "e2a802bd-fdb8-4783-abf9-03b545a69789",
   "metadata": {},
   "outputs": [],
   "source": []
  }
 ],
 "metadata": {
  "kernelspec": {
   "display_name": "Python 3",
   "language": "python",
   "name": "python3"
  },
  "language_info": {
   "codemirror_mode": {
    "name": "ipython",
    "version": 3
   },
   "file_extension": ".py",
   "mimetype": "text/x-python",
   "name": "python",
   "nbconvert_exporter": "python",
   "pygments_lexer": "ipython3",
   "version": "3.9.19"
  }
 },
 "nbformat": 4,
 "nbformat_minor": 5
}
