{
 "cells": [
  {
   "cell_type": "markdown",
   "id": "e53d6453",
   "metadata": {},
   "source": [
    "# <font color='purple'>INDI Day8 (New, Opera) - Preprocessing QC statistics </font> \n",
    "### July 2025 - Nancy Y"
   ]
  },
  {
   "cell_type": "markdown",
   "id": "cf744e2a",
   "metadata": {},
   "source": [
    "Reran on Sep 15 (2025) by Sagy - removing batch10 and WT stress (since we are using NIH for WT untreated vs WT stress) and CD41"
   ]
  },
  {
   "cell_type": "code",
   "execution_count": null,
   "id": "a35a2e3e",
   "metadata": {},
   "outputs": [],
   "source": [
    "import os\n",
    "import sys\n",
    "\n",
    "NOVA_HOME = '/home/projects/hornsteinlab/Collaboration/NOVA'\n",
    "NOVA_DATA_HOME = '/home/projects/hornsteinlab/Collaboration/NOVA'\n",
    "os.environ['NOVA_HOME'] = NOVA_HOME\n",
    "sys.path.insert(1, os.getenv(\"NOVA_HOME\"))\n",
    "print(f\"NOVA_HOME: {os.getenv('NOVA_HOME')}\")\n",
    "\n",
    "root_directory_raw = os.path.join(NOVA_DATA_HOME, 'input', 'images', 'raw', 'OPERA_indi_sorted')\n",
    "root_directory_proc = os.path.join(NOVA_DATA_HOME, 'input', 'images', 'processed', 'ManuscriptFinalData_80pct','neuronsDay8_new')\n",
    "\n",
    "LOGS_PATH = os.path.join(NOVA_HOME, \"outputs\", \"preprocessing\", \"ManuscriptFinalData_80pct\", \"neuronsDay8_new\", \"logs\")\n",
    "PLOT_PATH = os.path.join(NOVA_HOME, 'outputs', 'preprocessing', 'ManuscriptFinalData_80pct', \"neuronsDay8_new\", 'QC_figures')\n",
    "\n",
    "\n",
    "print(os.environ['NOVA_HOME'])\n",
    "import pandas as pd\n",
    "import contextlib\n",
    "import io\n",
    "from IPython.display import display, Javascript\n",
    "\n",
    "from tools.preprocessing_tools.qc_reports.qc_utils import log_files_qc, run_validate_folder_structure, display_diff, sample_and_calc_variance, \\\n",
    "                                                show_site_survival_dapi_brenner, show_site_survival_dapi_cellpose, \\\n",
    "                                                show_site_survival_dapi_tiling, show_site_survival_target_brenner, \\\n",
    "                                                calc_total_sums, plot_filtering_heatmap, show_total_sum_tables, \\\n",
    "                                                plot_cell_count, plot_catplot, plot_hm_of_mean_cell_count_per_tile, \\\n",
    "                                                run_calc_hist_new, show_total_valid_tiles_per_marker_and_batch\n",
    "                                                \n",
    "from tools.preprocessing_tools.qc_reports.qc_config import new_d8_panels, new_d8_markers, new_d8_marker_info, new_d8_cell_lines, new_d8_cell_lines_to_cond,\\\n",
    "                                    new_d8_cell_lines_for_disp, new_d8_reps, new_d8_line_colors, new_d8_lines_order, new_d8_custom_palette,\\\n",
    "                                    new_d8_expected_dapi_raw\n",
    "%load_ext autoreload\n",
    "%autoreload 2"
   ]
  },
  {
   "cell_type": "code",
   "execution_count": null,
   "id": "24d1912d",
   "metadata": {},
   "outputs": [],
   "source": [
    "# choose batches\n",
    "batches = ['batch1', 'batch2', 'batch3', 'batch7', \n",
    "'batch8', 'batch9']\n",
    "batches"
   ]
  },
  {
   "cell_type": "code",
   "execution_count": null,
   "id": "6fb18e37",
   "metadata": {},
   "outputs": [],
   "source": [
    "df = log_files_qc(LOGS_PATH, batches, filename_split='-',site_location=0)\n",
    "\n",
    "df = df[df.condition != 'stress']\n",
    "\n",
    "df_dapi = df[df.marker=='DAPI']\n",
    "df_target = df[df.marker!='DAPI']"
   ]
  },
  {
   "cell_type": "markdown",
   "id": "991064c1",
   "metadata": {},
   "source": [
    "## Actual Files Validation"
   ]
  },
  {
   "cell_type": "markdown",
   "id": "c522d841",
   "metadata": {
    "tags": []
   },
   "source": [
    "### Raw Files Validation"
   ]
  },
  {
   "cell_type": "markdown",
   "id": "917a4be4-355d-4452-b4ec-ed8554951021",
   "metadata": {},
   "source": [
    "1. How many site **tiff** files do we have in each folder?\n",
    "2. Are all existing files valid? (tif, at least 2049kB, not corrupetd)"
   ]
  },
  {
   "cell_type": "code",
   "execution_count": null,
   "id": "ec1d2ed4",
   "metadata": {},
   "outputs": [],
   "source": [
    "raws = run_validate_folder_structure(root_directory_raw, False, \n",
    "                                     new_d8_panels, \n",
    "                                     new_d8_markers,\n",
    "                                     PLOT_PATH,\n",
    "                                     new_d8_marker_info,\n",
    "                                     new_d8_cell_lines_to_cond, \n",
    "                                     new_d8_reps, \n",
    "                                     new_d8_cell_lines_for_disp, \n",
    "                                     new_d8_expected_dapi_raw,\n",
    "                                     batches=batches,\n",
    "                                     expected_count=250,\n",
    "                                     check_antibody=False)"
   ]
  },
  {
   "cell_type": "markdown",
   "id": "5609985e",
   "metadata": {
    "tags": []
   },
   "source": [
    "### Processed Files Validation"
   ]
  },
  {
   "cell_type": "markdown",
   "id": "6c298651-bc69-4088-bb25-7ed939fa192f",
   "metadata": {},
   "source": [
    "1. How many site **npy** files do we have in each folder? -> How many sites survived the pre-processing?\n",
    "2. Are all existing files valid? (at least 100kB, npy not corrupted)"
   ]
  },
  {
   "cell_type": "code",
   "execution_count": null,
   "id": "a9df410c",
   "metadata": {
    "tags": []
   },
   "outputs": [],
   "source": [
    "\n",
    "procs = run_validate_folder_structure(root_directory_proc, True, \n",
    "                                      new_d8_panels, \n",
    "                                      new_d8_markers,\n",
    "                                      PLOT_PATH,\n",
    "                                      new_d8_marker_info,\n",
    "                                      new_d8_cell_lines_to_cond, \n",
    "                                      new_d8_reps, \n",
    "                                      new_d8_cell_lines_for_disp, \n",
    "                                      new_d8_expected_dapi_raw,\n",
    "                                      batches=batches,\n",
    "                                      expected_count=250, \n",
    "                                      check_antibody=False)"
   ]
  },
  {
   "cell_type": "markdown",
   "id": "ffa77c24",
   "metadata": {
    "tags": []
   },
   "source": [
    "### Difference between Raw and Processed"
   ]
  },
  {
   "cell_type": "code",
   "execution_count": null,
   "id": "e4848e93",
   "metadata": {
    "scrolled": true
   },
   "outputs": [],
   "source": [
    "display_diff(batches, raws, procs, PLOT_PATH)"
   ]
  },
  {
   "cell_type": "markdown",
   "id": "f9e9d63a-0630-41df-b39c-83673c2f0868",
   "metadata": {
    "tags": []
   },
   "source": [
    "### Variance in each batch (of processed files)"
   ]
  },
  {
   "cell_type": "code",
   "execution_count": null,
   "id": "42871b88",
   "metadata": {
    "scrolled": true
   },
   "outputs": [],
   "source": [
    "\n",
    "for batch in batches:\n",
    "    with contextlib.redirect_stdout(io.StringIO()):\n",
    "        var = sample_and_calc_variance(root_directory_proc, batch, \n",
    "                                       sample_size_per_markers=200, num_markers=30)\n",
    "    print(f'{batch} var: ',var)"
   ]
  },
  {
   "cell_type": "markdown",
   "id": "64ccaaf3-ebd0-4d10-88b2-4a10b8128134",
   "metadata": {
    "tags": []
   },
   "source": [
    "## Preprocessing Filtering qc\n",
    "By order of filtering"
   ]
  },
  {
   "cell_type": "markdown",
   "id": "855168a5-82ca-4fc8-bd7c-0e6e55d9d7f6",
   "metadata": {
    "tags": []
   },
   "source": [
    "### 1. % site survival after Brenner on DAPI channel\n",
    "Percentage out of the total sites"
   ]
  },
  {
   "cell_type": "code",
   "execution_count": null,
   "id": "789c977c-dd5c-40b6-babe-b80c954823c9",
   "metadata": {
    "tags": []
   },
   "outputs": [],
   "source": [
    "dapi_filter_by_brenner = show_site_survival_dapi_brenner(df_dapi,\n",
    "                                                         batches, \n",
    "                                                         new_d8_line_colors, \n",
    "                                                         new_d8_panels, \n",
    "                                                         new_d8_reps,\n",
    "                                                         vmax=250,\n",
    "                                                         to_ignore={'cell_line_cond':'SNCA','batch':['batch1','batch2','batch3']}\n",
    "                                                        )"
   ]
  },
  {
   "cell_type": "markdown",
   "id": "a0b287b6-21d3-4feb-b1a4-77c6a30d5ad8",
   "metadata": {
    "tags": []
   },
   "source": [
    "### 2. % Site survival after Cellpose\n",
    "Percentage out of the sites that passed the previous filter. In parenthesis are absolute values.\n",
    "\n",
    "**A site will be filtered out if Cellpose found 0 cells in it.**"
   ]
  },
  {
   "cell_type": "code",
   "execution_count": null,
   "id": "3f02458f-ac51-46ca-a9ce-425fc70d9cc6",
   "metadata": {
    "tags": []
   },
   "outputs": [],
   "source": [
    "dapi_filter_by_cellpose = show_site_survival_dapi_cellpose(df_dapi, \n",
    "                                                           batches, \n",
    "                                                           dapi_filter_by_brenner, \n",
    "                                                           new_d8_line_colors, \n",
    "                                                           new_d8_panels, \n",
    "                                                           new_d8_reps,\n",
    "                                                           figsize=(7,5), \n",
    "                                                           to_ignore={'cell_line_cond':['SNCA'],'batch':['batch1','batch2','batch3']}\n",
    "                                                          )"
   ]
  },
  {
   "cell_type": "markdown",
   "id": "b70f114d-bb87-44a9-87b3-7dfc47a7a6f4",
   "metadata": {
    "tags": []
   },
   "source": [
    "### 3. % Site survival by tiling\n",
    "Percentage out of the sites that passed the previous filter. In parenthesis are absolute values.\n",
    "\n",
    "**A site will be filtered out if after tiling, no tile is containing at least one whole cell that Cellpose detected.**"
   ]
  },
  {
   "cell_type": "code",
   "execution_count": null,
   "id": "18786222-e52a-4d50-84d6-80c72ba28b7c",
   "metadata": {
    "tags": []
   },
   "outputs": [],
   "source": [
    "dapi_filter_by_tiling = show_site_survival_dapi_tiling(df_dapi, \n",
    "                                                      batches, \n",
    "                                                      dapi_filter_by_cellpose, \n",
    "                                                      new_d8_line_colors, \n",
    "                                                      new_d8_panels, \n",
    "                                                      new_d8_reps,\n",
    "                                                      figsize=(7,5),\n",
    "                                                      to_ignore={'cell_line_cond':['SNCA'],'batch':['batch1','batch2','batch3']}\n",
    "                                                     )"
   ]
  },
  {
   "cell_type": "markdown",
   "id": "e027fd00-e444-40c4-b766-8f4f020dc996",
   "metadata": {
    "tags": []
   },
   "source": [
    "### 4. % Site survival after Brenner on target channel\n",
    "Percentage out of the sites that passed the previous filter. In parenthesis are absolute values (if different than the percentages)."
   ]
  },
  {
   "cell_type": "code",
   "execution_count": null,
   "id": "2cdda3d6-09e2-4078-85f4-2fba9f9d1f6e",
   "metadata": {
    "tags": []
   },
   "outputs": [],
   "source": [
    "show_site_survival_target_brenner(df_dapi, \n",
    "                                  df_target, \n",
    "                                  dapi_filter_by_tiling, \n",
    "                                  new_d8_markers, \n",
    "                                  figsize=(7,8))"
   ]
  },
  {
   "cell_type": "markdown",
   "id": "4fc5f670",
   "metadata": {},
   "source": [
    "# <font color=\"red\">Note that Batch 10 should be removed! </font>\n",
    "# <font color=\"red\">also check PD line </font>\n",
    "# <font color=\"red\">what about marker CD41? </font>\n",
    "\n"
   ]
  },
  {
   "cell_type": "markdown",
   "id": "bd71c490-81be-4a0c-afee-ecee8c338d6f",
   "metadata": {
    "tags": []
   },
   "source": [
    "## Statistics About the Processed Files"
   ]
  },
  {
   "cell_type": "code",
   "execution_count": null,
   "id": "84b99a75-fa6c-43c9-bb72-8ccf068dd7a7",
   "metadata": {
    "scrolled": true,
    "tags": []
   },
   "outputs": [],
   "source": [
    "stats = ['n_valid_tiles','site_whole_cells_counts_sum','site_cell_count','site_cell_count_sum']\n",
    "total_sum = calc_total_sums(df_target, df_dapi, stats, new_d8_markers)"
   ]
  },
  {
   "cell_type": "markdown",
   "id": "ac5248f3-d920-49c6-b086-10e005a9e498",
   "metadata": {
    "tags": []
   },
   "source": [
    "### Total tiles - without CD41 marker"
   ]
  },
  {
   "cell_type": "code",
   "execution_count": null,
   "id": "751aa403-3d41-40d1-86f0-8a668ee9a1d3",
   "metadata": {
    "tags": []
   },
   "outputs": [],
   "source": [
    "total_sum[~total_sum.marker.str.contains('CD41', regex=True)].n_valid_tiles.sum()\n"
   ]
  },
  {
   "cell_type": "code",
   "execution_count": null,
   "id": "2ae1fcc2-e28d-4804-b7cf-c003965e3d6f",
   "metadata": {},
   "outputs": [],
   "source": [
    "## Total tiles in wt lines\n",
    "total_sum[(~total_sum.marker.str.contains('CD41', regex=True))&\n",
    "         (total_sum.cell_line_cond.isin(['WT stress', 'WT Untreated']))].n_valid_tiles.sum()"
   ]
  },
  {
   "cell_type": "code",
   "execution_count": null,
   "id": "3d466447-bb0e-434e-98dc-98b65dc38fce",
   "metadata": {},
   "outputs": [],
   "source": [
    "## Total tiles in untreated lines\n",
    "total_sum[(~total_sum.marker.str.contains('CD41', regex=True))&\n",
    "         ((~total_sum.cell_line_cond.str.contains('WT')) | (total_sum.cell_line_cond=='WT Untreated'))].n_valid_tiles.sum()"
   ]
  },
  {
   "cell_type": "markdown",
   "id": "951bfcc9-5789-4404-b82d-bcd85654fd8f",
   "metadata": {
    "tags": []
   },
   "source": [
    "### Total whole nuclei in tiles"
   ]
  },
  {
   "cell_type": "code",
   "execution_count": null,
   "id": "88fef222-c465-427d-ba0e-b4e5ea785f99",
   "metadata": {
    "tags": []
   },
   "outputs": [],
   "source": [
    "total_sum[total_sum.marker =='DAPI'].site_whole_cells_counts_sum.sum()"
   ]
  },
  {
   "cell_type": "markdown",
   "id": "1940d61b-7955-4d01-bd6b-58e179cc7276",
   "metadata": {
    "tags": []
   },
   "source": [
    "### Total nuclei in sites"
   ]
  },
  {
   "cell_type": "code",
   "execution_count": null,
   "id": "c9ee53b4-9b3b-46ba-addb-61de6e99b291",
   "metadata": {
    "tags": []
   },
   "outputs": [],
   "source": [
    "total_sum[total_sum.marker =='DAPI'].site_cell_count.sum()"
   ]
  },
  {
   "cell_type": "code",
   "execution_count": null,
   "id": "c668a7cb-f984-4ecb-b811-a9d273544b2e",
   "metadata": {
    "scrolled": true,
    "tags": []
   },
   "outputs": [],
   "source": [
    "show_total_sum_tables(total_sum)"
   ]
  },
  {
   "cell_type": "markdown",
   "id": "b1519cbe-273c-4093-9a31-19ee7b45abdf",
   "metadata": {
    "tags": []
   },
   "source": [
    "### Show Total Tile Counts\n",
    "For each batch, cell line, replicate and markerTotal number of tiles"
   ]
  },
  {
   "cell_type": "markdown",
   "id": "a8990aa8",
   "metadata": {},
   "source": [
    "#### First, we look at all cell lines togther:"
   ]
  },
  {
   "cell_type": "code",
   "execution_count": null,
   "id": "e1f115ac",
   "metadata": {},
   "outputs": [],
   "source": [
    "show_total_valid_tiles_per_marker_and_batch(total_sum, vmax=10000)\n"
   ]
  },
  {
   "cell_type": "markdown",
   "id": "380c2b10",
   "metadata": {},
   "source": [
    "#### Separating into cell lines & batches:"
   ]
  },
  {
   "cell_type": "code",
   "execution_count": null,
   "id": "72fba7f9-2573-49a6-b360-dd50446be5cd",
   "metadata": {
    "tags": []
   },
   "outputs": [],
   "source": [
    "to_heatmap = total_sum.rename(columns={'n_valid_tiles':'index'})\n",
    "plot_filtering_heatmap(to_heatmap, \n",
    "                       extra_index='marker', \n",
    "                       vmin=None, vmax=None,\n",
    "                       xlabel = 'Total number of tiles', \n",
    "                       show_sum=True, \n",
    "                       figsize=(8,28))\n"
   ]
  },
  {
   "cell_type": "markdown",
   "id": "8689c047-31a9-4585-ae1f-7e0ac874b8f7",
   "metadata": {
    "tags": []
   },
   "source": [
    "### Show Total Whole Cell Counts\n",
    "For each batch, cell line, replicate and markerTotal number of tiles"
   ]
  },
  {
   "cell_type": "code",
   "execution_count": null,
   "id": "6e4e9b8c-b6df-47eb-b28d-45eb451d41e1",
   "metadata": {
    "scrolled": true,
    "tags": []
   },
   "outputs": [],
   "source": [
    "to_heatmap = total_sum.rename(columns={'site_whole_cells_counts_sum':'index'})\n",
    "plot_filtering_heatmap(to_heatmap, #to_heatmap[to_heatmap.batch=='batch7'], \n",
    "                       extra_index='marker', \n",
    "                       vmin=None, vmax=None,\n",
    "                       xlabel = 'Total number of whole cells', \n",
    "                       show_sum=True, \n",
    "                       figsize=(8,28))\n"
   ]
  },
  {
   "cell_type": "markdown",
   "id": "cf33b1d3",
   "metadata": {
    "tags": []
   },
   "source": [
    "### Show **Cell Count** Statistics per Batch"
   ]
  },
  {
   "cell_type": "code",
   "execution_count": null,
   "id": "d395b1c2",
   "metadata": {},
   "outputs": [],
   "source": [
    "df_no_empty_sites = df_dapi[df_dapi.n_valid_tiles !=0]\n",
    "\n",
    "plot_cell_count(df_no_empty_sites, \n",
    "                new_d8_lines_order, \n",
    "                new_d8_custom_palette, \n",
    "                y='site_cell_count_sum', \n",
    "                title='Cell Count Average per Site (from tiles)')\n",
    "\n",
    "plot_cell_count(df_no_empty_sites, \n",
    "                new_d8_lines_order, \n",
    "                new_d8_custom_palette, \n",
    "                y='site_whole_cells_counts_sum',\n",
    "                title='Whole Cell Count Average per Site')\n",
    "\n",
    "plot_cell_count(df_no_empty_sites, \n",
    "                new_d8_lines_order, \n",
    "                new_d8_custom_palette, \n",
    "                y='site_cell_count',\n",
    "                title='Cellpose Cell Count Average per Site')"
   ]
  },
  {
   "cell_type": "markdown",
   "id": "3c5d41d1",
   "metadata": {},
   "source": [
    "\n",
    "### Show **Tiles** per Site Statistics\n"
   ]
  },
  {
   "cell_type": "code",
   "execution_count": null,
   "id": "2b91a506-a50d-4616-b612-653f0e384773",
   "metadata": {
    "tags": []
   },
   "outputs": [],
   "source": [
    "df_dapi.groupby(['cell_line_cond']).n_valid_tiles.mean()\n",
    "\n"
   ]
  },
  {
   "cell_type": "code",
   "execution_count": null,
   "id": "208361c7",
   "metadata": {},
   "outputs": [],
   "source": [
    "df_dapi[['site_cell_count']].mean()"
   ]
  },
  {
   "cell_type": "code",
   "execution_count": null,
   "id": "eeb6f0d9",
   "metadata": {},
   "outputs": [],
   "source": [
    "plot_catplot(df_dapi, \n",
    "             new_d8_custom_palette,\n",
    "             new_d8_reps, \n",
    "             x='n_valid_tiles', \n",
    "             x_title='valid tiles count', \n",
    "             batches=batches)\n"
   ]
  },
  {
   "cell_type": "markdown",
   "id": "0d81ccdd",
   "metadata": {},
   "source": [
    "\n",
    "### Show Mean of cell count in valid tiles"
   ]
  },
  {
   "cell_type": "code",
   "execution_count": null,
   "id": "ea0f2dc3",
   "metadata": {
    "tags": []
   },
   "outputs": [],
   "source": [
    "plot_hm_of_mean_cell_count_per_tile(df_dapi, split_by='rep', rows='cell_line', columns='panel', vmax=3)"
   ]
  },
  {
   "cell_type": "code",
   "execution_count": null,
   "id": "b3dceab4-5a4e-4551-a9b3-47a4433a4566",
   "metadata": {},
   "outputs": [],
   "source": [
    "df_dapi[['cells_count_in_valid_tiles_mean']].mean()"
   ]
  },
  {
   "cell_type": "code",
   "execution_count": null,
   "id": "a3a28cd5-a4d3-4720-b19e-cfab647031b6",
   "metadata": {},
   "outputs": [],
   "source": [
    "df_dapi[['site_cell_count']].mean()"
   ]
  },
  {
   "cell_type": "markdown",
   "id": "0d1751b9",
   "metadata": {},
   "source": [
    "# Assessing Staining Reproducibility and Outliers"
   ]
  },
  {
   "cell_type": "code",
   "execution_count": null,
   "id": "d974e31a",
   "metadata": {
    "scrolled": true
   },
   "outputs": [],
   "source": [
    "# for batch in batches:\n",
    "#     print(batch)\n",
    "#     #batch_num = batch.replace('batch',\"\")\n",
    "#     run_calc_hist_new(batch,new_d8_cell_lines_for_disp, new_d8_markers, root_directory_raw, root_directory_proc,\n",
    "#                            hist_sample=10,sample_size_per_markers=200, ncols=7, nrows=4)\n",
    "#     print(\"=\"*30)\n",
    "\n"
   ]
  },
  {
   "cell_type": "code",
   "execution_count": null,
   "id": "2eaf3bdd",
   "metadata": {},
   "outputs": [],
   "source": [
    "# # save notebook as HTML ( the HTML will be saved in the same folder the original script is)\n",
    "# display(Javascript('IPython.notebook.save_checkpoint();'))\n",
    "# os.system(f'jupyter nbconvert --to html {NOVA_HOME}/tools/preprocessing_tools/qc_reports/qc_report_new_indi_d8_Opera.ipynb --output {NOVA_HOME}/manuscript/preprocessing_qc_reports/ManuscriptFinalData/qc_report_new_indi_d8_Opera.html')"
   ]
  },
  {
   "cell_type": "code",
   "execution_count": null,
   "id": "f875cce5",
   "metadata": {},
   "outputs": [],
   "source": []
  }
 ],
 "metadata": {
  "kernelspec": {
   "display_name": "nova new",
   "language": "python",
   "name": "nova_new"
  },
  "language_info": {
   "codemirror_mode": {
    "name": "ipython",
    "version": 3
   },
   "file_extension": ".py",
   "mimetype": "text/x-python",
   "name": "python",
   "nbconvert_exporter": "python",
   "pygments_lexer": "ipython3",
   "version": "3.9.19"
  }
 },
 "nbformat": 4,
 "nbformat_minor": 5
}
