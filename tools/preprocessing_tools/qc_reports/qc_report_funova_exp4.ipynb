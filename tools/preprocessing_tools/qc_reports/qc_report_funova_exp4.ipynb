{
 "cells": [
  {
   "cell_type": "markdown",
   "id": "e53d6453",
   "metadata": {},
   "source": [
    "# <font color='purple'>FUNOVA Preprocessing QC statistics </font> \n",
    "### January 2025"
   ]
  },
  {
   "cell_type": "code",
   "execution_count": null,
   "id": "d0673c80",
   "metadata": {},
   "outputs": [],
   "source": [
    "import os\n",
    "NOVA_HOME = \"/home/labs/hornsteinlab/Collaboration/NOVA_GAL/NOVA\"\n",
    "NOVA_DATA_HOME = '/home/labs/hornsteinlab/Collaboration/FUNOVA'\n",
    "\n",
    "LOGS_PATH = os.path.join(NOVA_DATA_HOME, \"outputs/preprocessing/logs/\")\n",
    "PLOT_PATH = os.path.join(NOVA_DATA_HOME, \"outputs/logs/\")\n",
    "\n",
    "os.chdir(NOVA_HOME)\n",
    "\n",
    "import pandas as pd\n",
    "import numpy as np\n",
    "import contextlib\n",
    "import io\n",
    "from IPython.display import display, Javascript\n",
    "import seaborn as sns\n",
    "from tools.preprocessing_tools.qc_reports.qc_utils import log_files_qc, run_validate_folder_structure, display_diff, sample_and_calc_variance, \\\n",
    "                                                show_site_survival_dapi_brenner, show_site_survival_dapi_cellpose, \\\n",
    "                                                show_site_survival_dapi_tiling, show_site_survival_target_brenner, \\\n",
    "                                                calc_total_sums, plot_filtering_heatmap, show_total_sum_tables, \\\n",
    "                                                plot_cell_count, plot_catplot, plot_hm_combine_batches, plot_hm, \\\n",
    "                                                run_calc_hist_new, plot_marker_data, find_bad_wells,\\\n",
    "                                                show_site_survival_by_brenner_on_dapi_tiles, show_site_survival_target_brenner_tiles\n",
    "                                                \n",
    "from tools.preprocessing_tools.qc_reports.qc_config import (\n",
    "    funova_markers as markers,\n",
    "    funova_cell_lines as cell_lines,\n",
    "    funova_cell_lines_to_cond as cell_lines_to_cond,\n",
    "    funova_cell_lines_for_disp as cell_lines_for_disp,\n",
    "    funova_reps as reps,\n",
    "    funova_line_colors as line_colors,\n",
    "    funova_lines_order as lines_order,\n",
    "    funova_custom_palette as custom_palette,\n",
    "    funova_expected_dapi_raw as expected_dapi_raw,\n",
    "    funova_panels as panels,\n",
    "    funova_marker_info as marker_info\n",
    ")\n",
    "\n",
    "%load_ext autoreload\n",
    "%autoreload 2"
   ]
  },
  {
   "cell_type": "code",
   "execution_count": null,
   "id": "24d1912d",
   "metadata": {},
   "outputs": [],
   "source": [
    "# choose batches\n",
    "batches = ['Batch3', 'Batch4']#, 'batch2', 'batch3']\n",
    "batches"
   ]
  },
  {
   "cell_type": "markdown",
   "id": "8e9df582",
   "metadata": {},
   "source": [
    "I have created a folder called 'Batch3' in the logs dir and put all files inside"
   ]
  },
  {
   "cell_type": "code",
   "execution_count": null,
   "id": "28c7f497",
   "metadata": {},
   "outputs": [],
   "source": [
    "validate_antibody = False"
   ]
  },
  {
   "cell_type": "code",
   "execution_count": null,
   "id": "dd9fef71",
   "metadata": {},
   "outputs": [],
   "source": [
    "df = log_files_qc(LOGS_PATH, batches, only_wt_cond = False)"
   ]
  },
  {
   "cell_type": "code",
   "execution_count": null,
   "id": "b1732c58",
   "metadata": {},
   "outputs": [],
   "source": [
    "df['filename'] = df['filename'].str.split('-').str[0]\n",
    "df['site_num'] = df['site_num'].str.split('-').str[0]"
   ]
  },
  {
   "cell_type": "code",
   "execution_count": null,
   "id": "ccb2eab0",
   "metadata": {},
   "outputs": [],
   "source": [
    "df_dapi = df[df.marker=='DAPI']\n",
    "df_target = df[df.marker!='DAPI']"
   ]
  },
  {
   "cell_type": "markdown",
   "id": "7a556939-51a5-4333-bdde-a80485811239",
   "metadata": {
    "tags": []
   },
   "source": [
    "## Actual Files Validation"
   ]
  },
  {
   "cell_type": "markdown",
   "id": "c522d841",
   "metadata": {},
   "source": [
    "### Raw Files Validation"
   ]
  },
  {
   "cell_type": "markdown",
   "id": "917a4be4-355d-4452-b4ec-ed8554951021",
   "metadata": {},
   "source": [
    "1. How many site **tiff** files do we have in each folder?\n",
    "2. Are all existing files valid? (tif, at least 2049kB, not corrupetd)"
   ]
  },
  {
   "cell_type": "code",
   "execution_count": null,
   "id": "a3a56858",
   "metadata": {},
   "outputs": [],
   "source": [
    "root_directory_raw = os.path.join(NOVA_DATA_HOME, 'input', 'images', 'raw')"
   ]
  },
  {
   "cell_type": "code",
   "execution_count": null,
   "id": "ff5e5b1b",
   "metadata": {},
   "outputs": [],
   "source": [
    "# root_path = \"/home/labs/hornsteinlab/Collaboration/FUNOVA/input/images/raw/\"\n",
    "# marker_info_df = create_marker_info_df(root_path)"
   ]
  },
  {
   "cell_type": "code",
   "execution_count": null,
   "id": "9070d8c1",
   "metadata": {
    "scrolled": true
   },
   "outputs": [],
   "source": [
    "batches_raw = [batch.replace(\"_16bit_no_downsample\",\"\") for batch in batches]\n",
    "raws = run_validate_folder_structure(root_directory_raw, False, panels, markers.copy(), PLOT_PATH, marker_info,\n",
    "                                    cell_lines_to_cond, reps, cell_lines_for_disp, expected_dapi_raw,\n",
    "                                     batches=batches_raw, fig_width=8,fig_height = 40,\n",
    "                                    expected_count=100, validate_antibody = validate_antibody)"
   ]
  },
  {
   "cell_type": "markdown",
   "id": "5609985e",
   "metadata": {},
   "source": [
    "### Processed Files Validation"
   ]
  },
  {
   "cell_type": "markdown",
   "id": "6c298651-bc69-4088-bb25-7ed939fa192f",
   "metadata": {},
   "source": [
    "1. How many site **npy** files do we have in each folder? -> How many sites survived the pre-processing?\n",
    "2. Are all existing files valid? (at least 100kB, npy not corrupted)"
   ]
  },
  {
   "cell_type": "code",
   "execution_count": null,
   "id": "e7bfad35",
   "metadata": {
    "tags": []
   },
   "outputs": [],
   "source": [
    "root_directory_proc = os.path.join(NOVA_DATA_HOME, 'input', 'images', 'processed')\n",
    "procs = run_validate_folder_structure(root_directory_proc, True, panels, markers, PLOT_PATH, marker_info,\n",
    "                                    cell_lines_to_cond, reps, cell_lines_for_disp, expected_dapi_raw,\n",
    "                                     batches=batches, fig_width=8,fig_height = 40,\n",
    "                                    expected_count=100, validate_antibody = validate_antibody)"
   ]
  },
  {
   "cell_type": "markdown",
   "id": "ffa77c24",
   "metadata": {},
   "source": [
    "### Difference between Raw and Processed"
   ]
  },
  {
   "cell_type": "code",
   "execution_count": null,
   "id": "e4848e93",
   "metadata": {
    "scrolled": true
   },
   "outputs": [],
   "source": [
    "display_diff(batches, raws, procs, PLOT_PATH, fig_width=8, fig_height = 40)"
   ]
  },
  {
   "cell_type": "markdown",
   "id": "f9e9d63a-0630-41df-b39c-83673c2f0868",
   "metadata": {},
   "source": [
    "### Variance in each batch (of processed files)"
   ]
  },
  {
   "cell_type": "code",
   "execution_count": null,
   "id": "42871b88",
   "metadata": {
    "scrolled": true
   },
   "outputs": [],
   "source": [
    "for batch in batches:\n",
    "    with contextlib.redirect_stdout(io.StringIO()):\n",
    "        var = sample_and_calc_variance(root_directory_proc, batch, \n",
    "                                       sample_size_per_markers=200, cond_count=1, rep_count=len(reps), \n",
    "                                       num_markers=len(markers))\n",
    "    print(f'{batch} var: ',var)"
   ]
  },
  {
   "cell_type": "markdown",
   "id": "122ba37e-2fed-436a-af81-46ab1df363d0",
   "metadata": {
    "tags": []
   },
   "source": [
    "## Preprocessing Filtering qc\n",
    "By order of filtering"
   ]
  },
  {
   "cell_type": "markdown",
   "id": "57a7a26d-e74c-4d1f-9267-a4f5a3ebe973",
   "metadata": {
    "tags": []
   },
   "source": [
    "### 1. % site survival after Brenner on DAPI channel\n",
    "Percentage out of the total sites"
   ]
  },
  {
   "cell_type": "code",
   "execution_count": null,
   "id": "789c977c-dd5c-40b6-babe-b80c954823c9",
   "metadata": {
    "tags": []
   },
   "outputs": [],
   "source": [
    "dapi_filter_by_brenner = show_site_survival_dapi_brenner(df_dapi,batches, line_colors, panels,\n",
    "                                                        figsize=(6,18), reps=reps, vmax=100)"
   ]
  },
  {
   "cell_type": "markdown",
   "id": "a0b287b6-21d3-4feb-b1a4-77c6a30d5ad8",
   "metadata": {},
   "source": [
    "### 2. % Site survival after Cellpose\n",
    "Percentage out of the sites that passed the previous filter. In parenthesis are absolute values.\n",
    "\n",
    "**A site will be filtered out if Cellpose found 0 cells in it.**"
   ]
  },
  {
   "cell_type": "code",
   "execution_count": null,
   "id": "3f02458f-ac51-46ca-a9ce-425fc70d9cc6",
   "metadata": {
    "tags": []
   },
   "outputs": [],
   "source": [
    "dapi_filter_by_cellpose = show_site_survival_dapi_cellpose(df_dapi, batches, dapi_filter_by_brenner, \n",
    "                                                           line_colors, panels, figsize=(6,18), reps=reps)"
   ]
  },
  {
   "cell_type": "markdown",
   "id": "b70f114d-bb87-44a9-87b3-7dfc47a7a6f4",
   "metadata": {},
   "source": [
    "### 3. % Site survival by tiling\n",
    "Percentage out of the sites that passed the previous filter. In parenthesis are absolute values.\n",
    "\n",
    "**A site will be filtered out if after tiling, no tile is containing at least 85% of a cell that Cellpose detected.**"
   ]
  },
  {
   "cell_type": "code",
   "execution_count": null,
   "id": "18786222-e52a-4d50-84d6-80c72ba28b7c",
   "metadata": {
    "tags": []
   },
   "outputs": [],
   "source": [
    "dapi_filter_by_tiling=show_site_survival_dapi_tiling(df_dapi, batches, dapi_filter_by_cellpose, \n",
    "                                                     line_colors, panels, figsize=(6,18), reps=reps)"
   ]
  },
  {
   "cell_type": "markdown",
   "id": "16c6d36a",
   "metadata": {},
   "source": [
    "### 4. % Site survival after Brenner on DAPI's tiles\n",
    "Percentage out of the sites that passed the previous filter. In parenthesis are absolute values (if different than the percentages)."
   ]
  },
  {
   "cell_type": "code",
   "execution_count": null,
   "id": "38eafa48",
   "metadata": {},
   "outputs": [],
   "source": [
    "dapi_filter_by_brenner_tiles=show_site_survival_by_brenner_on_dapi_tiles(df_dapi, batches, dapi_filter_by_tiling, \n",
    "                                                     line_colors, panels, figsize=(6,18), reps=reps)"
   ]
  },
  {
   "cell_type": "markdown",
   "id": "e027fd00-e444-40c4-b766-8f4f020dc996",
   "metadata": {},
   "source": [
    "### 5. % Site survival after Brenner on target channel\n",
    "Percentage out of the sites that passed the previous filter. In parenthesis are absolute values (if different than the percentages)."
   ]
  },
  {
   "cell_type": "code",
   "execution_count": null,
   "id": "1dd30f69-b98c-43a8-8ee7-5abcc85f4662",
   "metadata": {
    "tags": []
   },
   "outputs": [],
   "source": [
    "show_site_survival_target_brenner(df_dapi, df_target, dapi_filter_by_tiling,\n",
    "                                 figsize=(6,24), markers=markers)"
   ]
  },
  {
   "cell_type": "code",
   "execution_count": null,
   "id": "d3c851b5",
   "metadata": {},
   "outputs": [],
   "source": [
    "df_dapi.iloc[np.where(df_dapi['n_valid_tiles']-df_dapi['n_valid_tiles_after_tiles_brenner'])][['n_valid_tiles','n_valid_tiles_after_tiles_brenner']]"
   ]
  },
  {
   "cell_type": "markdown",
   "id": "56a71dd3",
   "metadata": {},
   "source": [
    "Find non valid wells"
   ]
  },
  {
   "cell_type": "code",
   "execution_count": null,
   "id": "317cac64",
   "metadata": {},
   "outputs": [],
   "source": [
    "dfb = pd.read_csv(\"/home/labs/hornsteinlab/Collaboration/FUNOVA/outputs/preprocessing/brenner/raw_metrics280125_exp3.csv\")\n",
    "# Extract the panel (e.g., \"panelD\") from the Path column\n",
    "dfb['Panel'] = dfb['Path'].str.extract(r'/panel([A-Z])/', expand=True)\n",
    "find_bad_wells(dfb, threshold=10000, percentage_filter=60)"
   ]
  },
  {
   "cell_type": "markdown",
   "id": "0af135c0",
   "metadata": {},
   "source": [
    "### 6. % Site survival after Brenner on target channel tiles\n",
    "Percentage out of the tiles that passed the previous filter. In parenthesis are absolute values (if different than the percentages)."
   ]
  },
  {
   "cell_type": "code",
   "execution_count": null,
   "id": "2918d697",
   "metadata": {
    "tags": []
   },
   "outputs": [],
   "source": [
    "show_site_survival_target_brenner_tiles(df_dapi, df_target, dapi_filter_by_brenner_tiles,\n",
    "                                 figsize=(6,24), markers=markers)"
   ]
  },
  {
   "cell_type": "markdown",
   "id": "6f8a40d5-2b93-486c-a8e2-dbd642bbb3f4",
   "metadata": {
    "tags": []
   },
   "source": [
    "## Statistics About the Processed Files"
   ]
  },
  {
   "cell_type": "code",
   "execution_count": null,
   "id": "84b99a75-fa6c-43c9-bb72-8ccf068dd7a7",
   "metadata": {
    "scrolled": true,
    "tags": []
   },
   "outputs": [],
   "source": [
    "names = ['Total number of tiles', 'Total number of whole cells']\n",
    "stats = ['n_valid_tiles_after_tiles_brenner','site_whole_cells_counts_sum','site_cell_count','site_cell_count_sum']\n",
    "total_sum = calc_total_sums(df_target, df_dapi, stats, markers)"
   ]
  },
  {
   "cell_type": "code",
   "execution_count": null,
   "id": "a03d63c9",
   "metadata": {},
   "outputs": [],
   "source": [
    "total_sum.rename(columns={'n_valid_tiles_after_tiles_brenner': 'n_valid_tiles'}, inplace=True)"
   ]
  },
  {
   "cell_type": "code",
   "execution_count": null,
   "id": "7c2d7f42",
   "metadata": {},
   "outputs": [],
   "source": [
    "plot_marker_data(total_sum, split_by_cell_line=True)"
   ]
  },
  {
   "cell_type": "code",
   "execution_count": null,
   "id": "5ec7e695",
   "metadata": {},
   "outputs": [],
   "source": [
    "plot_marker_data(total_sum, split_by_cell_line=False)"
   ]
  },
  {
   "cell_type": "markdown",
   "id": "fe9aa5a2-511d-4cde-8633-c23c97273e37",
   "metadata": {
    "tags": []
   },
   "source": [
    "### Total tiles"
   ]
  },
  {
   "cell_type": "code",
   "execution_count": null,
   "id": "751aa403-3d41-40d1-86f0-8a668ee9a1d3",
   "metadata": {
    "tags": []
   },
   "outputs": [],
   "source": [
    "total_sum.n_valid_tiles.sum()"
   ]
  },
  {
   "cell_type": "markdown",
   "id": "7e4e3bae-4a08-4610-aa40-727b9a9b8808",
   "metadata": {
    "tags": []
   },
   "source": [
    "### Total whole nuclei in tiles"
   ]
  },
  {
   "cell_type": "code",
   "execution_count": null,
   "id": "88fef222-c465-427d-ba0e-b4e5ea785f99",
   "metadata": {
    "tags": []
   },
   "outputs": [],
   "source": [
    "total_sum[total_sum.marker =='DAPI'].site_whole_cells_counts_sum.sum()"
   ]
  },
  {
   "cell_type": "markdown",
   "id": "8dab3ba8-1ff9-49c0-b428-84c26b7f9a19",
   "metadata": {
    "tags": []
   },
   "source": [
    "### Total nuclei in sites"
   ]
  },
  {
   "cell_type": "code",
   "execution_count": null,
   "id": "c9ee53b4-9b3b-46ba-addb-61de6e99b291",
   "metadata": {
    "tags": []
   },
   "outputs": [],
   "source": [
    "total_sum[total_sum.marker =='DAPI'].site_cell_count.sum()"
   ]
  },
  {
   "cell_type": "code",
   "execution_count": null,
   "id": "c668a7cb-f984-4ecb-b811-a9d273544b2e",
   "metadata": {
    "scrolled": true,
    "tags": []
   },
   "outputs": [],
   "source": [
    "show_total_sum_tables(total_sum)"
   ]
  },
  {
   "cell_type": "markdown",
   "id": "1146f8e0-816c-45d4-88b6-1e55fe6db0fa",
   "metadata": {
    "tags": []
   },
   "source": [
    "### Show Total Tile Counts\n",
    "For each batch, cell line, replicate and markerTotal number of tiles"
   ]
  },
  {
   "cell_type": "code",
   "execution_count": null,
   "id": "72fba7f9-2573-49a6-b360-dd50446be5cd",
   "metadata": {
    "scrolled": true,
    "tags": []
   },
   "outputs": [],
   "source": [
    "to_heatmap = total_sum.rename(columns={'n_valid_tiles':'index'})\n",
    "plot_filtering_heatmap(to_heatmap, extra_index='marker', vmin=None, vmax=None,\n",
    "                      xlabel = 'Total number of tiles', show_sum=True, figsize=(6,24))"
   ]
  },
  {
   "cell_type": "markdown",
   "id": "d8106310-8162-4a9e-8c12-74ef7cbf98ce",
   "metadata": {
    "tags": []
   },
   "source": [
    "### Show Total Whole Cell Counts\n",
    "For each batch, cell line, replicate and markerTotal number of tiles"
   ]
  },
  {
   "cell_type": "code",
   "execution_count": null,
   "id": "6e4e9b8c-b6df-47eb-b28d-45eb451d41e1",
   "metadata": {
    "scrolled": true,
    "tags": []
   },
   "outputs": [],
   "source": [
    "to_heatmap = total_sum.rename(columns={'site_whole_cells_counts_sum':'index'})\n",
    "plot_filtering_heatmap(to_heatmap, extra_index='marker', vmin=None, vmax=None,\n",
    "                      xlabel = 'Total number of whole cells', show_sum=True, figsize=(6,24))"
   ]
  },
  {
   "cell_type": "markdown",
   "id": "cc98995c-6ad3-4cdc-9dc4-72693a87ffea",
   "metadata": {
    "tags": []
   },
   "source": [
    "### Show **Cell Count** Statistics per Batch"
   ]
  },
  {
   "cell_type": "code",
   "execution_count": null,
   "id": "d395b1c2",
   "metadata": {},
   "outputs": [],
   "source": [
    "df_no_empty_sites = df_dapi[df_dapi.n_valid_tiles_after_tiles_brenner !=0]\n",
    "plot_cell_count(df_no_empty_sites, lines_order, custom_palette, y='site_cell_count_sum', \n",
    "                title='Cell Count Average per Site (from tiles)', figsize=(16,6))\n",
    "\n",
    "plot_cell_count(df_no_empty_sites, lines_order, custom_palette, y='site_whole_cells_counts_sum',\n",
    "                title='Whole Cell Count Average per Site',figsize=(16,6))\n",
    "\n",
    "plot_cell_count(df_no_empty_sites, lines_order, custom_palette, y='site_cell_count',\n",
    "               title='Cellpose Cell Count Average per Site',figsize=(16,6))"
   ]
  },
  {
   "cell_type": "markdown",
   "id": "bf5de98b-b79a-457b-b994-e24c5e8a207c",
   "metadata": {},
   "source": [
    "\n",
    "### Show **Tiles** per Site Statistics\n"
   ]
  },
  {
   "cell_type": "code",
   "execution_count": null,
   "id": "2b91a506-a50d-4616-b612-653f0e384773",
   "metadata": {
    "tags": []
   },
   "outputs": [],
   "source": [
    "df_dapi.groupby(['cell_line_cond']).n_valid_tiles_after_tiles_brenner.mean()"
   ]
  },
  {
   "cell_type": "code",
   "execution_count": null,
   "id": "eeb6f0d9",
   "metadata": {},
   "outputs": [],
   "source": [
    "plot_catplot(df_dapi, sns.color_palette('colorblind'), reps=reps,x='cell_line', y_title='Valid Tiles Count', x_title='Cell Line', y='n_valid_tiles_after_tiles_brenner', hue='rep',\n",
    "             height=4, aspect=2)"
   ]
  },
  {
   "cell_type": "markdown",
   "id": "4fca758b-67da-412d-b0fe-fb3afcdd5b10",
   "metadata": {},
   "source": [
    "\n",
    "### Show Mean of cell count in valid tiles"
   ]
  },
  {
   "cell_type": "code",
   "execution_count": null,
   "id": "ea0f2dc3",
   "metadata": {
    "scrolled": true,
    "tags": []
   },
   "outputs": [],
   "source": [
    "# plot_hm(df_dapi, split_by='rep', rows='cell_line', columns='panel', vmax=3)"
   ]
  },
  {
   "cell_type": "markdown",
   "id": "b6e2d288-5a7d-492a-a3d5-6d23f5b763f1",
   "metadata": {},
   "source": [
    "# Assessing Staining Reproducibility and Outliers"
   ]
  },
  {
   "cell_type": "code",
   "execution_count": null,
   "id": "d974e31a",
   "metadata": {
    "scrolled": true
   },
   "outputs": [],
   "source": [
    "# for batch in batches:\n",
    "#     print(batch)\n",
    "#     run_calc_hist_new(batch,cell_lines_for_disp, markers, root_directory_raw, root_directory_proc,\n",
    "#                            hist_sample=10,sample_size_per_markers=10, ncols=4, nrows=1, figsize=(6,2))\n",
    "#     print(\"=\"*30)\n",
    "    "
   ]
  },
  {
   "cell_type": "code",
   "execution_count": null,
   "id": "2eaf3bdd",
   "metadata": {},
   "outputs": [],
   "source": [
    "# save notebook as HTML ( the HTML will be saved in the same folder the original script is)\n",
    "display(Javascript('IPython.notebook.save_checkpoint();'))\n",
    "os.system(f'jupyter nbconvert --to html tools/preprocessing_tools/qc_reports/qc_report_funova_exp4.ipynb --output {NOVA_HOME}/manuscript/preprocessing_qc_reports/qc_report_funova_exp4_11.03.25.html')"
   ]
  },
  {
   "cell_type": "code",
   "execution_count": null,
   "id": "3814f0ad",
   "metadata": {},
   "outputs": [],
   "source": []
  },
  {
   "cell_type": "code",
   "execution_count": null,
   "id": "0e8f477e",
   "metadata": {},
   "outputs": [],
   "source": []
  }
 ],
 "metadata": {
  "kernelspec": {
   "display_name": "nova",
   "language": "python",
   "name": "nova"
  },
  "language_info": {
   "codemirror_mode": {
    "name": "ipython",
    "version": 3
   },
   "file_extension": ".py",
   "mimetype": "text/x-python",
   "name": "python",
   "nbconvert_exporter": "python",
   "pygments_lexer": "ipython3",
   "version": "3.9.19"
  }
 },
 "nbformat": 4,
 "nbformat_minor": 5
}
