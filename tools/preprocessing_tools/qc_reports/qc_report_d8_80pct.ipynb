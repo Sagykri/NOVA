{
 "cells": [
  {
   "cell_type": "markdown",
   "id": "e53d6453",
   "metadata": {},
   "source": [
    "# <font color='purple'>Preprocessing QC statistics </font> \n",
    "### October 2024"
   ]
  },
  {
   "cell_type": "code",
   "execution_count": null,
   "id": "a35a2e3e",
   "metadata": {},
   "outputs": [],
   "source": [
    "import os\n",
    "NOVA_HOME = '/home/labs/hornsteinlab/Collaboration/MOmaps_Noam/MOmaps'\n",
    "NOVA_DATA_HOME = '/home/labs/hornsteinlab/Collaboration/MOmaps'\n",
    "LOGS_PATH = os.path.join(NOVA_DATA_HOME, \"outputs/preprocessing/spd/logs/preprocessing_Dec2023\")\n",
    "PLOT_PATH = os.path.join(NOVA_HOME, 'src', 'preprocessing', 'notebooks','figures','Neurons')\n",
    "os.chdir(NOVA_HOME)\n",
    "import pandas as pd\n",
    "import contextlib\n",
    "import io\n",
    "from IPython.display import display, Javascript\n",
    "\n",
    "from tools.preprocessing_tools.qc_reports.qc_utils import log_files_qc, run_validate_folder_structure, display_diff, sample_and_calc_variance, \\\n",
    "                                                show_site_survival_dapi_brenner, show_site_survival_dapi_cellpose, \\\n",
    "                                                show_site_survival_dapi_tiling, show_site_survival_target_brenner, \\\n",
    "                                                calc_total_sums, plot_filtering_heatmap, show_total_sum_tables, \\\n",
    "                                                plot_cell_count, plot_catplot, plot_hm_combine_batches, plot_hm, \\\n",
    "                                                run_calc_hist_new\n",
    "                                                \n",
    "from tools.preprocessing_tools.qc_reports.qc_config import panels, markers, marker_info, cell_lines, cell_lines_to_cond,\\\n",
    "                                    cell_lines_for_disp, reps, line_colors, lines_order, custom_palette,\\\n",
    "                                    expected_dapi_raw\n",
    "%load_ext autoreload\n",
    "%autoreload 2"
   ]
  },
  {
   "cell_type": "code",
   "execution_count": null,
   "id": "24d1912d",
   "metadata": {},
   "outputs": [],
   "source": [
    "# choose batches\n",
    "batches = [f'batch{i}' for i in range(4,10)]"
   ]
  },
  {
   "cell_type": "code",
   "execution_count": null,
   "id": "6fb18e37",
   "metadata": {},
   "outputs": [],
   "source": [
    "df = log_files_qc(LOGS_PATH, batches)\n",
    "\n",
    "df_dapi = df[df.marker=='DAPI']\n",
    "df_target = df[df.marker!='DAPI']"
   ]
  },
  {
   "cell_type": "markdown",
   "id": "75d2a781-31b6-453d-a917-42a44797e018",
   "metadata": {
    "tags": []
   },
   "source": [
    "## Actual Files Validation"
   ]
  },
  {
   "cell_type": "markdown",
   "id": "c522d841",
   "metadata": {
    "tags": []
   },
   "source": [
    "### Raw Files Validation"
   ]
  },
  {
   "cell_type": "markdown",
   "id": "917a4be4-355d-4452-b4ec-ed8554951021",
   "metadata": {},
   "source": [
    "1. How many site **tiff** files do we have in each folder?\n",
    "2. Are all existing files valid? (tif, at least 2049kB, not corrupetd)"
   ]
  },
  {
   "cell_type": "code",
   "execution_count": null,
   "id": "ec1d2ed4",
   "metadata": {
    "scrolled": true
   },
   "outputs": [],
   "source": [
    "\n",
    "root_directory_raw = os.path.join(NOVA_DATA_HOME, 'input', 'images', 'raw', 'SpinningDisk')\n",
    "\n",
    "batches_raw = [batch.replace(\"_16bit_no_downsample\",\"\") for batch in batches]\n",
    "raws = run_validate_folder_structure(root_directory_raw, False, panels, markers,PLOT_PATH,marker_info,\n",
    "                                    cell_lines_to_cond, reps, cell_lines_for_disp, expected_dapi_raw,\n",
    "                                     batches=batches_raw)"
   ]
  },
  {
   "cell_type": "markdown",
   "id": "5609985e",
   "metadata": {
    "tags": []
   },
   "source": [
    "### Processed Files Validation"
   ]
  },
  {
   "cell_type": "markdown",
   "id": "6c298651-bc69-4088-bb25-7ed939fa192f",
   "metadata": {},
   "source": [
    "1. How many site **npy** files do we have in each folder? -> How many sites survived the pre-processing?\n",
    "2. Are all existing files valid? (at least 100kB, npy not corrupted)"
   ]
  },
  {
   "cell_type": "code",
   "execution_count": null,
   "id": "a9df410c",
   "metadata": {
    "scrolled": true
   },
   "outputs": [],
   "source": [
    "root_directory_proc = os.path.join(NOVA_DATA_HOME, 'input', 'images', 'processed', 'spd2',\n",
    "                              'SpinningDisk')\n",
    "procs = run_validate_folder_structure(root_directory_proc, True, panels, markers,PLOT_PATH,marker_info,\n",
    "                                    cell_lines_to_cond, reps, cell_lines_for_disp, expected_dapi_raw,\n",
    "                                     batches=batches)"
   ]
  },
  {
   "cell_type": "markdown",
   "id": "ffa77c24",
   "metadata": {
    "tags": []
   },
   "source": [
    "### Difference between Raw and Processed"
   ]
  },
  {
   "cell_type": "code",
   "execution_count": null,
   "id": "e4848e93",
   "metadata": {
    "scrolled": true
   },
   "outputs": [],
   "source": [
    "display_diff(batches, raws, procs, PLOT_PATH)"
   ]
  },
  {
   "cell_type": "markdown",
   "id": "f9e9d63a-0630-41df-b39c-83673c2f0868",
   "metadata": {
    "tags": []
   },
   "source": [
    "### Variance in each batch (of processed files)"
   ]
  },
  {
   "cell_type": "code",
   "execution_count": null,
   "id": "42871b88",
   "metadata": {
    "scrolled": true
   },
   "outputs": [],
   "source": [
    "for batch in batches:\n",
    "    with contextlib.redirect_stdout(io.StringIO()):\n",
    "        var = sample_and_calc_variance(root_directory_proc, batch, \n",
    "                                       sample_size_per_markers=200, num_markers=26)\n",
    "    print(f'{batch} var: ',var)"
   ]
  },
  {
   "cell_type": "markdown",
   "id": "64ccaaf3-ebd0-4d10-88b2-4a10b8128134",
   "metadata": {
    "tags": []
   },
   "source": [
    "## Preprocessing Filtering qc\n",
    "By order of filtering"
   ]
  },
  {
   "cell_type": "markdown",
   "id": "855168a5-82ca-4fc8-bd7c-0e6e55d9d7f6",
   "metadata": {
    "tags": []
   },
   "source": [
    "### 1. % site survival after Brenner on DAPI channel\n",
    "Percentage out of the total sites"
   ]
  },
  {
   "cell_type": "code",
   "execution_count": null,
   "id": "789c977c-dd5c-40b6-babe-b80c954823c9",
   "metadata": {
    "scrolled": true,
    "tags": []
   },
   "outputs": [],
   "source": [
    "dapi_filter_by_brenner = show_site_survival_dapi_brenner(df_dapi,batches, line_colors, panels, reps)"
   ]
  },
  {
   "cell_type": "markdown",
   "id": "a0b287b6-21d3-4feb-b1a4-77c6a30d5ad8",
   "metadata": {
    "tags": []
   },
   "source": [
    "### 2. % Site survival after Cellpose\n",
    "Percentage out of the sites that passed the previous filter. In parenthesis are absolute values.\n",
    "\n",
    "**A site will be filtered out if Cellpose found 0 cells in it.**"
   ]
  },
  {
   "cell_type": "code",
   "execution_count": null,
   "id": "3f02458f-ac51-46ca-a9ce-425fc70d9cc6",
   "metadata": {
    "scrolled": true,
    "tags": []
   },
   "outputs": [],
   "source": [
    "dapi_filter_by_cellpose = show_site_survival_dapi_cellpose(df_dapi, batches, dapi_filter_by_brenner, line_colors, panels, reps)"
   ]
  },
  {
   "cell_type": "markdown",
   "id": "b70f114d-bb87-44a9-87b3-7dfc47a7a6f4",
   "metadata": {
    "tags": []
   },
   "source": [
    "### 3. % Site survival by tiling\n",
    "Percentage out of the sites that passed the previous filter. In parenthesis are absolute values.\n",
    "\n",
    "**A site will be filtered out if after tiling, no tile is containing at least one whole cell that Cellpose detected.**"
   ]
  },
  {
   "cell_type": "code",
   "execution_count": null,
   "id": "18786222-e52a-4d50-84d6-80c72ba28b7c",
   "metadata": {
    "scrolled": true,
    "tags": []
   },
   "outputs": [],
   "source": [
    "dapi_filter_by_tiling=show_site_survival_dapi_tiling(df_dapi, batches, dapi_filter_by_cellpose, line_colors, panels, reps)"
   ]
  },
  {
   "cell_type": "markdown",
   "id": "e027fd00-e444-40c4-b766-8f4f020dc996",
   "metadata": {
    "tags": []
   },
   "source": [
    "### 4. % Site survival after Brenner on target channel\n",
    "Percentage out of the sites that passed the previous filter. In parenthesis are absolute values (if different than the percentages)."
   ]
  },
  {
   "cell_type": "code",
   "execution_count": null,
   "id": "1dd30f69-b98c-43a8-8ee7-5abcc85f4662",
   "metadata": {
    "scrolled": true,
    "tags": []
   },
   "outputs": [],
   "source": [
    "show_site_survival_target_brenner(df_dapi, df_target, dapi_filter_by_tiling, markers)"
   ]
  },
  {
   "cell_type": "markdown",
   "id": "bd71c490-81be-4a0c-afee-ecee8c338d6f",
   "metadata": {
    "tags": []
   },
   "source": [
    "## Statistics About the Processed Files"
   ]
  },
  {
   "cell_type": "code",
   "execution_count": null,
   "id": "84b99a75-fa6c-43c9-bb72-8ccf068dd7a7",
   "metadata": {
    "scrolled": true,
    "tags": []
   },
   "outputs": [],
   "source": [
    "stats = ['n_valid_tiles','site_whole_cells_counts_sum','site_cell_count','site_cell_count_sum']\n",
    "total_sum = calc_total_sums(df_target, df_dapi, stats, markers)"
   ]
  },
  {
   "cell_type": "markdown",
   "id": "ac5248f3-d920-49c6-b086-10e005a9e498",
   "metadata": {
    "tags": []
   },
   "source": [
    "### Total tiles"
   ]
  },
  {
   "cell_type": "code",
   "execution_count": null,
   "id": "751aa403-3d41-40d1-86f0-8a668ee9a1d3",
   "metadata": {
    "tags": []
   },
   "outputs": [],
   "source": [
    "total_sum[~total_sum.marker.str.contains('TIA', regex=True)].n_valid_tiles.sum()\n"
   ]
  },
  {
   "cell_type": "code",
   "execution_count": null,
   "id": "2ae1fcc2-e28d-4804-b7cf-c003965e3d6f",
   "metadata": {},
   "outputs": [],
   "source": [
    "## Total tiles in wt lines\n",
    "total_sum[(~total_sum.marker.str.contains('TIA', regex=True))&\n",
    "         (total_sum.cell_line_cond.isin(['WT stress', 'WT Untreated']))].n_valid_tiles.sum()"
   ]
  },
  {
   "cell_type": "code",
   "execution_count": null,
   "id": "3d466447-bb0e-434e-98dc-98b65dc38fce",
   "metadata": {},
   "outputs": [],
   "source": [
    "## Total tiles in untreated lines\n",
    "total_sum[(~total_sum.marker.str.contains('TIA', regex=True))&\n",
    "         ((~total_sum.cell_line_cond.str.contains('WT')) | (total_sum.cell_line_cond=='WT Untreated'))].n_valid_tiles.sum()"
   ]
  },
  {
   "cell_type": "markdown",
   "id": "951bfcc9-5789-4404-b82d-bcd85654fd8f",
   "metadata": {
    "tags": []
   },
   "source": [
    "### Total whole nuclei in tiles"
   ]
  },
  {
   "cell_type": "code",
   "execution_count": null,
   "id": "88fef222-c465-427d-ba0e-b4e5ea785f99",
   "metadata": {
    "tags": []
   },
   "outputs": [],
   "source": [
    "total_sum[total_sum.marker =='DAPI'].site_whole_cells_counts_sum.sum()"
   ]
  },
  {
   "cell_type": "markdown",
   "id": "1940d61b-7955-4d01-bd6b-58e179cc7276",
   "metadata": {
    "tags": []
   },
   "source": [
    "### Total nuclei in sites"
   ]
  },
  {
   "cell_type": "code",
   "execution_count": null,
   "id": "c9ee53b4-9b3b-46ba-addb-61de6e99b291",
   "metadata": {
    "tags": []
   },
   "outputs": [],
   "source": [
    "total_sum[total_sum.marker =='DAPI'].site_cell_count.sum()"
   ]
  },
  {
   "cell_type": "markdown",
   "id": "e14cdaa0-ce52-4cfa-bf24-ea2f33e1a1a0",
   "metadata": {},
   "source": [
    "### Total tiles in training batches"
   ]
  },
  {
   "cell_type": "code",
   "execution_count": null,
   "id": "d47cae89-0283-4f51-bc0f-1ef2153f2e29",
   "metadata": {},
   "outputs": [],
   "source": [
    "total_sum[(total_sum.batch.str.contains('7|8', regex=True))\n",
    "          & (~total_sum.marker.str.contains('TIA1', regex=True))].n_valid_tiles.sum()"
   ]
  },
  {
   "cell_type": "markdown",
   "id": "8ff4e6b0-3473-4034-8fb3-3ff17ed29203",
   "metadata": {},
   "source": [
    "### Training: Total whole nuclei in tiles"
   ]
  },
  {
   "cell_type": "code",
   "execution_count": null,
   "id": "991f3578-4a2d-439b-82fa-c279dcbf89c5",
   "metadata": {},
   "outputs": [],
   "source": [
    "total_sum[(total_sum.batch.str.contains('7|8', regex=True)) \n",
    "          & (total_sum.marker =='DAPI')].site_whole_cells_counts_sum.sum()"
   ]
  },
  {
   "cell_type": "code",
   "execution_count": null,
   "id": "c668a7cb-f984-4ecb-b811-a9d273544b2e",
   "metadata": {
    "scrolled": true,
    "tags": []
   },
   "outputs": [],
   "source": [
    "show_total_sum_tables(total_sum)"
   ]
  },
  {
   "cell_type": "markdown",
   "id": "b1519cbe-273c-4093-9a31-19ee7b45abdf",
   "metadata": {
    "tags": []
   },
   "source": [
    "### Show Total Tile Counts\n",
    "For each batch, cell line, replicate and markerTotal number of tiles"
   ]
  },
  {
   "cell_type": "code",
   "execution_count": null,
   "id": "72fba7f9-2573-49a6-b360-dd50446be5cd",
   "metadata": {
    "scrolled": true,
    "tags": []
   },
   "outputs": [],
   "source": [
    "to_heatmap = total_sum.rename(columns={'n_valid_tiles':'index'})\n",
    "plot_filtering_heatmap(to_heatmap, extra_index='marker', vmin=None, vmax=None,\n",
    "                      xlabel = 'Total number of tiles', show_sum=True, figsize=(6,8))"
   ]
  },
  {
   "cell_type": "markdown",
   "id": "8689c047-31a9-4585-ae1f-7e0ac874b8f7",
   "metadata": {
    "tags": []
   },
   "source": [
    "### Show Total Whole Cell Counts\n",
    "For each batch, cell line, replicate and markerTotal number of tiles"
   ]
  },
  {
   "cell_type": "code",
   "execution_count": null,
   "id": "6e4e9b8c-b6df-47eb-b28d-45eb451d41e1",
   "metadata": {
    "scrolled": true,
    "tags": []
   },
   "outputs": [],
   "source": [
    "to_heatmap = total_sum.rename(columns={'site_whole_cells_counts_sum':'index'})\n",
    "plot_filtering_heatmap(to_heatmap, extra_index='marker', vmin=None, vmax=None,\n",
    "                      xlabel = 'Total number of whole cells', show_sum=True, figsize=(6,8))"
   ]
  },
  {
   "cell_type": "markdown",
   "id": "cf33b1d3",
   "metadata": {
    "tags": []
   },
   "source": [
    "### Show **Cell Count** Statistics per Batch"
   ]
  },
  {
   "cell_type": "code",
   "execution_count": null,
   "id": "d395b1c2",
   "metadata": {},
   "outputs": [],
   "source": [
    "df_no_empty_sites = df_dapi[df_dapi.n_valid_tiles !=0]\n",
    "plot_cell_count(df_no_empty_sites, lines_order, custom_palette, y='site_cell_count_sum', \n",
    "                title='Cell Count Average per Site (from tiles)')\n",
    "\n",
    "plot_cell_count(df_no_empty_sites, lines_order, custom_palette, y='site_whole_cells_counts_sum',\n",
    "                title='Whole Cell Count Average per Site')\n",
    "\n",
    "plot_cell_count(df_no_empty_sites, lines_order, custom_palette, y='site_cell_count',\n",
    "               title='Cellpose Cell Count Average per Site')"
   ]
  },
  {
   "cell_type": "markdown",
   "id": "3c5d41d1",
   "metadata": {},
   "source": [
    "\n",
    "### Show **Tiles** per Site Statistics\n"
   ]
  },
  {
   "cell_type": "code",
   "execution_count": null,
   "id": "2b91a506-a50d-4616-b612-653f0e384773",
   "metadata": {
    "tags": []
   },
   "outputs": [],
   "source": [
    "df_dapi.groupby(['cell_line_cond']).n_valid_tiles.mean()"
   ]
  },
  {
   "cell_type": "code",
   "execution_count": null,
   "id": "eeb6f0d9",
   "metadata": {},
   "outputs": [],
   "source": [
    "plot_catplot(df_dapi, custom_palette,reps, x='n_valid_tiles', x_title='valid tiles count', batch_min=4, batch_max=9)"
   ]
  },
  {
   "cell_type": "markdown",
   "id": "0d81ccdd",
   "metadata": {},
   "source": [
    "\n",
    "### Show Mean of cell count in valid tiles"
   ]
  },
  {
   "cell_type": "code",
   "execution_count": null,
   "id": "ea0f2dc3",
   "metadata": {
    "scrolled": true,
    "tags": []
   },
   "outputs": [],
   "source": [
    "plot_hm(df_dapi, split_by='rep', rows='cell_line', columns='panel', vmax=3)"
   ]
  },
  {
   "cell_type": "code",
   "execution_count": null,
   "id": "b3dceab4-5a4e-4551-a9b3-47a4433a4566",
   "metadata": {},
   "outputs": [],
   "source": [
    "df_dapi[['cells_count_in_valid_tiles_mean']].mean()"
   ]
  },
  {
   "cell_type": "code",
   "execution_count": null,
   "id": "a3a28cd5-a4d3-4720-b19e-cfab647031b6",
   "metadata": {},
   "outputs": [],
   "source": [
    "df_dapi[['site_cell_count']].mean()"
   ]
  },
  {
   "cell_type": "code",
   "execution_count": null,
   "id": "f344150f-d5a3-453b-918a-2991fd19d3ca",
   "metadata": {},
   "outputs": [],
   "source": [
    "## Only batches 7&8\n",
    "plot_hm_combine_batches(df_dapi,  batches=['batch7','batch8'], \n",
    "                        reps = ['rep1','rep2'],rows='cell_line', columns='panel', vmax=3)\n"
   ]
  },
  {
   "cell_type": "markdown",
   "id": "0d1751b9",
   "metadata": {},
   "source": [
    "# Assessing Staining Reproducibility and Outliers"
   ]
  },
  {
   "cell_type": "code",
   "execution_count": null,
   "id": "d974e31a",
   "metadata": {
    "scrolled": true
   },
   "outputs": [],
   "source": [
    "for batch in batches:\n",
    "    print(batch)\n",
    "    #batch_num = batch.replace('batch',\"\")\n",
    "    run_calc_hist_new(batch,cell_lines_for_disp, markers, root_directory_raw, root_directory_proc,\n",
    "                           hist_sample=10,sample_size_per_markers=200, ncols=7, nrows=4)\n",
    "    print(\"=\"*30)\n",
    "\n"
   ]
  },
  {
   "cell_type": "code",
   "execution_count": null,
   "id": "2eaf3bdd",
   "metadata": {},
   "outputs": [],
   "source": [
    "# save notebook as HTML ( the HTML will be saved in the same folder the original script is)\n",
    "display(Javascript('IPython.notebook.save_checkpoint();'))\n",
    "os.system(f'jupyter nbconvert --to html tools/preprocessing_tools/qc_reports/qc_report_d8.ipynb --output {NOVA_HOME}/manuscript/preprocessing_qc_reports/qc_report_d8.html')"
   ]
  },
  {
   "cell_type": "code",
   "execution_count": null,
   "id": "44c09228-7c75-46f6-85d8-373c6aea4785",
   "metadata": {},
   "outputs": [],
   "source": []
  }
 ],
 "metadata": {
  "kernelspec": {
   "display_name": "nova",
   "language": "python",
   "name": "nova"
  },
  "language_info": {
   "codemirror_mode": {
    "name": "ipython",
    "version": 3
   },
   "file_extension": ".py",
   "mimetype": "text/x-python",
   "name": "python",
   "nbconvert_exporter": "python",
   "pygments_lexer": "ipython3",
   "version": "3.9.19"
  }
 },
 "nbformat": 4,
 "nbformat_minor": 5
}
