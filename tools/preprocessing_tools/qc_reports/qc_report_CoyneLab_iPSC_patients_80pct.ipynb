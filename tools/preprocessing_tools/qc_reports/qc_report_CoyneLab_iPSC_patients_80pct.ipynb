{
 "cells": [
  {
   "cell_type": "markdown",
   "id": "e53d6453",
   "metadata": {},
   "source": [
    "# <font color='purple'>CoyneLab_iPSC_patients_TDP43_PB Preprocessing QC statistics </font> \n",
    "### October 2024"
   ]
  },
  {
   "cell_type": "code",
   "execution_count": null,
   "id": "d0673c80",
   "metadata": {},
   "outputs": [],
   "source": [
    "import os\n",
    "NOVA_HOME = '/home/labs/hornsteinlab/Collaboration/MOmaps_Noam/MOmaps'\n",
    "NOVA_DATA_HOME = '/home/labs/hornsteinlab/Collaboration/MOmaps'\n",
    "\n",
    "LOGS_PATH = os.path.join(NOVA_DATA_HOME, \"outputs/preprocessing/AlyssaCoyne/logs/preprocessing_CoyneLab_iPSC_patients_TDP43_PB_7tiles/\")\n",
    "PLOT_PATH = os.path.join(NOVA_DATA_HOME, \"outputs/preprocessing/AlyssaCoyne/logs/preprocessing_CoyneLab_iPSC_patients_TDP43_PB_7tiles/plots\")\n",
    "\n",
    "NOVA_HOME = '/home/labs/hornsteinlab/Collaboration/NOVA_Oz/NOVA'\n",
    "NOVA_DATA_HOME = '/home/labs/hornsteinlab/Collaboration/MOmaps'\n",
    "LOGS_PATH = os.path.join(NOVA_HOME, 'logs', 'Alyscoyn')\n",
    "PLOT_PATH = os.path.join(NOVA_HOME, 'src', 'preprocessing', 'notebooks','figures','Alyscoyn_80pct')\n",
    "\n",
    "\n",
    "os.chdir(NOVA_HOME)\n",
    "\n",
    "import pandas as pd\n",
    "import contextlib\n",
    "import io\n",
    "from IPython.display import display, Javascript\n",
    "import seaborn as sns\n",
    "from tools.preprocessing_tools.qc_reports.qc_utils import log_files_qc, run_validate_folder_structure, display_diff, sample_and_calc_variance, \\\n",
    "                                                show_site_survival_dapi_brenner, show_site_survival_dapi_cellpose, \\\n",
    "                                                show_site_survival_dapi_tiling, show_site_survival_target_brenner, \\\n",
    "                                                calc_total_sums, plot_filtering_heatmap, show_total_sum_tables, \\\n",
    "                                                plot_cell_count, plot_catplot, plot_hm_combine_batches, plot_hm, \\\n",
    "                                                run_calc_hist_new\n",
    "                                                \n",
    "from tools.preprocessing_tools.qc_reports.qc_config import AC_panels, AC_markers, AC_marker_info, AC_cell_lines, AC_cell_lines_to_cond,\\\n",
    "                                    AC_cell_lines_for_disp, AC_reps, AC_line_colors, AC_lines_order, AC_custom_palette,\\\n",
    "                                    AC_expected_dapi_raw, AC_cell_lines_to_reps\n",
    "%load_ext autoreload\n",
    "%autoreload 2"
   ]
  },
  {
   "cell_type": "code",
   "execution_count": null,
   "id": "6fb18e37",
   "metadata": {},
   "outputs": [],
   "source": [
    "df = log_files_qc(LOGS_PATH,only_wt_cond=True)\n",
    "df_dapi = df[df.marker=='DAPI']\n",
    "df_target = df[df.marker!='DAPI']"
   ]
  },
  {
   "cell_type": "code",
   "execution_count": null,
   "id": "24d1912d",
   "metadata": {},
   "outputs": [],
   "source": [
    "# choose batches\n",
    "batches = ['batch1']\n",
    "batches"
   ]
  },
  {
   "cell_type": "markdown",
   "id": "7a556939-51a5-4333-bdde-a80485811239",
   "metadata": {
    "tags": []
   },
   "source": [
    "## Actual Files Validation"
   ]
  },
  {
   "cell_type": "markdown",
   "id": "c522d841",
   "metadata": {},
   "source": [
    "### Raw Files Validation"
   ]
  },
  {
   "cell_type": "markdown",
   "id": "917a4be4-355d-4452-b4ec-ed8554951021",
   "metadata": {},
   "source": [
    "1. How many site **tiff** files do we have in each folder?\n",
    "2. Are all existing files valid? (tif, at least 2049kB, not corrupetd)"
   ]
  },
  {
   "cell_type": "code",
   "execution_count": null,
   "id": "ec1d2ed4",
   "metadata": {
    "scrolled": true,
    "tags": []
   },
   "outputs": [],
   "source": [
    "\n",
    "root_directory_raw = os.path.join(NOVA_DATA_HOME, 'input', 'images', 'raw', 'AlyssaCoyne', 'MOmaps_iPSC_patients_TDP43_PB_CoyneLab')\n",
    "\n",
    "\n",
    "batches_raw = [batch.replace(\"_16bit_no_downsample\",\"\") for batch in batches]\n",
    "raws = run_validate_folder_structure(root_directory_raw, False, AC_panels, AC_markers.copy(),PLOT_PATH, AC_marker_info,\n",
    "                                    AC_cell_lines_to_cond, AC_reps, AC_cell_lines_for_disp, AC_expected_dapi_raw,\n",
    "                                     batches=batches_raw, fig_width=5, cell_lines_to_reps=AC_cell_lines_to_reps,\n",
    "                                    expected_count=10)"
   ]
  },
  {
   "cell_type": "markdown",
   "id": "5609985e",
   "metadata": {},
   "source": [
    "### Processed Files Validation"
   ]
  },
  {
   "cell_type": "markdown",
   "id": "6c298651-bc69-4088-bb25-7ed939fa192f",
   "metadata": {},
   "source": [
    "1. How many site **npy** files do we have in each folder? -> How many sites survived the pre-processing?\n",
    "2. Are all existing files valid? (at least 100kB, npy not corrupted)"
   ]
  },
  {
   "cell_type": "code",
   "execution_count": null,
   "id": "a9df410c",
   "metadata": {
    "scrolled": true,
    "tags": []
   },
   "outputs": [],
   "source": [
    "root_directory_proc = os.path.join(NOVA_DATA_HOME, 'input', 'images', 'processed', 'AlyssaCoyne80pct', 'MOmaps_iPSC_patients_TDP43_PB_CoyneLab_7tiles')\n",
    "procs = run_validate_folder_structure(root_directory_proc, True, AC_panels, AC_markers,PLOT_PATH, AC_marker_info,\n",
    "                                    AC_cell_lines_to_cond, AC_reps, AC_cell_lines_for_disp, AC_expected_dapi_raw,\n",
    "                                     batches=batches, fig_width=5, cell_lines_to_reps=AC_cell_lines_to_reps,\n",
    "                                    expected_count=10)"
   ]
  },
  {
   "cell_type": "markdown",
   "id": "ffa77c24",
   "metadata": {},
   "source": [
    "### Difference between Raw and Processed"
   ]
  },
  {
   "cell_type": "code",
   "execution_count": null,
   "id": "e4848e93",
   "metadata": {
    "scrolled": true
   },
   "outputs": [],
   "source": [
    "display_diff(batches, raws, procs, PLOT_PATH, fig_width=5)"
   ]
  },
  {
   "cell_type": "markdown",
   "id": "f9e9d63a-0630-41df-b39c-83673c2f0868",
   "metadata": {},
   "source": [
    "### Variance in each batch (of processed files)"
   ]
  },
  {
   "cell_type": "code",
   "execution_count": null,
   "id": "42871b88",
   "metadata": {
    "scrolled": true
   },
   "outputs": [],
   "source": [
    "\n",
    "for batch in batches:\n",
    "    with contextlib.redirect_stdout(io.StringIO()):\n",
    "        var = sample_and_calc_variance(root_directory_proc, batch, \n",
    "                                       sample_size_per_markers=200, cond_count=1, rep_count=len(AC_reps), \n",
    "                                       num_markers=len(AC_markers))\n",
    "    print(f'{batch} var: ',var)"
   ]
  },
  {
   "cell_type": "markdown",
   "id": "122ba37e-2fed-436a-af81-46ab1df363d0",
   "metadata": {
    "tags": []
   },
   "source": [
    "## Preprocessing Filtering qc\n",
    "By order of filtering"
   ]
  },
  {
   "cell_type": "markdown",
   "id": "57a7a26d-e74c-4d1f-9267-a4f5a3ebe973",
   "metadata": {
    "tags": []
   },
   "source": [
    "### 1. % site survival after Brenner on DAPI channel\n",
    "Percentage out of the total sites"
   ]
  },
  {
   "cell_type": "code",
   "execution_count": null,
   "id": "789c977c-dd5c-40b6-babe-b80c954823c9",
   "metadata": {
    "tags": []
   },
   "outputs": [],
   "source": [
    "dapi_filter_by_brenner = show_site_survival_dapi_brenner(df_dapi,batches, AC_line_colors, AC_panels,\n",
    "                                                        figsize=(6,3), reps=AC_reps, vmax=10)"
   ]
  },
  {
   "cell_type": "markdown",
   "id": "a0b287b6-21d3-4feb-b1a4-77c6a30d5ad8",
   "metadata": {},
   "source": [
    "### 2. % Site survival after Cellpose\n",
    "Percentage out of the sites that passed the previous filter. In parenthesis are absolute values.\n",
    "\n",
    "**A site will be filtered out if Cellpose found 0 cells in it.**"
   ]
  },
  {
   "cell_type": "code",
   "execution_count": null,
   "id": "3f02458f-ac51-46ca-a9ce-425fc70d9cc6",
   "metadata": {
    "tags": []
   },
   "outputs": [],
   "source": [
    "dapi_filter_by_cellpose = show_site_survival_dapi_cellpose(df_dapi, batches, dapi_filter_by_brenner, \n",
    "                                                           AC_line_colors, AC_panels, figsize=(6,3), reps=AC_reps)"
   ]
  },
  {
   "cell_type": "markdown",
   "id": "b70f114d-bb87-44a9-87b3-7dfc47a7a6f4",
   "metadata": {},
   "source": [
    "### 3. % Site survival by tiling\n",
    "Percentage out of the sites that passed the previous filter. In parenthesis are absolute values.\n",
    "\n",
    "**A site will be filtered out if after tiling, no tile is containing at least 85% of a cell that Cellpose detected.**"
   ]
  },
  {
   "cell_type": "code",
   "execution_count": null,
   "id": "18786222-e52a-4d50-84d6-80c72ba28b7c",
   "metadata": {
    "tags": []
   },
   "outputs": [],
   "source": [
    "dapi_filter_by_tiling=show_site_survival_dapi_tiling(df_dapi, batches, dapi_filter_by_cellpose, \n",
    "                                                     AC_line_colors, AC_panels,figsize=(6,3), reps=AC_reps)"
   ]
  },
  {
   "cell_type": "markdown",
   "id": "e027fd00-e444-40c4-b766-8f4f020dc996",
   "metadata": {},
   "source": [
    "### 4. % Site survival after Brenner on target channel\n",
    "Percentage out of the sites that passed the previous filter. In parenthesis are absolute values (if different than the percentages)."
   ]
  },
  {
   "cell_type": "code",
   "execution_count": null,
   "id": "1dd30f69-b98c-43a8-8ee7-5abcc85f4662",
   "metadata": {
    "tags": []
   },
   "outputs": [],
   "source": [
    "show_site_survival_target_brenner(df_dapi, df_target, dapi_filter_by_tiling,\n",
    "                                 figsize=(6,4), markers=AC_markers)"
   ]
  },
  {
   "cell_type": "markdown",
   "id": "6f8a40d5-2b93-486c-a8e2-dbd642bbb3f4",
   "metadata": {
    "tags": []
   },
   "source": [
    "## Statistics About the Processed Files"
   ]
  },
  {
   "cell_type": "code",
   "execution_count": null,
   "id": "84b99a75-fa6c-43c9-bb72-8ccf068dd7a7",
   "metadata": {
    "scrolled": true,
    "tags": []
   },
   "outputs": [],
   "source": [
    "names = ['Total number of tiles', 'Total number of whole cells']\n",
    "stats = ['n_valid_tiles','site_whole_cells_counts_sum','site_cell_count','site_cell_count_sum']\n",
    "total_sum = calc_total_sums(df_target, df_dapi, stats, AC_markers)"
   ]
  },
  {
   "cell_type": "markdown",
   "id": "fe9aa5a2-511d-4cde-8633-c23c97273e37",
   "metadata": {
    "tags": []
   },
   "source": [
    "### Total tiles"
   ]
  },
  {
   "cell_type": "code",
   "execution_count": null,
   "id": "751aa403-3d41-40d1-86f0-8a668ee9a1d3",
   "metadata": {
    "tags": []
   },
   "outputs": [],
   "source": [
    "total_sum.n_valid_tiles.sum()"
   ]
  },
  {
   "cell_type": "markdown",
   "id": "7e4e3bae-4a08-4610-aa40-727b9a9b8808",
   "metadata": {
    "tags": []
   },
   "source": [
    "### Total whole nuclei in tiles"
   ]
  },
  {
   "cell_type": "code",
   "execution_count": null,
   "id": "88fef222-c465-427d-ba0e-b4e5ea785f99",
   "metadata": {
    "tags": []
   },
   "outputs": [],
   "source": [
    "total_sum[total_sum.marker =='DAPI'].site_whole_cells_counts_sum.sum()"
   ]
  },
  {
   "cell_type": "markdown",
   "id": "8dab3ba8-1ff9-49c0-b428-84c26b7f9a19",
   "metadata": {
    "tags": []
   },
   "source": [
    "### Total nuclei in sites"
   ]
  },
  {
   "cell_type": "code",
   "execution_count": null,
   "id": "c9ee53b4-9b3b-46ba-addb-61de6e99b291",
   "metadata": {
    "tags": []
   },
   "outputs": [],
   "source": [
    "total_sum[total_sum.marker =='DAPI'].site_cell_count.sum()"
   ]
  },
  {
   "cell_type": "code",
   "execution_count": null,
   "id": "c668a7cb-f984-4ecb-b811-a9d273544b2e",
   "metadata": {
    "scrolled": true,
    "tags": []
   },
   "outputs": [],
   "source": [
    "show_total_sum_tables(total_sum)"
   ]
  },
  {
   "cell_type": "markdown",
   "id": "1146f8e0-816c-45d4-88b6-1e55fe6db0fa",
   "metadata": {
    "tags": []
   },
   "source": [
    "### Show Total Tile Counts\n",
    "For each batch, cell line, replicate and markerTotal number of tiles"
   ]
  },
  {
   "cell_type": "code",
   "execution_count": null,
   "id": "72fba7f9-2573-49a6-b360-dd50446be5cd",
   "metadata": {
    "scrolled": true,
    "tags": []
   },
   "outputs": [],
   "source": [
    "to_heatmap = total_sum.rename(columns={'n_valid_tiles':'index'})\n",
    "plot_filtering_heatmap(to_heatmap, extra_index='marker', vmin=None, vmax=None,\n",
    "                      xlabel = 'Total number of tiles', show_sum=True, figsize=(6,5))"
   ]
  },
  {
   "cell_type": "markdown",
   "id": "d8106310-8162-4a9e-8c12-74ef7cbf98ce",
   "metadata": {
    "tags": []
   },
   "source": [
    "### Show Total Whole Cell Counts\n",
    "For each batch, cell line, replicate and markerTotal number of tiles"
   ]
  },
  {
   "cell_type": "code",
   "execution_count": null,
   "id": "6e4e9b8c-b6df-47eb-b28d-45eb451d41e1",
   "metadata": {
    "scrolled": true,
    "tags": []
   },
   "outputs": [],
   "source": [
    "to_heatmap = total_sum.rename(columns={'site_whole_cells_counts_sum':'index'})\n",
    "plot_filtering_heatmap(to_heatmap, extra_index='marker', vmin=None, vmax=None,\n",
    "                      xlabel = 'Total number of whole cells', show_sum=True, figsize=(6,5))"
   ]
  },
  {
   "cell_type": "markdown",
   "id": "cc98995c-6ad3-4cdc-9dc4-72693a87ffea",
   "metadata": {
    "tags": []
   },
   "source": [
    "### Show **Cell Count** Statistics per Batch"
   ]
  },
  {
   "cell_type": "code",
   "execution_count": null,
   "id": "d395b1c2",
   "metadata": {},
   "outputs": [],
   "source": [
    "df_no_empty_sites = df_dapi[df_dapi.n_valid_tiles !=0]\n",
    "plot_cell_count(df_no_empty_sites, AC_lines_order, AC_custom_palette, y='site_cell_count_sum', \n",
    "                title='Cell Count Average per Site (from tiles)', figsize=(8,3))\n",
    "\n",
    "plot_cell_count(df_no_empty_sites, AC_lines_order, AC_custom_palette, y='site_whole_cells_counts_sum',\n",
    "                title='Whole Cell Count Average per Site',figsize=(8,3))\n",
    "\n",
    "plot_cell_count(df_no_empty_sites, AC_lines_order, AC_custom_palette, y='site_cell_count',\n",
    "               title='Cellpose Cell Count Average per Site',figsize=(8,3))"
   ]
  },
  {
   "cell_type": "markdown",
   "id": "bf5de98b-b79a-457b-b994-e24c5e8a207c",
   "metadata": {},
   "source": [
    "\n",
    "### Show **Tiles** per Site Statistics\n"
   ]
  },
  {
   "cell_type": "code",
   "execution_count": null,
   "id": "2b91a506-a50d-4616-b612-653f0e384773",
   "metadata": {
    "tags": []
   },
   "outputs": [],
   "source": [
    "df_dapi.groupby(['cell_line_cond']).n_valid_tiles.mean()"
   ]
  },
  {
   "cell_type": "code",
   "execution_count": null,
   "id": "eeb6f0d9",
   "metadata": {},
   "outputs": [],
   "source": [
    "plot_catplot(df_dapi, sns.color_palette('colorblind'), reps=AC_reps,x='cell_line', y_title='Valid Tiles Count', x_title='Cell Line', y='n_valid_tiles', hue='rep',\n",
    "             height=4, aspect=2)"
   ]
  },
  {
   "cell_type": "markdown",
   "id": "4fca758b-67da-412d-b0fe-fb3afcdd5b10",
   "metadata": {},
   "source": [
    "\n",
    "### Show Mean of cell count in valid tiles"
   ]
  },
  {
   "cell_type": "code",
   "execution_count": null,
   "id": "ea0f2dc3",
   "metadata": {
    "scrolled": true,
    "tags": []
   },
   "outputs": [],
   "source": [
    "plot_hm(df_dapi, split_by=None,rows='cell_line', columns='rep')"
   ]
  },
  {
   "cell_type": "markdown",
   "id": "b6e2d288-5a7d-492a-a3d5-6d23f5b763f1",
   "metadata": {},
   "source": [
    "# Assessing Staining Reproducibility and Outliers"
   ]
  },
  {
   "cell_type": "code",
   "execution_count": null,
   "id": "d974e31a",
   "metadata": {
    "scrolled": true
   },
   "outputs": [],
   "source": [
    "for batch in batches:\n",
    "    print(batch)\n",
    "    run_calc_hist_new(batch,AC_cell_lines_for_disp, AC_markers, root_directory_raw, root_directory_proc,\n",
    "                           hist_sample=10,sample_size_per_markers=10, ncols=4, nrows=1, figsize=(6,2))\n",
    "    print(\"=\"*30)\n",
    "    "
   ]
  },
  {
   "cell_type": "code",
   "execution_count": null,
   "id": "2eaf3bdd",
   "metadata": {},
   "outputs": [],
   "source": [
    "# save notebook as HTML ( the HTML will be saved in the same folder the original script is)\n",
    "display(Javascript('IPython.notebook.save_checkpoint();'))\n",
    "os.system(f'jupyter nbconvert --to html tools/preprocessing_tools/qc_reports/qc_report_CoyneLab_iPSC_patients_80pct.ipynb --output {NOVA_HOME}/manuscript/preprocessing_qc_reports/qc_report_CoyneLab_iPSC_patients_80pct.html')"
   ]
  },
  {
   "cell_type": "code",
   "execution_count": null,
   "id": "2df2922d-16d4-4042-834f-64c9aafe33cc",
   "metadata": {},
   "outputs": [],
   "source": []
  },
  {
   "cell_type": "code",
   "execution_count": null,
   "id": "3baea8d9",
   "metadata": {},
   "outputs": [],
   "source": []
  },
  {
   "cell_type": "code",
   "execution_count": null,
   "id": "898c4ff7",
   "metadata": {},
   "outputs": [],
   "source": []
  }
 ],
 "metadata": {
  "kernelspec": {
   "display_name": "Python 3",
   "language": "python",
   "name": "python3"
  },
  "language_info": {
   "codemirror_mode": {
    "name": "ipython",
    "version": 3
   },
   "file_extension": ".py",
   "mimetype": "text/x-python",
   "name": "python",
   "nbconvert_exporter": "python",
   "pygments_lexer": "ipython3",
   "version": "3.9.19"
  }
 },
 "nbformat": 4,
 "nbformat_minor": 5
}
