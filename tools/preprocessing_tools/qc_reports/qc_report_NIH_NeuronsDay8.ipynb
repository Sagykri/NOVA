{
 "cells": [
  {
   "cell_type": "markdown",
   "id": "e53d6453",
   "metadata": {},
   "source": [
    "# <font color='purple'>NIH Ward Lab - Neurons Day8 - Preprocessing QC statistics </font> \n",
    "### July 2025 - Nancy Y"
   ]
  },
  {
   "cell_type": "markdown",
   "id": "5275b5d2",
   "metadata": {},
   "source": [
    "Reran by Sagy on Sep 15 (2025) - removing CD41 and FUS lines"
   ]
  },
  {
   "cell_type": "code",
   "execution_count": null,
   "id": "a35a2e3e",
   "metadata": {},
   "outputs": [],
   "source": [
    "import io\n",
    "import os\n",
    "import sys\n",
    "import pandas as pd\n",
    "import contextlib\n",
    "from IPython.display import display, Javascript\n",
    "\n",
    "NOVA_HOME = '/home/projects/hornsteinlab/Collaboration/NOVA'\n",
    "NOVA_DATA_HOME = '/home/projects/hornsteinlab/Collaboration/NOVA'\n",
    "os.environ['NOVA_HOME'] = NOVA_HOME\n",
    "sys.path.insert(1, os.getenv(\"NOVA_HOME\"))\n",
    "print(f\"NOVA_HOME: {os.getenv('NOVA_HOME')}\")\n",
    "\n",
    "\n",
    "root_directory_raw = os.path.join(NOVA_DATA_HOME, 'input', 'images', 'raw', 'NIH', 'indi-image-pilot-20241128')\n",
    "root_directory_proc = os.path.join(NOVA_DATA_HOME, 'input', 'images', 'processed', 'ManuscriptFinalData_80pct', 'NIH')\n",
    "\n",
    "LOGS_PATH = os.path.join(NOVA_HOME, \"outputs\", \"preprocessing\", \"ManuscriptFinalData_80pct\", \"NIH\", \"logs\")\n",
    "PLOT_PATH = os.path.join(NOVA_HOME, 'outputs', 'preprocessing', \"ManuscriptFinalData_80pct\", 'NIH', 'QC_figures')\n",
    "\n",
    "\n",
    "from tools.preprocessing_tools.qc_reports.qc_utils import log_files_qc, run_validate_folder_structure, display_diff, sample_and_calc_variance, \\\n",
    "                                                show_site_survival_dapi_brenner, show_site_survival_dapi_cellpose, \\\n",
    "                                                show_site_survival_dapi_tiling, show_site_survival_target_brenner, \\\n",
    "                                                calc_total_sums, plot_filtering_heatmap, show_total_sum_tables, \\\n",
    "                                                plot_cell_count, plot_catplot, plot_hm_of_mean_cell_count_per_tile, \\\n",
    "                                                run_calc_hist_new, show_total_valid_tiles_per_marker_and_batch\n",
    "                                                \n",
    "from tools.preprocessing_tools.qc_reports.qc_config import NIH_d8_panels, NIH_d8_markers, NIH_d8_marker_info, NIH_d8_cell_lines, NIH_d8_cell_lines_to_cond,\\\n",
    "                                    NIH_d8_cell_lines_for_disp, NIH_d8_reps, NIH_d8_line_colors, NIH_d8_lines_order, NIH_d8_custom_palette,\\\n",
    "                                    NIH_d8_expected_dapi_raw\n",
    "%load_ext autoreload\n",
    "%autoreload 2\n",
    "\n",
    "\n"
   ]
  },
  {
   "cell_type": "code",
   "execution_count": null,
   "id": "24d1912d",
   "metadata": {},
   "outputs": [],
   "source": [
    "# choose batches\n",
    "batches = [f'batch{i}' for i in range(1,4)]\n",
    "batches"
   ]
  },
  {
   "cell_type": "code",
   "execution_count": null,
   "id": "6fb18e37",
   "metadata": {},
   "outputs": [],
   "source": [
    "df = log_files_qc(LOGS_PATH, only_wt_cond=False, batches=batches, filename_split='-',site_location=0)\n",
    "\n",
    "#df['cell_line_cond'] = df['cell_line_cond'].str.replace(\" \", \"_\")\n",
    "df = df[df['cell_line'] == 'WT']\n",
    "\n",
    "df_dapi = df[df.marker=='DAPI']\n",
    "df_target = df[df.marker!='DAPI']"
   ]
  },
  {
   "cell_type": "markdown",
   "id": "01a80bcc",
   "metadata": {},
   "source": [
    "## Actual Files Validation"
   ]
  },
  {
   "cell_type": "markdown",
   "id": "c522d841",
   "metadata": {},
   "source": [
    "### Raw Files Validation"
   ]
  },
  {
   "cell_type": "markdown",
   "id": "917a4be4-355d-4452-b4ec-ed8554951021",
   "metadata": {},
   "source": [
    "1. How many site **tiff** files do we have in each folder?\n",
    "2. Are all existing files valid? (tif, at least 2049kB, not corrupetd)"
   ]
  },
  {
   "cell_type": "code",
   "execution_count": null,
   "id": "ec1d2ed4",
   "metadata": {
    "scrolled": true
   },
   "outputs": [],
   "source": [
    "\n",
    "\n",
    "\n",
    "raws = run_validate_folder_structure(root_directory_raw, False, \n",
    "                                     NIH_d8_panels, \n",
    "                                     NIH_d8_markers.copy(),\n",
    "                                     PLOT_PATH, \n",
    "                                     NIH_d8_marker_info,\n",
    "                                     NIH_d8_cell_lines_to_cond, \n",
    "                                     NIH_d8_reps, \n",
    "                                     NIH_d8_cell_lines_for_disp,\n",
    "                                     NIH_d8_expected_dapi_raw,\n",
    "                                     batches=batches, \n",
    "                                     fig_width=8, fig_height = 40,\n",
    "                                     expected_count=25, check_antibody=False)\n"
   ]
  },
  {
   "cell_type": "code",
   "execution_count": null,
   "id": "f2df5436",
   "metadata": {},
   "outputs": [],
   "source": [
    "## Missing data issue was fixed\n",
    "\n",
    "differences = (raws[0] != raws[1]).stack()\n",
    "differences = differences[differences].index.to_frame(index=False)\n",
    "differences.columns = [\"Marker\", \"Rep\", \"Condition\"]\n",
    "for condition in differences[\"Condition\"].unique():\n",
    "    print(f\"Condition: {condition}\")\n",
    "    condition_data = differences[differences[\"Condition\"] == condition]\n",
    "    for rep in condition_data[\"Rep\"].unique():\n",
    "        markers = condition_data[condition_data[\"Rep\"] == rep][\"Marker\"].tolist()\n",
    "        print(f\"  Rep: {rep}\")\n",
    "        print(f\"    Markers: {', '.join(markers)}\")"
   ]
  },
  {
   "cell_type": "markdown",
   "id": "5609985e",
   "metadata": {},
   "source": [
    "### Processed Files Validation"
   ]
  },
  {
   "cell_type": "markdown",
   "id": "6c298651-bc69-4088-bb25-7ed939fa192f",
   "metadata": {},
   "source": [
    "1. How many site **npy** files do we have in each folder? -> How many sites survived the pre-processing?\n",
    "2. Are all existing files valid? (at least 100kB, npy not corrupted)"
   ]
  },
  {
   "cell_type": "code",
   "execution_count": null,
   "id": "a9df410c",
   "metadata": {
    "scrolled": true
   },
   "outputs": [],
   "source": [
    "\n",
    "procs = run_validate_folder_structure(root_directory_proc, True, \n",
    "                                      NIH_d8_panels, \n",
    "                                      NIH_d8_markers,\n",
    "                                      PLOT_PATH,\n",
    "                                      NIH_d8_marker_info,\n",
    "                                      NIH_d8_cell_lines_to_cond, \n",
    "                                      NIH_d8_reps, \n",
    "                                      NIH_d8_cell_lines_for_disp, \n",
    "                                      NIH_d8_expected_dapi_raw,\n",
    "                                      fig_width=8, fig_height=40,\n",
    "                                      expected_count=25, \n",
    "                                      check_antibody=False, \n",
    "                                      batches=batches)"
   ]
  },
  {
   "cell_type": "markdown",
   "id": "ffa77c24",
   "metadata": {},
   "source": [
    "### Difference between Raw and Processed"
   ]
  },
  {
   "cell_type": "code",
   "execution_count": null,
   "id": "e4848e93",
   "metadata": {
    "scrolled": true
   },
   "outputs": [],
   "source": [
    "display_diff(batches, raws, procs, PLOT_PATH, fig_width=8, fig_height=40)"
   ]
  },
  {
   "cell_type": "markdown",
   "id": "f9e9d63a-0630-41df-b39c-83673c2f0868",
   "metadata": {},
   "source": [
    "### Variance in each batch (of processed files)"
   ]
  },
  {
   "cell_type": "code",
   "execution_count": null,
   "id": "42871b88",
   "metadata": {
    "scrolled": true
   },
   "outputs": [],
   "source": [
    "for batch in batches[:1]:\n",
    "    with contextlib.redirect_stdout(io.StringIO()):\n",
    "        var = sample_and_calc_variance(root_directory_proc, \n",
    "                                       batch, \n",
    "                                       sample_size_per_markers=50, \n",
    "                                       cond_count=2, \n",
    "                                       rep_count=len(NIH_d8_reps), \n",
    "                                       num_markers=len(NIH_d8_markers))\n",
    "    print(f'{batch} var: ',var)"
   ]
  },
  {
   "cell_type": "markdown",
   "id": "64ccaaf3-ebd0-4d10-88b2-4a10b8128134",
   "metadata": {
    "tags": []
   },
   "source": [
    "## Preprocessing Filtering qc\n",
    "By order of filtering"
   ]
  },
  {
   "cell_type": "markdown",
   "id": "855168a5-82ca-4fc8-bd7c-0e6e55d9d7f6",
   "metadata": {},
   "source": [
    "### 1. % site survival after Brenner on DAPI channel\n",
    "Percentage out of the total sites"
   ]
  },
  {
   "cell_type": "code",
   "execution_count": null,
   "id": "789c977c-dd5c-40b6-babe-b80c954823c9",
   "metadata": {
    "scrolled": true,
    "tags": []
   },
   "outputs": [],
   "source": [
    "\n",
    "dapi_filter_by_brenner = show_site_survival_dapi_brenner(df_dapi,\n",
    "                                                         batches, \n",
    "                                                         NIH_d8_line_colors, \n",
    "                                                         NIH_d8_panels, \n",
    "                                                         NIH_d8_reps, \n",
    "                                                         figsize=(6,18),\n",
    "                                                         vmax=25)\n"
   ]
  },
  {
   "cell_type": "markdown",
   "id": "a0b287b6-21d3-4feb-b1a4-77c6a30d5ad8",
   "metadata": {},
   "source": [
    "### 2. % Site survival after Cellpose\n",
    "Percentage out of the sites that passed the previous filter. In parenthesis are absolute values.\n",
    "\n",
    "**A site will be filtered out if Cellpose found 0 cells in it.**"
   ]
  },
  {
   "cell_type": "code",
   "execution_count": null,
   "id": "3f02458f-ac51-46ca-a9ce-425fc70d9cc6",
   "metadata": {
    "scrolled": true,
    "tags": []
   },
   "outputs": [],
   "source": [
    "dapi_filter_by_cellpose = show_site_survival_dapi_cellpose(df_dapi, \n",
    "                                                           batches, \n",
    "                                                           dapi_filter_by_brenner, \n",
    "                                                           NIH_d8_line_colors, \n",
    "                                                           NIH_d8_panels, \n",
    "                                                           NIH_d8_reps, \n",
    "                                                           figsize=(6,18))"
   ]
  },
  {
   "cell_type": "markdown",
   "id": "b70f114d-bb87-44a9-87b3-7dfc47a7a6f4",
   "metadata": {},
   "source": [
    "### 3. % Site survival by tiling\n",
    "Percentage out of the sites that passed the previous filter. In parenthesis are absolute values.\n",
    "\n",
    "**A site will be filtered out if after tiling, no tile is containing at least one whole cell that Cellpose detected.**"
   ]
  },
  {
   "cell_type": "code",
   "execution_count": null,
   "id": "18786222-e52a-4d50-84d6-80c72ba28b7c",
   "metadata": {
    "scrolled": true,
    "tags": []
   },
   "outputs": [],
   "source": [
    "dapi_filter_by_tiling=show_site_survival_dapi_tiling(df_dapi, \n",
    "                                                     batches, \n",
    "                                                     dapi_filter_by_cellpose, \n",
    "                                                     NIH_d8_line_colors, \n",
    "                                                     NIH_d8_panels, \n",
    "                                                     NIH_d8_reps, \n",
    "                                                     figsize=(6,18))"
   ]
  },
  {
   "cell_type": "markdown",
   "id": "e027fd00-e444-40c4-b766-8f4f020dc996",
   "metadata": {},
   "source": [
    "### 4. % Site survival after Brenner on target channel\n",
    "Percentage out of the sites that passed the previous filter. In parenthesis are absolute values (if different than the percentages)."
   ]
  },
  {
   "cell_type": "code",
   "execution_count": null,
   "id": "1dd30f69-b98c-43a8-8ee7-5abcc85f4662",
   "metadata": {
    "scrolled": true,
    "tags": []
   },
   "outputs": [],
   "source": [
    "show_site_survival_target_brenner(df_dapi, \n",
    "                                  df_target, \n",
    "                                  dapi_filter_by_tiling, \n",
    "                                  NIH_d8_markers,\n",
    "                                  figsize=(6,18))"
   ]
  },
  {
   "cell_type": "markdown",
   "id": "fa37f8a0-e4cd-4672-bed7-0a66584f3d3d",
   "metadata": {},
   "source": [
    "## Statistics About the Processed Files"
   ]
  },
  {
   "cell_type": "code",
   "execution_count": null,
   "id": "b4859f5f-3f13-4dd9-93e7-d092bace8204",
   "metadata": {
    "scrolled": true,
    "tags": []
   },
   "outputs": [],
   "source": [
    "names = ['Total number of tiles', 'Total number of whole cells']\n",
    "stats = ['n_valid_tiles','site_whole_cells_counts_sum','site_cell_count','site_cell_count_sum']\n",
    "total_sum = calc_total_sums(df_target, df_dapi, stats, NIH_d8_markers)"
   ]
  },
  {
   "cell_type": "markdown",
   "id": "3647a162-726d-457a-95b3-1a5cb31a99d5",
   "metadata": {},
   "source": [
    "### Total tiles"
   ]
  },
  {
   "cell_type": "code",
   "execution_count": null,
   "id": "751aa403-3d41-40d1-86f0-8a668ee9a1d3",
   "metadata": {},
   "outputs": [],
   "source": [
    "# markers_for_dnls = markers.copy() #TODO need to change according to - if we use all markers or just the d8 ones!!!!\n",
    "# markers_for_dnls.remove('TIA1')\n",
    "# markers_for_dnls += ['TDP43B']\n",
    "\n",
    "total_sum[total_sum.marker.isin(NIH_d8_markers)].n_valid_tiles.sum()"
   ]
  },
  {
   "cell_type": "markdown",
   "id": "597a30a9-8e29-4d50-a8f5-87d737c4c579",
   "metadata": {
    "tags": []
   },
   "source": [
    "### Total whole nuclei in tiles"
   ]
  },
  {
   "cell_type": "code",
   "execution_count": null,
   "id": "88fef222-c465-427d-ba0e-b4e5ea785f99",
   "metadata": {},
   "outputs": [],
   "source": [
    "total_sum[total_sum.marker =='DAPI'].site_whole_cells_counts_sum.sum()"
   ]
  },
  {
   "cell_type": "markdown",
   "id": "4110e547-26a8-47ca-9cc3-c34630337690",
   "metadata": {
    "tags": []
   },
   "source": [
    "### Total nuclei in sites"
   ]
  },
  {
   "cell_type": "code",
   "execution_count": null,
   "id": "c9ee53b4-9b3b-46ba-addb-61de6e99b291",
   "metadata": {
    "tags": []
   },
   "outputs": [],
   "source": [
    "total_sum[total_sum.marker =='DAPI'].site_cell_count.sum()"
   ]
  },
  {
   "cell_type": "code",
   "execution_count": null,
   "id": "c668a7cb-f984-4ecb-b811-a9d273544b2e",
   "metadata": {
    "scrolled": true,
    "tags": []
   },
   "outputs": [],
   "source": [
    "show_total_sum_tables(total_sum)"
   ]
  },
  {
   "cell_type": "markdown",
   "id": "008f2101-996e-4300-8ad0-7de0e49cfaee",
   "metadata": {
    "tags": []
   },
   "source": [
    "### Show Total Tile Counts\n",
    "For each batch, cell line, replicate and marker: Total number of tiles"
   ]
  },
  {
   "cell_type": "markdown",
   "id": "8475c27a-8174-4570-a527-c5fe3c601c8b",
   "metadata": {},
   "source": [
    "#### First, we look at all cell lines togther:"
   ]
  },
  {
   "cell_type": "code",
   "execution_count": null,
   "id": "7bf44402-4d98-4760-aa1a-2267500b561d",
   "metadata": {},
   "outputs": [],
   "source": [
    "show_total_valid_tiles_per_marker_and_batch(total_sum, vmax=15000)\n"
   ]
  },
  {
   "cell_type": "markdown",
   "id": "2f40eb8d-8812-438f-99d9-9a168afad916",
   "metadata": {},
   "source": [
    "#### Separating into cell lines & batches:"
   ]
  },
  {
   "cell_type": "code",
   "execution_count": null,
   "id": "72fba7f9-2573-49a6-b360-dd50446be5cd",
   "metadata": {
    "scrolled": true,
    "tags": []
   },
   "outputs": [],
   "source": [
    "to_heatmap = total_sum.rename(columns={'n_valid_tiles':'index'})\n",
    "plot_filtering_heatmap(to_heatmap, \n",
    "                       extra_index='marker', \n",
    "                       vmin=None, vmax=None,\n",
    "                       xlabel = 'Total number of tiles', \n",
    "                       show_sum=True, figsize=(7,28), \n",
    "                       fmt=\".0f\")"
   ]
  },
  {
   "cell_type": "markdown",
   "id": "b34558b5-47d1-42a9-af71-eb1427aab04f",
   "metadata": {
    "tags": []
   },
   "source": [
    "### Show Total Whole Cell Counts\n",
    "For each batch, cell line, replicate and markerTotal number of tiles"
   ]
  },
  {
   "cell_type": "code",
   "execution_count": null,
   "id": "6e4e9b8c-b6df-47eb-b28d-45eb451d41e1",
   "metadata": {
    "tags": []
   },
   "outputs": [],
   "source": [
    "to_heatmap = total_sum.rename(columns={'site_whole_cells_counts_sum':'index'})\n",
    "plot_filtering_heatmap(to_heatmap, \n",
    "                       extra_index='marker', \n",
    "                       vmin=None, vmax=None,\n",
    "                       xlabel = 'Total number of whole cells', \n",
    "                       show_sum=True, \n",
    "                       figsize=(7,28), \n",
    "                       fmt=\".0f\")"
   ]
  },
  {
   "cell_type": "markdown",
   "id": "eeba0bc4-2370-4655-85cf-9f36f0bc6817",
   "metadata": {
    "tags": []
   },
   "source": [
    "### Show **Cell Count** Statistics per Batch"
   ]
  },
  {
   "cell_type": "code",
   "execution_count": null,
   "id": "d395b1c2",
   "metadata": {
    "tags": []
   },
   "outputs": [],
   "source": [
    "df_no_empty_sites = df_dapi[df_dapi.n_valid_tiles !=0]\n",
    "\n",
    "plot_cell_count(df_no_empty_sites, \n",
    "                NIH_d8_lines_order, \n",
    "                NIH_d8_custom_palette, \n",
    "                y='site_cell_count_sum', \n",
    "                title='Cell Count Average per Site (from tiles)', \n",
    "                figsize=(16,6))\n",
    "\n",
    "\n",
    "plot_cell_count(df_no_empty_sites, \n",
    "                NIH_d8_lines_order, \n",
    "                NIH_d8_custom_palette, \n",
    "                y='site_whole_cells_counts_sum',\n",
    "                title='Whole Cell Count Average per Site',\n",
    "                figsize=(16,6))\n",
    "\n",
    "\n",
    "plot_cell_count(df_no_empty_sites, \n",
    "                NIH_d8_lines_order, \n",
    "                NIH_d8_custom_palette, \n",
    "                y='site_cell_count',\n",
    "                title='Cellpose Cell Count Average per Site',\n",
    "                figsize=(16,6))"
   ]
  },
  {
   "cell_type": "markdown",
   "id": "c60e2e49-861a-47cd-bd1c-b1f826e8e96d",
   "metadata": {
    "tags": []
   },
   "source": [
    "\n",
    "### Show **Tiles** per Site Statistics\n"
   ]
  },
  {
   "cell_type": "code",
   "execution_count": null,
   "id": "2b91a506-a50d-4616-b612-653f0e384773",
   "metadata": {
    "tags": []
   },
   "outputs": [],
   "source": [
    "df_dapi.groupby(['cell_line_cond']).n_valid_tiles.mean()"
   ]
  },
  {
   "cell_type": "code",
   "execution_count": null,
   "id": "1080f42b",
   "metadata": {},
   "outputs": [],
   "source": [
    "# number of valid tiles per site (on average)\n",
    "import numpy as np\n",
    "np.mean(df_dapi.groupby(['cell_line_cond']).n_valid_tiles.mean())"
   ]
  },
  {
   "cell_type": "code",
   "execution_count": null,
   "id": "f6b94cb2-86c7-4c00-bf2f-7ed13899e3ae",
   "metadata": {},
   "outputs": [],
   "source": [
    "df_dapi[['site_cell_count']].mean()"
   ]
  },
  {
   "cell_type": "code",
   "execution_count": null,
   "id": "eeb6f0d9",
   "metadata": {},
   "outputs": [],
   "source": [
    "# plot_catplot(df_dapi, \n",
    "#              NIH_d8_custom_palette,\n",
    "#              NIH_d8_reps, \n",
    "#              x='n_valid_tiles', \n",
    "#              x_title='valid tiles count', \n",
    "#              batch_min=1, \n",
    "#              batch_max=3, \n",
    "#              height=6)"
   ]
  },
  {
   "cell_type": "markdown",
   "id": "5713e39c-4cd8-45ad-990c-9fcee2d03318",
   "metadata": {},
   "source": [
    "\n",
    "### Show Mean of cell count in valid tiles"
   ]
  },
  {
   "cell_type": "code",
   "execution_count": null,
   "id": "ea0f2dc3",
   "metadata": {
    "scrolled": true,
    "tags": []
   },
   "outputs": [],
   "source": [
    "# plot_hm_of_mean_cell_count_per_tile(df_dapi, \n",
    "#                                     split_by='rep', \n",
    "#                                     rows='cell_line_cond', \n",
    "#                                     columns='panel', \n",
    "#                                     figsize=(18,6))\n"
   ]
  },
  {
   "cell_type": "code",
   "execution_count": null,
   "id": "6537628b",
   "metadata": {},
   "outputs": [],
   "source": [
    "df_dapi[['cells_count_in_valid_tiles_mean']].mean()\n"
   ]
  },
  {
   "cell_type": "code",
   "execution_count": null,
   "id": "4bb93f01",
   "metadata": {},
   "outputs": [],
   "source": [
    "df_dapi[['site_cell_count']].mean()\n"
   ]
  },
  {
   "cell_type": "markdown",
   "id": "0d1751b9",
   "metadata": {},
   "source": [
    "# Assessing Staining Reproducibility and Outliers"
   ]
  },
  {
   "cell_type": "code",
   "execution_count": null,
   "id": "d974e31a",
   "metadata": {
    "scrolled": true
   },
   "outputs": [],
   "source": [
    "# for batch in batches:\n",
    "#     print(batch)\n",
    "#     run_calc_hist_new(f'{batch}', dnls_opera_cell_lines_for_disp, dnls_opera_markers,\n",
    "#                       root_directory_raw, root_directory_proc,\n",
    "#                            hist_sample=10,sample_size_per_markers=200, ncols=8, nrows=4, dnls=True)\n",
    "#     print(\"=\"*30)"
   ]
  },
  {
   "cell_type": "code",
   "execution_count": null,
   "id": "2eaf3bdd",
   "metadata": {},
   "outputs": [],
   "source": [
    "# # save notebook as HTML \n",
    "# from IPython.display import display, Javascript\n",
    "# display(Javascript('IPython.notebook.save_checkpoint();'))\n",
    "# os.system(f'jupyter nbconvert --to html {NOVA_HOME}/tools/preprocessing_tools/qc_reports/qc_report_NIH_NeuronsDay8.ipynb --output {NOVA_HOME}/manuscript/preprocessing_qc_reports/ManuscriptFinalData/qc_report_NIH_NeuronsDay8.html')"
   ]
  },
  {
   "cell_type": "code",
   "execution_count": null,
   "id": "90255481",
   "metadata": {},
   "outputs": [],
   "source": []
  }
 ],
 "metadata": {
  "kernelspec": {
   "display_name": "nova new",
   "language": "python",
   "name": "nova_new"
  },
  "language_info": {
   "codemirror_mode": {
    "name": "ipython",
    "version": 3
   },
   "file_extension": ".py",
   "mimetype": "text/x-python",
   "name": "python",
   "nbconvert_exporter": "python",
   "pygments_lexer": "ipython3",
   "version": "3.9.19"
  }
 },
 "nbformat": 4,
 "nbformat_minor": 5
}
