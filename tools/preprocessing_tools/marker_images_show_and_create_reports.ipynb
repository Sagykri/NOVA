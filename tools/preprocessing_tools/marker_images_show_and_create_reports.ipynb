{
 "cells": [
  {
   "cell_type": "code",
   "execution_count": null,
   "id": "f2b498ef",
   "metadata": {},
   "outputs": [],
   "source": [
    "base_dir = '/home/labs/hornsteinlab/Collaboration/FUNOVA/input/images/raw'\n",
    "NOVA_HOME = '/home/labs/hornsteinlab/Collaboration/NOVA_GAL/NOVA'\n",
    "FILE_EXTENSION = '.tiff'\n",
    "KEY_BATCH = 'Batch'"
   ]
  },
  {
   "cell_type": "code",
   "execution_count": null,
   "id": "06e158ab",
   "metadata": {},
   "outputs": [],
   "source": [
    "import os\n",
    "import sys\n",
    "os.environ['NOVA_HOME'] = NOVA_HOME\n",
    "sys.path.insert(1, os.getenv('NOVA_HOME'))\n",
    "from tools.show_images_utils import *\n",
    "%load_ext autoreload\n",
    "%autoreload 2"
   ]
  },
  {
   "cell_type": "code",
   "execution_count": null,
   "id": "81ab4012",
   "metadata": {},
   "outputs": [],
   "source": [
    "df_processed = extract_processed_image_metadata('/home/labs/hornsteinlab/Collaboration/FUNOVA/input/images/processed', FILE_EXTENSION = '.npy', KEY_BATCH = KEY_BATCH)\n",
    "df_processed"
   ]
  },
  {
   "cell_type": "code",
   "execution_count": null,
   "id": "e36e5e45",
   "metadata": {},
   "outputs": [],
   "source": [
    "df_raw = extract_image_metadata(base_dir, FILE_EXTENSION = FILE_EXTENSION, KEY_BATCH = KEY_BATCH)\n",
    "df_raw"
   ]
  },
  {
   "cell_type": "code",
   "execution_count": null,
   "id": "2276c514",
   "metadata": {},
   "outputs": [],
   "source": [
    "# Rename columns in df_raw\n",
    "df_raw = df_raw.rename(columns={\n",
    "    'Path': 'Path_raw',\n",
    "    'RootFolder': 'RootFolder_raw',\n",
    "})\n",
    "\n",
    "# Rename columns in df_processed\n",
    "df_processed = df_processed.rename(columns={\n",
    "    'Path': 'Path_processed',\n",
    "    'RootFolder': 'RootFolder_processed',\n",
    "})\n",
    "\n",
    "# Define columns to match on (common metadata columns)\n",
    "match_cols = ['Marker', 'Condition', 'CellLine', 'Batch_Rep', 'Rep', 'Batch', 'Panel', 'Image_Name']\n",
    "\n",
    "# Drop duplicates to avoid exploding the merge if raw has multiple matches\n",
    "df_raw_unique = df_raw.drop_duplicates(subset=match_cols)\n",
    "\n",
    "# Merge df_processed with raw to get Path_raw, RootFolder_raw\n",
    "df_combined = df_processed.merge(\n",
    "    df_raw_unique[match_cols + ['Path_raw', 'RootFolder_raw']],\n",
    "    on=match_cols,\n",
    "    how='left'\n",
    ")\n",
    "df_combined\n"
   ]
  },
  {
   "cell_type": "code",
   "execution_count": null,
   "id": "c4a19770",
   "metadata": {},
   "outputs": [],
   "source": [
    "for key in df_combined.iloc[5].keys():\n",
    "    print(key,df_combined.iloc[5][key])"
   ]
  },
  {
   "cell_type": "code",
   "execution_count": null,
   "id": "68157466",
   "metadata": {},
   "outputs": [],
   "source": [
    "for col in ['Marker', 'Condition', 'CellLine', 'Rep', 'Batch', 'Panel']:\n",
    "    print(col, 'values are:', np.unique(df_combined[col]))"
   ]
  },
  {
   "cell_type": "code",
   "execution_count": null,
   "id": "7e2c7b61",
   "metadata": {
    "scrolled": true
   },
   "outputs": [],
   "source": [
    "# Example Usage:\n",
    "\n",
    "# Show images for the marker 'P54'\n",
    "# Filters: default parameters for all other options\n",
    "# show_images(df, 'P54')\n",
    "\n",
    "# Show images for the marker 'G3BP1'\n",
    "# Exclude DAPI, limit to 3 samples, and filter by Batch 1, Rep 1, WT cell line, and Untreated condition\n",
    "# show_images(df, marker='G3BP1', show_DAPI=False, samples=3, batch=1, rep=1, cell_line='WT', condition='Untreated')\n",
    "\n",
    "# get df of specific images\n",
    "# get_specific_imgs(df, marker='G3BP1', show_DAPI=False, samples=3, batch=1, rep=1, cell_line='WT', condition='Untreated')\n",
    "\n",
    "# Create a PDF report for the marker 'TIA1' under the 'Untreated' condition\n",
    "# Output the report as 'marker_name_Untreated/stress_Report.pdf'\n",
    "# create_img_pdf_report(df, marker='TIA1', condition='Untreated', output_file='Untreated_Report.pdf')"
   ]
  },
  {
   "cell_type": "code",
   "execution_count": null,
   "id": "3324be1d",
   "metadata": {},
   "outputs": [],
   "source": [
    "show_images(df, marker = 'DAPI', show_DAPI = False, batch = 2, cell_line ='C9orf72-HRE' , funova = True, samples = 10)"
   ]
  },
  {
   "cell_type": "code",
   "execution_count": null,
   "id": "91dfd5db",
   "metadata": {
    "scrolled": true
   },
   "outputs": [],
   "source": [
    "for marker in df_combined['Marker'].unique():\n",
    "    for condition in ['Untreated', 'stress']:\n",
    "        create_img_pdf_report(df_combined, marker=marker, condition=condition, output_file=f'{condition}_Report.pdf',\n",
    "                     reps=2, batches=4, path_key='Path_raw', \n",
    "                     folder_to_save = f'{NOVA_HOME}/tools/image_reports')"
   ]
  }
 ],
 "metadata": {
  "kernelspec": {
   "display_name": "nova",
   "language": "python",
   "name": "python3"
  },
  "language_info": {
   "codemirror_mode": {
    "name": "ipython",
    "version": 3
   },
   "file_extension": ".py",
   "mimetype": "text/x-python",
   "name": "python",
   "nbconvert_exporter": "python",
   "pygments_lexer": "ipython3",
   "version": "3.9.19"
  }
 },
 "nbformat": 4,
 "nbformat_minor": 5
}
