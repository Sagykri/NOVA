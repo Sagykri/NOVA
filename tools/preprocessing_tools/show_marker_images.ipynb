{
 "cells": [
  {
   "cell_type": "code",
   "execution_count": null,
   "id": "f2b498ef",
   "metadata": {},
   "outputs": [],
   "source": [
    "base_dir = '/home/labs/hornsteinlab/Collaboration/FUNOVA/input/images/raw'\n",
    "NOVA_HOME = '/home/labs/hornsteinlab/Collaboration/NOVA_GAL/NOVA'\n",
    "FILE_EXTENSION = '.tiff'\n",
    "KEY_BATCH = 'Batch'"
   ]
  },
  {
   "cell_type": "code",
   "execution_count": null,
   "id": "06e158ab",
   "metadata": {},
   "outputs": [],
   "source": [
    "import os\n",
    "import sys\n",
    "os.environ['NOVA_HOME'] = NOVA_HOME\n",
    "sys.path.insert(1, os.getenv('NOVA_HOME'))\n",
    "from tools.show_images_utils import *\n",
    "%load_ext autoreload\n",
    "%autoreload 2"
   ]
  },
  {
   "cell_type": "code",
   "execution_count": null,
   "id": "e36e5e45",
   "metadata": {},
   "outputs": [],
   "source": [
    "df = extract_image_metadata(base_dir, FILE_EXTENSION = FILE_EXTENSION, KEY_BATCH = KEY_BATCH)\n",
    "df"
   ]
  },
  {
   "cell_type": "code",
   "execution_count": null,
   "id": "68157466",
   "metadata": {},
   "outputs": [],
   "source": [
    "for col in ['Marker', 'Condition', 'CellLine', 'Rep', 'Batch', 'Panel']:\n",
    "    print(col, 'values are:', np.unique(df[col]))"
   ]
  },
  {
   "cell_type": "code",
   "execution_count": null,
   "id": "5c12edfa",
   "metadata": {},
   "outputs": [],
   "source": [
    "show_images(df, marker = 'Senescence_signaling', show_DAPI = True, \n",
    "            batch = 1, cell_line ='Control_1048087', \n",
    "            condition = 'stress', rep=2, funova = True, samples = 10)"
   ]
  },
  {
   "cell_type": "code",
   "execution_count": null,
   "id": "cfbd41cd",
   "metadata": {},
   "outputs": [],
   "source": [
    "show_images(df, marker = 'Senescence_signaling', show_DAPI = True, \n",
    "            batch = 1, cell_line ='Control_1048087', \n",
    "            condition = 'stress', rep=2, funova = True, samples = 10)"
   ]
  },
  {
   "cell_type": "code",
   "execution_count": null,
   "id": "7e2c7b61",
   "metadata": {
    "scrolled": true
   },
   "outputs": [],
   "source": [
    "# Example Usage:\n",
    "\n",
    "# Show images for the marker 'P54'\n",
    "# Filters: default parameters for all other options\n",
    "# show_images(df, 'P54')\n",
    "\n",
    "# Show images for the marker 'G3BP1'\n",
    "# Exclude DAPI, limit to 3 samples, and filter by Batch 1, Rep 1, WT cell line, and Untreated condition\n",
    "# show_images(df, marker='G3BP1', show_DAPI=False, samples=3, batch=1, rep=1, cell_line='WT', condition='Untreated')\n",
    "\n",
    "# get df of specific images\n",
    "# get_specific_imgs(df, marker='G3BP1', show_DAPI=False, samples=3, batch=1, rep=1, cell_line='WT', condition='Untreated')\n",
    "\n",
    "# Create a PDF report for the marker 'TIA1' under the 'Untreated' condition\n",
    "# Output the report as 'marker_name_Untreated/stress_Report.pdf'\n",
    "# create_img_pdf_report(df, marker='TIA1', condition='Untreated', output_file='Untreated_Report.pdf')"
   ]
  },
  {
   "cell_type": "code",
   "execution_count": null,
   "id": "fb3f82f1",
   "metadata": {},
   "outputs": [],
   "source": [
    "# show_images(df, marker = 'DAPI', show_DAPI = False, batch = 2, panel='L', rep=1, funova = True, samples = 10)"
   ]
  },
  {
   "cell_type": "code",
   "execution_count": null,
   "id": "3324be1d",
   "metadata": {},
   "outputs": [],
   "source": [
    "show_images(df, marker = 'DAPI', show_DAPI = False, batch = 2, cell_line ='C9orf72-HRE' , funova = True, samples = 10)"
   ]
  },
  {
   "cell_type": "code",
   "execution_count": null,
   "id": "4d4670f0",
   "metadata": {},
   "outputs": [],
   "source": [
    "show_images(df, marker='DAPI', show_DAPI=False, batch=2, panel='L', cell_line='C9orf72-HRE', rep=1,\n",
    "            condition='stress', funova=True, samples=30)"
   ]
  },
  {
   "cell_type": "code",
   "execution_count": null,
   "id": "0bd9a8d9",
   "metadata": {},
   "outputs": [],
   "source": [
    "show_images(df, marker='DAPI', show_DAPI=False, batch=2, panel='L', cell_line='TDP--43-G348V', rep=1,\n",
    "            condition='stress', funova=True, samples=30)"
   ]
  },
  {
   "cell_type": "code",
   "execution_count": null,
   "id": "578449d5",
   "metadata": {},
   "outputs": [],
   "source": [
    "show_images(df, marker='Protein_degradation', show_DAPI=False, batch=2, panel='L', cell_line='C9orf72-HRE', rep=1,\n",
    "            condition='stress', funova=True, samples=30)"
   ]
  },
  {
   "cell_type": "code",
   "execution_count": null,
   "id": "874f5205",
   "metadata": {},
   "outputs": [],
   "source": [
    "show_images(df, marker='Senescence_signaling', show_DAPI=False, batch=2, panel='L', cell_line='C9orf72-HRE', rep=1,\n",
    "            condition='stress', funova=True, samples=10)"
   ]
  },
  {
   "cell_type": "code",
   "execution_count": null,
   "id": "91dfd5db",
   "metadata": {
    "scrolled": true
   },
   "outputs": [],
   "source": [
    "# for marker in ['Nuclear_speckles_SON', 'Necroptosis_HMGB1', 'Splicing_factories', 'Ubiquitin_levels', 'UPR_ATF6',\n",
    "#         'Parthanatos_late', 'Parthanatos_early', 'Cytoskeleton'%]:\n",
    "#     for condition in ['Untreated', 'stress']:\n",
    "#         create_img_pdf_report(df, marker=marker, condition=condition, output_file=f'{condition}_Report.pdf',\n",
    "#                      reps=2, batches=4)"
   ]
  },
  {
   "cell_type": "code",
   "execution_count": null,
   "id": "cb4206b3",
   "metadata": {},
   "outputs": [],
   "source": []
  }
 ],
 "metadata": {
  "kernelspec": {
   "display_name": "nova",
   "language": "python",
   "name": "nova"
  },
  "language_info": {
   "codemirror_mode": {
    "name": "ipython",
    "version": 3
   },
   "file_extension": ".py",
   "mimetype": "text/x-python",
   "name": "python",
   "nbconvert_exporter": "python",
   "pygments_lexer": "ipython3",
   "version": "3.9.19"
  }
 },
 "nbformat": 4,
 "nbformat_minor": 5
}
