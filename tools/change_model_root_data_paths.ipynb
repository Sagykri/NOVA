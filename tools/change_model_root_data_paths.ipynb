{
 "cells": [
  {
   "cell_type": "code",
   "execution_count": 42,
   "id": "f91668cf",
   "metadata": {},
   "outputs": [],
   "source": [
    "import torch\n",
    "import numpy as np\n",
    "import os"
   ]
  },
  {
   "cell_type": "code",
   "execution_count": 49,
   "id": "73865c4d",
   "metadata": {},
   "outputs": [],
   "source": [
    "checkpoint_path = \"/home/projects/hornsteinlab/Collaboration/NOVA/outputs/vit_models/pretrained_model/checkpoints/checkpoint_best.pth\"\n",
    "\n",
    "checkpoint = torch.load(checkpoint_path, map_location=\"cpu\")\n"
   ]
  },
  {
   "cell_type": "code",
   "execution_count": 50,
   "id": "6c186a70",
   "metadata": {},
   "outputs": [
    {
     "data": {
      "text/plain": [
       "dict_keys(['model_dict', 'optimizer_dict', 'epoch', 'trainer_config_dict', 'dataset_config_dict', 'model_config_dict', 'scaler_dict', 'avg_val_loss', 'best_avg_val_loss', 'early_stopping_counter', 'description', 'trainset_paths', 'trainset_labels', 'valset_paths', 'valset_labels', 'testset_paths', 'testset_labels', 'rng_state', 'cuda_rng_state'])"
      ]
     },
     "execution_count": 50,
     "metadata": {},
     "output_type": "execute_result"
    }
   ],
   "source": [
    "checkpoint.keys()"
   ]
  },
  {
   "cell_type": "code",
   "execution_count": 51,
   "id": "92c84543",
   "metadata": {},
   "outputs": [],
   "source": [
    "def change_root_paths_for_all_sets(checkpoint, root_src, root_dst):\n",
    "    def change_root_paths(paths, root_src, root_dst):\n",
    "        return np.asarray([path.replace(root_src, root_dst) for path in paths])\n",
    "\n",
    "    set_keys = ['trainset_paths', 'valset_paths', 'testset_paths']\n",
    "    for set_key in set_keys:\n",
    "        if set_key in checkpoint:\n",
    "            checkpoint[set_key] = change_root_paths(checkpoint[set_key], root_src, root_dst)"
   ]
  },
  {
   "cell_type": "code",
   "execution_count": 52,
   "id": "d899d41c",
   "metadata": {},
   "outputs": [
    {
     "data": {
      "text/plain": [
       "(array(['/home/projects/hornsteinlab/Collaboration/NOVA/input/images/processed/ManuscriptFinalData_80pct/OpenCell/WT/Untreated/PRKDC/rep1_s192_processed.npy',\n",
       "        '/home/projects/hornsteinlab/Collaboration/NOVA/input/images/processed/ManuscriptFinalData_80pct/OpenCell/WT/Untreated/SMARCAD1/rep1_s0_processed.npy',\n",
       "        '/home/projects/hornsteinlab/Collaboration/NOVA/input/images/processed/ManuscriptFinalData_80pct/OpenCell/WT/Untreated/CHEK1/rep1_s368_processed.npy',\n",
       "        ...,\n",
       "        '/home/projects/hornsteinlab/Collaboration/NOVA/input/images/processed/ManuscriptFinalData_80pct/OpenCell/WT/Untreated/MYBBP1A/rep1_s544_processed.npy',\n",
       "        '/home/projects/hornsteinlab/Collaboration/NOVA/input/images/processed/ManuscriptFinalData_80pct/OpenCell/WT/Untreated/ZYX/rep1_s352_processed.npy',\n",
       "        '/home/projects/hornsteinlab/Collaboration/NOVA/input/images/processed/ManuscriptFinalData_80pct/OpenCell/WT/Untreated/GGPS1/rep1_s656_processed.npy'],\n",
       "       dtype='<U152'),\n",
       " array(['/home/projects/hornsteinlab/Collaboration/NOVA/input/images/processed/ManuscriptFinalData_80pct/OpenCell/WT/Untreated/SCAMP2/rep1_s1008_processed.npy',\n",
       "        '/home/projects/hornsteinlab/Collaboration/NOVA/input/images/processed/ManuscriptFinalData_80pct/OpenCell/WT/Untreated/PTK2/rep1_s432_processed.npy',\n",
       "        '/home/projects/hornsteinlab/Collaboration/NOVA/input/images/processed/ManuscriptFinalData_80pct/OpenCell/WT/Untreated/TSG101/rep1_s304_processed.npy',\n",
       "        ...,\n",
       "        '/home/projects/hornsteinlab/Collaboration/NOVA/input/images/processed/ManuscriptFinalData_80pct/OpenCell/WT/Untreated/DDX39B/rep1_s720_processed.npy',\n",
       "        '/home/projects/hornsteinlab/Collaboration/NOVA/input/images/processed/ManuscriptFinalData_80pct/OpenCell/WT/Untreated/STX8/rep1_s400_processed.npy',\n",
       "        '/home/projects/hornsteinlab/Collaboration/NOVA/input/images/processed/ManuscriptFinalData_80pct/OpenCell/WT/Untreated/PFN1/rep1_s272_processed.npy'],\n",
       "       dtype='<U152'),\n",
       " array(['/home/projects/hornsteinlab/Collaboration/NOVA/input/images/processed/ManuscriptFinalData_80pct/OpenCell/WT/Untreated/LMNA/rep1_s112_processed.npy',\n",
       "        '/home/projects/hornsteinlab/Collaboration/NOVA/input/images/processed/ManuscriptFinalData_80pct/OpenCell/WT/Untreated/FAM174C/rep1_s224_processed.npy',\n",
       "        '/home/projects/hornsteinlab/Collaboration/NOVA/input/images/processed/ManuscriptFinalData_80pct/OpenCell/WT/Untreated/H2AZ1/rep1_s192_processed.npy',\n",
       "        ...,\n",
       "        '/home/projects/hornsteinlab/Collaboration/NOVA/input/images/processed/ManuscriptFinalData_80pct/OpenCell/WT/Untreated/MAP4K4/rep1_s336_processed.npy',\n",
       "        '/home/projects/hornsteinlab/Collaboration/NOVA/input/images/processed/ManuscriptFinalData_80pct/OpenCell/WT/Untreated/PLPP1/rep1_s704_processed.npy',\n",
       "        '/home/projects/hornsteinlab/Collaboration/NOVA/input/images/processed/ManuscriptFinalData_80pct/OpenCell/WT/Untreated/RABEPK/rep1_s1056_processed.npy'],\n",
       "       dtype='<U152'))"
      ]
     },
     "execution_count": 52,
     "metadata": {},
     "output_type": "execute_result"
    }
   ],
   "source": [
    "checkpoint['trainset_paths'], checkpoint['valset_paths'], checkpoint['testset_paths']"
   ]
  },
  {
   "cell_type": "code",
   "execution_count": 53,
   "id": "c94b80b0",
   "metadata": {},
   "outputs": [
    {
     "data": {
      "text/plain": [
       "(array(['/home/projects/hornsteinlab/Collaboration/NOVA/input/images/processed/ManuscriptFinalData_80pct/OpenCell/batch1/WT/Untreated/PRKDC/rep1_s192_processed.npy',\n",
       "        '/home/projects/hornsteinlab/Collaboration/NOVA/input/images/processed/ManuscriptFinalData_80pct/OpenCell/batch1/WT/Untreated/SMARCAD1/rep1_s0_processed.npy',\n",
       "        '/home/projects/hornsteinlab/Collaboration/NOVA/input/images/processed/ManuscriptFinalData_80pct/OpenCell/batch1/WT/Untreated/CHEK1/rep1_s368_processed.npy',\n",
       "        ...,\n",
       "        '/home/projects/hornsteinlab/Collaboration/NOVA/input/images/processed/ManuscriptFinalData_80pct/OpenCell/batch1/WT/Untreated/MYBBP1A/rep1_s544_processed.npy',\n",
       "        '/home/projects/hornsteinlab/Collaboration/NOVA/input/images/processed/ManuscriptFinalData_80pct/OpenCell/batch1/WT/Untreated/ZYX/rep1_s352_processed.npy',\n",
       "        '/home/projects/hornsteinlab/Collaboration/NOVA/input/images/processed/ManuscriptFinalData_80pct/OpenCell/batch1/WT/Untreated/GGPS1/rep1_s656_processed.npy'],\n",
       "       dtype='<U159'),\n",
       " array(['/home/projects/hornsteinlab/Collaboration/NOVA/input/images/processed/ManuscriptFinalData_80pct/OpenCell/batch1/WT/Untreated/SCAMP2/rep1_s1008_processed.npy',\n",
       "        '/home/projects/hornsteinlab/Collaboration/NOVA/input/images/processed/ManuscriptFinalData_80pct/OpenCell/batch1/WT/Untreated/PTK2/rep1_s432_processed.npy',\n",
       "        '/home/projects/hornsteinlab/Collaboration/NOVA/input/images/processed/ManuscriptFinalData_80pct/OpenCell/batch1/WT/Untreated/TSG101/rep1_s304_processed.npy',\n",
       "        ...,\n",
       "        '/home/projects/hornsteinlab/Collaboration/NOVA/input/images/processed/ManuscriptFinalData_80pct/OpenCell/batch1/WT/Untreated/DDX39B/rep1_s720_processed.npy',\n",
       "        '/home/projects/hornsteinlab/Collaboration/NOVA/input/images/processed/ManuscriptFinalData_80pct/OpenCell/batch1/WT/Untreated/STX8/rep1_s400_processed.npy',\n",
       "        '/home/projects/hornsteinlab/Collaboration/NOVA/input/images/processed/ManuscriptFinalData_80pct/OpenCell/batch1/WT/Untreated/PFN1/rep1_s272_processed.npy'],\n",
       "       dtype='<U159'),\n",
       " array(['/home/projects/hornsteinlab/Collaboration/NOVA/input/images/processed/ManuscriptFinalData_80pct/OpenCell/batch1/WT/Untreated/LMNA/rep1_s112_processed.npy',\n",
       "        '/home/projects/hornsteinlab/Collaboration/NOVA/input/images/processed/ManuscriptFinalData_80pct/OpenCell/batch1/WT/Untreated/FAM174C/rep1_s224_processed.npy',\n",
       "        '/home/projects/hornsteinlab/Collaboration/NOVA/input/images/processed/ManuscriptFinalData_80pct/OpenCell/batch1/WT/Untreated/H2AZ1/rep1_s192_processed.npy',\n",
       "        ...,\n",
       "        '/home/projects/hornsteinlab/Collaboration/NOVA/input/images/processed/ManuscriptFinalData_80pct/OpenCell/batch1/WT/Untreated/MAP4K4/rep1_s336_processed.npy',\n",
       "        '/home/projects/hornsteinlab/Collaboration/NOVA/input/images/processed/ManuscriptFinalData_80pct/OpenCell/batch1/WT/Untreated/PLPP1/rep1_s704_processed.npy',\n",
       "        '/home/projects/hornsteinlab/Collaboration/NOVA/input/images/processed/ManuscriptFinalData_80pct/OpenCell/batch1/WT/Untreated/RABEPK/rep1_s1056_processed.npy'],\n",
       "       dtype='<U159'))"
      ]
     },
     "execution_count": 53,
     "metadata": {},
     "output_type": "execute_result"
    }
   ],
   "source": [
    "change_root_paths_for_all_sets(checkpoint, \"/home/projects/hornsteinlab/Collaboration/NOVA/input/images/processed/ManuscriptFinalData_80pct/OpenCell/\", \"/home/projects/hornsteinlab/Collaboration/NOVA/input/images/processed/ManuscriptFinalData_80pct/OpenCell/batch1/\")\n",
    "checkpoint['trainset_paths'], checkpoint['valset_paths'], checkpoint['testset_paths']"
   ]
  },
  {
   "cell_type": "code",
   "execution_count": 54,
   "id": "882bf08d",
   "metadata": {},
   "outputs": [],
   "source": [
    "assert os.path.exists(checkpoint['trainset_paths'][0]), 'File does not exist: ' + checkpoint['trainset_paths'][0]\n",
    "assert os.path.exists(checkpoint['valset_paths'][0]), 'File does not exist: ' + checkpoint['valset_paths'][0]\n",
    "assert os.path.exists(checkpoint['testset_paths'][0]), 'File does not exist: ' + checkpoint['testset_paths'][0]"
   ]
  },
  {
   "cell_type": "code",
   "execution_count": 55,
   "id": "20cc325d",
   "metadata": {},
   "outputs": [
    {
     "name": "stdout",
     "output_type": "stream",
     "text": [
      "Saved checkpoint with updated paths to: /home/projects/hornsteinlab/Collaboration/NOVA/outputs/vit_models/pretrained_model/checkpoints/checkpoint_best.pth\n"
     ]
    }
   ],
   "source": [
    "torch.save(checkpoint, checkpoint_path)\n",
    "print(\"Saved checkpoint with updated paths to:\", checkpoint_path)"
   ]
  }
 ],
 "metadata": {
  "kernelspec": {
   "display_name": "nova",
   "language": "python",
   "name": "python3"
  },
  "language_info": {
   "codemirror_mode": {
    "name": "ipython",
    "version": 3
   },
   "file_extension": ".py",
   "mimetype": "text/x-python",
   "name": "python",
   "nbconvert_exporter": "python",
   "pygments_lexer": "ipython3",
   "version": "3.9.19"
  }
 },
 "nbformat": 4,
 "nbformat_minor": 5
}
