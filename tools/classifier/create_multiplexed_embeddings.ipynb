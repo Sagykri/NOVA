{
 "cells": [
  {
   "cell_type": "code",
   "execution_count": 1,
   "id": "69b30b62",
   "metadata": {},
   "outputs": [
    {
     "name": "stdout",
     "output_type": "stream",
     "text": [
      "NOVA_HOME is at /home/projects/hornsteinlab/Collaboration/NOVA_GAL/NOVA\n",
      "NOVA_HOME: /home/projects/hornsteinlab/Collaboration/NOVA_GAL/NOVA\n"
     ]
    }
   ],
   "source": [
    "import sys\n",
    "import os\n",
    "import time\n",
    "import numpy as np\n",
    "import pandas as pd\n",
    "import pickle\n",
    "\n",
    "print('NOVA_HOME is at', os.getenv('NOVA_HOME'))\n",
    "sys.path.insert(1, os.getenv('NOVA_HOME'))\n",
    "%load_ext autoreload\n",
    "%autoreload 2\n",
    "\n",
    "from src.common.utils import load_config_file\n",
    "from src.embeddings.embeddings_utils import load_embeddings\n",
    "from src.analysis.analyzer_multiplex_markers import AnalyzerMultiplexMarkers"
   ]
  },
  {
   "cell_type": "code",
   "execution_count": 2,
   "id": "07df3a20",
   "metadata": {},
   "outputs": [
    {
     "name": "stderr",
     "output_type": "stream",
     "text": [
      "2025-08-13 17:16:52 INFO: [newNeuronsD8FigureConfig_UMAP1_B1] Init (log path: /home/projects/hornsteinlab/Collaboration/NOVA/outputs/vit_models/finetunedModel_MLPHead_acrossBatches_B56789_80pct_frozen/logs/130825_171652_181277_64527_galavir_sysdashboardsysjupyter.log; JOBID: 64527 Username: galavir) JOBNAME: sysdashboardsysjupyter\n",
      "2025-08-13 17:16:52 INFO: [newNeuronsD8FigureConfig_UMAP1_B1] NOVA_HOME=/home/projects/hornsteinlab/Collaboration/NOVA_GAL/NOVA, NOVA_DATA_HOME=/home/projects/hornsteinlab/Collaboration/NOVA/input\n",
      "2025-08-13 17:16:52 INFO: [load_embeddings] experiment_type = neuronsDay8_new\n",
      "2025-08-13 17:16:52 INFO: [load_embeddings] input_folders = ['batch1']\n",
      "2025-08-13 17:16:52 INFO: [load_embeddings] model_output_folder = /home/projects/hornsteinlab/Collaboration/NOVA/outputs/vit_models/finetunedModel_MLPHead_acrossBatches_B56789_80pct_frozen\n"
     ]
    },
    {
     "name": "stdout",
     "output_type": "stream",
     "text": [
      "0\n",
      "Failed\n",
      "1\n"
     ]
    },
    {
     "name": "stderr",
     "output_type": "stream",
     "text": [
      "2025-08-13 17:16:59 INFO: [embeddings_utils._filter] markers_to_exclude = ['CD41']\n",
      "2025-08-13 17:17:01 INFO: [embeddings_utils._filter] cell_lines = ['WT']\n",
      "2025-08-13 17:17:03 INFO: [embeddings_utils._filter] conditions = ['Untreated']\n",
      "2025-08-13 17:17:03 INFO: [load_embeddings] embeddings shape: (196119, 192)\n",
      "2025-08-13 17:17:03 INFO: [load_embeddings] labels shape: (196119,)\n",
      "2025-08-13 17:17:03 INFO: [load_embeddings] example label: DAPI_WT_Untreated\n",
      "2025-08-13 17:17:03 INFO: [load_embeddings] paths shape: (196119,)\n",
      "2025-08-13 17:17:03 INFO: [load_embeddings] experiment_type = neuronsDay8_new\n",
      "2025-08-13 17:17:03 INFO: [load_embeddings] input_folders = ['batch2']\n",
      "2025-08-13 17:17:03 INFO: [load_embeddings] model_output_folder = /home/projects/hornsteinlab/Collaboration/NOVA/outputs/vit_models/finetunedModel_MLPHead_acrossBatches_B56789_80pct_frozen\n"
     ]
    },
    {
     "name": "stdout",
     "output_type": "stream",
     "text": [
      "2\n"
     ]
    },
    {
     "name": "stderr",
     "output_type": "stream",
     "text": [
      "2025-08-13 17:17:08 INFO: [embeddings_utils._filter] markers_to_exclude = ['CD41']\n",
      "2025-08-13 17:17:10 INFO: [embeddings_utils._filter] cell_lines = ['WT']\n",
      "2025-08-13 17:17:11 INFO: [embeddings_utils._filter] conditions = ['Untreated']\n",
      "2025-08-13 17:17:11 INFO: [load_embeddings] embeddings shape: (141079, 192)\n",
      "2025-08-13 17:17:11 INFO: [load_embeddings] labels shape: (141079,)\n",
      "2025-08-13 17:17:11 INFO: [load_embeddings] example label: HNRNPA1_WT_Untreated\n",
      "2025-08-13 17:17:11 INFO: [load_embeddings] paths shape: (141079,)\n",
      "2025-08-13 17:17:11 INFO: [load_embeddings] experiment_type = neuronsDay8_new\n",
      "2025-08-13 17:17:11 INFO: [load_embeddings] input_folders = ['batch3']\n",
      "2025-08-13 17:17:11 INFO: [load_embeddings] model_output_folder = /home/projects/hornsteinlab/Collaboration/NOVA/outputs/vit_models/finetunedModel_MLPHead_acrossBatches_B56789_80pct_frozen\n"
     ]
    },
    {
     "name": "stdout",
     "output_type": "stream",
     "text": [
      "3\n"
     ]
    },
    {
     "name": "stderr",
     "output_type": "stream",
     "text": [
      "2025-08-13 17:17:17 INFO: [embeddings_utils._filter] markers_to_exclude = ['CD41']\n",
      "2025-08-13 17:17:18 INFO: [embeddings_utils._filter] cell_lines = ['WT']\n",
      "2025-08-13 17:17:19 INFO: [embeddings_utils._filter] conditions = ['Untreated']\n",
      "2025-08-13 17:17:20 INFO: [load_embeddings] embeddings shape: (134336, 192)\n",
      "2025-08-13 17:17:20 INFO: [load_embeddings] labels shape: (134336,)\n",
      "2025-08-13 17:17:20 INFO: [load_embeddings] example label: TOMM20_WT_Untreated\n",
      "2025-08-13 17:17:20 INFO: [load_embeddings] paths shape: (134336,)\n",
      "2025-08-13 17:17:20 INFO: [load_embeddings] experiment_type = neuronsDay8_new\n",
      "2025-08-13 17:17:20 INFO: [load_embeddings] input_folders = ['batch7']\n",
      "2025-08-13 17:17:20 INFO: [load_embeddings] model_output_folder = /home/projects/hornsteinlab/Collaboration/NOVA/outputs/vit_models/finetunedModel_MLPHead_acrossBatches_B56789_80pct_frozen\n"
     ]
    },
    {
     "name": "stdout",
     "output_type": "stream",
     "text": [
      "4\n",
      "Failed\n",
      "5\n",
      "Failed\n",
      "6\n",
      "Failed\n",
      "7\n"
     ]
    },
    {
     "name": "stderr",
     "output_type": "stream",
     "text": [
      "2025-08-13 17:17:28 INFO: [embeddings_utils._filter] markers_to_exclude = ['CD41']\n",
      "2025-08-13 17:17:29 INFO: [embeddings_utils._filter] cell_lines = ['WT']\n",
      "2025-08-13 17:17:31 INFO: [embeddings_utils._filter] conditions = ['Untreated']\n",
      "2025-08-13 17:17:31 INFO: [load_embeddings] embeddings shape: (189079, 192)\n",
      "2025-08-13 17:17:31 INFO: [load_embeddings] labels shape: (189079,)\n",
      "2025-08-13 17:17:31 INFO: [load_embeddings] example label: DAPI_WT_Untreated\n",
      "2025-08-13 17:17:31 INFO: [load_embeddings] paths shape: (189079,)\n",
      "2025-08-13 17:17:31 INFO: [load_embeddings] experiment_type = neuronsDay8_new\n",
      "2025-08-13 17:17:31 INFO: [load_embeddings] input_folders = ['batch8']\n",
      "2025-08-13 17:17:31 INFO: [load_embeddings] model_output_folder = /home/projects/hornsteinlab/Collaboration/NOVA/outputs/vit_models/finetunedModel_MLPHead_acrossBatches_B56789_80pct_frozen\n"
     ]
    },
    {
     "name": "stdout",
     "output_type": "stream",
     "text": [
      "8\n"
     ]
    },
    {
     "name": "stderr",
     "output_type": "stream",
     "text": [
      "2025-08-13 17:17:39 INFO: [embeddings_utils._filter] markers_to_exclude = ['CD41']\n",
      "2025-08-13 17:17:42 INFO: [embeddings_utils._filter] cell_lines = ['WT']\n",
      "2025-08-13 17:17:43 INFO: [embeddings_utils._filter] conditions = ['Untreated']\n",
      "2025-08-13 17:17:43 INFO: [load_embeddings] embeddings shape: (169304, 192)\n",
      "2025-08-13 17:17:43 INFO: [load_embeddings] labels shape: (169304,)\n",
      "2025-08-13 17:17:43 INFO: [load_embeddings] example label: DCP1A_WT_Untreated\n",
      "2025-08-13 17:17:43 INFO: [load_embeddings] paths shape: (169304,)\n",
      "2025-08-13 17:17:44 INFO: [load_embeddings] experiment_type = neuronsDay8_new\n",
      "2025-08-13 17:17:44 INFO: [load_embeddings] input_folders = ['batch9']\n",
      "2025-08-13 17:17:44 INFO: [load_embeddings] model_output_folder = /home/projects/hornsteinlab/Collaboration/NOVA/outputs/vit_models/finetunedModel_MLPHead_acrossBatches_B56789_80pct_frozen\n"
     ]
    },
    {
     "name": "stdout",
     "output_type": "stream",
     "text": [
      "9\n"
     ]
    },
    {
     "name": "stderr",
     "output_type": "stream",
     "text": [
      "2025-08-13 17:17:51 INFO: [embeddings_utils._filter] markers_to_exclude = ['CD41']\n",
      "2025-08-13 17:17:53 INFO: [embeddings_utils._filter] cell_lines = ['WT']\n",
      "2025-08-13 17:17:54 INFO: [embeddings_utils._filter] conditions = ['Untreated']\n",
      "2025-08-13 17:17:55 INFO: [load_embeddings] embeddings shape: (196652, 192)\n",
      "2025-08-13 17:17:55 INFO: [load_embeddings] labels shape: (196652,)\n",
      "2025-08-13 17:17:55 INFO: [load_embeddings] example label: TIA1_WT_Untreated\n",
      "2025-08-13 17:17:55 INFO: [load_embeddings] paths shape: (196652,)\n"
     ]
    }
   ],
   "source": [
    "embeddings_folder = '/home/projects/hornsteinlab/Collaboration/NOVA/outputs/vit_models/finetunedModel_MLPHead_acrossBatches_B56789_80pct_frozen'\n",
    "multiplexed=True   ## Load umap2\n",
    "\n",
    "for batch in range(10):\n",
    "    print(batch)\n",
    "    try:\n",
    "        config = f'newNeuronsD8FigureConfig_UMAP2_B{batch}'\n",
    "        config_path_data = f'manuscript/manuscript_figures_data_config_80pct/{config}'\n",
    "        config_data = load_config_file(config_path_data, 'data')\n",
    "        config_data.OUTPUTS_FOLDER = embeddings_folder\n",
    "\n",
    "        embeddings, labels, paths = load_embeddings(embeddings_folder, config_data)\n",
    "        if multiplexed:\n",
    "            print(\"Multiplexed embeddings detected, transforming embeddings and labels using AnalyzerMultiplexMarkers.\")\n",
    "            analyzer_multiplex = AnalyzerMultiplexMarkers(config_data, embeddings_folder)\n",
    "            embeddings, labels, _ = analyzer_multiplex.calculate(embeddings, labels)  \n",
    "\n",
    "        # Prepare path\n",
    "        save_path = f\"data/{config}.pkl\"\n",
    "        os.makedirs(os.path.dirname(save_path), exist_ok=True)\n",
    "\n",
    "        # Save\n",
    "        with open(save_path, \"wb\") as f:\n",
    "            pickle.dump({'embeddings': embeddings, 'labels': labels}, f)\n",
    "    except:\n",
    "        print('Failed')"
   ]
  },
  {
   "cell_type": "code",
   "execution_count": null,
   "id": "92cb7f0c",
   "metadata": {},
   "outputs": [],
   "source": []
  }
 ],
 "metadata": {
  "kernelspec": {
   "display_name": "nova",
   "language": "python",
   "name": "nova"
  },
  "language_info": {
   "codemirror_mode": {
    "name": "ipython",
    "version": 3
   },
   "file_extension": ".py",
   "mimetype": "text/x-python",
   "name": "python",
   "nbconvert_exporter": "python",
   "pygments_lexer": "ipython3",
   "version": "3.9.19"
  }
 },
 "nbformat": 4,
 "nbformat_minor": 5
}
