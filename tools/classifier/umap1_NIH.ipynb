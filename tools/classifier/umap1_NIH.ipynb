{
 "cells": [
  {
   "cell_type": "code",
   "execution_count": null,
   "id": "ed1c61c9",
   "metadata": {},
   "outputs": [],
   "source": [
    "import sys\n",
    "import os\n",
    "import time\n",
    "import numpy as np\n",
    "import pandas as pd\n",
    "import matplotlib.pyplot as plt\n",
    "\n",
    "from cuml.linear_model import LogisticRegression as cuMLLogisticRegression\n",
    "\n",
    "print('NOVA_HOME is at', os.getenv('NOVA_HOME'))\n",
    "sys.path.insert(1, os.getenv('NOVA_HOME'))\n",
    "%load_ext autoreload\n",
    "%autoreload 2\n",
    "\n",
    "from utils import *"
   ]
  },
  {
   "cell_type": "code",
   "execution_count": null,
   "id": "b0a2ae99",
   "metadata": {},
   "outputs": [],
   "source": [
    "from sklearn.naive_bayes import GaussianNB\n",
    "from sklearn.linear_model import RidgeClassifier\n",
    "from sklearn.svm import LinearSVC\n",
    "from cuml.ensemble import RandomForestClassifier as cuRF\n",
    "from sklearn.ensemble import ExtraTreesClassifier"
   ]
  },
  {
   "cell_type": "code",
   "execution_count": null,
   "id": "f05a893f",
   "metadata": {},
   "outputs": [],
   "source": [
    "dataset_config = {\n",
    "    \"path_to_embeddings\": \"/home/projects/hornsteinlab/Collaboration/NOVA/outputs/vit_models/finetunedModel_MLPHead_acrossBatches_B56789_80pct_frozen\",\n",
    "    \"multiplexed\": False,\n",
    "    \"config_fmt\": \"NIH_UMAP1_DatasetConfig_B{batch}\",\n",
    "    \"config_dir\": \"manuscript/manuscript_figures_data_config\",\n",
    "}"
   ]
  },
  {
   "cell_type": "code",
   "execution_count": null,
   "id": "9dd93f36",
   "metadata": {
    "scrolled": true
   },
   "outputs": [],
   "source": [
    "## Baseline\n",
    "run_baseline_model(\n",
    "    dataset_config= dataset_config,\n",
    "    batches=[1, 2, 3],\n",
    "    balance=False,\n",
    "    norm=False,\n",
    "    choose_features=False,\n",
    "    top_k=100,\n",
    "    label_map=None,\n",
    "    classifier_class=cuMLLogisticRegression,\n",
    "    classifier_kwargs={},\n",
    "    train_specific_batches = [1],\n",
    "    results_csv = 'classification_results-NIH.csv'\n",
    ")"
   ]
  },
  {
   "cell_type": "code",
   "execution_count": null,
   "id": "fbff1013",
   "metadata": {
    "scrolled": true
   },
   "outputs": [],
   "source": [
    "## Baseline\n",
    "run_baseline_model(\n",
    "    dataset_config= dataset_config,\n",
    "    batches=[1, 2, 3],\n",
    "    balance=False,\n",
    "    norm=False,\n",
    "    choose_features=False,\n",
    "    top_k=100,\n",
    "    label_map=None,\n",
    "    classifier_class=cuMLLogisticRegression,\n",
    "    classifier_kwargs={},\n",
    ")"
   ]
  },
  {
   "cell_type": "code",
   "execution_count": null,
   "id": "b4b39ce6",
   "metadata": {},
   "outputs": [],
   "source": [
    "run_train_test_split_baseline(\n",
    "    dataset_config,        \n",
    "    batches=[1],  \n",
    "    classifier_class=cuMLLogisticRegression,\n",
    "    classifier_kwargs={},     \n",
    ")"
   ]
  },
  {
   "cell_type": "code",
   "execution_count": null,
   "id": "2d103efd",
   "metadata": {},
   "outputs": [],
   "source": [
    "## Baseline\n",
    "run_baseline_model(\n",
    "    dataset_config= dataset_config,\n",
    "    batches=[1, 2, 3],\n",
    "    balance=False,\n",
    "    norm=False,\n",
    "    choose_features=False,\n",
    "    top_k=100,\n",
    "    label_map=None,\n",
    "    classifier_class=GaussianNB,\n",
    "    classifier_kwargs={},\n",
    "    train_specific_batches = [1],\n",
    "    results_csv = 'classification_results-NIH.csv'\n",
    ")"
   ]
  },
  {
   "cell_type": "code",
   "execution_count": null,
   "id": "4267c695",
   "metadata": {},
   "outputs": [],
   "source": [
    "## Baseline\n",
    "run_baseline_model(\n",
    "    dataset_config= dataset_config,\n",
    "    batches=[1, 2, 3],\n",
    "    balance=False,\n",
    "    norm=False,\n",
    "    choose_features=False,\n",
    "    top_k=100,\n",
    "    label_map=None,\n",
    "    classifier_class=RidgeClassifier,\n",
    "    classifier_kwargs={},\n",
    "    train_specific_batches = [1],\n",
    "    results_csv = 'classification_results-NIH.csv'\n",
    ")"
   ]
  },
  {
   "cell_type": "code",
   "execution_count": null,
   "id": "61c1da3a",
   "metadata": {},
   "outputs": [],
   "source": [
    "## Baseline\n",
    "run_baseline_model(\n",
    "    dataset_config= dataset_config,\n",
    "    batches=[1, 2, 3],\n",
    "    balance=False,\n",
    "    norm=False,\n",
    "    choose_features=False,\n",
    "    top_k=100,\n",
    "    label_map=None,\n",
    "    classifier_class=LinearSVC,\n",
    "    classifier_kwargs={\"C\": 1.0, \"max_iter\": 1000, \"random_state\": 42},\n",
    "    train_specific_batches = [1],\n",
    "    results_csv = 'classification_results-NIH.csv'\n",
    ")"
   ]
  },
  {
   "cell_type": "code",
   "execution_count": null,
   "id": "343825f4",
   "metadata": {
    "scrolled": true
   },
   "outputs": [],
   "source": [
    "run_baseline_model(\n",
    "    dataset_config,\n",
    "    batches=[1,2,3,],\n",
    "    classifier_class=cuRF,\n",
    "    classifier_kwargs={\"n_estimators\": 300, \"random_state\": 42},  # max_depth=0 => unlimited in cuML\n",
    "    train_specific_batches = [1],\n",
    "    results_csv = 'classification_results-NIH.csv'\n",
    ")"
   ]
  },
  {
   "cell_type": "code",
   "execution_count": null,
   "id": "17364c02",
   "metadata": {},
   "outputs": [],
   "source": [
    "run_baseline_model(dataset_config,\n",
    "    batches=[1,2,3],\n",
    "    classifier_class=ExtraTreesClassifier,\n",
    "    classifier_kwargs={\"n_estimators\": 300, \"max_depth\": None, \"min_samples_leaf\": 1,\n",
    "                                     \"n_jobs\": -1, \"random_state\": 42},\n",
    "    train_specific_batches = [1],\n",
    "    results_csv = 'classification_results-NIH.csv'\n",
    ")"
   ]
  },
  {
   "cell_type": "markdown",
   "id": "a13fb606",
   "metadata": {},
   "source": [
    "## Cytoself"
   ]
  },
  {
   "cell_type": "code",
   "execution_count": null,
   "id": "e3f03b24",
   "metadata": {},
   "outputs": [],
   "source": [
    "Cytoself_dataset_config = {\n",
    "    \"path_to_embeddings\": \"/home/projects/hornsteinlab/Collaboration/NOVA/outputs/cytoself_model/\",\n",
    "    \"multiplexed\": False,\n",
    "    \"config_fmt\": \"NIH_UMAP1_DatasetConfig_B{batch}\",\n",
    "    \"config_dir\": \"manuscript/manuscript_figures_data_config\",\n",
    "}"
   ]
  },
  {
   "cell_type": "code",
   "execution_count": null,
   "id": "3f0e5dac",
   "metadata": {
    "scrolled": true
   },
   "outputs": [],
   "source": [
    "## Baseline\n",
    "run_baseline_model(\n",
    "    dataset_config= Cytoself_dataset_config,\n",
    "    batches=[1, 2, 3],\n",
    "    balance=False,\n",
    "    norm=False,\n",
    "    choose_features=False,\n",
    "    top_k=100,\n",
    "    label_map=None,\n",
    "    classifier_class=cuMLLogisticRegression,\n",
    "    classifier_kwargs={},\n",
    "    train_specific_batches = [1],\n",
    "    results_csv = 'classification_results-NIH.csv'\n",
    ")"
   ]
  },
  {
   "cell_type": "code",
   "execution_count": null,
   "id": "6adbebfe",
   "metadata": {
    "scrolled": true
   },
   "outputs": [],
   "source": [
    "## Baseline\n",
    "run_baseline_model(\n",
    "    dataset_config= Cytoself_dataset_config,\n",
    "    batches=[1, 2, 3],\n",
    "    balance=False,\n",
    "    norm=False,\n",
    "    choose_features=False,\n",
    "    top_k=100,\n",
    "    label_map=None,\n",
    "    classifier_class=cuMLLogisticRegression,\n",
    "    classifier_kwargs={},\n",
    ")"
   ]
  },
  {
   "cell_type": "code",
   "execution_count": null,
   "id": "5c9b1f68",
   "metadata": {},
   "outputs": [],
   "source": [
    "run_train_test_split_baseline(\n",
    "    Cytoself_dataset_config,        \n",
    "    batches=[1],  \n",
    "    classifier_class=cuMLLogisticRegression,\n",
    "    classifier_kwargs={},     \n",
    ")"
   ]
  },
  {
   "cell_type": "code",
   "execution_count": null,
   "id": "fc46259b",
   "metadata": {},
   "outputs": [],
   "source": [
    "## Baseline\n",
    "run_baseline_model(\n",
    "    dataset_config= Cytoself_dataset_config,\n",
    "    batches=[1, 2, 3],\n",
    "    balance=False,\n",
    "    norm=False,\n",
    "    choose_features=False,\n",
    "    top_k=100,\n",
    "    label_map=None,\n",
    "    classifier_class=GaussianNB,\n",
    "    classifier_kwargs={},\n",
    "    train_specific_batches = [1],\n",
    "    results_csv = 'classification_results-NIH.csv'\n",
    ")"
   ]
  },
  {
   "cell_type": "code",
   "execution_count": null,
   "id": "a2768c69",
   "metadata": {},
   "outputs": [],
   "source": [
    "## Baseline\n",
    "run_baseline_model(\n",
    "    dataset_config= Cytoself_dataset_config,\n",
    "    batches=[1, 2, 3],\n",
    "    balance=False,\n",
    "    norm=False,\n",
    "    choose_features=False,\n",
    "    top_k=100,\n",
    "    label_map=None,\n",
    "    classifier_class=RidgeClassifier,\n",
    "    classifier_kwargs={},\n",
    "    train_specific_batches = [1],\n",
    "    results_csv = 'classification_results-NIH.csv'\n",
    ")"
   ]
  },
  {
   "cell_type": "code",
   "execution_count": null,
   "id": "e7476d43",
   "metadata": {
    "scrolled": true
   },
   "outputs": [],
   "source": [
    "## Baseline\n",
    "run_baseline_model(\n",
    "    dataset_config= Cytoself_dataset_config,\n",
    "    batches=[1, 2, 3],\n",
    "    balance=False,\n",
    "    norm=False,\n",
    "    choose_features=False,\n",
    "    top_k=100,\n",
    "    label_map=None,\n",
    "    classifier_class=LinearSVC,\n",
    "    classifier_kwargs={\"C\": 1.0, \"max_iter\": 1000, \"random_state\": 42},\n",
    "    train_specific_batches = [1],\n",
    "    results_csv = 'classification_results-NIH.csv'\n",
    ")"
   ]
  },
  {
   "cell_type": "code",
   "execution_count": null,
   "id": "9d6bf64f",
   "metadata": {
    "scrolled": true
   },
   "outputs": [],
   "source": [
    "run_baseline_model(\n",
    "    Cytoself_dataset_config,\n",
    "    batches=[1,2,3,],\n",
    "    classifier_class=cuRF,\n",
    "    classifier_kwargs={\"n_estimators\": 300, \"random_state\": 42},  # max_depth=0 => unlimited in cuML\n",
    "    train_specific_batches = [1],\n",
    "    results_csv = 'classification_results-NIH.csv'\n",
    ")"
   ]
  },
  {
   "cell_type": "code",
   "execution_count": null,
   "id": "7eb7a0eb",
   "metadata": {
    "scrolled": true
   },
   "outputs": [],
   "source": [
    "run_baseline_model(Cytoself_dataset_config,\n",
    "    batches=[1,2,3],\n",
    "    classifier_class=ExtraTreesClassifier,\n",
    "    classifier_kwargs={\"n_estimators\": 300, \"max_depth\": None, \"min_samples_leaf\": 1,\n",
    "                                     \"n_jobs\": -1, \"random_state\": 42},\n",
    "    train_specific_batches = [1],\n",
    "    results_csv = 'classification_results-NIH.csv'\n",
    ")"
   ]
  },
  {
   "cell_type": "code",
   "execution_count": null,
   "id": "009363d7",
   "metadata": {},
   "outputs": [],
   "source": []
  },
  {
   "cell_type": "markdown",
   "id": "4246c437",
   "metadata": {},
   "source": [
    "## Pretrained Model"
   ]
  },
  {
   "cell_type": "code",
   "execution_count": null,
   "id": "e1f70470",
   "metadata": {},
   "outputs": [],
   "source": [
    "pretrained_dataset_config = {\n",
    "    \"path_to_embeddings\": \"/home/projects/hornsteinlab/Collaboration/NOVA/outputs/vit_models/pretrained_model\",\n",
    "    \"multiplexed\": False,\n",
    "    \"config_fmt\": \"NIH_UMAP1_DatasetConfig_B{batch}\",\n",
    "    \"config_dir\": \"manuscript/manuscript_figures_data_config\",\n",
    "}"
   ]
  },
  {
   "cell_type": "code",
   "execution_count": null,
   "id": "f0177e6c",
   "metadata": {},
   "outputs": [],
   "source": [
    "## Baseline\n",
    "run_baseline_model(\n",
    "    dataset_config= pretrained_dataset_config,\n",
    "    batches=[1, 2, 3],\n",
    "    balance=False,\n",
    "    norm=False,\n",
    "    choose_features=False,\n",
    "    top_k=100,\n",
    "    label_map=None,\n",
    "    classifier_class=cuMLLogisticRegression,\n",
    "    classifier_kwargs={},\n",
    "    train_specific_batches = [1],\n",
    "    results_csv = 'classification_results-NIH.csv'\n",
    ")"
   ]
  },
  {
   "cell_type": "code",
   "execution_count": null,
   "id": "f4a5c4c6",
   "metadata": {},
   "outputs": [],
   "source": [
    "## Baseline\n",
    "run_baseline_model(\n",
    "    dataset_config= pretrained_dataset_config,\n",
    "    batches=[1, 2, 3],\n",
    "    balance=False,\n",
    "    norm=False,\n",
    "    choose_features=False,\n",
    "    top_k=100,\n",
    "    label_map=None,\n",
    "    classifier_class=GaussianNB,\n",
    "    classifier_kwargs={},\n",
    "    train_specific_batches = [1],\n",
    "    results_csv = 'classification_results-NIH.csv'\n",
    ")"
   ]
  },
  {
   "cell_type": "code",
   "execution_count": null,
   "id": "f6d3807b",
   "metadata": {},
   "outputs": [],
   "source": [
    "## Baseline\n",
    "run_baseline_model(\n",
    "    dataset_config= pretrained_dataset_config,\n",
    "    batches=[1, 2, 3],\n",
    "    balance=False,\n",
    "    norm=False,\n",
    "    choose_features=False,\n",
    "    top_k=100,\n",
    "    label_map=None,\n",
    "    classifier_class=RidgeClassifier,\n",
    "    classifier_kwargs={},\n",
    "    train_specific_batches = [1],\n",
    "    results_csv = 'classification_results-NIH.csv'\n",
    ")"
   ]
  },
  {
   "cell_type": "code",
   "execution_count": null,
   "id": "5ed73f76",
   "metadata": {},
   "outputs": [],
   "source": [
    "## Baseline\n",
    "run_baseline_model(\n",
    "    dataset_config= pretrained_dataset_config,\n",
    "    batches=[1, 2, 3],\n",
    "    balance=False,\n",
    "    norm=False,\n",
    "    choose_features=False,\n",
    "    top_k=100,\n",
    "    label_map=None,\n",
    "    classifier_class=LinearSVC,\n",
    "    classifier_kwargs={\"C\": 1.0, \"max_iter\": 1000, \"random_state\": 42},\n",
    "    train_specific_batches = [1],\n",
    "    results_csv = 'classification_results-NIH.csv'\n",
    ")"
   ]
  },
  {
   "cell_type": "code",
   "execution_count": null,
   "id": "2a441239",
   "metadata": {
    "scrolled": true
   },
   "outputs": [],
   "source": [
    "run_baseline_model(\n",
    "    pretrained_dataset_config,\n",
    "    batches=[1,2,3,],\n",
    "    classifier_class=cuRF,\n",
    "    classifier_kwargs={\"n_estimators\": 300, \"random_state\": 42}, \n",
    "    train_specific_batches = [1],\n",
    "    results_csv = 'classification_results-NIH.csv'\n",
    ")"
   ]
  },
  {
   "cell_type": "code",
   "execution_count": null,
   "id": "6cd5ce74",
   "metadata": {},
   "outputs": [],
   "source": [
    "run_baseline_model(pretrained_dataset_config,\n",
    "    batches=[1,2,3],\n",
    "    classifier_class=ExtraTreesClassifier,\n",
    "    classifier_kwargs={\"n_estimators\": 300, \"max_depth\": None, \"min_samples_leaf\": 1,\n",
    "                                     \"n_jobs\": -1, \"random_state\": 42},\n",
    "    train_specific_batches = [1],\n",
    "    results_csv = 'classification_results-NIH.csv'\n",
    ")"
   ]
  },
  {
   "cell_type": "code",
   "execution_count": null,
   "id": "572c686f",
   "metadata": {},
   "outputs": [],
   "source": []
  }
 ],
 "metadata": {
  "kernelspec": {
   "display_name": "nova",
   "language": "python",
   "name": "nova"
  },
  "language_info": {
   "codemirror_mode": {
    "name": "ipython",
    "version": 3
   },
   "file_extension": ".py",
   "mimetype": "text/x-python",
   "name": "python",
   "nbconvert_exporter": "python",
   "pygments_lexer": "ipython3",
   "version": "3.9.19"
  }
 },
 "nbformat": 4,
 "nbformat_minor": 5
}
