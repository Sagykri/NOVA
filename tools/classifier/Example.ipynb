{
 "cells": [
  {
   "cell_type": "code",
   "execution_count": null,
   "id": "4cf0e2dc",
   "metadata": {},
   "outputs": [],
   "source": [
    "import sys\n",
    "import os\n",
    "import time\n",
    "import numpy as np\n",
    "import pandas as pd\n",
    "import matplotlib.pyplot as plt\n",
    "\n",
    "from cuml.linear_model import LogisticRegression as cuMLLogisticRegression\n",
    "\n",
    "print('NOVA_HOME is at', os.getenv('NOVA_HOME'))\n",
    "sys.path.insert(1, os.getenv('NOVA_HOME'))\n",
    "%load_ext autoreload\n",
    "%autoreload 2\n",
    "\n",
    "from utils import *"
   ]
  },
  {
   "cell_type": "code",
   "execution_count": null,
   "id": "01e34cc9",
   "metadata": {},
   "outputs": [],
   "source": []
  },
  {
   "cell_type": "code",
   "execution_count": null,
   "id": "f3942e93",
   "metadata": {},
   "outputs": [],
   "source": [
    "dataset_config = {\n",
    "    \"path_to_embeddings\": \"/home/projects/hornsteinlab/Collaboration/NOVA/outputs/vit_models/finetunedModel_MLPHead_acrossBatches_B56789_80pct_frozen\",\n",
    "    \"multiplexed\": False,\n",
    "    \"config_fmt\": \"newNeuronsD8FigureConfig_UMAP1_B{batch}\",\n",
    "    \"config_dir\": \"manuscript/manuscript_figures_data_config\",\n",
    "}"
   ]
  },
  {
   "cell_type": "markdown",
   "id": "996dabdd",
   "metadata": {},
   "source": [
    "### LOO"
   ]
  },
  {
   "cell_type": "code",
   "execution_count": null,
   "id": "aacfa12d",
   "metadata": {
    "scrolled": true
   },
   "outputs": [],
   "source": [
    "run_baseline_model(\n",
    "    dataset_config,                # dict with paths/loading settings for embeddings\n",
    "    batches=[1, 2, 3, 7, 8, 9,],   # list of batch IDs to include in the experiment\n",
    "    balance=False,                 # whether to balance class distributions during training\n",
    "    norm=False,                    # whether to normalize features before training\n",
    "    choose_features=False,         # whether to select top features (e.g., univariate ranking)\n",
    "    top_k=100,                     # number of features to keep if choose_features=True\n",
    "    apply_pca=False,               # whether to reduce dimensionality with PCA\n",
    "    pca_components=50,             # number of PCA components if apply_pca=True\n",
    "    label_map=None,                # optional mapping to merge/remap labels, e.g. {\"WT\":0,\"KO\":1}\n",
    "    classifier_class=cuMLLogisticRegression, # classifier class to use (any sklearn/cuML-compatible estimator)\n",
    "    classifier_kwargs=dict(),      # extra arguments for the classifier constructor (e.g. {\"max_depth\":10})\n",
    "    test_specific_batches=None,    # int or list: which batches to use as test folds; None = default LOOCV\n",
    "    train_specific_batches=None,   # int or list: which batches to use for training; None = complement of test\n",
    "    return_proba=False             # if True, return DataFrame of predicted probabilities along with metrics\n",
    ")\n"
   ]
  },
  {
   "cell_type": "markdown",
   "id": "0124a8f5",
   "metadata": {},
   "source": [
    "### Train on batch 1 and test on the rest "
   ]
  },
  {
   "cell_type": "code",
   "execution_count": null,
   "id": "50a19772",
   "metadata": {
    "scrolled": true
   },
   "outputs": [],
   "source": [
    "## Baseline\n",
    "run_baseline_model(\n",
    "    dataset_config= dataset_config,\n",
    "    batches=[1, 2, 3, 7, 8, 9],\n",
    "    balance=False,\n",
    "    norm=False,\n",
    "    choose_features=False,\n",
    "    top_k=100,\n",
    "    label_map=None,\n",
    "    classifier_class=cuMLLogisticRegression,\n",
    "    classifier_kwargs={},\n",
    "    train_specific_batches = [1]\n",
    ")"
   ]
  },
  {
   "cell_type": "markdown",
   "id": "d7d9d436",
   "metadata": {},
   "source": [
    "### Random 80/20 training and testing"
   ]
  },
  {
   "cell_type": "code",
   "execution_count": null,
   "id": "f4875eb1",
   "metadata": {},
   "outputs": [],
   "source": [
    "run_train_test_split_baseline(\n",
    "    dataset_config,                # dict with paths/loading settings for embeddings\n",
    "    batches=[1, 2, 3, 7, 8, 9],    # list of batch IDs to load and combine into one dataset\n",
    "    balance=False,                 # whether to balance class distributions during training\n",
    "    norm=False,                    # whether to normalize features before training\n",
    "    choose_features=False,         # whether to select top features (e.g., univariate ranking)\n",
    "    top_k=100,                     # number of features to keep if choose_features=True\n",
    "    apply_pca=False,               # whether to reduce dimensionality with PCA\n",
    "    pca_components=50,             # number of PCA components if apply_pca=True\n",
    "    classifier_class=cuMLLogisticRegression, # classifier class to use (any sklearn/cuML-compatible estimator)\n",
    "    classifier_kwargs={},          # extra arguments for the classifier constructor (e.g. {\"max_depth\":10})\n",
    "    return_proba=False             # if True, return predicted probabilities along with metrics\n",
    ")"
   ]
  },
  {
   "cell_type": "code",
   "execution_count": null,
   "id": "6c2b88fe",
   "metadata": {},
   "outputs": [],
   "source": []
  }
 ],
 "metadata": {
  "kernelspec": {
   "display_name": "nova",
   "language": "python",
   "name": "nova"
  },
  "language_info": {
   "codemirror_mode": {
    "name": "ipython",
    "version": 3
   },
   "file_extension": ".py",
   "mimetype": "text/x-python",
   "name": "python",
   "nbconvert_exporter": "python",
   "pygments_lexer": "ipython3",
   "version": "3.9.19"
  }
 },
 "nbformat": 4,
 "nbformat_minor": 5
}
