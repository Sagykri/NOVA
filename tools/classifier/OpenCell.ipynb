{
 "cells": [
  {
   "cell_type": "code",
   "execution_count": null,
   "id": "54677018",
   "metadata": {},
   "outputs": [],
   "source": [
    "import sys\n",
    "import os\n",
    "import time\n",
    "import numpy as np\n",
    "import pandas as pd\n",
    "import matplotlib.pyplot as plt\n",
    "\n",
    "from cuml.linear_model import LogisticRegression as cuMLLogisticRegression\n",
    "\n",
    "print('NOVA_HOME is at', os.getenv('NOVA_HOME'))\n",
    "sys.path.insert(1, os.getenv('NOVA_HOME'))\n",
    "%load_ext autoreload\n",
    "%autoreload 2\n",
    "\n",
    "from utils import *"
   ]
  },
  {
   "cell_type": "code",
   "execution_count": null,
   "id": "d65f6ca0",
   "metadata": {},
   "outputs": [],
   "source": [
    "from sklearn.naive_bayes import GaussianNB\n",
    "from sklearn.linear_model import RidgeClassifier\n",
    "from sklearn.svm import LinearSVC\n",
    "from cuml.ensemble import RandomForestClassifier as cuRF\n",
    "from sklearn.ensemble import ExtraTreesClassifier"
   ]
  },
  {
   "cell_type": "code",
   "execution_count": null,
   "id": "ee70f9db",
   "metadata": {},
   "outputs": [],
   "source": [
    "dataset_config = {\n",
    "    \"path_to_embeddings\": \"/home/projects/hornsteinlab/Collaboration/NOVA/outputs/vit_models/pretrained_model\",\n",
    "    \"multiplexed\": False,\n",
    "    \"config_fmt\": \"OpencellFigureConfig_UMAP1_B{batch}\",\n",
    "    \"config_dir\": \"manuscript/manuscript_figures_data_config\",\n",
    "}"
   ]
  },
  {
   "cell_type": "code",
   "execution_count": null,
   "id": "a4ff3f17",
   "metadata": {},
   "outputs": [],
   "source": [
    "run_train_test_split_baseline(\n",
    "    dataset_config,        \n",
    "    batches=[1],  \n",
    "    classifier_class=cuMLLogisticRegression,\n",
    "    classifier_kwargs={},     \n",
    ")"
   ]
  },
  {
   "cell_type": "code",
   "execution_count": null,
   "id": "a1556e51",
   "metadata": {},
   "outputs": [],
   "source": [
    "run_train_test_split_baseline(\n",
    "    dataset_config,        \n",
    "    batches=[1],  \n",
    "    classifier_class=GaussianNB,\n",
    "    classifier_kwargs={},     \n",
    ")"
   ]
  },
  {
   "cell_type": "code",
   "execution_count": null,
   "id": "a390e11f",
   "metadata": {},
   "outputs": [],
   "source": [
    "run_train_test_split_baseline(\n",
    "    dataset_config,        \n",
    "    batches=[1],  \n",
    "    classifier_class=RidgeClassifier,\n",
    "    classifier_kwargs={},     \n",
    ")"
   ]
  },
  {
   "cell_type": "code",
   "execution_count": null,
   "id": "77ae023e",
   "metadata": {},
   "outputs": [],
   "source": [
    "run_train_test_split_baseline(\n",
    "    dataset_config,        \n",
    "    batches=[1],  \n",
    "    classifier_class=LinearSVC,\n",
    "    classifier_kwargs={\"C\": 1.0, \"max_iter\": 1000, \"random_state\": 42},  \n",
    ")"
   ]
  },
  {
   "cell_type": "code",
   "execution_count": null,
   "id": "9b34f9e0",
   "metadata": {},
   "outputs": [],
   "source": [
    "run_train_test_split_baseline(\n",
    "    dataset_config,        \n",
    "    batches=[1],  \n",
    "    classifier_class=cuRF,\n",
    "    classifier_kwargs={\"n_estimators\": 300, \"random_state\": 42}, \n",
    ")"
   ]
  },
  {
   "cell_type": "code",
   "execution_count": null,
   "id": "29e67180",
   "metadata": {},
   "outputs": [],
   "source": [
    "run_train_test_split_baseline(\n",
    "    dataset_config,        \n",
    "    batches=[1],  \n",
    "    classifier_class=ExtraTreesClassifier,\n",
    "    classifier_kwargs={\"n_estimators\": 300, \"max_depth\": None, \"min_samples_leaf\": 1,\n",
    "                                     \"n_jobs\": -1, \"random_state\": 42},\n",
    ")"
   ]
  }
 ],
 "metadata": {
  "kernelspec": {
   "display_name": "nova",
   "language": "python",
   "name": "nova"
  },
  "language_info": {
   "codemirror_mode": {
    "name": "ipython",
    "version": 3
   },
   "file_extension": ".py",
   "mimetype": "text/x-python",
   "name": "python",
   "nbconvert_exporter": "python",
   "pygments_lexer": "ipython3",
   "version": "3.9.19"
  }
 },
 "nbformat": 4,
 "nbformat_minor": 5
}
