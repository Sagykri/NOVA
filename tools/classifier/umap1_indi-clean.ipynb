{
 "cells": [
  {
   "cell_type": "code",
   "execution_count": null,
   "id": "dda04ef4",
   "metadata": {},
   "outputs": [],
   "source": [
    "import sys\n",
    "import os\n",
    "import time\n",
    "import numpy as np\n",
    "import pandas as pd\n",
    "from collections import Counter\n",
    "import matplotlib.pyplot as plt\n",
    "from cuml.linear_model import LogisticRegression as cuMLLogisticRegression\n",
    "\n",
    "\n",
    "print('NOVA_HOME is at', os.getenv('NOVA_HOME'))\n",
    "sys.path.insert(1, os.getenv('NOVA_HOME'))\n",
    "%load_ext autoreload\n",
    "%autoreload 2\n",
    "\n",
    "from utils import *"
   ]
  },
  {
   "cell_type": "code",
   "execution_count": null,
   "id": "354ab363",
   "metadata": {},
   "outputs": [],
   "source": [
    "from sklearn.naive_bayes import GaussianNB\n",
    "from sklearn.linear_model import LogisticRegression, RidgeClassifier\n",
    "from sklearn.svm import LinearSVC\n",
    "from sklearn.ensemble import RandomForestClassifier, ExtraTreesClassifier\n",
    "import itertools\n",
    "from cuml.linear_model import LogisticRegression as cuLogisticRegression"
   ]
  },
  {
   "cell_type": "code",
   "execution_count": null,
   "id": "62f57247",
   "metadata": {},
   "outputs": [],
   "source": [
    "dataset_config = {\n",
    "    \"path_to_embeddings\": \"/home/projects/hornsteinlab/Collaboration/NOVA/outputs/vit_models/finetunedModel_MLPHead_acrossBatches_B56789_80pct_frozen\",\n",
    "    \"multiplexed\": False,\n",
    "    \"config_fmt\": \"newNeuronsD8FigureConfig_UMAP1_B{batch}\",\n",
    "    \"config_dir\": \"manuscript/manuscript_figures_data_config\",\n",
    "}"
   ]
  },
  {
   "cell_type": "code",
   "execution_count": null,
   "id": "601d5041",
   "metadata": {},
   "outputs": [],
   "source": [
    "## Baseline\n",
    "run_baseline_model(\n",
    "    dataset_config= dataset_config,\n",
    "    batches=[1, 2, 3, 7, 8, 9],\n",
    "    balance=False,\n",
    "    norm=False,\n",
    "    choose_features=False,\n",
    "    top_k=100,\n",
    "    label_map=None,\n",
    "    classifier_class=cuMLLogisticRegression,\n",
    "    classifier_kwargs={},\n",
    ")"
   ]
  },
  {
   "cell_type": "code",
   "execution_count": null,
   "id": "79cafb15",
   "metadata": {
    "scrolled": true
   },
   "outputs": [],
   "source": [
    "## Baseline\n",
    "run_baseline_model(\n",
    "    dataset_config= dataset_config,\n",
    "    batches=[1, 2, 3, 7, 8, 9],\n",
    "    balance=False,\n",
    "    norm=False,\n",
    "    choose_features=False,\n",
    "    top_k=100,\n",
    "    label_map=None,\n",
    "    classifier_class=cuMLLogisticRegression,\n",
    "    classifier_kwargs={},\n",
    "    train_specific_batches = [1],\n",
    "    results_csv = 'classification_results-indi.csv'\n",
    ")"
   ]
  },
  {
   "cell_type": "code",
   "execution_count": null,
   "id": "db8eef48",
   "metadata": {},
   "outputs": [],
   "source": [
    "additional_classifiers = [\n",
    "    (GaussianNB, {}),\n",
    "    (RidgeClassifier, {}),\n",
    "    (LinearSVC, {\"C\": 1.0, \"max_iter\": 1000, \"random_state\": 42}),\n",
    "    (RandomForestClassifier, {\"n_estimators\": 300, \"random_state\": 42}),\n",
    "    (ExtraTreesClassifier, {\n",
    "        \"max_depth\": None,\n",
    "        \"min_samples_leaf\": 1,\n",
    "        \"n_estimators\": 300,\n",
    "        \"n_jobs\": -1,\n",
    "        \"random_state\": 42\n",
    "    }),\n",
    "]"
   ]
  },
  {
   "cell_type": "code",
   "execution_count": null,
   "id": "ef233ff4",
   "metadata": {
    "scrolled": true
   },
   "outputs": [],
   "source": [
    "for clf_class, clf_kwargs in additional_classifiers:\n",
    "    print(f\"\\n=== Running {clf_class.__name__} ===\")\n",
    "    run_baseline_model(\n",
    "        dataset_config=dataset_config,\n",
    "        batches=[1, 2, 3, 7, 8, 9],\n",
    "        classifier_class=clf_class,\n",
    "        classifier_kwargs=clf_kwargs,\n",
    "        train_specific_batches=[1],\n",
    "        results_csv=\"classification_results-indi.csv\"\n",
    "    )"
   ]
  },
  {
   "cell_type": "code",
   "execution_count": null,
   "id": "0820fe30",
   "metadata": {},
   "outputs": [],
   "source": [
    "run_train_test_split_baseline(\n",
    "    dataset_config,              \n",
    "    batches=[1,],    \n",
    "    classifier_class=cuMLLogisticRegression,\n",
    "    classifier_kwargs={},       \n",
    ")"
   ]
  },
  {
   "cell_type": "code",
   "execution_count": null,
   "id": "0d6fdf04",
   "metadata": {},
   "outputs": [],
   "source": [
    "run_train_test_split_baseline(\n",
    "    dataset_config,              \n",
    "    batches=[1,2,3,7,8,9],    \n",
    "    classifier_class=cuMLLogisticRegression,\n",
    "    classifier_kwargs={},       \n",
    ")"
   ]
  },
  {
   "cell_type": "markdown",
   "id": "956467ea",
   "metadata": {},
   "source": [
    "### Cytoself"
   ]
  },
  {
   "cell_type": "code",
   "execution_count": null,
   "id": "e061dae3",
   "metadata": {},
   "outputs": [],
   "source": [
    "Cytoself_dataset_config = {\n",
    "    \"path_to_embeddings\": \"/home/projects/hornsteinlab/Collaboration/NOVA/outputs/cytoself_model/\",\n",
    "    \"multiplexed\": False,\n",
    "    \"config_fmt\": \"newNeuronsD8FigureConfig_UMAP1_B{batch}\",\n",
    "    \"config_dir\": \"manuscript/manuscript_figures_data_config\",\n",
    "}"
   ]
  },
  {
   "cell_type": "code",
   "execution_count": null,
   "id": "72f0aeb5",
   "metadata": {},
   "outputs": [],
   "source": [
    "## Baseline\n",
    "run_baseline_model(\n",
    "    dataset_config= Cytoself_dataset_config,\n",
    "    batches=[1, 2, 3, 7, 8, 9],\n",
    "    balance=False,\n",
    "    norm=False,\n",
    "    choose_features=False,\n",
    "    top_k=100,\n",
    "    label_map=None,\n",
    "    classifier_class=cuMLLogisticRegression,\n",
    "    classifier_kwargs={},\n",
    ")"
   ]
  },
  {
   "cell_type": "code",
   "execution_count": null,
   "id": "3c60cc7a",
   "metadata": {},
   "outputs": [],
   "source": [
    "## Baseline\n",
    "run_baseline_model(\n",
    "    dataset_config= Cytoself_dataset_config,\n",
    "    batches=[1, 2, 3, 7, 8, 9],\n",
    "    balance=False,\n",
    "    norm=False,\n",
    "    choose_features=False,\n",
    "    top_k=100,\n",
    "    label_map=None,\n",
    "    classifier_class=cuMLLogisticRegression,\n",
    "    classifier_kwargs={},\n",
    "    train_specific_batches = [1],\n",
    "    results_csv = 'classification_results-indi.csv'\n",
    ")"
   ]
  },
  {
   "cell_type": "code",
   "execution_count": null,
   "id": "cb99a6e8",
   "metadata": {},
   "outputs": [],
   "source": [
    "## Baseline\n",
    "run_baseline_model(\n",
    "    dataset_config= Cytoself_dataset_config,\n",
    "    batches=[1, 2, 3, 7, 8, 9],\n",
    "    balance=False,\n",
    "    norm=False,\n",
    "    choose_features=False,\n",
    "    top_k=100,\n",
    "    label_map=None,\n",
    "    classifier_class=cuMLLogisticRegression,\n",
    "    classifier_kwargs={},\n",
    "    train_specific_batches = [1],\n",
    "    apply_pca = True\n",
    ")"
   ]
  },
  {
   "cell_type": "code",
   "execution_count": null,
   "id": "11604f82",
   "metadata": {
    "scrolled": true
   },
   "outputs": [],
   "source": [
    "run_train_test_split_baseline(\n",
    "    Cytoself_dataset_config,              \n",
    "    batches=[1,],    \n",
    "    classifier_class=cuMLLogisticRegression,\n",
    "    classifier_kwargs={},       \n",
    ")"
   ]
  },
  {
   "cell_type": "code",
   "execution_count": null,
   "id": "91bb4548",
   "metadata": {},
   "outputs": [],
   "source": [
    "run_train_test_split_baseline(\n",
    "    Cytoself_dataset_config,              \n",
    "    batches=[1,2,3,7,8,9],    \n",
    "    classifier_class=cuMLLogisticRegression,\n",
    "    classifier_kwargs={},       \n",
    ")"
   ]
  },
  {
   "cell_type": "code",
   "execution_count": null,
   "id": "61b1a4a9",
   "metadata": {},
   "outputs": [],
   "source": [
    "for clf_class, clf_kwargs in additional_classifiers:\n",
    "    print(f\"\\n=== Running {clf_class.__name__} ===\")\n",
    "    run_baseline_model(\n",
    "        dataset_config=Cytoself_dataset_config,\n",
    "        batches=[1, 2, 3, 7, 8, 9],\n",
    "        classifier_class=clf_class,\n",
    "        classifier_kwargs=clf_kwargs,\n",
    "        train_specific_batches=[1],\n",
    "        results_csv=\"classification_results-indi.csv\"\n",
    "    )"
   ]
  },
  {
   "cell_type": "markdown",
   "id": "fcaba5f4",
   "metadata": {},
   "source": [
    "## Pretrained Model"
   ]
  },
  {
   "cell_type": "code",
   "execution_count": null,
   "id": "82127dab",
   "metadata": {},
   "outputs": [],
   "source": [
    "pretrained_dataset_config = {\n",
    "    \"path_to_embeddings\": \"/home/projects/hornsteinlab/Collaboration/NOVA/outputs/vit_models/pretrained_model\",\n",
    "    \"multiplexed\": False,\n",
    "    \"config_fmt\": \"newNeuronsD8FigureConfig_UMAP1_B{batch}\",\n",
    "    \"config_dir\": \"manuscript/manuscript_figures_data_config\",\n",
    "}"
   ]
  },
  {
   "cell_type": "code",
   "execution_count": null,
   "id": "d26c7d24",
   "metadata": {
    "scrolled": true
   },
   "outputs": [],
   "source": [
    "## Baseline\n",
    "run_baseline_model(\n",
    "    dataset_config= pretrained_dataset_config,\n",
    "    batches=[1, 2, 3, 7, 8, 9],\n",
    "    balance=False,\n",
    "    norm=False,\n",
    "    choose_features=False,\n",
    "    top_k=100,\n",
    "    label_map=None,\n",
    "    classifier_class=cuMLLogisticRegression,\n",
    "    classifier_kwargs={},\n",
    "    train_specific_batches = [1],        \n",
    "    results_csv=\"classification_results-indi.csv\"\n",
    ")"
   ]
  },
  {
   "cell_type": "code",
   "execution_count": null,
   "id": "51b6a952",
   "metadata": {},
   "outputs": [],
   "source": [
    "for clf_class, clf_kwargs in additional_classifiers:\n",
    "    print(f\"\\n=== Running {clf_class.__name__} ===\")\n",
    "    run_baseline_model(\n",
    "        dataset_config=pretrained_dataset_config,\n",
    "        batches=[1, 2, 3, 7, 8, 9],\n",
    "        classifier_class=clf_class,\n",
    "        classifier_kwargs=clf_kwargs,\n",
    "        train_specific_batches=[1],\n",
    "        results_csv=\"classification_results-indi.csv\"\n",
    "    )"
   ]
  },
  {
   "cell_type": "code",
   "execution_count": null,
   "id": "c9562157",
   "metadata": {},
   "outputs": [],
   "source": []
  },
  {
   "cell_type": "code",
   "execution_count": null,
   "id": "570d72d1",
   "metadata": {},
   "outputs": [],
   "source": []
  },
  {
   "cell_type": "code",
   "execution_count": null,
   "id": "a2f8db21",
   "metadata": {
    "scrolled": true
   },
   "outputs": [],
   "source": [
    "Cs        = [1.0, 3.0, 10.0, 30.0]     # weaker regularization for 200 features\n",
    "balances  = [False]#[False, True]        # uses your run_baseline_model's 'balance'\n",
    "norms     = [False, True]       # uses your run_baseline_model's 'norm'\n",
    "\n",
    "best = None\n",
    "\n",
    "for dataset in [dataset_config]:#Cytoself_dataset_config, pretrained_dataset_config]:\n",
    "    print(dataset)\n",
    "    for C, bal, norm in itertools.product(Cs, balances, norms):\n",
    "        print(C,bal,norm)\n",
    "        clf_class = cuLogisticRegression\n",
    "        clf_kwargs = dict(\n",
    "            C=C,\n",
    "        )\n",
    "        try:\n",
    "            res = run_baseline_model(\n",
    "                dataset_config=dataset,\n",
    "                batches=[1, 2, 3, 7, 8, 9],\n",
    "                classifier_class=clf_class,\n",
    "                classifier_kwargs=clf_kwargs,\n",
    "                train_specific_batches=[1],\n",
    "                results_csv=f\"classifier_test_linear_params.csv\",\n",
    "                norm=norm,\n",
    "                balance=bal\n",
    "            )\n",
    "\n",
    "            # Pick your metric (prefer macro F1 if available)\n",
    "            score = res.get(\"f1_macro\", res.get(\"accuracy\"))\n",
    "            if score is not None and (best is None or score > best[0]):\n",
    "                best = (score, {\"C\": C, \"balance\": bal, \"norm\": norm})\n",
    "        except:\n",
    "            print('failed')\n",
    "\n",
    "    print(\"Best config:\", best)"
   ]
  },
  {
   "cell_type": "code",
   "execution_count": null,
   "id": "ff29a18f",
   "metadata": {},
   "outputs": [],
   "source": []
  },
  {
   "cell_type": "code",
   "execution_count": null,
   "id": "f45303be",
   "metadata": {},
   "outputs": [],
   "source": []
  },
  {
   "cell_type": "code",
   "execution_count": null,
   "id": "40a819b5",
   "metadata": {},
   "outputs": [],
   "source": []
  },
  {
   "cell_type": "markdown",
   "id": "aa93bd2c",
   "metadata": {},
   "source": [
    "## Examine Features"
   ]
  },
  {
   "cell_type": "code",
   "execution_count": null,
   "id": "65b09334",
   "metadata": {},
   "outputs": [],
   "source": [
    "X_train, y_train = load_batches([1])\n",
    "\n",
    "le = LabelEncoder()\n",
    "y_encoded = le.fit_transform(y_train)\n",
    "\n",
    "f_scores, p_values = f_classif(X_train, y_encoded)"
   ]
  },
  {
   "cell_type": "code",
   "execution_count": null,
   "id": "1fb89ea0",
   "metadata": {},
   "outputs": [],
   "source": [
    "top_n = 100\n",
    "top_idx = np.argsort(f_scores)[-top_n:]\n",
    "\n",
    "plt.figure(figsize=(10, 5))\n",
    "plt.bar(range(top_n), f_scores[top_idx])\n",
    "plt.xticks(range(top_n), top_idx, rotation=45)\n",
    "plt.ylabel(\"F-score\")\n",
    "plt.xlabel(\"Embedding dimension\")\n",
    "plt.title(\"Top correlated embedding features with labels\")\n",
    "plt.tight_layout()\n",
    "plt.show()"
   ]
  },
  {
   "cell_type": "code",
   "execution_count": null,
   "id": "8bc29947",
   "metadata": {},
   "outputs": [],
   "source": [
    "def get_top_features_for_batch(batch, top_k=200):\n",
    "    X, y = load_batches([batch])\n",
    "    le = LabelEncoder()\n",
    "    y_encoded = le.fit_transform(y)\n",
    "    f_scores, _ = f_classif(X, y_encoded)\n",
    "    top_features = np.argsort(f_scores)[-top_k:]\n",
    "    return set(top_features)\n",
    "\n",
    "batches = [1, 2, 3, 7, 8, 9,]\n",
    "top_k = 100\n",
    "\n",
    "# Get top features per batch\n",
    "batch_feature_map = {batch: get_top_features_for_batch(batch, top_k) for batch in batches}\n",
    "\n",
    "# Create overlap matrix\n",
    "overlap_matrix = pd.DataFrame(index=batches, columns=batches, dtype=int)\n",
    "for b1, b2 in combinations(batches, 2):\n",
    "    overlap = len(batch_feature_map[b1] & batch_feature_map[b2])\n",
    "    overlap_matrix.loc[b1, b2] = overlap\n",
    "    overlap_matrix.loc[b2, b1] = overlap\n",
    "for b in batches:\n",
    "    overlap_matrix.loc[b, b] = top_k\n",
    "\n",
    "# Plot\n",
    "plt.figure(figsize=(8, 6))\n",
    "sns.heatmap(overlap_matrix.astype(int), annot=True, fmt='d', cmap='Blues')\n",
    "plt.title(f'Overlap of Top {top_k} Features Across Batches')\n",
    "plt.xlabel(\"Batch\")\n",
    "plt.ylabel(\"Batch\")\n",
    "plt.tight_layout()\n",
    "plt.show()"
   ]
  },
  {
   "cell_type": "code",
   "execution_count": null,
   "id": "8185eca7",
   "metadata": {},
   "outputs": [],
   "source": [
    "feat1, feat2 = top_idx[:2]\n",
    "X_vis = X_train[:, [feat1, feat2]]\n",
    "\n",
    "# Convert encoded labels back to original strings\n",
    "labels_str = le.inverse_transform(y_encoded)\n",
    "\n",
    "# Create a scatter plot\n",
    "plt.figure(figsize=(8, 6))\n",
    "for label in np.unique(labels_str):\n",
    "    idx = labels_str == label\n",
    "    plt.scatter(X_vis[idx, 0], X_vis[idx, 1], label=label, alpha=0.7)\n",
    "\n",
    "plt.xlabel(f'Feature {feat1}')\n",
    "plt.ylabel(f'Feature {feat2}')\n",
    "plt.title('Top 2 Embeddings by Label')\n",
    "plt.legend(loc='center left', bbox_to_anchor=(1, 0.5))\n",
    "plt.tight_layout()\n",
    "plt.show()\n"
   ]
  },
  {
   "cell_type": "code",
   "execution_count": null,
   "id": "64cc4ec3",
   "metadata": {},
   "outputs": [],
   "source": [
    "from sklearn.decomposition import PCA\n",
    "import umap"
   ]
  },
  {
   "cell_type": "code",
   "execution_count": null,
   "id": "6613b893",
   "metadata": {},
   "outputs": [],
   "source": [
    "# 1. Select top 100 features from X_train\n",
    "X_top = X_train[:, top_idx[:100]]\n",
    "\n",
    "# 2. Encode labels to color\n",
    "labels_str = le.inverse_transform(y_encoded)\n",
    "\n",
    "# --- Option A: PCA ---\n",
    "use_pca = True\n",
    "if use_pca:\n",
    "    reducer = PCA(n_components=2, random_state=42)\n",
    "else:\n",
    "    # --- Option B: UMAP ---\n",
    "    reducer = umap.UMAP(n_components=2, random_state=42)\n",
    "\n",
    "# 3. Reduce dimensions\n",
    "X_embedded = reducer.fit_transform(X_top)\n",
    "\n",
    "# 4. Plot\n",
    "plt.figure(figsize=(8, 6))\n",
    "for label in np.unique(labels_str):\n",
    "    idx = labels_str == label\n",
    "    plt.scatter(X_embedded[idx, 0], X_embedded[idx, 1], label=label, alpha=0.6)\n",
    "\n",
    "plt.title(\"2D Projection of Top 100 Features using \" + (\"PCA\" if use_pca else \"UMAP\"))\n",
    "plt.xlabel(\"Component 1\")\n",
    "plt.ylabel(\"Component 2\")\n",
    "plt.legend(loc='center left', bbox_to_anchor=(1, 0.5))\n",
    "plt.tight_layout()\n",
    "plt.show()"
   ]
  },
  {
   "cell_type": "code",
   "execution_count": null,
   "id": "f6b6169b",
   "metadata": {},
   "outputs": [],
   "source": [
    "# 1. Select top 100 features from X_train\n",
    "X_top = X_train[:, top_idx[:100]]\n",
    "\n",
    "# 2. Encode labels to color\n",
    "labels_str = le.inverse_transform(y_encoded)\n",
    "\n",
    "# --- Option A: PCA ---\n",
    "use_pca = False\n",
    "if use_pca:\n",
    "    reducer = PCA(n_components=2, random_state=42)\n",
    "else:\n",
    "    # --- Option B: UMAP ---\n",
    "    reducer = umap.UMAP(n_components=2, random_state=42)\n",
    "\n",
    "# 3. Reduce dimensions\n",
    "X_embedded = reducer.fit_transform(X_top)\n",
    "\n",
    "# 4. Plot\n",
    "plt.figure(figsize=(8, 6))\n",
    "for label in np.unique(labels_str):\n",
    "    idx = labels_str == label\n",
    "    plt.scatter(X_embedded[idx, 0], X_embedded[idx, 1], label=label, alpha=0.6)\n",
    "\n",
    "plt.title(\"2D Projection of Top 100 Features using \" + (\"PCA\" if use_pca else \"UMAP\"))\n",
    "plt.xlabel(\"Component 1\")\n",
    "plt.ylabel(\"Component 2\")\n",
    "plt.legend(loc='center left', bbox_to_anchor=(1, 0.5))\n",
    "plt.tight_layout()\n",
    "plt.show()"
   ]
  },
  {
   "cell_type": "code",
   "execution_count": null,
   "id": "4790a9fa",
   "metadata": {},
   "outputs": [],
   "source": [
    "# 1. Select top 100 features from X_train\n",
    "X_top = X_train[:, top_idx[:1000]]\n",
    "\n",
    "# 2. Encode labels to color\n",
    "labels_str = le.inverse_transform(y_encoded)\n",
    "\n",
    "# --- Option A: PCA ---\n",
    "use_pca = True\n",
    "if use_pca:\n",
    "    reducer = PCA(n_components=2, random_state=42)\n",
    "else:\n",
    "    # --- Option B: UMAP ---\n",
    "    reducer = umap.UMAP(n_components=2, random_state=42)\n",
    "\n",
    "# 3. Reduce dimensions\n",
    "X_embedded = reducer.fit_transform(X_top)\n",
    "\n",
    "# 4. Plot\n",
    "plt.figure(figsize=(8, 6))\n",
    "for label in np.unique(labels_str):\n",
    "    idx = labels_str == label\n",
    "    plt.scatter(X_embedded[idx, 0], X_embedded[idx, 1], label=label, alpha=0.6)\n",
    "\n",
    "plt.title(\"2D Projection of Top 100 Features using \" + (\"PCA\" if use_pca else \"UMAP\"))\n",
    "plt.xlabel(\"Component 1\")\n",
    "plt.ylabel(\"Component 2\")\n",
    "plt.legend(loc='center left', bbox_to_anchor=(1, 0.5))\n",
    "plt.tight_layout()\n",
    "plt.show()"
   ]
  },
  {
   "cell_type": "code",
   "execution_count": null,
   "id": "0da477d3",
   "metadata": {},
   "outputs": [],
   "source": [
    "# 1. Select top 100 features from X_train\n",
    "X_top = X_train[:, top_idx[:1000]]\n",
    "\n",
    "# 2. Encode labels to color\n",
    "labels_str = le.inverse_transform(y_encoded)\n",
    "\n",
    "# --- Option A: PCA ---\n",
    "use_pca = False\n",
    "if use_pca:\n",
    "    reducer = PCA(n_components=2, random_state=42)\n",
    "else:\n",
    "    # --- Option B: UMAP ---\n",
    "    reducer = umap.UMAP(n_components=2, random_state=42)\n",
    "\n",
    "# 3. Reduce dimensions\n",
    "X_embedded = reducer.fit_transform(X_top)\n",
    "\n",
    "# 4. Plot\n",
    "plt.figure(figsize=(8, 6))\n",
    "for label in np.unique(labels_str):\n",
    "    idx = labels_str == label\n",
    "    plt.scatter(X_embedded[idx, 0], X_embedded[idx, 1], label=label, alpha=0.6)\n",
    "\n",
    "plt.title(\"2D Projection of Top 100 Features using \" + (\"PCA\" if use_pca else \"UMAP\"))\n",
    "plt.xlabel(\"Component 1\")\n",
    "plt.ylabel(\"Component 2\")\n",
    "plt.legend(loc='center left', bbox_to_anchor=(1, 0.5))\n",
    "plt.tight_layout()\n",
    "plt.show()"
   ]
  },
  {
   "cell_type": "code",
   "execution_count": null,
   "id": "2528e127",
   "metadata": {},
   "outputs": [],
   "source": [
    "# 1. Select top 100 features from X_train\n",
    "X_top = X_train\n",
    "\n",
    "# 2. Encode labels to color\n",
    "labels_str = le.inverse_transform(y_encoded)\n",
    "\n",
    "# --- Option A: PCA ---\n",
    "use_pca = False\n",
    "if use_pca:\n",
    "    reducer = PCA(n_components=2, random_state=42)\n",
    "else:\n",
    "    # --- Option B: UMAP ---\n",
    "    reducer = umap.UMAP(n_components=2, random_state=42)\n",
    "\n",
    "# 3. Reduce dimensions\n",
    "X_embedded = reducer.fit_transform(X_top)\n",
    "\n",
    "# 4. Plot\n",
    "plt.figure(figsize=(8, 6))\n",
    "for label in np.unique(labels_str):\n",
    "    idx = labels_str == label\n",
    "    plt.scatter(X_embedded[idx, 0], X_embedded[idx, 1], label=label, alpha=0.6)\n",
    "\n",
    "plt.title(\"2D Projection of Top 100 Features using \" + (\"PCA\" if use_pca else \"UMAP\"))\n",
    "plt.xlabel(\"Component 1\")\n",
    "plt.ylabel(\"Component 2\")\n",
    "plt.legend(loc='center left', bbox_to_anchor=(1, 0.5))\n",
    "plt.tight_layout()\n",
    "plt.show()"
   ]
  },
  {
   "cell_type": "code",
   "execution_count": null,
   "id": "fef47610",
   "metadata": {},
   "outputs": [],
   "source": [
    "# 1. Select top 100 features from X_train\n",
    "X_top = X_train[:, top_idx[:10]]\n",
    "\n",
    "# 2. Encode labels to color\n",
    "labels_str = le.inverse_transform(y_encoded)\n",
    "\n",
    "# --- Option A: PCA ---\n",
    "use_pca = False\n",
    "if use_pca:\n",
    "    reducer = PCA(n_components=2, random_state=42)\n",
    "else:\n",
    "    # --- Option B: UMAP ---\n",
    "    reducer = umap.UMAP(n_components=2, random_state=42)\n",
    "\n",
    "# 3. Reduce dimensions\n",
    "X_embedded = reducer.fit_transform(X_top)\n",
    "\n",
    "# 4. Plot\n",
    "plt.figure(figsize=(8, 6))\n",
    "for label in np.unique(labels_str):\n",
    "    idx = labels_str == label\n",
    "    plt.scatter(X_embedded[idx, 0], X_embedded[idx, 1], label=label, alpha=0.6)\n",
    "\n",
    "plt.title(\"2D Projection of Top 100 Features using \" + (\"PCA\" if use_pca else \"UMAP\"))\n",
    "plt.xlabel(\"Component 1\")\n",
    "plt.ylabel(\"Component 2\")\n",
    "plt.legend(loc='center left', bbox_to_anchor=(1, 0.5))\n",
    "plt.tight_layout()\n",
    "plt.show()"
   ]
  },
  {
   "cell_type": "code",
   "execution_count": null,
   "id": "579f7306",
   "metadata": {},
   "outputs": [],
   "source": []
  }
 ],
 "metadata": {
  "kernelspec": {
   "display_name": "nova",
   "language": "python",
   "name": "nova"
  },
  "language_info": {
   "codemirror_mode": {
    "name": "ipython",
    "version": 3
   },
   "file_extension": ".py",
   "mimetype": "text/x-python",
   "name": "python",
   "nbconvert_exporter": "python",
   "pygments_lexer": "ipython3",
   "version": "3.9.19"
  }
 },
 "nbformat": 4,
 "nbformat_minor": 5
}
