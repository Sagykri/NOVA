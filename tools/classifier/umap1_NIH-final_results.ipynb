{
 "cells": [
  {
   "cell_type": "code",
   "execution_count": null,
   "id": "ed1c61c9",
   "metadata": {},
   "outputs": [],
   "source": [
    "import sys\n",
    "import os\n",
    "\n",
    "from sklearn.svm import LinearSVC\n",
    "\n",
    "print('NOVA_HOME is at', os.getenv('NOVA_HOME'))\n",
    "sys.path.insert(1, os.getenv('NOVA_HOME'))\n",
    "%load_ext autoreload\n",
    "%autoreload 2\n",
    "\n",
    "from utils import *\n",
    "from manuscript.plot_config import PlotConfig"
   ]
  },
  {
   "cell_type": "code",
   "execution_count": null,
   "id": "7c0e4fca",
   "metadata": {},
   "outputs": [],
   "source": [
    "cfg = PlotConfig()\n",
    "color_mappings = cfg.COLOR_MAPPINGS_MARKERS  \n",
    "# build label_map \n",
    "label_map = {k: v[\"alias\"] for k, v in color_mappings.items()}"
   ]
  },
  {
   "cell_type": "code",
   "execution_count": null,
   "id": "f1c84fa2",
   "metadata": {},
   "outputs": [],
   "source": [
    "common = dict(\n",
    "            batches=[1,2,3],\n",
    "            classifier_class=LinearSVC,\n",
    "            classifier_kwargs={\"C\": 1.0, \"max_iter\": 1000, \"random_state\": 42},\n",
    "            train_each_as_singleton=True, ## Train on one batch, test on rest\n",
    "            label_map=label_map,\n",
    "            cm_plot_dpi = 300, ## Set 3000 for high-res (for paper), 300 for normal (for quick checks)\n",
    "            plot_per_fold_cm=False\n",
    "        )"
   ]
  },
  {
   "cell_type": "markdown",
   "id": "7a8bb0a9",
   "metadata": {},
   "source": [
    "## NOVA"
   ]
  },
  {
   "cell_type": "code",
   "execution_count": null,
   "id": "f05a893f",
   "metadata": {},
   "outputs": [],
   "source": [
    "dataset_config = {\n",
    "    \"path_to_embeddings\": \"/home/projects/hornsteinlab/Collaboration/NOVA/outputs/vit_models/finetunedModel_MLPHead_acrossBatches_B56789_80pct_frozen\",\n",
    "    \"multiplexed\": False,\n",
    "    \"config_fmt\": \"NIH_UMAP1_DatasetConfig_B{batch}\",\n",
    "    \"config_dir\": \"manuscript/manuscript_figures_data_config\",\n",
    "}"
   ]
  },
  {
   "cell_type": "code",
   "execution_count": null,
   "id": "8735222e",
   "metadata": {
    "scrolled": false
   },
   "outputs": [],
   "source": [
    "run_baseline_model(\n",
    "    dataset_config= dataset_config,\n",
    "    **common,\n",
    "    )"
   ]
  },
  {
   "cell_type": "markdown",
   "id": "a13fb606",
   "metadata": {},
   "source": [
    "## Cytoself"
   ]
  },
  {
   "cell_type": "code",
   "execution_count": null,
   "id": "e3f03b24",
   "metadata": {},
   "outputs": [],
   "source": [
    "Cytoself_dataset_config = {\n",
    "    \"path_to_embeddings\": \"/home/projects/hornsteinlab/Collaboration/NOVA/outputs/cytoself_model/\",\n",
    "    \"multiplexed\": False,\n",
    "    \"config_fmt\": \"NIH_UMAP1_DatasetConfig_B{batch}\",\n",
    "    \"config_dir\": \"manuscript/manuscript_figures_data_config\",\n",
    "}"
   ]
  },
  {
   "cell_type": "code",
   "execution_count": null,
   "id": "09b04d41",
   "metadata": {
    "scrolled": true
   },
   "outputs": [],
   "source": [
    "run_baseline_model(\n",
    "    dataset_config= Cytoself_dataset_config,\n",
    "    **common,\n",
    ")"
   ]
  },
  {
   "cell_type": "markdown",
   "id": "4246c437",
   "metadata": {},
   "source": [
    "## Pretrained Model"
   ]
  },
  {
   "cell_type": "code",
   "execution_count": null,
   "id": "e1f70470",
   "metadata": {},
   "outputs": [],
   "source": [
    "pretrained_dataset_config = {\n",
    "    \"path_to_embeddings\": \"/home/projects/hornsteinlab/Collaboration/NOVA/outputs/vit_models/pretrained_model\",\n",
    "    \"multiplexed\": False,\n",
    "    \"config_fmt\": \"NIH_UMAP1_DatasetConfig_B{batch}\",\n",
    "    \"config_dir\": \"manuscript/manuscript_figures_data_config\",\n",
    "}"
   ]
  },
  {
   "cell_type": "code",
   "execution_count": null,
   "id": "44ed998a",
   "metadata": {},
   "outputs": [],
   "source": [
    "run_baseline_model(\n",
    "    dataset_config= pretrained_dataset_config,\n",
    "        **common,\n",
    ")"
   ]
  },
  {
   "cell_type": "markdown",
   "id": "cd46e91b",
   "metadata": {},
   "source": [
    "## Cell Profiler"
   ]
  },
  {
   "cell_type": "code",
   "execution_count": null,
   "id": "21c50ef4",
   "metadata": {},
   "outputs": [],
   "source": [
    "CP_dataset_config = {\n",
    "    \"path_to_embeddings\": \"/home/projects/hornsteinlab/Collaboration/NOVA/cell_profiler/outputs/combined/unbiased_analysis_NIH\",\n",
    "    \"multiplexed\": False,\n",
    "    \"embeddings_csv\": {\n",
    "        \"csv_fmt\": \"batch{batch}/all_markers_concatenated-by-object-type_batch{batch}.csv\",\n",
    "        \"label_col\": \"marker\",\n",
    "        \"not_features\": [\"marker\", \"panel\", \"cell_line\", \"replicate\"]\n",
    "    }\n",
    "}"
   ]
  },
  {
   "cell_type": "code",
   "execution_count": null,
   "id": "5cbe76d2",
   "metadata": {},
   "outputs": [],
   "source": [
    "run_baseline_model(\n",
    "    dataset_config= CP_dataset_config,\n",
    "        **common\n",
    ")"
   ]
  },
  {
   "cell_type": "code",
   "execution_count": null,
   "id": "2a86b309",
   "metadata": {},
   "outputs": [],
   "source": []
  }
 ],
 "metadata": {
  "kernelspec": {
   "display_name": "Python 3",
   "language": "python",
   "name": "python3"
  },
  "language_info": {
   "codemirror_mode": {
    "name": "ipython",
    "version": 3
   },
   "file_extension": ".py",
   "mimetype": "text/x-python",
   "name": "python",
   "nbconvert_exporter": "python",
   "pygments_lexer": "ipython3",
   "version": "3.9.19"
  }
 },
 "nbformat": 4,
 "nbformat_minor": 5
}
