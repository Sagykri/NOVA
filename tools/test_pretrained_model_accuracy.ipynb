{
 "cells": [
  {
   "cell_type": "code",
   "execution_count": 4,
   "metadata": {},
   "outputs": [],
   "source": [
    "import numpy as np\n",
    "import sys\n",
    "import os\n",
    "from sklearn.metrics import accuracy_score\n",
    "import torch\n",
    "\n",
    "sys.path.insert(1, os.getenv(\"NOVA_HOME\"))\n",
    "print(f\"NOVA_HOME: {os.getenv('NOVA_HOME')}\")\n",
    "\n",
    "from src.common.utils import load_config_file\n",
    "from src.datasets.dataset_config import DatasetConfig\n",
    "from src.datasets.dataset_NOVA import DatasetNOVA\n",
    "from src.models.architectures.NOVA_model import NOVAModel\n",
    "from src.datasets.data_loader import get_dataloader\n"
   ]
  },
  {
   "cell_type": "code",
   "execution_count": 5,
   "metadata": {},
   "outputs": [],
   "source": [
    "batch_size = 300\n",
    "num_workers = 6"
   ]
  },
  {
   "cell_type": "code",
   "execution_count": 6,
   "metadata": {},
   "outputs": [],
   "source": [
    "dataset_config_path = \"./manuscript/dataset_config/OpenCellDatasetConfig\"\n",
    "dataset_config:DatasetConfig = load_config_file(dataset_config_path, 'dataset_config')\n",
    "\n",
    "dataset = DatasetNOVA(dataset_config)"
   ]
  },
  {
   "cell_type": "code",
   "execution_count": 7,
   "metadata": {},
   "outputs": [
    {
     "data": {
      "text/plain": [
       "<src.models.architectures.NOVA_model.NOVAModel at 0x14e7aa5860d0>"
      ]
     },
     "execution_count": 7,
     "metadata": {},
     "output_type": "execute_result"
    }
   ],
   "source": [
    "chkp_path = f\"{os.getenv('NOVA_HOME')}/outputs/vit_models/pretrained_model/checkpoints/checkpoint_best.pth\"\n",
    "nova_model = NOVAModel.load_from_checkpoint(chkp_path)\n",
    "nova_model"
   ]
  },
  {
   "cell_type": "code",
   "execution_count": 8,
   "metadata": {},
   "outputs": [
    {
     "name": "stderr",
     "output_type": "stream",
     "text": [
      "/home/labs/hornsteinlab/sagyk/anaconda3/envs/nova/lib/python3.9/site-packages/torch/utils/data/dataloader.py:558: UserWarning: This DataLoader will create 6 worker processes in total. Our suggested max number of worker in current system is 1, which is smaller than what this DataLoader is going to create. Please be aware that excessive worker creation might get DataLoader running slow or even freeze, lower the worker number to avoid potential slowness/freeze if necessary.\n",
      "  warnings.warn(_create_warning_msg(\n"
     ]
    }
   ],
   "source": [
    "train_indexes, val_indexes, test_indexes = dataset.split()\n",
    "dataloader_test = get_dataloader(dataset, batch_size, indexes=test_indexes, num_workers=num_workers, shuffle=False, drop_last=False)"
   ]
  },
  {
   "cell_type": "code",
   "execution_count": 9,
   "metadata": {},
   "outputs": [
    {
     "name": "stderr",
     "output_type": "stream",
     "text": [
      "/home/labs/hornsteinlab/sagyk/anaconda3/envs/nova/lib/python3.9/site-packages/torch/nn/modules/conv.py:456: UserWarning: Applied workaround for CuDNN issue, install nvrtc.so (Triggered internally at /opt/conda/conda-bld/pytorch_1711403392949/work/aten/src/ATen/native/cudnn/Conv_v8.cpp:80.)\n",
      "  return F.conv2d(input, weight, bias, self.stride,\n"
     ]
    },
    {
     "name": "stdout",
     "output_type": "stream",
     "text": [
      "torch.Size([170235, 1311])\n",
      "Accuracy: 0.5942784973712809\n"
     ]
    }
   ],
   "source": [
    "outputs, y_true = nova_model.infer(dataloader_test)\n",
    "outputs = torch.from_numpy(outputs)\n",
    "print(outputs.shape)\n",
    "\n",
    "probs = torch.nn.functional.softmax(outputs, dim=1)\n",
    "y_pred = dataset.id2label(torch.argmax(probs, dim=1))\n",
    "\n",
    "accuracy = accuracy_score(y_true, y_pred)\n",
    "print(f\"Accuracy: {accuracy}\")"
   ]
  }
 ],
 "metadata": {
  "kernelspec": {
   "display_name": "nova",
   "language": "python",
   "name": "python3"
  },
  "language_info": {
   "codemirror_mode": {
    "name": "ipython",
    "version": 3
   },
   "file_extension": ".py",
   "mimetype": "text/x-python",
   "name": "python",
   "nbconvert_exporter": "python",
   "pygments_lexer": "ipython3",
   "version": "3.9.19"
  }
 },
 "nbformat": 4,
 "nbformat_minor": 4
}
