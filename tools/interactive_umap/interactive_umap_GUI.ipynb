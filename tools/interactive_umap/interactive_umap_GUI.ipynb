{
 "cells": [
  {
   "cell_type": "code",
   "execution_count": null,
   "id": "68fb2e5a",
   "metadata": {},
   "outputs": [],
   "source": [
    "from IPython.display import HTML, display\n",
    "import os\n",
    "import sys\n",
    "\n",
    "display(HTML(\"\"\"\n",
    "<style>\n",
    ".output_wrapper, .output {\n",
    "    overflow: visible !important;\n",
    "    height: auto !important;\n",
    "    max-height: none !important;\n",
    "}\n",
    "</style>\n",
    "\"\"\"))"
   ]
  },
  {
   "cell_type": "code",
   "execution_count": null,
   "id": "0ead71d0",
   "metadata": {},
   "outputs": [],
   "source": [
    "NOVA_HOME = '/home/labs/hornsteinlab/Collaboration/NOVA_GAL/NOVA'"
   ]
  },
  {
   "cell_type": "code",
   "execution_count": null,
   "id": "923aa63c",
   "metadata": {},
   "outputs": [],
   "source": [
    "os.environ['NOVA_HOME'] = NOVA_HOME\n",
    "sys.path.insert(1, os.getenv('NOVA_HOME'))\n",
    "%load_ext autoreload\n",
    "%autoreload 2\n",
    "%matplotlib notebook\n",
    "from InteractiveUMAP import InteractiveUMAPPipeline\n",
    "from interactive_umap_config import funova_fov_layouts as fov_layouts\n",
    "from interactive_umap_config import default_paths_funova as default_paths"
   ]
  },
  {
   "cell_type": "code",
   "execution_count": null,
   "id": "1dc79b25",
   "metadata": {},
   "outputs": [],
   "source": []
  },
  {
   "cell_type": "code",
   "execution_count": null,
   "id": "6e5352b5",
   "metadata": {
    "scrolled": false
   },
   "outputs": [],
   "source": [
    "iu = InteractiveUMAPPipeline(fov_layouts, default_paths)\n",
    "iu.show()"
   ]
  },
  {
   "cell_type": "code",
   "execution_count": null,
   "id": "d41879db",
   "metadata": {},
   "outputs": [],
   "source": [
    "iu_prev = InteractiveUMAPPipeline(fov_layouts, default_paths)\n",
    "iu_prev.show()"
   ]
  }
 ],
 "metadata": {
  "kernelspec": {
   "display_name": "nova",
   "language": "python",
   "name": "nova"
  },
  "language_info": {
   "codemirror_mode": {
    "name": "ipython",
    "version": 3
   },
   "file_extension": ".py",
   "mimetype": "text/x-python",
   "name": "python",
   "nbconvert_exporter": "python",
   "pygments_lexer": "ipython3",
   "version": "3.9.19"
  }
 },
 "nbformat": 4,
 "nbformat_minor": 5
}
