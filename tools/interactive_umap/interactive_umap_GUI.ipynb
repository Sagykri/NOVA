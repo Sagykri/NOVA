{
 "cells": [
  {
   "cell_type": "code",
   "execution_count": null,
   "id": "68fb2e5a",
   "metadata": {},
   "outputs": [],
   "source": [
    "from IPython.display import HTML, display, Markdown\n",
    "import os\n",
    "import sys\n",
    "\n",
    "display(HTML(\"\"\"\n",
    "<style>\n",
    ".output_wrapper, .output {\n",
    "    overflow: visible !important;\n",
    "    height: auto !important;\n",
    "    max-height: none !important;\n",
    "}\n",
    "</style>\n",
    "\"\"\"))\n",
    "IS_PRODUCTION = True  # Set to False in development\n",
    "import warnings\n",
    "if IS_PRODUCTION:\n",
    "    warnings.filterwarnings(\"ignore\")\n",
    "    \n",
    "print('NOVA_HOME is at', os.getenv('NOVA_HOME'))\n",
    "sys.path.insert(1, os.getenv('NOVA_HOME'))\n",
    "%load_ext autoreload\n",
    "%autoreload 2\n",
    "%matplotlib notebook\n",
    "from interactive_umap import InteractiveUMAPPipeline\n",
    "from interactive_umap_config import configs\n",
    "display(Markdown(\"### Available Data Configs:\\n\" + \"\\n\".join(f\"- `{k}`\" for k in sorted(configs.keys()))))"
   ]
  },
  {
   "cell_type": "markdown",
   "id": "f94a7547",
   "metadata": {},
   "source": [
    "# Interactive UMAP\n",
    "\n",
    "### Choose Arguments:\n",
    "\n",
    "#### • `config`\n",
    " - Select one from the available data configs listed above  \n",
    "  using: `config = configs[\"config_name\"]`  \n",
    "  (e.g., `configs[\"config_d8\"]`)\n",
    "  - *Default:* `config={}` (manual selection of image paths)\n",
    "\n",
    "#### • `hover`\n",
    "- Show image name and Brenner score on hover  \n",
    "- *Default:* `hover=False` (setting `True` may slow performance)  \n",
    "- Recommended: **dilute the data** when `hover=True`"
   ]
  },
  {
   "cell_type": "code",
   "execution_count": 2,
   "id": "8830c974",
   "metadata": {
    "scrolled": false
   },
   "outputs": [
    {
     "name": "stdout",
     "output_type": "stream",
     "text": [
      "Memory Usage is: 0.64 GB, LSF Memory Limit: 50.00 GB\n"
     ]
    },
    {
     "data": {
      "application/vnd.jupyter.widget-view+json": {
       "model_id": "1ec993c1d8c6444692fb6301371c769d",
       "version_major": 2,
       "version_minor": 0
      },
      "text/plain": [
       "VBox(children=(HBox(children=(HTML(value='\\n            <label style=\"display:inline-block; width:200px;\" titl…"
      ]
     },
     "metadata": {},
     "output_type": "display_data"
    },
    {
     "name": "stdout",
     "output_type": "stream",
     "text": [
      "Memory Usage is: 0.97 GB, LSF Memory Limit: 50.00 GB\n",
      "Memory Usage is: 0.97 GB, LSF Memory Limit: 50.00 GB\n",
      "Memory Usage is: 0.98 GB, LSF Memory Limit: 50.00 GB\n",
      "Memory Usage is: 1.06 GB, LSF Memory Limit: 50.00 GB\n",
      "Memory Usage is: 1.15 GB, LSF Memory Limit: 50.00 GB\n",
      "Memory Usage is: 1.23 GB, LSF Memory Limit: 50.00 GB\n",
      "Memory Usage is: 1.32 GB, LSF Memory Limit: 50.00 GB\n",
      "Memory Usage is: 1.40 GB, LSF Memory Limit: 50.00 GB\n",
      "Memory Usage is: 1.47 GB, LSF Memory Limit: 50.00 GB\n",
      "Memory Usage is: 1.47 GB, LSF Memory Limit: 50.00 GB\n",
      "Memory Usage is: 1.47 GB, LSF Memory Limit: 50.00 GB\n",
      "Memory Usage is: 1.47 GB, LSF Memory Limit: 50.00 GB\n"
     ]
    }
   ],
   "source": [
    "config = configs[\"config_d8_new\"]\n",
    "hover = False\n",
    "\n",
    "iu = InteractiveUMAPPipeline(config, hover=hover)\n",
    "iu.show()"
   ]
  },
  {
   "cell_type": "code",
   "execution_count": 27,
   "id": "362c4940",
   "metadata": {},
   "outputs": [
    {
     "ename": "TypeError",
     "evalue": "'NoneType' object is not subscriptable",
     "output_type": "error",
     "traceback": [
      "\u001b[0;31m---------------------------------------------------------------------------\u001b[0m",
      "\u001b[0;31mTypeError\u001b[0m                                 Traceback (most recent call last)",
      "Cell \u001b[0;32mIn[27], line 1\u001b[0m\n\u001b[0;32m----> 1\u001b[0m iu\u001b[38;5;241m.\u001b[39mdf_umap_tiles[\u001b[43miu\u001b[49m\u001b[38;5;241;43m.\u001b[39;49m\u001b[43mdf_umap_tiles\u001b[49m\u001b[43m[\u001b[49m\u001b[38;5;124;43m'\u001b[39;49m\u001b[38;5;124;43mImage_Name\u001b[39;49m\u001b[38;5;124;43m'\u001b[39;49m\u001b[43m]\u001b[49m\u001b[38;5;241m==\u001b[39m\u001b[38;5;124m'\u001b[39m\u001b[38;5;124mr07c23f28-ch3t1\u001b[39m\u001b[38;5;124m'\u001b[39m]\n",
      "\u001b[0;31mTypeError\u001b[0m: 'NoneType' object is not subscriptable"
     ]
    }
   ],
   "source": [
    "iu.df_umap_tiles[iu.df_umap_tiles['Image_Name']=='r07c23f28-ch3t1']"
   ]
  },
  {
   "cell_type": "code",
   "execution_count": null,
   "id": "c8179aff",
   "metadata": {},
   "outputs": [],
   "source": []
  }
 ],
 "metadata": {
  "kernelspec": {
   "display_name": "nova new",
   "language": "python",
   "name": "nova_new"
  },
  "language_info": {
   "codemirror_mode": {
    "name": "ipython",
    "version": 3
   },
   "file_extension": ".py",
   "mimetype": "text/x-python",
   "name": "python",
   "nbconvert_exporter": "python",
   "pygments_lexer": "ipython3",
   "version": "3.9.19"
  }
 },
 "nbformat": 4,
 "nbformat_minor": 5
}
