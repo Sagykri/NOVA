{
 "cells": [
  {
   "cell_type": "code",
   "execution_count": 1,
   "id": "68fb2e5a",
   "metadata": {},
   "outputs": [
    {
     "data": {
      "text/html": [
       "\n",
       "<style>\n",
       ".output_wrapper, .output {\n",
       "    overflow: visible !important;\n",
       "    height: auto !important;\n",
       "    max-height: none !important;\n",
       "}\n",
       "</style>\n"
      ],
      "text/plain": [
       "<IPython.core.display.HTML object>"
      ]
     },
     "metadata": {},
     "output_type": "display_data"
    }
   ],
   "source": [
    "from IPython.display import HTML, display\n",
    "import os\n",
    "import sys\n",
    "\n",
    "display(HTML(\"\"\"\n",
    "<style>\n",
    ".output_wrapper, .output {\n",
    "    overflow: visible !important;\n",
    "    height: auto !important;\n",
    "    max-height: none !important;\n",
    "}\n",
    "</style>\n",
    "\"\"\"))\n",
    "IS_PRODUCTION = False  # Set to False in development\n",
    "import warnings\n",
    "if IS_PRODUCTION:\n",
    "    warnings.filterwarnings(\"ignore\")"
   ]
  },
  {
   "cell_type": "code",
   "execution_count": 2,
   "id": "0ead71d0",
   "metadata": {},
   "outputs": [],
   "source": [
    "NOVA_HOME = '/home/projects/hornsteinlab/Collaboration/NOVA_GAL/NOVA'"
   ]
  },
  {
   "cell_type": "code",
   "execution_count": 3,
   "id": "923aa63c",
   "metadata": {},
   "outputs": [],
   "source": [
    "os.environ['NOVA_HOME'] = NOVA_HOME\n",
    "sys.path.insert(1, os.getenv('NOVA_HOME'))\n",
    "%load_ext autoreload\n",
    "%autoreload 2\n",
    "%matplotlib notebook\n",
    "from InteractiveUMAP import InteractiveUMAPPipeline\n",
    "from interactive_umap_config import funova_fov_layouts as fov_layouts\n",
    "from interactive_umap_config import default_paths_funova as default_paths\n",
    "from interactive_umap_config import default_paths_b9 as default_paths_b9"
   ]
  },
  {
   "cell_type": "code",
   "execution_count": 72,
   "id": "6e5352b5",
   "metadata": {
    "scrolled": false
   },
   "outputs": [
    {
     "data": {
      "application/vnd.jupyter.widget-view+json": {
       "model_id": "d59150726a2d4997b030f1bcda537acf",
       "version_major": 2,
       "version_minor": 0
      },
      "text/plain": [
       "VBox(children=(Text(value='/home/projects/hornsteinlab/Collaboration/MOmaps/outputs/vit_models/finetuned_model…"
      ]
     },
     "metadata": {},
     "output_type": "display_data"
    }
   ],
   "source": [
    "iu = InteractiveUMAPPipeline(default_paths_b9)#, fov_layouts)#, hover = True)\n",
    "iu.show()"
   ]
  }
 ],
 "metadata": {
  "kernelspec": {
   "display_name": "nova",
   "language": "python",
   "name": "nova"
  },
  "language_info": {
   "codemirror_mode": {
    "name": "ipython",
    "version": 3
   },
   "file_extension": ".py",
   "mimetype": "text/x-python",
   "name": "python",
   "nbconvert_exporter": "python",
   "pygments_lexer": "ipython3",
   "version": "3.9.19"
  }
 },
 "nbformat": 4,
 "nbformat_minor": 5
}
