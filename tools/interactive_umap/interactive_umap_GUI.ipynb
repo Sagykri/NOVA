{
 "cells": [
  {
   "cell_type": "code",
   "execution_count": null,
   "id": "68fb2e5a",
   "metadata": {},
   "outputs": [],
   "source": [
    "from IPython.display import HTML, display\n",
    "import os\n",
    "import sys\n",
    "\n",
    "display(HTML(\"\"\"\n",
    "<style>\n",
    ".output_wrapper, .output {\n",
    "    overflow: visible !important;\n",
    "    height: auto !important;\n",
    "    max-height: none !important;\n",
    "}\n",
    "</style>\n",
    "\"\"\"))\n",
    "IS_PRODUCTION = True  # Set to False in development\n",
    "import warnings\n",
    "if IS_PRODUCTION:\n",
    "    warnings.filterwarnings(\"ignore\")\n",
    "    \n",
    "print('NOVA_HOME is at', os.getenv('NOVA_HOME'))\n",
    "sys.path.insert(1, os.getenv('NOVA_HOME'))\n",
    "%load_ext autoreload\n",
    "%autoreload 2\n",
    "%matplotlib notebook\n",
    "from InteractiveUMAP import launch_interactive_umap\n",
    "from interactive_umap_config import config_funova, config_d8, config_deltaNLS, config_alyssa"
   ]
  },
  {
   "cell_type": "markdown",
   "id": "1ce23643",
   "metadata": {},
   "source": [
    "# Interactive UMAP\n",
    "\n",
    "Choose args:\n",
    "\n",
    "### config options: \n",
    "Choose one from (all defined in interactive_umap_config): \n",
    "config_funova, config_d8, config_deltaNLS, config_alyssa\n",
    "\n",
    "### hover:\n",
    "hover image name and Brenner scores, default is False (True may slow performance).\n",
    "\n",
    "It is recommended to dilute the data when hover= True"
   ]
  },
  {
   "cell_type": "code",
   "execution_count": null,
   "id": "8830c974",
   "metadata": {},
   "outputs": [],
   "source": [
    "config = config_d8\n",
    "hover = False\n",
    "\n",
    "launch_interactive_umap(config, hover=hover)"
   ]
  }
 ],
 "metadata": {
  "kernelspec": {
   "display_name": "nova",
   "language": "python",
   "name": "nova"
  },
  "language_info": {
   "codemirror_mode": {
    "name": "ipython",
    "version": 3
   },
   "file_extension": ".py",
   "mimetype": "text/x-python",
   "name": "python",
   "nbconvert_exporter": "python",
   "pygments_lexer": "ipython3",
   "version": "3.9.19"
  }
 },
 "nbformat": 4,
 "nbformat_minor": 5
}
