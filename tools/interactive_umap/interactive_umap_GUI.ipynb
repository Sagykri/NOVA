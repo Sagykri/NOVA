{
 "cells": [
  {
   "cell_type": "code",
   "execution_count": null,
   "id": "68fb2e5a",
   "metadata": {},
   "outputs": [],
   "source": [
    "from IPython.display import HTML, display, Markdown\n",
    "import os\n",
    "import sys\n",
    "\n",
    "display(HTML(\"\"\"\n",
    "<style>\n",
    ".output_wrapper, .output {\n",
    "    overflow: visible !important;\n",
    "    height: auto !important;\n",
    "    max-height: none !important;\n",
    "}\n",
    "</style>\n",
    "\"\"\"))\n",
    "IS_PRODUCTION = True  # Set to False in development\n",
    "import warnings\n",
    "if IS_PRODUCTION:\n",
    "    warnings.filterwarnings(\"ignore\")\n",
    "    \n",
    "print('NOVA_HOME is at', os.getenv('NOVA_HOME'))\n",
    "sys.path.insert(1, os.getenv('NOVA_HOME'))\n",
    "%load_ext autoreload\n",
    "%autoreload 2\n",
    "%matplotlib notebook\n",
    "from interactive_umap import InteractiveUMAPPipeline\n",
    "from interactive_umap_config import configs\n",
    "display(Markdown(\"### Available Data Configs:\\n\" + \"\\n\".join(f\"- `{k}`\" for k in sorted(configs.keys()))))"
   ]
  },
  {
   "cell_type": "markdown",
   "id": "f94a7547",
   "metadata": {},
   "source": [
    "# Interactive UMAP\n",
    "\n",
    "### Choose Arguments:\n",
    "\n",
    "#### • `config`\n",
    " - Select one from the available data configs listed above  \n",
    "  using: `config = configs[\"config_name\"]`  \n",
    "  (e.g., `configs[\"config_d8\"]`)\n",
    "  - *Default:* `config={}` (manual selection of image paths)\n",
    "\n",
    "#### • `hover`\n",
    "- Show image name and Brenner score on hover  \n",
    "- *Default:* `hover=False` (setting `True` may slow performance)  \n",
    "- Recommended: **dilute the data** when `hover=True`"
   ]
  },
  {
   "cell_type": "code",
   "execution_count": null,
   "id": "8830c974",
   "metadata": {},
   "outputs": [],
   "source": [
    "config = configs[\"config_d8_new\"]\n",
    "hover = False\n",
    "\n",
    "iu = InteractiveUMAPPipeline(config, hover=hover)\n",
    "iu.show()"
   ]
  },
  {
   "cell_type": "code",
   "execution_count": null,
   "id": "c8179aff",
   "metadata": {},
   "outputs": [],
   "source": []
  }
 ],
 "metadata": {
  "kernelspec": {
   "display_name": "nova",
   "language": "python",
   "name": "nova"
  },
  "language_info": {
   "codemirror_mode": {
    "name": "ipython",
    "version": 3
   },
   "file_extension": ".py",
   "mimetype": "text/x-python",
   "name": "python",
   "nbconvert_exporter": "python",
   "pygments_lexer": "ipython3",
   "version": "3.9.19"
  }
 },
 "nbformat": 4,
 "nbformat_minor": 5
}
