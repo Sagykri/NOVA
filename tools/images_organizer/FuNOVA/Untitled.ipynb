{
 "cells": [
  {
   "cell_type": "code",
   "execution_count": 1,
   "id": "e25d1ba6",
   "metadata": {},
   "outputs": [],
   "source": [
    "import numpy as np"
   ]
  },
  {
   "cell_type": "code",
   "execution_count": 2,
   "id": "f34c4b0d",
   "metadata": {},
   "outputs": [],
   "source": [
    "path1='/home/labs/hornsteinlab/Collaboration/FUNOVA/input/images/processed/Batch4/Control-1025045/Untreated/Aberrant-splicing/rep2_r03c10f100-ch3t1_panelE_Control-1025045_processed.npy'"
   ]
  },
  {
   "cell_type": "code",
   "execution_count": 4,
   "id": "48cd6234",
   "metadata": {},
   "outputs": [],
   "source": [
    "image = np.load(path1)\n",
    "site_image = image[0]"
   ]
  },
  {
   "cell_type": "code",
   "execution_count": 5,
   "id": "1eb1c809",
   "metadata": {},
   "outputs": [
    {
     "data": {
      "text/plain": [
       "(128, 128, 2)"
      ]
     },
     "execution_count": 5,
     "metadata": {},
     "output_type": "execute_result"
    }
   ],
   "source": [
    "np.shape(site_image)"
   ]
  },
  {
   "cell_type": "code",
   "execution_count": 6,
   "id": "c85ca243",
   "metadata": {},
   "outputs": [],
   "source": [
    "path1='/home/labs/hornsteinlab/Collaboration/FUNOVA/input/images/processed_before_brenner_on_tiles/Batch4/Control-1025045/Untreated/Aberrant-splicing/rep2_r03c10f100-ch3t1_panelE_Control-1025045_processed.npy'"
   ]
  },
  {
   "cell_type": "code",
   "execution_count": 7,
   "id": "88ea12ca",
   "metadata": {},
   "outputs": [],
   "source": [
    "image = np.load(path1)\n",
    "site_image = image[0]"
   ]
  },
  {
   "cell_type": "code",
   "execution_count": 8,
   "id": "8ad1f3e3",
   "metadata": {},
   "outputs": [
    {
     "data": {
      "text/plain": [
       "(100, 100, 2)"
      ]
     },
     "execution_count": 8,
     "metadata": {},
     "output_type": "execute_result"
    }
   ],
   "source": [
    "np.shape(site_image)"
   ]
  },
  {
   "cell_type": "code",
   "execution_count": null,
   "id": "a2c32e2c",
   "metadata": {},
   "outputs": [],
   "source": []
  }
 ],
 "metadata": {
  "kernelspec": {
   "display_name": "nova",
   "language": "python",
   "name": "nova"
  },
  "language_info": {
   "codemirror_mode": {
    "name": "ipython",
    "version": 3
   },
   "file_extension": ".py",
   "mimetype": "text/x-python",
   "name": "python",
   "nbconvert_exporter": "python",
   "pygments_lexer": "ipython3",
   "version": "3.9.19"
  }
 },
 "nbformat": 4,
 "nbformat_minor": 5
}
