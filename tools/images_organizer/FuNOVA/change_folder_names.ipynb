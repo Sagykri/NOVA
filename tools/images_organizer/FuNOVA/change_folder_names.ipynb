{
 "cells": [
  {
   "cell_type": "code",
   "execution_count": 2,
   "id": "f040fac1",
   "metadata": {},
   "outputs": [],
   "source": [
    "NOVA_HOME = '/home/labs/hornsteinlab/Collaboration/NOVA_GAL/NOVA'"
   ]
  },
  {
   "cell_type": "code",
   "execution_count": 3,
   "id": "346f26f5",
   "metadata": {},
   "outputs": [
    {
     "name": "stdout",
     "output_type": "stream",
     "text": [
      "NOVA_HOME: /home/labs/hornsteinlab/Collaboration/NOVA_GAL/NOVA\n",
      "Modules to reload:\n",
      "all-except-skipped\n",
      "\n",
      "Modules to skip:\n",
      "\n"
     ]
    }
   ],
   "source": [
    "import os\n",
    "import sys\n",
    "import numpy as np\n",
    "import pandas as pd\n",
    "\n",
    "os.environ['NOVA_HOME'] = NOVA_HOME\n",
    "sys.path.insert(1, os.getenv(\"NOVA_HOME\"))\n",
    "print(f\"NOVA_HOME: {os.getenv('NOVA_HOME')}\")\n",
    "\n",
    "from src.preprocessing.preprocessing_utils import get_image_focus_quality \n",
    "from src.preprocessing.preprocessing_utils import rescale_intensity, fit_image_shape\n",
    "\n",
    "%reload_ext autoreload\n",
    "%autoreload 2\n",
    "%aimport\n",
    "\n",
    "%matplotlib inline"
   ]
  },
  {
   "cell_type": "code",
   "execution_count": 8,
   "id": "3c0bb374",
   "metadata": {},
   "outputs": [],
   "source": [
    "def rename_folders(base_path):\n",
    "    \"\"\"\n",
    "    Iterates over folders in a path and renames folders based on specified rules.\n",
    "\n",
    "    Parameters:\n",
    "        base_path (str): The root directory to start the iteration.\n",
    "    \"\"\"\n",
    "    for root, dirs, files in os.walk(base_path, topdown=False):\n",
    "        for folder in dirs:\n",
    "            folder_path = os.path.join(root, folder)\n",
    "\n",
    "            # Check if folder needs to be renamed\n",
    "            if folder == \"Necroptosis\":\n",
    "                # Check for parent folder names\n",
    "                if \"panelK\" in os.path.normpath(root).split(os.sep):\n",
    "                    new_name = \"Necroptosis_pMLKL\"\n",
    "#                     print(\"Necroptosis_pMLKL\", folder_path)\n",
    "                elif \"panelI\" in os.path.normpath(root).split(os.sep):\n",
    "                    new_name = \"Necroptosis_HMGB1\"\n",
    "#                     print(\"Necroptosis_HMGB1\", folder_path)\n",
    "                else:\n",
    "                    continue  # No change needed\n",
    "\n",
    "                # Rename the folder\n",
    "                new_folder_path = os.path.join(root, new_name)\n",
    "                try:\n",
    "                    os.rename(folder_path, new_folder_path)\n",
    "                    print(f\"Renamed: {folder_path} -> {new_folder_path}\")\n",
    "                except Exception as e:\n",
    "                    print(f\"Failed to rename {folder_path}: {e}\")"
   ]
  },
  {
   "cell_type": "code",
   "execution_count": 9,
   "id": "9176ef75",
   "metadata": {},
   "outputs": [
    {
     "name": "stdout",
     "output_type": "stream",
     "text": [
      "Renamed: /home/labs/hornsteinlab/Collaboration/FUNOVA/input/images/raw/Batch2/TDP--43-N390D/panelI/stress/rep1/Necroptosis -> /home/labs/hornsteinlab/Collaboration/FUNOVA/input/images/raw/Batch2/TDP--43-N390D/panelI/stress/rep1/Necroptosis_HMGB1\n",
      "Renamed: /home/labs/hornsteinlab/Collaboration/FUNOVA/input/images/raw/Batch2/TDP--43-N390D/panelI/stress/rep2/Necroptosis -> /home/labs/hornsteinlab/Collaboration/FUNOVA/input/images/raw/Batch2/TDP--43-N390D/panelI/stress/rep2/Necroptosis_HMGB1\n",
      "Renamed: /home/labs/hornsteinlab/Collaboration/FUNOVA/input/images/raw/Batch2/TDP--43-N390D/panelI/Untreated/rep1/Necroptosis -> /home/labs/hornsteinlab/Collaboration/FUNOVA/input/images/raw/Batch2/TDP--43-N390D/panelI/Untreated/rep1/Necroptosis_HMGB1\n",
      "Renamed: /home/labs/hornsteinlab/Collaboration/FUNOVA/input/images/raw/Batch2/TDP--43-N390D/panelI/Untreated/rep2/Necroptosis -> /home/labs/hornsteinlab/Collaboration/FUNOVA/input/images/raw/Batch2/TDP--43-N390D/panelI/Untreated/rep2/Necroptosis_HMGB1\n",
      "Renamed: /home/labs/hornsteinlab/Collaboration/FUNOVA/input/images/raw/Batch2/TDP--43-N390D/panelK/stress/rep1/Necroptosis -> /home/labs/hornsteinlab/Collaboration/FUNOVA/input/images/raw/Batch2/TDP--43-N390D/panelK/stress/rep1/Necroptosis_pMLKL\n",
      "Renamed: /home/labs/hornsteinlab/Collaboration/FUNOVA/input/images/raw/Batch2/TDP--43-N390D/panelK/stress/rep2/Necroptosis -> /home/labs/hornsteinlab/Collaboration/FUNOVA/input/images/raw/Batch2/TDP--43-N390D/panelK/stress/rep2/Necroptosis_pMLKL\n",
      "Renamed: /home/labs/hornsteinlab/Collaboration/FUNOVA/input/images/raw/Batch2/TDP--43-N390D/panelK/Untreated/rep1/Necroptosis -> /home/labs/hornsteinlab/Collaboration/FUNOVA/input/images/raw/Batch2/TDP--43-N390D/panelK/Untreated/rep1/Necroptosis_pMLKL\n",
      "Renamed: /home/labs/hornsteinlab/Collaboration/FUNOVA/input/images/raw/Batch2/TDP--43-N390D/panelK/Untreated/rep2/Necroptosis -> /home/labs/hornsteinlab/Collaboration/FUNOVA/input/images/raw/Batch2/TDP--43-N390D/panelK/Untreated/rep2/Necroptosis_pMLKL\n",
      "Renamed: /home/labs/hornsteinlab/Collaboration/FUNOVA/input/images/raw/Batch2/Control/panelI/stress/rep1/Necroptosis -> /home/labs/hornsteinlab/Collaboration/FUNOVA/input/images/raw/Batch2/Control/panelI/stress/rep1/Necroptosis_HMGB1\n",
      "Renamed: /home/labs/hornsteinlab/Collaboration/FUNOVA/input/images/raw/Batch2/Control/panelI/stress/rep2/Necroptosis -> /home/labs/hornsteinlab/Collaboration/FUNOVA/input/images/raw/Batch2/Control/panelI/stress/rep2/Necroptosis_HMGB1\n",
      "Renamed: /home/labs/hornsteinlab/Collaboration/FUNOVA/input/images/raw/Batch2/Control/panelI/Untreated/rep1/Necroptosis -> /home/labs/hornsteinlab/Collaboration/FUNOVA/input/images/raw/Batch2/Control/panelI/Untreated/rep1/Necroptosis_HMGB1\n",
      "Renamed: /home/labs/hornsteinlab/Collaboration/FUNOVA/input/images/raw/Batch2/Control/panelI/Untreated/rep2/Necroptosis -> /home/labs/hornsteinlab/Collaboration/FUNOVA/input/images/raw/Batch2/Control/panelI/Untreated/rep2/Necroptosis_HMGB1\n",
      "Renamed: /home/labs/hornsteinlab/Collaboration/FUNOVA/input/images/raw/Batch2/Control/panelK/stress/rep1/Necroptosis -> /home/labs/hornsteinlab/Collaboration/FUNOVA/input/images/raw/Batch2/Control/panelK/stress/rep1/Necroptosis_pMLKL\n",
      "Renamed: /home/labs/hornsteinlab/Collaboration/FUNOVA/input/images/raw/Batch2/Control/panelK/stress/rep2/Necroptosis -> /home/labs/hornsteinlab/Collaboration/FUNOVA/input/images/raw/Batch2/Control/panelK/stress/rep2/Necroptosis_pMLKL\n",
      "Renamed: /home/labs/hornsteinlab/Collaboration/FUNOVA/input/images/raw/Batch2/Control/panelK/Untreated/rep1/Necroptosis -> /home/labs/hornsteinlab/Collaboration/FUNOVA/input/images/raw/Batch2/Control/panelK/Untreated/rep1/Necroptosis_pMLKL\n",
      "Renamed: /home/labs/hornsteinlab/Collaboration/FUNOVA/input/images/raw/Batch2/Control/panelK/Untreated/rep2/Necroptosis -> /home/labs/hornsteinlab/Collaboration/FUNOVA/input/images/raw/Batch2/Control/panelK/Untreated/rep2/Necroptosis_pMLKL\n",
      "Renamed: /home/labs/hornsteinlab/Collaboration/FUNOVA/input/images/raw/Batch2/C9orf72-HRE/panelI/stress/rep1/Necroptosis -> /home/labs/hornsteinlab/Collaboration/FUNOVA/input/images/raw/Batch2/C9orf72-HRE/panelI/stress/rep1/Necroptosis_HMGB1\n",
      "Renamed: /home/labs/hornsteinlab/Collaboration/FUNOVA/input/images/raw/Batch2/C9orf72-HRE/panelI/stress/rep2/Necroptosis -> /home/labs/hornsteinlab/Collaboration/FUNOVA/input/images/raw/Batch2/C9orf72-HRE/panelI/stress/rep2/Necroptosis_HMGB1\n",
      "Renamed: /home/labs/hornsteinlab/Collaboration/FUNOVA/input/images/raw/Batch2/C9orf72-HRE/panelI/Untreated/rep1/Necroptosis -> /home/labs/hornsteinlab/Collaboration/FUNOVA/input/images/raw/Batch2/C9orf72-HRE/panelI/Untreated/rep1/Necroptosis_HMGB1\n",
      "Renamed: /home/labs/hornsteinlab/Collaboration/FUNOVA/input/images/raw/Batch2/C9orf72-HRE/panelI/Untreated/rep2/Necroptosis -> /home/labs/hornsteinlab/Collaboration/FUNOVA/input/images/raw/Batch2/C9orf72-HRE/panelI/Untreated/rep2/Necroptosis_HMGB1\n",
      "Renamed: /home/labs/hornsteinlab/Collaboration/FUNOVA/input/images/raw/Batch2/C9orf72-HRE/panelK/stress/rep1/Necroptosis -> /home/labs/hornsteinlab/Collaboration/FUNOVA/input/images/raw/Batch2/C9orf72-HRE/panelK/stress/rep1/Necroptosis_pMLKL\n",
      "Renamed: /home/labs/hornsteinlab/Collaboration/FUNOVA/input/images/raw/Batch2/C9orf72-HRE/panelK/stress/rep2/Necroptosis -> /home/labs/hornsteinlab/Collaboration/FUNOVA/input/images/raw/Batch2/C9orf72-HRE/panelK/stress/rep2/Necroptosis_pMLKL\n",
      "Renamed: /home/labs/hornsteinlab/Collaboration/FUNOVA/input/images/raw/Batch2/C9orf72-HRE/panelK/Untreated/rep1/Necroptosis -> /home/labs/hornsteinlab/Collaboration/FUNOVA/input/images/raw/Batch2/C9orf72-HRE/panelK/Untreated/rep1/Necroptosis_pMLKL\n",
      "Renamed: /home/labs/hornsteinlab/Collaboration/FUNOVA/input/images/raw/Batch2/C9orf72-HRE/panelK/Untreated/rep2/Necroptosis -> /home/labs/hornsteinlab/Collaboration/FUNOVA/input/images/raw/Batch2/C9orf72-HRE/panelK/Untreated/rep2/Necroptosis_pMLKL\n",
      "Renamed: /home/labs/hornsteinlab/Collaboration/FUNOVA/input/images/raw/Batch2/TDP--43-G348V/panelI/stress/rep1/Necroptosis -> /home/labs/hornsteinlab/Collaboration/FUNOVA/input/images/raw/Batch2/TDP--43-G348V/panelI/stress/rep1/Necroptosis_HMGB1\n",
      "Renamed: /home/labs/hornsteinlab/Collaboration/FUNOVA/input/images/raw/Batch2/TDP--43-G348V/panelI/stress/rep2/Necroptosis -> /home/labs/hornsteinlab/Collaboration/FUNOVA/input/images/raw/Batch2/TDP--43-G348V/panelI/stress/rep2/Necroptosis_HMGB1\n",
      "Renamed: /home/labs/hornsteinlab/Collaboration/FUNOVA/input/images/raw/Batch2/TDP--43-G348V/panelI/Untreated/rep1/Necroptosis -> /home/labs/hornsteinlab/Collaboration/FUNOVA/input/images/raw/Batch2/TDP--43-G348V/panelI/Untreated/rep1/Necroptosis_HMGB1\n",
      "Renamed: /home/labs/hornsteinlab/Collaboration/FUNOVA/input/images/raw/Batch2/TDP--43-G348V/panelI/Untreated/rep2/Necroptosis -> /home/labs/hornsteinlab/Collaboration/FUNOVA/input/images/raw/Batch2/TDP--43-G348V/panelI/Untreated/rep2/Necroptosis_HMGB1\n",
      "Renamed: /home/labs/hornsteinlab/Collaboration/FUNOVA/input/images/raw/Batch2/TDP--43-G348V/panelK/stress/rep1/Necroptosis -> /home/labs/hornsteinlab/Collaboration/FUNOVA/input/images/raw/Batch2/TDP--43-G348V/panelK/stress/rep1/Necroptosis_pMLKL\n",
      "Renamed: /home/labs/hornsteinlab/Collaboration/FUNOVA/input/images/raw/Batch2/TDP--43-G348V/panelK/stress/rep2/Necroptosis -> /home/labs/hornsteinlab/Collaboration/FUNOVA/input/images/raw/Batch2/TDP--43-G348V/panelK/stress/rep2/Necroptosis_pMLKL\n",
      "Renamed: /home/labs/hornsteinlab/Collaboration/FUNOVA/input/images/raw/Batch2/TDP--43-G348V/panelK/Untreated/rep1/Necroptosis -> /home/labs/hornsteinlab/Collaboration/FUNOVA/input/images/raw/Batch2/TDP--43-G348V/panelK/Untreated/rep1/Necroptosis_pMLKL\n",
      "Renamed: /home/labs/hornsteinlab/Collaboration/FUNOVA/input/images/raw/Batch2/TDP--43-G348V/panelK/Untreated/rep2/Necroptosis -> /home/labs/hornsteinlab/Collaboration/FUNOVA/input/images/raw/Batch2/TDP--43-G348V/panelK/Untreated/rep2/Necroptosis_pMLKL\n",
      "Renamed: /home/labs/hornsteinlab/Collaboration/FUNOVA/input/images/raw/Batch1/TDP--43-N390D/panelI/stress/rep1/Necroptosis -> /home/labs/hornsteinlab/Collaboration/FUNOVA/input/images/raw/Batch1/TDP--43-N390D/panelI/stress/rep1/Necroptosis_HMGB1\n",
      "Renamed: /home/labs/hornsteinlab/Collaboration/FUNOVA/input/images/raw/Batch1/TDP--43-N390D/panelI/stress/rep2/Necroptosis -> /home/labs/hornsteinlab/Collaboration/FUNOVA/input/images/raw/Batch1/TDP--43-N390D/panelI/stress/rep2/Necroptosis_HMGB1\n",
      "Renamed: /home/labs/hornsteinlab/Collaboration/FUNOVA/input/images/raw/Batch1/TDP--43-N390D/panelI/Untreated/rep1/Necroptosis -> /home/labs/hornsteinlab/Collaboration/FUNOVA/input/images/raw/Batch1/TDP--43-N390D/panelI/Untreated/rep1/Necroptosis_HMGB1\n",
      "Renamed: /home/labs/hornsteinlab/Collaboration/FUNOVA/input/images/raw/Batch1/TDP--43-N390D/panelI/Untreated/rep2/Necroptosis -> /home/labs/hornsteinlab/Collaboration/FUNOVA/input/images/raw/Batch1/TDP--43-N390D/panelI/Untreated/rep2/Necroptosis_HMGB1\n",
      "Renamed: /home/labs/hornsteinlab/Collaboration/FUNOVA/input/images/raw/Batch1/TDP--43-N390D/panelK/stress/rep1/Necroptosis -> /home/labs/hornsteinlab/Collaboration/FUNOVA/input/images/raw/Batch1/TDP--43-N390D/panelK/stress/rep1/Necroptosis_pMLKL\n",
      "Renamed: /home/labs/hornsteinlab/Collaboration/FUNOVA/input/images/raw/Batch1/TDP--43-N390D/panelK/stress/rep2/Necroptosis -> /home/labs/hornsteinlab/Collaboration/FUNOVA/input/images/raw/Batch1/TDP--43-N390D/panelK/stress/rep2/Necroptosis_pMLKL\n",
      "Renamed: /home/labs/hornsteinlab/Collaboration/FUNOVA/input/images/raw/Batch1/TDP--43-N390D/panelK/Untreated/rep1/Necroptosis -> /home/labs/hornsteinlab/Collaboration/FUNOVA/input/images/raw/Batch1/TDP--43-N390D/panelK/Untreated/rep1/Necroptosis_pMLKL\n",
      "Renamed: /home/labs/hornsteinlab/Collaboration/FUNOVA/input/images/raw/Batch1/TDP--43-N390D/panelK/Untreated/rep2/Necroptosis -> /home/labs/hornsteinlab/Collaboration/FUNOVA/input/images/raw/Batch1/TDP--43-N390D/panelK/Untreated/rep2/Necroptosis_pMLKL\n",
      "Renamed: /home/labs/hornsteinlab/Collaboration/FUNOVA/input/images/raw/Batch1/Control/panelI/stress/rep1/Necroptosis -> /home/labs/hornsteinlab/Collaboration/FUNOVA/input/images/raw/Batch1/Control/panelI/stress/rep1/Necroptosis_HMGB1\n",
      "Renamed: /home/labs/hornsteinlab/Collaboration/FUNOVA/input/images/raw/Batch1/Control/panelI/stress/rep2/Necroptosis -> /home/labs/hornsteinlab/Collaboration/FUNOVA/input/images/raw/Batch1/Control/panelI/stress/rep2/Necroptosis_HMGB1\n",
      "Renamed: /home/labs/hornsteinlab/Collaboration/FUNOVA/input/images/raw/Batch1/Control/panelI/Untreated/rep1/Necroptosis -> /home/labs/hornsteinlab/Collaboration/FUNOVA/input/images/raw/Batch1/Control/panelI/Untreated/rep1/Necroptosis_HMGB1\n",
      "Renamed: /home/labs/hornsteinlab/Collaboration/FUNOVA/input/images/raw/Batch1/Control/panelI/Untreated/rep2/Necroptosis -> /home/labs/hornsteinlab/Collaboration/FUNOVA/input/images/raw/Batch1/Control/panelI/Untreated/rep2/Necroptosis_HMGB1\n",
      "Renamed: /home/labs/hornsteinlab/Collaboration/FUNOVA/input/images/raw/Batch1/Control/panelK/stress/rep1/Necroptosis -> /home/labs/hornsteinlab/Collaboration/FUNOVA/input/images/raw/Batch1/Control/panelK/stress/rep1/Necroptosis_pMLKL\n",
      "Renamed: /home/labs/hornsteinlab/Collaboration/FUNOVA/input/images/raw/Batch1/Control/panelK/stress/rep2/Necroptosis -> /home/labs/hornsteinlab/Collaboration/FUNOVA/input/images/raw/Batch1/Control/panelK/stress/rep2/Necroptosis_pMLKL\n",
      "Renamed: /home/labs/hornsteinlab/Collaboration/FUNOVA/input/images/raw/Batch1/Control/panelK/Untreated/rep1/Necroptosis -> /home/labs/hornsteinlab/Collaboration/FUNOVA/input/images/raw/Batch1/Control/panelK/Untreated/rep1/Necroptosis_pMLKL\n",
      "Renamed: /home/labs/hornsteinlab/Collaboration/FUNOVA/input/images/raw/Batch1/Control/panelK/Untreated/rep2/Necroptosis -> /home/labs/hornsteinlab/Collaboration/FUNOVA/input/images/raw/Batch1/Control/panelK/Untreated/rep2/Necroptosis_pMLKL\n"
     ]
    },
    {
     "name": "stdout",
     "output_type": "stream",
     "text": [
      "Renamed: /home/labs/hornsteinlab/Collaboration/FUNOVA/input/images/raw/Batch1/C9orf72-HRE/panelI/stress/rep1/Necroptosis -> /home/labs/hornsteinlab/Collaboration/FUNOVA/input/images/raw/Batch1/C9orf72-HRE/panelI/stress/rep1/Necroptosis_HMGB1\n",
      "Renamed: /home/labs/hornsteinlab/Collaboration/FUNOVA/input/images/raw/Batch1/C9orf72-HRE/panelI/stress/rep2/Necroptosis -> /home/labs/hornsteinlab/Collaboration/FUNOVA/input/images/raw/Batch1/C9orf72-HRE/panelI/stress/rep2/Necroptosis_HMGB1\n",
      "Renamed: /home/labs/hornsteinlab/Collaboration/FUNOVA/input/images/raw/Batch1/C9orf72-HRE/panelI/Untreated/rep1/Necroptosis -> /home/labs/hornsteinlab/Collaboration/FUNOVA/input/images/raw/Batch1/C9orf72-HRE/panelI/Untreated/rep1/Necroptosis_HMGB1\n",
      "Renamed: /home/labs/hornsteinlab/Collaboration/FUNOVA/input/images/raw/Batch1/C9orf72-HRE/panelI/Untreated/rep2/Necroptosis -> /home/labs/hornsteinlab/Collaboration/FUNOVA/input/images/raw/Batch1/C9orf72-HRE/panelI/Untreated/rep2/Necroptosis_HMGB1\n",
      "Renamed: /home/labs/hornsteinlab/Collaboration/FUNOVA/input/images/raw/Batch1/C9orf72-HRE/panelK/stress/rep1/Necroptosis -> /home/labs/hornsteinlab/Collaboration/FUNOVA/input/images/raw/Batch1/C9orf72-HRE/panelK/stress/rep1/Necroptosis_pMLKL\n",
      "Renamed: /home/labs/hornsteinlab/Collaboration/FUNOVA/input/images/raw/Batch1/C9orf72-HRE/panelK/stress/rep2/Necroptosis -> /home/labs/hornsteinlab/Collaboration/FUNOVA/input/images/raw/Batch1/C9orf72-HRE/panelK/stress/rep2/Necroptosis_pMLKL\n",
      "Renamed: /home/labs/hornsteinlab/Collaboration/FUNOVA/input/images/raw/Batch1/C9orf72-HRE/panelK/Untreated/rep2/Necroptosis -> /home/labs/hornsteinlab/Collaboration/FUNOVA/input/images/raw/Batch1/C9orf72-HRE/panelK/Untreated/rep2/Necroptosis_pMLKL\n",
      "Renamed: /home/labs/hornsteinlab/Collaboration/FUNOVA/input/images/raw/Batch1/TDP--43-G348V/panelI/stress/rep1/Necroptosis -> /home/labs/hornsteinlab/Collaboration/FUNOVA/input/images/raw/Batch1/TDP--43-G348V/panelI/stress/rep1/Necroptosis_HMGB1\n",
      "Renamed: /home/labs/hornsteinlab/Collaboration/FUNOVA/input/images/raw/Batch1/TDP--43-G348V/panelI/stress/rep2/Necroptosis -> /home/labs/hornsteinlab/Collaboration/FUNOVA/input/images/raw/Batch1/TDP--43-G348V/panelI/stress/rep2/Necroptosis_HMGB1\n",
      "Renamed: /home/labs/hornsteinlab/Collaboration/FUNOVA/input/images/raw/Batch1/TDP--43-G348V/panelI/Untreated/rep1/Necroptosis -> /home/labs/hornsteinlab/Collaboration/FUNOVA/input/images/raw/Batch1/TDP--43-G348V/panelI/Untreated/rep1/Necroptosis_HMGB1\n",
      "Renamed: /home/labs/hornsteinlab/Collaboration/FUNOVA/input/images/raw/Batch1/TDP--43-G348V/panelI/Untreated/rep2/Necroptosis -> /home/labs/hornsteinlab/Collaboration/FUNOVA/input/images/raw/Batch1/TDP--43-G348V/panelI/Untreated/rep2/Necroptosis_HMGB1\n",
      "Renamed: /home/labs/hornsteinlab/Collaboration/FUNOVA/input/images/raw/Batch1/TDP--43-G348V/panelK/stress/rep1/Necroptosis -> /home/labs/hornsteinlab/Collaboration/FUNOVA/input/images/raw/Batch1/TDP--43-G348V/panelK/stress/rep1/Necroptosis_pMLKL\n",
      "Renamed: /home/labs/hornsteinlab/Collaboration/FUNOVA/input/images/raw/Batch1/TDP--43-G348V/panelK/stress/rep2/Necroptosis -> /home/labs/hornsteinlab/Collaboration/FUNOVA/input/images/raw/Batch1/TDP--43-G348V/panelK/stress/rep2/Necroptosis_pMLKL\n",
      "Renamed: /home/labs/hornsteinlab/Collaboration/FUNOVA/input/images/raw/Batch1/TDP--43-G348V/panelK/Untreated/rep1/Necroptosis -> /home/labs/hornsteinlab/Collaboration/FUNOVA/input/images/raw/Batch1/TDP--43-G348V/panelK/Untreated/rep1/Necroptosis_pMLKL\n",
      "Renamed: /home/labs/hornsteinlab/Collaboration/FUNOVA/input/images/raw/Batch1/TDP--43-G348V/panelK/Untreated/rep2/Necroptosis -> /home/labs/hornsteinlab/Collaboration/FUNOVA/input/images/raw/Batch1/TDP--43-G348V/panelK/Untreated/rep2/Necroptosis_pMLKL\n"
     ]
    }
   ],
   "source": [
    "base_path = \"/home/labs/hornsteinlab/Collaboration/FUNOVA/input/images/raw\"\n",
    "rename_folders(base_path)"
   ]
  },
  {
   "cell_type": "code",
   "execution_count": 15,
   "id": "9587aa9c",
   "metadata": {},
   "outputs": [],
   "source": [
    "def rename_dna_damage_folders(base_path):\n",
    "    \"\"\"\n",
    "    Finds all folders named 'DNA damage_P35BP1' and renames them to 'DNA damage_P53BP1'.\n",
    "\n",
    "    Parameters:\n",
    "        base_path (str): The root directory to search.\n",
    "    \"\"\"\n",
    "    for root, dirs, files in os.walk(base_path, topdown=False):\n",
    "        for folder in dirs:\n",
    "            if folder == \"DNA_damage_P35BP1\":\n",
    "                old_folder_path = os.path.join(root, folder)\n",
    "                new_folder_name = \"DNA_damage_P53BP1\"\n",
    "                new_folder_path = os.path.join(root, new_folder_name)\n",
    "\n",
    "                try:\n",
    "                    os.rename(old_folder_path, new_folder_path)\n",
    "                    print(f\"Renamed: {old_folder_path} -> {new_folder_path}\")\n",
    "                except Exception as e:\n",
    "                    print(f\"Failed to rename {old_folder_path}: {e}\")"
   ]
  },
  {
   "cell_type": "code",
   "execution_count": 16,
   "id": "d8731109",
   "metadata": {},
   "outputs": [
    {
     "name": "stdout",
     "output_type": "stream",
     "text": [
      "Renamed: /home/labs/hornsteinlab/Collaboration/FUNOVA/input/images/raw/Batch2/TDP--43-N390D/panelJ/stress/rep1/DNA_damage_P35BP1 -> /home/labs/hornsteinlab/Collaboration/FUNOVA/input/images/raw/Batch2/TDP--43-N390D/panelJ/stress/rep1/DNA_damage_P53BP1\n",
      "Renamed: /home/labs/hornsteinlab/Collaboration/FUNOVA/input/images/raw/Batch2/TDP--43-N390D/panelJ/stress/rep2/DNA_damage_P35BP1 -> /home/labs/hornsteinlab/Collaboration/FUNOVA/input/images/raw/Batch2/TDP--43-N390D/panelJ/stress/rep2/DNA_damage_P53BP1\n",
      "Renamed: /home/labs/hornsteinlab/Collaboration/FUNOVA/input/images/raw/Batch2/TDP--43-N390D/panelJ/Untreated/rep1/DNA_damage_P35BP1 -> /home/labs/hornsteinlab/Collaboration/FUNOVA/input/images/raw/Batch2/TDP--43-N390D/panelJ/Untreated/rep1/DNA_damage_P53BP1\n",
      "Renamed: /home/labs/hornsteinlab/Collaboration/FUNOVA/input/images/raw/Batch2/TDP--43-N390D/panelJ/Untreated/rep2/DNA_damage_P35BP1 -> /home/labs/hornsteinlab/Collaboration/FUNOVA/input/images/raw/Batch2/TDP--43-N390D/panelJ/Untreated/rep2/DNA_damage_P53BP1\n",
      "Renamed: /home/labs/hornsteinlab/Collaboration/FUNOVA/input/images/raw/Batch2/Control/panelJ/stress/rep1/DNA_damage_P35BP1 -> /home/labs/hornsteinlab/Collaboration/FUNOVA/input/images/raw/Batch2/Control/panelJ/stress/rep1/DNA_damage_P53BP1\n",
      "Renamed: /home/labs/hornsteinlab/Collaboration/FUNOVA/input/images/raw/Batch2/Control/panelJ/stress/rep2/DNA_damage_P35BP1 -> /home/labs/hornsteinlab/Collaboration/FUNOVA/input/images/raw/Batch2/Control/panelJ/stress/rep2/DNA_damage_P53BP1\n",
      "Renamed: /home/labs/hornsteinlab/Collaboration/FUNOVA/input/images/raw/Batch2/Control/panelJ/Untreated/rep1/DNA_damage_P35BP1 -> /home/labs/hornsteinlab/Collaboration/FUNOVA/input/images/raw/Batch2/Control/panelJ/Untreated/rep1/DNA_damage_P53BP1\n",
      "Renamed: /home/labs/hornsteinlab/Collaboration/FUNOVA/input/images/raw/Batch2/Control/panelJ/Untreated/rep2/DNA_damage_P35BP1 -> /home/labs/hornsteinlab/Collaboration/FUNOVA/input/images/raw/Batch2/Control/panelJ/Untreated/rep2/DNA_damage_P53BP1\n",
      "Renamed: /home/labs/hornsteinlab/Collaboration/FUNOVA/input/images/raw/Batch2/C9orf72-HRE/panelJ/stress/rep1/DNA_damage_P35BP1 -> /home/labs/hornsteinlab/Collaboration/FUNOVA/input/images/raw/Batch2/C9orf72-HRE/panelJ/stress/rep1/DNA_damage_P53BP1\n",
      "Renamed: /home/labs/hornsteinlab/Collaboration/FUNOVA/input/images/raw/Batch2/C9orf72-HRE/panelJ/stress/rep2/DNA_damage_P35BP1 -> /home/labs/hornsteinlab/Collaboration/FUNOVA/input/images/raw/Batch2/C9orf72-HRE/panelJ/stress/rep2/DNA_damage_P53BP1\n",
      "Renamed: /home/labs/hornsteinlab/Collaboration/FUNOVA/input/images/raw/Batch2/C9orf72-HRE/panelJ/Untreated/rep1/DNA_damage_P35BP1 -> /home/labs/hornsteinlab/Collaboration/FUNOVA/input/images/raw/Batch2/C9orf72-HRE/panelJ/Untreated/rep1/DNA_damage_P53BP1\n",
      "Renamed: /home/labs/hornsteinlab/Collaboration/FUNOVA/input/images/raw/Batch2/C9orf72-HRE/panelJ/Untreated/rep2/DNA_damage_P35BP1 -> /home/labs/hornsteinlab/Collaboration/FUNOVA/input/images/raw/Batch2/C9orf72-HRE/panelJ/Untreated/rep2/DNA_damage_P53BP1\n",
      "Renamed: /home/labs/hornsteinlab/Collaboration/FUNOVA/input/images/raw/Batch2/TDP--43-G348V/panelJ/stress/rep1/DNA_damage_P35BP1 -> /home/labs/hornsteinlab/Collaboration/FUNOVA/input/images/raw/Batch2/TDP--43-G348V/panelJ/stress/rep1/DNA_damage_P53BP1\n",
      "Renamed: /home/labs/hornsteinlab/Collaboration/FUNOVA/input/images/raw/Batch2/TDP--43-G348V/panelJ/stress/rep2/DNA_damage_P35BP1 -> /home/labs/hornsteinlab/Collaboration/FUNOVA/input/images/raw/Batch2/TDP--43-G348V/panelJ/stress/rep2/DNA_damage_P53BP1\n",
      "Renamed: /home/labs/hornsteinlab/Collaboration/FUNOVA/input/images/raw/Batch2/TDP--43-G348V/panelJ/Untreated/rep1/DNA_damage_P35BP1 -> /home/labs/hornsteinlab/Collaboration/FUNOVA/input/images/raw/Batch2/TDP--43-G348V/panelJ/Untreated/rep1/DNA_damage_P53BP1\n",
      "Renamed: /home/labs/hornsteinlab/Collaboration/FUNOVA/input/images/raw/Batch2/TDP--43-G348V/panelJ/Untreated/rep2/DNA_damage_P35BP1 -> /home/labs/hornsteinlab/Collaboration/FUNOVA/input/images/raw/Batch2/TDP--43-G348V/panelJ/Untreated/rep2/DNA_damage_P53BP1\n",
      "Renamed: /home/labs/hornsteinlab/Collaboration/FUNOVA/input/images/raw/Batch1/TDP--43-N390D/panelJ/stress/rep1/DNA_damage_P35BP1 -> /home/labs/hornsteinlab/Collaboration/FUNOVA/input/images/raw/Batch1/TDP--43-N390D/panelJ/stress/rep1/DNA_damage_P53BP1\n",
      "Renamed: /home/labs/hornsteinlab/Collaboration/FUNOVA/input/images/raw/Batch1/TDP--43-N390D/panelJ/stress/rep2/DNA_damage_P35BP1 -> /home/labs/hornsteinlab/Collaboration/FUNOVA/input/images/raw/Batch1/TDP--43-N390D/panelJ/stress/rep2/DNA_damage_P53BP1\n",
      "Renamed: /home/labs/hornsteinlab/Collaboration/FUNOVA/input/images/raw/Batch1/TDP--43-N390D/panelJ/Untreated/rep1/DNA_damage_P35BP1 -> /home/labs/hornsteinlab/Collaboration/FUNOVA/input/images/raw/Batch1/TDP--43-N390D/panelJ/Untreated/rep1/DNA_damage_P53BP1\n",
      "Renamed: /home/labs/hornsteinlab/Collaboration/FUNOVA/input/images/raw/Batch1/TDP--43-N390D/panelJ/Untreated/rep2/DNA_damage_P35BP1 -> /home/labs/hornsteinlab/Collaboration/FUNOVA/input/images/raw/Batch1/TDP--43-N390D/panelJ/Untreated/rep2/DNA_damage_P53BP1\n",
      "Renamed: /home/labs/hornsteinlab/Collaboration/FUNOVA/input/images/raw/Batch1/Control/panelJ/stress/rep1/DNA_damage_P35BP1 -> /home/labs/hornsteinlab/Collaboration/FUNOVA/input/images/raw/Batch1/Control/panelJ/stress/rep1/DNA_damage_P53BP1\n",
      "Renamed: /home/labs/hornsteinlab/Collaboration/FUNOVA/input/images/raw/Batch1/Control/panelJ/stress/rep2/DNA_damage_P35BP1 -> /home/labs/hornsteinlab/Collaboration/FUNOVA/input/images/raw/Batch1/Control/panelJ/stress/rep2/DNA_damage_P53BP1\n",
      "Renamed: /home/labs/hornsteinlab/Collaboration/FUNOVA/input/images/raw/Batch1/Control/panelJ/Untreated/rep1/DNA_damage_P35BP1 -> /home/labs/hornsteinlab/Collaboration/FUNOVA/input/images/raw/Batch1/Control/panelJ/Untreated/rep1/DNA_damage_P53BP1\n",
      "Renamed: /home/labs/hornsteinlab/Collaboration/FUNOVA/input/images/raw/Batch1/Control/panelJ/Untreated/rep2/DNA_damage_P35BP1 -> /home/labs/hornsteinlab/Collaboration/FUNOVA/input/images/raw/Batch1/Control/panelJ/Untreated/rep2/DNA_damage_P53BP1\n",
      "Renamed: /home/labs/hornsteinlab/Collaboration/FUNOVA/input/images/raw/Batch1/C9orf72-HRE/panelJ/stress/rep1/DNA_damage_P35BP1 -> /home/labs/hornsteinlab/Collaboration/FUNOVA/input/images/raw/Batch1/C9orf72-HRE/panelJ/stress/rep1/DNA_damage_P53BP1\n",
      "Renamed: /home/labs/hornsteinlab/Collaboration/FUNOVA/input/images/raw/Batch1/C9orf72-HRE/panelJ/stress/rep2/DNA_damage_P35BP1 -> /home/labs/hornsteinlab/Collaboration/FUNOVA/input/images/raw/Batch1/C9orf72-HRE/panelJ/stress/rep2/DNA_damage_P53BP1\n",
      "Renamed: /home/labs/hornsteinlab/Collaboration/FUNOVA/input/images/raw/Batch1/C9orf72-HRE/panelJ/Untreated/rep1/DNA_damage_P35BP1 -> /home/labs/hornsteinlab/Collaboration/FUNOVA/input/images/raw/Batch1/C9orf72-HRE/panelJ/Untreated/rep1/DNA_damage_P53BP1\n",
      "Renamed: /home/labs/hornsteinlab/Collaboration/FUNOVA/input/images/raw/Batch1/C9orf72-HRE/panelJ/Untreated/rep2/DNA_damage_P35BP1 -> /home/labs/hornsteinlab/Collaboration/FUNOVA/input/images/raw/Batch1/C9orf72-HRE/panelJ/Untreated/rep2/DNA_damage_P53BP1\n",
      "Renamed: /home/labs/hornsteinlab/Collaboration/FUNOVA/input/images/raw/Batch1/TDP--43-G348V/panelJ/stress/rep1/DNA_damage_P35BP1 -> /home/labs/hornsteinlab/Collaboration/FUNOVA/input/images/raw/Batch1/TDP--43-G348V/panelJ/stress/rep1/DNA_damage_P53BP1\n",
      "Renamed: /home/labs/hornsteinlab/Collaboration/FUNOVA/input/images/raw/Batch1/TDP--43-G348V/panelJ/stress/rep2/DNA_damage_P35BP1 -> /home/labs/hornsteinlab/Collaboration/FUNOVA/input/images/raw/Batch1/TDP--43-G348V/panelJ/stress/rep2/DNA_damage_P53BP1\n",
      "Renamed: /home/labs/hornsteinlab/Collaboration/FUNOVA/input/images/raw/Batch1/TDP--43-G348V/panelJ/Untreated/rep1/DNA_damage_P35BP1 -> /home/labs/hornsteinlab/Collaboration/FUNOVA/input/images/raw/Batch1/TDP--43-G348V/panelJ/Untreated/rep1/DNA_damage_P53BP1\n",
      "Renamed: /home/labs/hornsteinlab/Collaboration/FUNOVA/input/images/raw/Batch1/TDP--43-G348V/panelJ/Untreated/rep2/DNA_damage_P35BP1 -> /home/labs/hornsteinlab/Collaboration/FUNOVA/input/images/raw/Batch1/TDP--43-G348V/panelJ/Untreated/rep2/DNA_damage_P53BP1\n"
     ]
    }
   ],
   "source": [
    "rename_dna_damage_folders(base_path)"
   ]
  },
  {
   "cell_type": "code",
   "execution_count": null,
   "id": "0306a165",
   "metadata": {},
   "outputs": [],
   "source": []
  }
 ],
 "metadata": {
  "kernelspec": {
   "display_name": "nova",
   "language": "python",
   "name": "nova"
  },
  "language_info": {
   "codemirror_mode": {
    "name": "ipython",
    "version": 3
   },
   "file_extension": ".py",
   "mimetype": "text/x-python",
   "name": "python",
   "nbconvert_exporter": "python",
   "pygments_lexer": "ipython3",
   "version": "3.9.19"
  }
 },
 "nbformat": 4,
 "nbformat_minor": 5
}
