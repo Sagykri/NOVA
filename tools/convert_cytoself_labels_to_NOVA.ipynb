{
 "cells": [
  {
   "cell_type": "code",
   "execution_count": 1,
   "id": "d58dfc3b",
   "metadata": {},
   "outputs": [],
   "source": [
    "import numpy as np"
   ]
  },
  {
   "cell_type": "code",
   "execution_count": 2,
   "id": "c385cd52",
   "metadata": {},
   "outputs": [],
   "source": [
    "def transform_labels(arr: np.ndarray) -> np.ndarray:\n",
    "    \"\"\"\n",
    "    Transform label of the form\n",
    "    'batch1/FUSHeterozygous/Untreated/rep1/ANXA11'\n",
    "    into\n",
    "    'ANXA11_FUSHeterozygous_Untreated_batch1_rep1'.\n",
    "    \"\"\"\n",
    "    new_arr = []\n",
    "    for s in arr:\n",
    "        parts = s.split(\"/\")\n",
    "        # parts = [batch, cellline, condition, rep, marker]\n",
    "        batch, cellline, condition, rep, marker = parts\n",
    "        new_str = f\"{marker}_{cellline}_{condition}_{batch}_{rep}\"\n",
    "        new_arr.append(new_str)\n",
    "    return np.array(new_arr)"
   ]
  },
  {
   "cell_type": "code",
   "execution_count": 3,
   "id": "3b1f2a62",
   "metadata": {},
   "outputs": [
    {
     "name": "stdout",
     "output_type": "stream",
     "text": [
      "Saved 15268 labels to /home/projects/hornsteinlab/Collaboration/MOmaps/outputs/models_outputs_cytoself_qsplit9/embeddings/NIH_cytoself/vqindhist1/batch1/testset_labels.npy\n",
      "Saved 11218 labels to /home/projects/hornsteinlab/Collaboration/MOmaps/outputs/models_outputs_cytoself_qsplit9/embeddings/NIH_cytoself/vqindhist1/batch2/testset_labels.npy\n",
      "Saved 10906 labels to /home/projects/hornsteinlab/Collaboration/MOmaps/outputs/models_outputs_cytoself_qsplit9/embeddings/NIH_cytoself/vqindhist1/batch3/testset_labels.npy\n"
     ]
    }
   ],
   "source": [
    "cyto_emb_folder_path = \"/home/projects/hornsteinlab/Collaboration/MOmaps/outputs/models_outputs_cytoself_qsplit9/embeddings/NIH_cytoself/vqindhist1/\"\n",
    "batches = [f'batch{i}' for i in [1,2,3]]\n",
    "\n",
    "for batch in batches:\n",
    "    labels = np.load(f\"{cyto_emb_folder_path}{batch}/vqindhist1_labels_all.npy\")\n",
    "    batch_labels = transform_labels(labels)\n",
    "    batch_labels_path = f\"{cyto_emb_folder_path}{batch}/testset_labels.npy\"\n",
    "    np.save(batch_labels_path, batch_labels)\n",
    "    print(f\"Saved {len(batch_labels)} labels to {batch_labels_path}\")"
   ]
  },
  {
   "cell_type": "code",
   "execution_count": null,
   "id": "456229d3",
   "metadata": {},
   "outputs": [],
   "source": []
  }
 ],
 "metadata": {
  "kernelspec": {
   "display_name": "nova",
   "language": "python",
   "name": "python3"
  },
  "language_info": {
   "codemirror_mode": {
    "name": "ipython",
    "version": 3
   },
   "file_extension": ".py",
   "mimetype": "text/x-python",
   "name": "python",
   "nbconvert_exporter": "python",
   "pygments_lexer": "ipython3",
   "version": "3.9.19"
  }
 },
 "nbformat": 4,
 "nbformat_minor": 5
}
