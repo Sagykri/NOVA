{
 "cells": [
  {
   "cell_type": "code",
   "execution_count": null,
   "id": "446d8d5d",
   "metadata": {},
   "outputs": [],
   "source": [
    "import sys\n",
    "import os\n",
    "import time\n",
    "import numpy as np\n",
    "import pandas as pd\n",
    "import umap\n",
    "\n",
    "print('NOVA_HOME is at', os.getenv('NOVA_HOME'))\n",
    "sys.path.insert(1, os.getenv('NOVA_HOME'))\n",
    "%load_ext autoreload\n",
    "%autoreload 2\n",
    "\n",
    "from src.common.utils import load_config_file\n",
    "from src.embeddings.embeddings_utils import load_embeddings\n",
    "from src.figures.distances_plotting import *\n",
    "from src.analysis.analyzer_distances_utils import summarize_times, merge_batches_by_key, correlate_columns"
   ]
  },
  {
   "cell_type": "markdown",
   "id": "6b3460ce",
   "metadata": {},
   "source": [
    "# UMAP2"
   ]
  },
  {
   "cell_type": "code",
   "execution_count": null,
   "id": "e297f47c",
   "metadata": {},
   "outputs": [],
   "source": [
    "dist_folder = '/home/projects/hornsteinlab/Collaboration/NOVA/outputs/vit_models/finetunedModel_MLPHead_acrossBatches_B56789_80pct_frozen/figures/neuronsDay8_new/distances'"
   ]
  },
  {
   "cell_type": "markdown",
   "id": "5c9aee8c",
   "metadata": {},
   "source": [
    "### Batch 9 (with SNCA)"
   ]
  },
  {
   "cell_type": "code",
   "execution_count": null,
   "id": "085dfc0a",
   "metadata": {},
   "outputs": [],
   "source": [
    "df2 = pd.read_csv(f'{dist_folder}/batch9_all_reps_WT_TDP43_OPTN_TBK1_FUSRevertant_FUSHeterozygous_FUSHomozygous_SNCA_Untreated_without_CD41/distances_stats_euclidean_detailed_multiplexed.csv')\n",
    "for col in ['label1','label2']:\n",
    "    df2[col] = df2[col].str.split(pat='_', n=1).str[0]"
   ]
  },
  {
   "cell_type": "code",
   "execution_count": null,
   "id": "ff78aab9",
   "metadata": {},
   "outputs": [],
   "source": [
    "df2.head()"
   ]
  },
  {
   "cell_type": "code",
   "execution_count": null,
   "id": "edf0ed9b",
   "metadata": {},
   "outputs": [],
   "source": [
    "plot_custom_boxplot(df2)"
   ]
  },
  {
   "cell_type": "code",
   "execution_count": null,
   "id": "31338628",
   "metadata": {},
   "outputs": [],
   "source": [
    "plot_dist_histogram(df2)"
   ]
  },
  {
   "cell_type": "code",
   "execution_count": null,
   "id": "8ce66171",
   "metadata": {},
   "outputs": [],
   "source": [
    "plot_label_clustermap(df2, figsize=(6,6), highlight_thresh=df2[df2.label1 == df2.label2]['p50'].max())"
   ]
  },
  {
   "cell_type": "code",
   "execution_count": null,
   "id": "ba51cbf3",
   "metadata": {},
   "outputs": [],
   "source": [
    "## Optional: Stretch the scale for visualization\n",
    "# df2['p50'] = (df2['p50'] - df2['p50'].min()) / (df2['p50'].max() - df2['p50'].min() + 1e-6)"
   ]
  },
  {
   "cell_type": "code",
   "execution_count": null,
   "id": "4155031e",
   "metadata": {},
   "outputs": [],
   "source": [
    "plot_cluster_proximity_network(df2, threshold = df2['p50'].quantile(0.9), figsize=(7,7))"
   ]
  },
  {
   "cell_type": "markdown",
   "id": "63f9f080",
   "metadata": {},
   "source": [
    "### Batch 1"
   ]
  },
  {
   "cell_type": "code",
   "execution_count": null,
   "id": "2210e8d1",
   "metadata": {
    "scrolled": true
   },
   "outputs": [],
   "source": [
    "df2 = pd.read_csv(f'{dist_folder}/batch1_all_reps_WT_TDP43_OPTN_TBK1_FUSRevertant_FUSHeterozygous_FUSHomozygous_Untreated_without_CD41/distances_stats_euclidean_detailed_multiplexed.csv')\n",
    "for col in ['label1','label2']:\n",
    "    df2[col] = df2[col].str.split(pat='_', n=1).str[0]\n",
    "df2.sort_values('p50')[['label1', 'label2', 'p50']]"
   ]
  },
  {
   "cell_type": "code",
   "execution_count": null,
   "id": "98718c32",
   "metadata": {
    "scrolled": false
   },
   "outputs": [],
   "source": [
    "plot_custom_boxplot(df2)\n",
    "# df2['p50'] = (df2['p50'] - df2['p50'].min()) / (df2['p50'].max() - df2['p50'].min() + 1e-6)\n",
    "plot_label_clustermap(df2, figsize=(6,6), highlight_thresh=df2[df2.label1 == df2.label2]['p50'].max())\n",
    "plot_cluster_proximity_network(df2, threshold = df2['p50'].quantile(0.9), figsize=(7,7))"
   ]
  },
  {
   "cell_type": "markdown",
   "id": "1aa44719",
   "metadata": {},
   "source": [
    "### Batch 2"
   ]
  },
  {
   "cell_type": "code",
   "execution_count": null,
   "id": "ae225283",
   "metadata": {
    "scrolled": true
   },
   "outputs": [],
   "source": [
    "df2 = pd.read_csv(f'{dist_folder}/batch2_all_reps_WT_TDP43_OPTN_TBK1_FUSRevertant_FUSHeterozygous_FUSHomozygous_Untreated_without_CD41/distances_stats_euclidean_detailed_multiplexed.csv')\n",
    "for col in ['label1','label2']:\n",
    "    df2[col] = df2[col].str.split(pat='_', n=1).str[0]\n",
    "df2.sort_values('p50')[['label1', 'label2', 'p50']]"
   ]
  },
  {
   "cell_type": "code",
   "execution_count": null,
   "id": "aab4ff7a",
   "metadata": {
    "scrolled": false
   },
   "outputs": [],
   "source": [
    "plot_custom_boxplot(df2)\n",
    "# df2['p50'] = (df2['p50'] - df2['p50'].min()) / (df2['p50'].max() - df2['p50'].min() + 1e-6)\n",
    "plot_label_clustermap(df2, figsize=(6,6), highlight_thresh=df2[df2.label1 == df2.label2]['p50'].max())\n",
    "plot_cluster_proximity_network(df2, threshold = df2['p50'].quantile(0.9), figsize=(7,7))"
   ]
  },
  {
   "cell_type": "markdown",
   "id": "ce7ec5e8",
   "metadata": {},
   "source": [
    "### Batch 3"
   ]
  },
  {
   "cell_type": "code",
   "execution_count": null,
   "id": "beaee0b6",
   "metadata": {
    "scrolled": true
   },
   "outputs": [],
   "source": [
    "df2 = pd.read_csv(f'{dist_folder}/batch3_all_reps_WT_TDP43_OPTN_TBK1_FUSRevertant_FUSHeterozygous_FUSHomozygous_Untreated_without_CD41/distances_stats_euclidean_detailed_multiplexed.csv')\n",
    "for col in ['label1','label2']:\n",
    "    df2[col] = df2[col].str.split(pat='_', n=1).str[0]\n",
    "df2.sort_values('p50')[['label1', 'label2', 'p50']]"
   ]
  },
  {
   "cell_type": "code",
   "execution_count": null,
   "id": "2b5e2ebb",
   "metadata": {
    "scrolled": false
   },
   "outputs": [],
   "source": [
    "plot_custom_boxplot(df2)\n",
    "# df2['p50'] = (df2['p50'] - df2['p50'].min()) / (df2['p50'].max() - df2['p50'].min() + 1e-6)\n",
    "plot_label_clustermap(df2, figsize=(6,6), highlight_thresh=df2[df2.label1 == df2.label2]['p50'].max())\n",
    "plot_cluster_proximity_network(df2, threshold = df2['p50'].quantile(0.9), figsize=(7,7))"
   ]
  },
  {
   "cell_type": "markdown",
   "id": "9dc0ada7",
   "metadata": {},
   "source": [
    "### Batch 7 (with SNCA)"
   ]
  },
  {
   "cell_type": "code",
   "execution_count": null,
   "id": "58fd2f77",
   "metadata": {
    "scrolled": true
   },
   "outputs": [],
   "source": [
    "df2 = pd.read_csv(f'{dist_folder}/batch7_all_reps_WT_TDP43_OPTN_TBK1_FUSRevertant_FUSHeterozygous_FUSHomozygous_SNCA_Untreated_without_CD41/distances_stats_euclidean_detailed_multiplexed.csv')\n",
    "for col in ['label1','label2']:\n",
    "    df2[col] = df2[col].str.split(pat='_', n=1).str[0]\n",
    "df2.sort_values('p50')[['label1', 'label2', 'p50']]"
   ]
  },
  {
   "cell_type": "code",
   "execution_count": null,
   "id": "9af17664",
   "metadata": {
    "scrolled": false
   },
   "outputs": [],
   "source": [
    "plot_custom_boxplot(df2)\n",
    "# df2['p50'] = (df2['p50'] - df2['p50'].min()) / (df2['p50'].max() - df2['p50'].min() + 1e-6)\n",
    "plot_label_clustermap(df2, figsize=(6,6), highlight_thresh=df2[df2.label1 == df2.label2]['p50'].max())\n",
    "plot_cluster_proximity_network(df2, threshold = df2['p50'].quantile(0.9), figsize=(7,7))"
   ]
  },
  {
   "cell_type": "markdown",
   "id": "9b9a4bfd",
   "metadata": {},
   "source": [
    "### Batch 8 (with SNCA)"
   ]
  },
  {
   "cell_type": "code",
   "execution_count": null,
   "id": "456bb54f",
   "metadata": {
    "scrolled": true
   },
   "outputs": [],
   "source": [
    "df2 = pd.read_csv(f'{dist_folder}/batch8_all_reps_WT_TDP43_OPTN_TBK1_FUSRevertant_FUSHeterozygous_FUSHomozygous_SNCA_Untreated_without_CD41/distances_stats_euclidean_detailed_multiplexed.csv')\n",
    "for col in ['label1','label2']:\n",
    "    df2[col] = df2[col].str.split(pat='_', n=1).str[0]\n",
    "df2.sort_values('p50')[['label1', 'label2', 'p50']]"
   ]
  },
  {
   "cell_type": "code",
   "execution_count": null,
   "id": "54dc1d01",
   "metadata": {
    "scrolled": false
   },
   "outputs": [],
   "source": [
    "plot_custom_boxplot(df2)\n",
    "# df2['p50'] = (df2['p50'] - df2['p50'].min()) / (df2['p50'].max() - df2['p50'].min() + 1e-6)\n",
    "plot_label_clustermap(df2, figsize=(6,6), highlight_thresh=df2[df2.label1 == df2.label2]['p50'].max())\n",
    "plot_cluster_proximity_network(df2, threshold = df2['p50'].quantile(0.9), figsize=(7,7))"
   ]
  },
  {
   "cell_type": "markdown",
   "id": "e3c0ecae",
   "metadata": {},
   "source": [
    "### Batch 10"
   ]
  },
  {
   "cell_type": "code",
   "execution_count": null,
   "id": "9a85a9ef",
   "metadata": {
    "scrolled": true
   },
   "outputs": [],
   "source": [
    "df2 = pd.read_csv(f'{dist_folder}/batch10_all_reps_WT_TDP43_OPTN_TBK1_FUSRevertant_FUSHeterozygous_FUSHomozygous_Untreated_without_CD41/distances_stats_euclidean_detailed_multiplexed.csv')\n",
    "for col in ['label1','label2']:\n",
    "    df2[col] = df2[col].str.split(pat='_', n=1).str[0]\n",
    "df2.sort_values('p50')[['label1', 'label2', 'p50']]"
   ]
  },
  {
   "cell_type": "code",
   "execution_count": null,
   "id": "7a576c49",
   "metadata": {
    "scrolled": false
   },
   "outputs": [],
   "source": [
    "plot_custom_boxplot(df2)\n",
    "# df2['p50'] = (df2['p50'] - df2['p50'].min()) / (df2['p50'].max() - df2['p50'].min() + 1e-6)\n",
    "plot_label_clustermap(df2, figsize=(6,6), highlight_thresh=df2[df2.label1 == df2.label2]['p50'].max())\n",
    "plot_cluster_proximity_network(df2, threshold = df2['p50'].quantile(0.9), figsize=(7,7))"
   ]
  },
  {
   "cell_type": "markdown",
   "id": "f81bfce1",
   "metadata": {},
   "source": [
    "### Correlations between batches (without SNCA)"
   ]
  },
  {
   "cell_type": "code",
   "execution_count": null,
   "id": "10f4e44a",
   "metadata": {},
   "outputs": [],
   "source": [
    "batches = range(1,10)\n",
    "\n",
    "dfs, names = [], []\n",
    "for b in batches:\n",
    "    path = (\n",
    "        f'{dist_folder}/'\n",
    "        f'batch{b}_all_reps_WT_TDP43_OPTN_TBK1_FUSRevertant_FUSHeterozygous_FUSHomozygous_Untreated_without_CD41/distances_stats_euclidean_detailed_multiplexed.csv'\n",
    "    )\n",
    "    try:\n",
    "        df = pd.read_csv(path)\n",
    "        # strip the \"_WT_Untreated\" (or everything after first \"_\")\n",
    "        for col in (\"label1\",\"label2\"):\n",
    "            df[col] = df[col].str.split(pat='_', n=1).str[0]\n",
    "        dfs.append(df)\n",
    "        names.append(f\"batch{b}\")\n",
    "    except:\n",
    "        print('batch', b, 'doesnt exists')\n",
    "merged_df, cols = merge_batches_by_key(dfs, names) "
   ]
  },
  {
   "cell_type": "code",
   "execution_count": null,
   "id": "cffe5d4c",
   "metadata": {},
   "outputs": [],
   "source": [
    "# 1) heatmap of correlations\n",
    "\n",
    "method = 'spearman'\n",
    "corr_df, pval_df = correlate_columns(merged_df, cols, method=method)\n",
    "plot_correlation_heatmap(corr_df, method=method)\n",
    "plot_pval_heatmap(pval_df, labels=cols)"
   ]
  },
  {
   "cell_type": "code",
   "execution_count": null,
   "id": "ad8ae942",
   "metadata": {},
   "outputs": [],
   "source": [
    "method = 'pearson'\n",
    "corr_df, pval_df = correlate_columns(merged_df, cols, method=method)\n",
    "plot_correlation_heatmap(corr_df, method=method)\n",
    "plot_pval_heatmap(pval_df, labels=cols)"
   ]
  },
  {
   "cell_type": "code",
   "execution_count": null,
   "id": "cc1a7827",
   "metadata": {},
   "outputs": [],
   "source": [
    "# 2) pairplot of the p50 columns\n",
    "sns.pairplot(merged_df[[f\"p50_{n}\" for n in names]])\n",
    "plt.suptitle(\"p50 distributions & relationships\", y=1.02)\n",
    "plt.show()"
   ]
  },
  {
   "cell_type": "markdown",
   "id": "0591e333",
   "metadata": {},
   "source": [
    "#### Batches 1,2,3,10 are correlated (I removed batch 10 from analysis)\n",
    "#### Batches 7,8,9 are correlated"
   ]
  },
  {
   "cell_type": "markdown",
   "id": "a958ee27",
   "metadata": {},
   "source": [
    "### Compare ditsances across batches"
   ]
  },
  {
   "cell_type": "code",
   "execution_count": null,
   "id": "2d502a59",
   "metadata": {
    "scrolled": false
   },
   "outputs": [],
   "source": [
    "plot_boxplot_all_pairs(merged_df)"
   ]
  },
  {
   "cell_type": "code",
   "execution_count": null,
   "id": "d237dcc6",
   "metadata": {},
   "outputs": [],
   "source": [
    "plot_p50_across_batches(merged_df)"
   ]
  },
  {
   "cell_type": "code",
   "execution_count": null,
   "id": "9530f819",
   "metadata": {},
   "outputs": [],
   "source": []
  },
  {
   "cell_type": "markdown",
   "id": "e5008fdf",
   "metadata": {},
   "source": [
    "## UMAP1"
   ]
  },
  {
   "cell_type": "markdown",
   "id": "6b6c4dc5",
   "metadata": {},
   "source": [
    "### batch 9"
   ]
  },
  {
   "cell_type": "code",
   "execution_count": null,
   "id": "0f719c30",
   "metadata": {},
   "outputs": [],
   "source": [
    "df = pd.read_csv(f'{dist_folder}/batch9_all_reps_WT_Untreated_without_CD41/distances_stats_euclidean_detailed.csv')\n",
    "for col in ['label1','label2']:\n",
    "    df[col] = df[col].str.split(pat='_', n=1).str[0]\n",
    "labels = pd.unique(pd.concat([df['label1'], df['label2']]))"
   ]
  },
  {
   "cell_type": "code",
   "execution_count": null,
   "id": "c9b6999c",
   "metadata": {},
   "outputs": [],
   "source": [
    "df.head()"
   ]
  },
  {
   "cell_type": "markdown",
   "id": "16dd4190",
   "metadata": {},
   "source": [
    "### Box plot per label"
   ]
  },
  {
   "cell_type": "code",
   "execution_count": null,
   "id": "68f38af6",
   "metadata": {
    "scrolled": true
   },
   "outputs": [],
   "source": [
    "for label in np.unique(labels):\n",
    "    print('Marker:', label)\n",
    "    plot_custom_boxplot(df[(df['label1'].str.contains(label))|(df['label2'].str.contains(label))])"
   ]
  },
  {
   "cell_type": "code",
   "execution_count": null,
   "id": "776871d1",
   "metadata": {},
   "outputs": [],
   "source": [
    "df.nsmallest(20, 'p50')[['label1', 'label2', 'p50']]"
   ]
  },
  {
   "cell_type": "markdown",
   "id": "6b9b7b81",
   "metadata": {},
   "source": [
    "### Nearest clusters"
   ]
  },
  {
   "cell_type": "code",
   "execution_count": null,
   "id": "07d11dbb",
   "metadata": {},
   "outputs": [],
   "source": [
    "df.loc[df['label1'] != df['label2']].nsmallest(10, 'p50')[['label1', 'label2', 'p50']]"
   ]
  },
  {
   "cell_type": "markdown",
   "id": "df9c7ab6",
   "metadata": {},
   "source": [
    "### Tightest clusters"
   ]
  },
  {
   "cell_type": "code",
   "execution_count": null,
   "id": "51fca551",
   "metadata": {
    "scrolled": true
   },
   "outputs": [],
   "source": [
    "df.loc[df['label1'] == df['label2']].nsmallest(30, 'p50')[['label1', 'label2', 'p50']]"
   ]
  },
  {
   "cell_type": "markdown",
   "id": "51465eb6",
   "metadata": {},
   "source": [
    "### Most distant clusters"
   ]
  },
  {
   "cell_type": "code",
   "execution_count": null,
   "id": "b5060cba",
   "metadata": {},
   "outputs": [],
   "source": [
    "df.loc[df['label1'] != df['label2']].nlargest(10, 'p50')[['label1', 'label2', 'p50']]"
   ]
  },
  {
   "cell_type": "code",
   "execution_count": null,
   "id": "848e2973",
   "metadata": {},
   "outputs": [],
   "source": [
    "plot_dist_histogram(df)"
   ]
  },
  {
   "cell_type": "code",
   "execution_count": null,
   "id": "c01ee2d0",
   "metadata": {},
   "outputs": [],
   "source": [
    "plot_label_clustermap(df, figsize=(9,9), highlight_thresh = 0.8) ## Set threshold to highlight"
   ]
  },
  {
   "cell_type": "code",
   "execution_count": null,
   "id": "bc923ca2",
   "metadata": {},
   "outputs": [],
   "source": [
    "plot_cluster_proximity_network(df, metric='p50', top_k=200, )"
   ]
  },
  {
   "cell_type": "markdown",
   "id": "2fce04bd",
   "metadata": {},
   "source": [
    "### Reproducibility across batches"
   ]
  },
  {
   "cell_type": "markdown",
   "id": "a123800f",
   "metadata": {},
   "source": [
    "### Load all available batches distances (umap1)"
   ]
  },
  {
   "cell_type": "code",
   "execution_count": null,
   "id": "f5c2d53a",
   "metadata": {},
   "outputs": [],
   "source": [
    "batches = range(1,10)\n",
    "\n",
    "dfs, names = [], []\n",
    "for b in batches:\n",
    "    path = (\n",
    "        f'{dist_folder}/batch{b}_all_reps_WT_Untreated_without_CD41/distances_stats_euclidean_detailed.csv'\n",
    "    )\n",
    "    try:\n",
    "        df = pd.read_csv(path)\n",
    "        # strip the \"_WT_Untreated\" (or everything after first \"_\")\n",
    "        for col in (\"label1\",\"label2\"):\n",
    "            df[col] = df[col].str.split(pat='_', n=1).str[0]\n",
    "        dfs.append(df)\n",
    "        names.append(f\"batch{b}\")\n",
    "    except:\n",
    "        print('batch', b, 'doesnt exists')\n",
    "merged_df, cols = merge_batches_by_key(dfs, names) "
   ]
  },
  {
   "cell_type": "code",
   "execution_count": null,
   "id": "a3c1dc4a",
   "metadata": {},
   "outputs": [],
   "source": [
    "method = 'spearman'\n",
    "corr_df, pval_df = correlate_columns(merged_df, cols, method=method)\n",
    "plot_correlation_heatmap(corr_df, method=method)\n",
    "plot_pval_heatmap(pval_df, labels=cols)"
   ]
  },
  {
   "cell_type": "code",
   "execution_count": null,
   "id": "83df3d1d",
   "metadata": {},
   "outputs": [],
   "source": [
    "method = 'pearson'\n",
    "corr_df, pval_df = correlate_columns(merged_df, cols, method=method)\n",
    "plot_correlation_heatmap(corr_df, method=method)\n",
    "plot_pval_heatmap(pval_df, labels=cols)"
   ]
  },
  {
   "cell_type": "code",
   "execution_count": null,
   "id": "d0d5257f",
   "metadata": {},
   "outputs": [],
   "source": [
    "# 2) pairplot of the p50 columns\n",
    "sns.pairplot(merged_df[[f\"p50_{n}\" for n in names]])\n",
    "plt.suptitle(\"p50 distributions & relationships\", y=1.02)\n",
    "plt.show()"
   ]
  },
  {
   "cell_type": "code",
   "execution_count": null,
   "id": "45c99002",
   "metadata": {},
   "outputs": [],
   "source": [
    "for label in np.unique(labels):\n",
    "    print('Marker:', label)\n",
    "    plot_boxplot_all_pairs(merged_df[(merged_df['label1'].str.contains(label))|(merged_df['label2'].str.contains(label))])"
   ]
  },
  {
   "cell_type": "markdown",
   "id": "e0010db0",
   "metadata": {},
   "source": [
    "### The distances are correlated between batches"
   ]
  },
  {
   "cell_type": "code",
   "execution_count": null,
   "id": "4af30e8f",
   "metadata": {},
   "outputs": [],
   "source": []
  },
  {
   "cell_type": "markdown",
   "id": "80929d10",
   "metadata": {},
   "source": [
    "## Batch 1"
   ]
  },
  {
   "cell_type": "code",
   "execution_count": null,
   "id": "5217dfb0",
   "metadata": {},
   "outputs": [],
   "source": [
    "df = pd.read_csv(f'{dist_folder}/batch1_all_reps_WT_Untreated_without_CD41/distances_stats_euclidean_detailed.csv')\n",
    "for col in ['label1','label2']:\n",
    "    df[col] = df[col].str.split(pat='_', n=1).str[0]\n",
    "labels = pd.unique(pd.concat([df['label1'], df['label2']]))"
   ]
  },
  {
   "cell_type": "code",
   "execution_count": null,
   "id": "a01c537b",
   "metadata": {},
   "outputs": [],
   "source": [
    "plot_label_clustermap(df, figsize=(6,6), highlight_thresh=df[df.label1 == df.label2]['p50'].max())\n",
    "plot_cluster_proximity_network(df, threshold = df['p50'].quantile(0.9), figsize=(7,7))"
   ]
  },
  {
   "cell_type": "markdown",
   "id": "bd1f8fa4",
   "metadata": {},
   "source": [
    "## Batch 2"
   ]
  },
  {
   "cell_type": "code",
   "execution_count": null,
   "id": "b3d76b3f",
   "metadata": {},
   "outputs": [],
   "source": [
    "df = pd.read_csv(f'{dist_folder}/batch2_all_reps_WT_Untreated_without_CD41/distances_stats_euclidean_detailed.csv')\n",
    "for col in ['label1','label2']:\n",
    "    df[col] = df[col].str.split(pat='_', n=1).str[0]\n",
    "labels = pd.unique(pd.concat([df['label1'], df['label2']]))"
   ]
  },
  {
   "cell_type": "code",
   "execution_count": null,
   "id": "722d835c",
   "metadata": {},
   "outputs": [],
   "source": [
    "plot_label_clustermap(df, figsize=(6,6), highlight_thresh=df[df.label1 == df.label2]['p50'].max())\n",
    "plot_cluster_proximity_network(df, threshold = df['p50'].quantile(0.9), figsize=(7,7))"
   ]
  },
  {
   "cell_type": "markdown",
   "id": "6ef1f404",
   "metadata": {},
   "source": [
    "## Batch 3"
   ]
  },
  {
   "cell_type": "code",
   "execution_count": null,
   "id": "cfd54679",
   "metadata": {},
   "outputs": [],
   "source": [
    "df = pd.read_csv(f'{dist_folder}/batch3_all_reps_WT_Untreated_without_CD41/distances_stats_euclidean_detailed.csv')\n",
    "for col in ['label1','label2']:\n",
    "    df[col] = df[col].str.split(pat='_', n=1).str[0]\n",
    "labels = pd.unique(pd.concat([df['label1'], df['label2']]))"
   ]
  },
  {
   "cell_type": "code",
   "execution_count": null,
   "id": "f34ce2ba",
   "metadata": {},
   "outputs": [],
   "source": [
    "plot_label_clustermap(df, figsize=(6,6), highlight_thresh=df[df.label1 == df.label2]['p50'].max())\n",
    "plot_cluster_proximity_network(df, threshold = df['p50'].quantile(0.9), figsize=(7,7))"
   ]
  },
  {
   "cell_type": "markdown",
   "id": "ab808ef5",
   "metadata": {},
   "source": [
    "## Batch 7"
   ]
  },
  {
   "cell_type": "code",
   "execution_count": null,
   "id": "75ea0df9",
   "metadata": {},
   "outputs": [],
   "source": [
    "df = pd.read_csv(f'{dist_folder}/batch7_all_reps_WT_Untreated_without_CD41/distances_stats_euclidean_detailed.csv')\n",
    "for col in ['label1','label2']:\n",
    "    df[col] = df[col].str.split(pat='_', n=1).str[0]\n",
    "labels = pd.unique(pd.concat([df['label1'], df['label2']]))"
   ]
  },
  {
   "cell_type": "code",
   "execution_count": null,
   "id": "09bd1d7a",
   "metadata": {},
   "outputs": [],
   "source": [
    "plot_label_clustermap(df, figsize=(6,6), highlight_thresh=df[df.label1 == df.label2]['p50'].max())\n",
    "plot_cluster_proximity_network(df, threshold = df['p50'].quantile(0.9), figsize=(7,7))"
   ]
  },
  {
   "cell_type": "markdown",
   "id": "57a6cd5b",
   "metadata": {},
   "source": [
    "## Batch 8"
   ]
  },
  {
   "cell_type": "code",
   "execution_count": null,
   "id": "5ce329b1",
   "metadata": {},
   "outputs": [],
   "source": [
    "df = pd.read_csv(f'{dist_folder}/batch8_all_reps_WT_Untreated_without_CD41/distances_stats_euclidean_detailed.csv')\n",
    "for col in ['label1','label2']:\n",
    "    df[col] = df[col].str.split(pat='_', n=1).str[0]\n",
    "labels = pd.unique(pd.concat([df['label1'], df['label2']]))"
   ]
  },
  {
   "cell_type": "code",
   "execution_count": null,
   "id": "78132097",
   "metadata": {},
   "outputs": [],
   "source": [
    "plot_label_clustermap(df, figsize=(6,6), highlight_thresh=df[df.label1 == df.label2]['p50'].max())\n",
    "plot_cluster_proximity_network(df, threshold = df['p50'].quantile(0.9), figsize=(7,7))"
   ]
  },
  {
   "cell_type": "markdown",
   "id": "375eab17",
   "metadata": {},
   "source": [
    "## Batch 10"
   ]
  },
  {
   "cell_type": "code",
   "execution_count": null,
   "id": "fa65e3e0",
   "metadata": {},
   "outputs": [],
   "source": [
    "df = pd.read_csv(f'{dist_folder}/batch10_all_reps_WT_Untreated_without_CD41/distances_stats_euclidean_detailed.csv')\n",
    "for col in ['label1','label2']:\n",
    "    df[col] = df[col].str.split(pat='_', n=1).str[0]\n",
    "labels = pd.unique(pd.concat([df['label1'], df['label2']]))"
   ]
  },
  {
   "cell_type": "code",
   "execution_count": null,
   "id": "d899d4c1",
   "metadata": {},
   "outputs": [],
   "source": [
    "plot_label_clustermap(df, figsize=(6,6), highlight_thresh=df[df.label1 == df.label2]['p50'].max())\n",
    "plot_cluster_proximity_network(df, threshold = df['p50'].quantile(0.9), figsize=(7,7))"
   ]
  },
  {
   "cell_type": "code",
   "execution_count": null,
   "id": "301464c5",
   "metadata": {},
   "outputs": [],
   "source": []
  }
 ],
 "metadata": {
  "kernelspec": {
   "display_name": "nova",
   "language": "python",
   "name": "nova"
  },
  "language_info": {
   "codemirror_mode": {
    "name": "ipython",
    "version": 3
   },
   "file_extension": ".py",
   "mimetype": "text/x-python",
   "name": "python",
   "nbconvert_exporter": "python",
   "pygments_lexer": "ipython3",
   "version": "3.9.19"
  }
 },
 "nbformat": 4,
 "nbformat_minor": 5
}
