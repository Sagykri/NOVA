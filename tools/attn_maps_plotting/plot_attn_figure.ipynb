{
 "cells": [
  {
   "cell_type": "markdown",
   "id": "59229f58",
   "metadata": {},
   "source": [
    "# Notebook Setup"
   ]
  },
  {
   "cell_type": "code",
   "execution_count": null,
   "id": "90b5da7a",
   "metadata": {},
   "outputs": [],
   "source": [
    "!hostname"
   ]
  },
  {
   "cell_type": "code",
   "execution_count": null,
   "id": "c7d2d916",
   "metadata": {},
   "outputs": [],
   "source": [
    "%load_ext autoreload\n",
    "%autoreload 2"
   ]
  },
  {
   "cell_type": "markdown",
   "id": "158636ac",
   "metadata": {},
   "source": [
    "# Imports"
   ]
  },
  {
   "cell_type": "code",
   "execution_count": null,
   "id": "2dd0bf68",
   "metadata": {},
   "outputs": [],
   "source": [
    "import sys\n",
    "import os\n",
    "NOVA_HOME = \"/home/projects/hornsteinlab/Collaboration/NOVA\"\n",
    "os.environ[\"NOVA_HOME\"] = NOVA_HOME\n",
    "sys.path.insert(1, NOVA_HOME)\n",
    "print(os.getenv(\"NOVA_HOME\"))\n"
   ]
  },
  {
   "cell_type": "code",
   "execution_count": null,
   "id": "f516aa66",
   "metadata": {},
   "outputs": [],
   "source": [
    "from tools.attn_maps_plotting.get_attn_from_paths import generate_attn_maps_with_model\n",
    "from src.common.utils import load_config_file\n",
    "from src.datasets.dataset_config import DatasetConfig\n",
    "from src.figures.plot_config import PlotConfig\n",
    "from src.attention_maps.attention_config import AttnConfig"
   ]
  },
  {
   "cell_type": "markdown",
   "id": "36c628aa",
   "metadata": {},
   "source": [
    "# Parmas Setup"
   ]
  },
  {
   "cell_type": "markdown",
   "id": "f0e694f0",
   "metadata": {},
   "source": [
    "Define here the paramaters controlling which data and how it will be displayed."
   ]
  },
  {
   "cell_type": "code",
   "execution_count": null,
   "id": "6454f92e",
   "metadata": {},
   "outputs": [],
   "source": [
    "\n",
    "MODEL_NAMES = [\"finetunedModel_MLPHead_acrossBatches_B56789_80pct_frozen\"] #[\"pretrained_model\"]\n",
    "DATASET_CONFIG_NAME = 'EmbeddingsAlyssaCoyneDatasetConfig'\n",
    "\n",
    "BATCH_SIZE = 50\n",
    "\n",
    "SAVE_PLOT:bool = False # save attn figures in the target directory\n",
    "\n",
    "SHOW_PLOT:bool = True # display attn figures in notebook\n",
    "\n",
    "DISPLAY_ATTN_SCORE:bool = False # display attn scores on top of the image\n",
    "\n",
    "NUM_WORKERS:int = 1 # multiprocessing number of workers \n",
    "\n",
    "\n",
    "\"\"\"\n",
    "dictonary consists of -\n",
    "      keys:     description (str, the subdir name the figures will be saved in)\n",
    "      values:   list of paths (each path is a str of the format - [path/to/<file_name>.npy/<tile_number>])\n",
    "\"\"\"\n",
    "PATH_DICT = {\n",
    "        \"Test_Run\":\n",
    "        [\n",
    "            \"/home/projects/hornsteinlab/Collaboration/NOVA/input/images/processed/ManuscriptFinalData_80pct/AlyssaCoyne/batch1/Controls/Untreated/DCP1A/rep6_R11_w2confCy5_s57_panelA_Controls_processed.npy/4\",\n",
    "            \"/home/projects/hornsteinlab/Collaboration/NOVA/input/images/processed/ManuscriptFinalData_80pct/AlyssaCoyne/batch1/Controls/Untreated/DCP1A/rep6_R11_w2confCy5_s57_panelA_Controls_processed.npy/5\",\n",
    "            \"/home/projects/hornsteinlab/Collaboration/NOVA/input/images/processed/ManuscriptFinalData_80pct/AlyssaCoyne/batch1/Controls/Untreated/DCP1A/rep6_R11_w2confCy5_s57_panelA_Controls_processed.npy/6\",\n",
    "            \"/home/projects/hornsteinlab/Collaboration/NOVA/input/images/processed/ManuscriptFinalData_80pct/AlyssaCoyne_new/batch1/Ctrl-EDi022/Untreated/DCP1A/rep1_control EDi022_DAPI_DCP1A_Map2_TDP-43_1-Orthogonal Projection-62-Image Export-11_c3_s11_panelA_Ctrl-EDi022_processed.npy/0\"\n",
    "\n",
    "        ]\n",
    "\n",
    "    }"
   ]
  },
  {
   "cell_type": "markdown",
   "id": "c2aa4a8d",
   "metadata": {},
   "source": [
    "# Paths and Configs"
   ]
  },
  {
   "cell_type": "code",
   "execution_count": null,
   "id": "ec46789f",
   "metadata": {},
   "outputs": [],
   "source": [
    "\n",
    "# DEFINE PATHS\n",
    "MODEL_DIR = os.path.join(os.getenv(\"NOVA_HOME\"), \"outputs\", \"vit_models\")\n",
    "CONFIG_PATH_DATA = os.path.join('manuscript','embeddings_config',DATASET_CONFIG_NAME)\n",
    "CONFIG_PATH_ATTN = os.path.join('manuscript','manuscript_attention_config', 'BaseAttnConfig')\n",
    "CONFIG_PATH_PLOT = os.path.join('tools','attn_maps_plotting','manuscript_plot_attention_map_config','BaseAttnMapPlotConfig'\n",
    ")\n",
    "CONFIG_PATH_CORR = os.path.join('manuscript','manuscript_attn_corr_scores_config', 'AttnScoresConfig') \n"
   ]
  },
  {
   "cell_type": "code",
   "execution_count": null,
   "id": "64b78c38",
   "metadata": {},
   "outputs": [],
   "source": [
    "# load configs\n",
    "config_data:DatasetConfig = load_config_file(CONFIG_PATH_DATA, \"data\")\n",
    "config_attn:AttnConfig = load_config_file(CONFIG_PATH_ATTN, \"data\")\n",
    "config_plot:PlotConfig = load_config_file(CONFIG_PATH_PLOT, \"plot\")\n",
    "\n",
    "if DISPLAY_ATTN_SCORE:\n",
    "    config_corr = load_config_file(CONFIG_PATH_CORR, \"data\") \n",
    "else:\n",
    "    config_corr = None\n",
    "\n",
    "# update arguments\n",
    "config_plot.SAVE_PLOT = SAVE_PLOT\n",
    "config_plot.SHOW_PLOT = SHOW_PLOT\n",
    "config_plot.PLOT_ATTN_NUM_WORKERS = NUM_WORKERS"
   ]
  },
  {
   "cell_type": "markdown",
   "id": "5b4e22fb",
   "metadata": {},
   "source": [
    "# Main"
   ]
  },
  {
   "cell_type": "code",
   "execution_count": null,
   "id": "180173a7",
   "metadata": {
    "scrolled": false
   },
   "outputs": [],
   "source": [
    "\n",
    "for model_name in MODEL_NAMES:\n",
    "    outputs_folder_path = os.path.join(MODEL_DIR, model_name)\n",
    "    config_data.OUTPUTS_FOLDER = outputs_folder_path\n",
    "\n",
    "    try:\n",
    "            print(f\"Starting generate attention maps for {model_name}...\")\n",
    "            generate_attn_maps_with_model(PATH_DICT, outputs_folder_path, config_data, \n",
    "                                        config_attn, config_plot,\n",
    "                                        config_corr, BATCH_SIZE)\n",
    "            \n",
    "    except Exception as e:\n",
    "            print(e)\n",
    "            raise e\n",
    "\n",
    "print(\"Done\")\n"
   ]
  },
  {
   "cell_type": "code",
   "execution_count": null,
   "id": "a7ec00d6",
   "metadata": {
    "scrolled": false
   },
   "outputs": [],
   "source": [
    "# rollout = rollout @ layer_attn"
   ]
  }
 ],
 "metadata": {
  "kernelspec": {
   "display_name": "nova new",
   "language": "python",
   "name": "nova_new"
  },
  "language_info": {
   "codemirror_mode": {
    "name": "ipython",
    "version": 3
   },
   "file_extension": ".py",
   "mimetype": "text/x-python",
   "name": "python",
   "nbconvert_exporter": "python",
   "pygments_lexer": "ipython3",
   "version": "3.9.19"
  }
 },
 "nbformat": 4,
 "nbformat_minor": 5
}
